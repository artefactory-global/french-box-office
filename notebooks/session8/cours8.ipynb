{
 "cells": [
  {
   "cell_type": "markdown",
   "id": "leading-terminal",
   "metadata": {},
   "source": [
    "<table><tr>\n",
    "<td> <img src=\"https://upload.wikimedia.org/wikipedia/fr/thumb/e/e5/Logo_%C3%A9cole_des_ponts_paristech.svg/676px-Logo_%C3%A9cole_des_ponts_paristech.svg.png\" width=\"200\"  height=\"200\" hspace=\"200\"/> </td>\n",
    "<td> <img src=\"https://pbs.twimg.com/profile_images/1156541928193896448/5ihYIbCQ_200x200.png\" width=\"200\" height=\"200\" /> </td>\n",
    "</tr></table>\n",
    "\n",
    "<br/>\n",
    "\n",
    "<h1><center>Advanced Modelling</center></h1>\n",
    "\n",
    "\n",
    "\n",
    "<font size=\"3\">This session is divided into **2** parts:\n",
    "- **Multi Layer Perceptron**\n",
    "- **--jnjd**\n",
    ">  * 1-Hyperparameters optimization\n",
    ">  * 2-Features selection\n",
    "\n",
    "In each of these parts, some **guidelines** and **hints** are given for each task. \n",
    "Do not hesitate to check the links to documentation to understand the functions you use. \n",
    "    \n",
    "The goal of this session is to **select a model** that you will use as your best candidate and optimize it to get the best out of it.\n",
    "</font>"
   ]
  },
  {
   "cell_type": "markdown",
   "id": "partial-invite",
   "metadata": {},
   "source": [
    "## Load data"
   ]
  },
  {
   "cell_type": "code",
   "execution_count": 16,
   "id": "annoying-missouri",
   "metadata": {},
   "outputs": [],
   "source": [
    "import pandas as pd\n",
    "\n",
    "def load_dataset(path):\n",
    "    print(f\"loading raw data..\")\n",
    "    data = pd.read_csv(path)\n",
    "    data.drop(['title'], axis = 1, inplace = True)\n",
    "    return data\n",
    "\n",
    "def clean_data(data, drop_2020=True):\n",
    "    print(f\"cleaning data..\")\n",
    "    data = data.dropna()\n",
    "    if drop_2020:\n",
    "        data = data.query(\"year != 2020\")\n",
    "    data = data.sort_values(by='release_date')\n",
    "    data.release_date = pd.to_datetime(data.release_date)\n",
    "    data.index = data.release_date\n",
    "    data = data.drop(columns = ['index', 'release_date', 'year'], errors='ignore')\n",
    "    return data\n",
    "\n",
    "def train_test_split_by_date(df: pd.DataFrame, split_date_val: str, split_date_test: str):\n",
    "    \"\"\"Split dataset according to a split date in format \"YYYY-MM-DD\"\n",
    "    - train: [:split_date_1[\n",
    "    - validation: [split_date_1: split_date_2[\n",
    "    - test: [split_date_2:[\n",
    "    \"\"\"\n",
    "    train = df.loc[:split_date_val].copy()\n",
    "    validation = df.loc[split_date_val:split_date_test].copy()\n",
    "    test = df.loc[split_date_test:].copy()\n",
    "    return train, validation, test\n",
    "\n",
    "def get_x_y(dataset):\n",
    "    target = dataset.sales\n",
    "    target = target.astype(float)\n",
    "    features = dataset.drop(columns = ['sales'], errors='ignore')\n",
    "    return features, target"
   ]
  },
  {
   "cell_type": "code",
   "execution_count": 17,
   "id": "returning-honduras",
   "metadata": {},
   "outputs": [
    {
     "name": "stdout",
     "output_type": "stream",
     "text": [
      "loading raw data..\n"
     ]
    }
   ],
   "source": [
    "path = '/Users/yaguethiam/Ponts/data_prepared_session4.csv'\n",
    "raw_data = load_dataset(path)"
   ]
  },
  {
   "cell_type": "code",
   "execution_count": 261,
   "id": "present-arthur",
   "metadata": {},
   "outputs": [
    {
     "name": "stdout",
     "output_type": "stream",
     "text": [
      "cleaning data..\n"
     ]
    }
   ],
   "source": [
    "data = clean_data(raw_data, drop_2020=False)\n",
    "train_data, validation_data, test_data = train_test_split_by_date(data,\n",
    "                                                                  '2018-01-01',\n",
    "                                                                  '2020-01-01')\n",
    "train_x, train_y = get_x_y(train_data)\n",
    "validation_x, validation_y = get_x_y(validation_data)\n",
    "test_x, test_y = get_x_y(test_data)"
   ]
  },
  {
   "cell_type": "markdown",
   "id": "incorporate-destination",
   "metadata": {},
   "source": [
    "## Linear model"
   ]
  },
  {
   "cell_type": "code",
   "execution_count": 262,
   "id": "hourly-stretch",
   "metadata": {},
   "outputs": [],
   "source": [
    "import torch\n",
    "def normalize(x, m, s): return (x-m)/s\n",
    "def mse(output, targ): return (output.squeeze(-1) - targ).pow(2).mean()"
   ]
  },
  {
   "cell_type": "code",
   "execution_count": 263,
   "id": "destroyed-window",
   "metadata": {},
   "outputs": [],
   "source": [
    "train_mean,train_std = train_x.mean(),train_x.std()"
   ]
  },
  {
   "cell_type": "code",
   "execution_count": 264,
   "id": "original-chambers",
   "metadata": {},
   "outputs": [],
   "source": [
    "x_train = normalize(train_x, train_mean, train_std)\n",
    "# NB: Use training, not validation mean for validation set\n",
    "x_valid = normalize(validation_x, train_mean, train_std)"
   ]
  },
  {
   "cell_type": "code",
   "execution_count": 265,
   "id": "criminal-breakfast",
   "metadata": {},
   "outputs": [],
   "source": [
    "x_train  = torch.tensor(x_train.values)\n",
    "x_valid  = torch.tensor(x_valid.values)"
   ]
  },
  {
   "cell_type": "code",
   "execution_count": 266,
   "id": "supreme-percentage",
   "metadata": {},
   "outputs": [],
   "source": [
    "x_train = x_train.float()\n",
    "\n",
    "y_train = torch.tensor(train_y.values).log().unsqueeze(1).float()"
   ]
  },
  {
   "cell_type": "code",
   "execution_count": 267,
   "id": "capable-sociology",
   "metadata": {},
   "outputs": [],
   "source": [
    "m = 47\n",
    "nh = 50\n",
    "n=5958\n",
    "bs=1000                  # batch size\n",
    "\n",
    "xb = x_train[0:bs]     # a mini-batch from x\n",
    "preds = model(xb)      # predictions\n",
    "preds[0], preds.shape\n",
    "yb= y_train[0:bs]  "
   ]
  },
  {
   "cell_type": "code",
   "execution_count": 268,
   "id": "auburn-qatar",
   "metadata": {},
   "outputs": [],
   "source": [
    "lr = 0.1   # learning rate\n",
    "epochs = 10 # how many epochs to train for"
   ]
  },
  {
   "cell_type": "code",
   "execution_count": 269,
   "id": "undefined-interstate",
   "metadata": {},
   "outputs": [],
   "source": [
    "loss_func = nn.L1Loss()"
   ]
  },
  {
   "cell_type": "code",
   "execution_count": 270,
   "id": "light-action",
   "metadata": {},
   "outputs": [],
   "source": [
    "def fit():\n",
    "    for epoch in range(epochs):\n",
    "        for i in range((n-1)//bs + 1):\n",
    "            start_i = i*bs\n",
    "            end_i = start_i+bs\n",
    "            xb = x_train[start_i:end_i]\n",
    "            yb = y_train[start_i:end_i]\n",
    "            loss = loss_func(model(xb), yb)\n",
    "            print(loss)\n",
    "            loss.backward()\n",
    "            with torch.no_grad():\n",
    "                for p in model.parameters(): p -= p.grad * lr\n",
    "                model.zero_grad()"
   ]
  },
  {
   "cell_type": "code",
   "execution_count": 271,
   "id": "nutritional-backup",
   "metadata": {},
   "outputs": [],
   "source": [
    "model = nn.Sequential(nn.Linear(m,nh), nn.ReLU(), nn.Linear(nh,1))"
   ]
  },
  {
   "cell_type": "code",
   "execution_count": 272,
   "id": "eight-regard",
   "metadata": {},
   "outputs": [
    {
     "name": "stdout",
     "output_type": "stream",
     "text": [
      "tensor(11.5203, grad_fn=<L1LossBackward>)\n",
      "tensor(11.0136, grad_fn=<L1LossBackward>)\n",
      "tensor(10.6978, grad_fn=<L1LossBackward>)\n",
      "tensor(10.3099, grad_fn=<L1LossBackward>)\n",
      "tensor(9.9395, grad_fn=<L1LossBackward>)\n",
      "tensor(9.4387, grad_fn=<L1LossBackward>)\n",
      "tensor(9.1678, grad_fn=<L1LossBackward>)\n",
      "tensor(8.5400, grad_fn=<L1LossBackward>)\n",
      "tensor(8.0338, grad_fn=<L1LossBackward>)\n",
      "tensor(7.4303, grad_fn=<L1LossBackward>)\n",
      "tensor(6.7906, grad_fn=<L1LossBackward>)\n",
      "tensor(5.7562, grad_fn=<L1LossBackward>)\n",
      "tensor(5.1420, grad_fn=<L1LossBackward>)\n",
      "tensor(4.0753, grad_fn=<L1LossBackward>)\n",
      "tensor(3.1561, grad_fn=<L1LossBackward>)\n",
      "tensor(2.3873, grad_fn=<L1LossBackward>)\n",
      "tensor(1.7924, grad_fn=<L1LossBackward>)\n",
      "tensor(1.6054, grad_fn=<L1LossBackward>)\n",
      "tensor(1.5849, grad_fn=<L1LossBackward>)\n",
      "tensor(1.6833, grad_fn=<L1LossBackward>)\n",
      "tensor(1.5293, grad_fn=<L1LossBackward>)\n",
      "tensor(1.5117, grad_fn=<L1LossBackward>)\n",
      "tensor(1.3366, grad_fn=<L1LossBackward>)\n",
      "tensor(1.2754, grad_fn=<L1LossBackward>)\n",
      "tensor(1.3970, grad_fn=<L1LossBackward>)\n",
      "tensor(1.5029, grad_fn=<L1LossBackward>)\n",
      "tensor(1.3435, grad_fn=<L1LossBackward>)\n",
      "tensor(1.3699, grad_fn=<L1LossBackward>)\n",
      "tensor(1.1914, grad_fn=<L1LossBackward>)\n",
      "tensor(1.1421, grad_fn=<L1LossBackward>)\n",
      "tensor(1.3594, grad_fn=<L1LossBackward>)\n",
      "tensor(1.4176, grad_fn=<L1LossBackward>)\n",
      "tensor(1.2618, grad_fn=<L1LossBackward>)\n",
      "tensor(1.2967, grad_fn=<L1LossBackward>)\n",
      "tensor(1.1286, grad_fn=<L1LossBackward>)\n",
      "tensor(1.0696, grad_fn=<L1LossBackward>)\n",
      "tensor(1.3078, grad_fn=<L1LossBackward>)\n",
      "tensor(1.3703, grad_fn=<L1LossBackward>)\n",
      "tensor(1.2228, grad_fn=<L1LossBackward>)\n",
      "tensor(1.2487, grad_fn=<L1LossBackward>)\n",
      "tensor(1.0967, grad_fn=<L1LossBackward>)\n",
      "tensor(1.0309, grad_fn=<L1LossBackward>)\n",
      "tensor(1.2813, grad_fn=<L1LossBackward>)\n",
      "tensor(1.3376, grad_fn=<L1LossBackward>)\n",
      "tensor(1.1950, grad_fn=<L1LossBackward>)\n",
      "tensor(1.2169, grad_fn=<L1LossBackward>)\n",
      "tensor(1.0740, grad_fn=<L1LossBackward>)\n",
      "tensor(1.0139, grad_fn=<L1LossBackward>)\n",
      "tensor(1.2684, grad_fn=<L1LossBackward>)\n",
      "tensor(1.3137, grad_fn=<L1LossBackward>)\n",
      "tensor(1.1758, grad_fn=<L1LossBackward>)\n",
      "tensor(1.1962, grad_fn=<L1LossBackward>)\n",
      "tensor(1.0592, grad_fn=<L1LossBackward>)\n",
      "tensor(0.9908, grad_fn=<L1LossBackward>)\n",
      "tensor(1.2533, grad_fn=<L1LossBackward>)\n",
      "tensor(1.2880, grad_fn=<L1LossBackward>)\n",
      "tensor(1.1593, grad_fn=<L1LossBackward>)\n",
      "tensor(1.1719, grad_fn=<L1LossBackward>)\n",
      "tensor(1.0451, grad_fn=<L1LossBackward>)\n",
      "tensor(0.9753, grad_fn=<L1LossBackward>)\n"
     ]
    }
   ],
   "source": [
    "fit()"
   ]
  },
  {
   "cell_type": "code",
   "execution_count": null,
   "id": "comparable-manhattan",
   "metadata": {},
   "outputs": [],
   "source": [
    "loss_func(model(xb), yb)"
   ]
  }
 ],
 "metadata": {
  "kernelspec": {
   "display_name": "Python 3",
   "language": "python",
   "name": "python3"
  },
  "language_info": {
   "codemirror_mode": {
    "name": "ipython",
    "version": 3
   },
   "file_extension": ".py",
   "mimetype": "text/x-python",
   "name": "python",
   "nbconvert_exporter": "python",
   "pygments_lexer": "ipython3",
   "version": "3.7.7"
  }
 },
 "nbformat": 4,
 "nbformat_minor": 5
}
