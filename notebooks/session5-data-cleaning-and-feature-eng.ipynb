{
 "cells": [
  {
   "cell_type": "code",
   "execution_count": 1,
   "metadata": {},
   "outputs": [],
   "source": [
    "import pandas as pd\n",
    "import numpy as np\n",
    "from matplotlib import pyplot as plt\n",
    "from lib.preprocessing.load import read_movies_entrees\n",
    "from sklearn.preprocessing import MultiLabelBinarizer\n",
    "from lib.utils.io import read_from_json\n",
    "import holidays\n",
    "from vacances_scolaires_france import SchoolHolidayDates"
   ]
  },
  {
   "cell_type": "code",
   "execution_count": 4,
   "metadata": {},
   "outputs": [],
   "source": [
    "lang_to_keep = ['en', 'fr', 'es', 'it', 'ja', 'de']\n",
    "country_to_keep = ['FR', 'US', 'GB', 'DE', 'BE', 'CA']\n",
    "dict_genres = {\n",
    "    'Drame': 'Drame',\n",
    "    'Comédie': 'Comédie',\n",
    "    'Romance': 'Romance',\n",
    "    'Action': 'Action',\n",
    "    'Thriller': 'Action',\n",
    "    'Aventure': 'Action',\n",
    "    'Crime': 'Action',\n",
    "    'Guerre': 'Action',\n",
    "    'Western': 'Action',\n",
    "    'Familial': 'Familial',\n",
    "    'Animation': 'Familial',\n",
    "    'Fantastique': 'Fantastique',\n",
    "    'Science-Fiction': 'Fantastique',\n",
    "    'Horreur': 'Horreur',\n",
    "    'Mystère': 'Other',\n",
    "    'Musique': 'Other',\n",
    "    'Histoire': 'Other',\n",
    "    'Documentaire': 'Other',\n",
    "    'Téléfilm': 'Other'\n",
    "}"
   ]
  },
  {
   "cell_type": "code",
   "execution_count": 5,
   "metadata": {},
   "outputs": [],
   "source": [
    "def read_movies_features(path: str) -> pd.DataFrame:\n",
    "    '''\n",
    "    Read the movie features dataset \n",
    "    and casts it as an usable pandas DataFrame\n",
    "    N.B: Fields that are not yet used are commented\n",
    "    Parameters\n",
    "    ----------\n",
    "    path: str\n",
    "        path to the dataset\n",
    "    Returns\n",
    "    -------\n",
    "    df: pd.DataFrame\n",
    "        Data as DataFrame\n",
    "    '''\n",
    "    features = read_from_json(path)\n",
    "    features = [\n",
    "        {\n",
    "            \"is_adult\": item['adult'],\n",
    "            \"is_part_of_collection\": not not item['belongs_to_collection'],\n",
    "            \"collection_name\": item['belongs_to_collection']['name'] if item['belongs_to_collection'] != {} else None, # Currently simple bool, may be interesting to use a more complex feature later\n",
    "            \"budget\": item['budget'],\n",
    "            \"genres\": [ genre['name'] for genre in item['genres'] ], \n",
    "            \"original_language\": item['original_language'],\n",
    "            \"overview\": item['overview'], # Not used yet. Blob of text\n",
    "            \"production_countries\": [ country['iso_code'] for country in item['production_countries'] ],\n",
    "            \"languages\": [ language['iso_code'] for language in item['languages'] ],\n",
    "            \"tagline\": item['tagline'], # Not used yet. Blob of text\n",
    "            \"runtime\": item['runtime'],\n",
    "            \"cast\": item['cast'], # Not used yet. List of dicts with actor gender, name, id...\n",
    "            \"id\": int(item['id'])\n",
    "        } for item in features\n",
    "    ]\n",
    "    return pd.DataFrame(features)\n",
    "\n",
    "\n",
    "def reduce_lang_categories(lang_list, lang_to_keep=lang_to_keep):\n",
    "    return list(set([el if el in lang_to_keep else 'other' for el in lang_list]))\n",
    "\n",
    "\n",
    "def reduce_country_categories(country_list, country_to_keep=country_to_keep):\n",
    "    return list(set([el if el in country_to_keep else 'OTHER' for el in country_list]))\n",
    "\n",
    "\n",
    "def reduce_genre_categories(genre_list, dict_genres=dict_genres):\n",
    "    return list(set([dict_genres[el] for el in genre_list]))\n",
    "\n",
    "\n",
    "def apply_cos(df: pd.DataFrame,\n",
    "              x: str, col_name: str, period: int) -> pd.DataFrame:\n",
    "    \"\"\" Cos function on a column, for a specified period\n",
    "    \"\"\"\n",
    "    df[col_name] = 2 * np.cos(2 * np.pi * df[x] / period)\n",
    "    return df"
   ]
  },
  {
   "cell_type": "markdown",
   "metadata": {},
   "source": [
    "# 1. Load data"
   ]
  },
  {
   "cell_type": "code",
   "execution_count": 6,
   "metadata": {},
   "outputs": [],
   "source": [
    "# We first read the french movies \"entrées\"\n",
    "bo = read_movies_entrees('data/french-box-office-29nov2020.json')\n",
    "# Then fetch their main features. Note that it seems not all movies were found in the feature database\n",
    "features = read_movies_features('data/movie-features-29nov2020.json')\n",
    "# Let's merge both dataframes\n",
    "data = pd.merge(bo, features, on='id')"
   ]
  },
  {
   "cell_type": "markdown",
   "metadata": {},
   "source": [
    "# 2. Data cleaning (based on previous EDA)"
   ]
  },
  {
   "cell_type": "code",
   "execution_count": 7,
   "metadata": {},
   "outputs": [],
   "source": [
    "# Remove rows with missing values for sales\n",
    "data = data.loc[data['sales'] > 0]\n",
    "# Replace zero values for budget with median value\n",
    "data.loc[data['budget'] == 0, 'budget'] = np.median(data.loc[data['budget'] != 0]['budget'])\n",
    "# Runtime: fill with the mean\n",
    "runtime_mean = np.mean(data.loc[(data['runtime'] != 0) & (data['runtime'].isnull() == False)]['runtime'])\n",
    "data.loc[(data['runtime'].isnull() == True) & (data['runtime'] == 0), 'runtime'] = runtime_mean\n",
    "\n",
    "# Reduce number of categories for original language\n",
    "data['original_language'] = data['original_language'].map(lambda x: x if x in lang_to_keep else 'other')\n",
    "\n",
    "# Reduce number of categories for languages\n",
    "data['languages'] = data['languages'].map(lambda x: reduce_lang_categories(x))\n",
    "\n",
    "# Reduce number of categories for production countries\n",
    "data['production_countries'] = data['production_countries'].map(lambda x: reduce_country_categories(x))\n",
    "\n",
    "# Reduce number of categories for genres\n",
    "data['genres'] = data['genres'].map(lambda x: reduce_genre_categories(x))\n",
    "data = data.loc[data.astype(str)['genres'] != '[]']"
   ]
  },
  {
   "cell_type": "code",
   "execution_count": 8,
   "metadata": {},
   "outputs": [],
   "source": [
    "# Encode is_part_of_collection into numerical\n",
    "dict_collection = {\n",
    "    True: 1,\n",
    "    False: 0\n",
    "}\n",
    "data['is_part_of_collection'] = data['is_part_of_collection'].map(dict_collection)"
   ]
  },
  {
   "cell_type": "code",
   "execution_count": 9,
   "metadata": {},
   "outputs": [],
   "source": [
    "# Fill some missing values for production countries based on original language\n",
    "data.loc[(data.astype(str)['production_countries'] == '[]') & (\n",
    "    data['original_language'] == 'fr'), 'production_countries'] = ['FR']\n",
    "data.loc[(data.astype(str)['production_countries'] == '[]') & (\n",
    "    data['original_language'] == 'en'), 'production_countries'] = ['US']\n",
    "data.loc[(data.astype(str)['production_countries'] == '[]'), 'production_countries'] = ['OTHER']\n",
    "\n",
    "data.loc[(data.astype(str)['languages'] == '[]'), 'languages'] = data.loc[(\n",
    "    data.astype(str)['languages'] == '[]'), 'original_language'].map(lambda x: [x])"
   ]
  },
  {
   "cell_type": "markdown",
   "metadata": {},
   "source": [
    "# 3. Feature engineering"
   ]
  },
  {
   "cell_type": "markdown",
   "metadata": {},
   "source": [
    "### One-hot encoding / Multilabel encoding"
   ]
  },
  {
   "cell_type": "code",
   "execution_count": 10,
   "metadata": {
    "scrolled": true
   },
   "outputs": [],
   "source": [
    "# Original language\n",
    "data_final = pd.get_dummies(data, prefix='original_lang', columns=['original_language'], drop_first=True)\n",
    "data_final = data_final.set_index('id')\n",
    "\n",
    "# Languages\n",
    "mlb = MultiLabelBinarizer()\n",
    "df_lang = pd.DataFrame(mlb.fit_transform(data_final['languages']), columns=mlb.classes_, index=data_final.index)\n",
    "df_lang.columns = ['available_lang_' + col for col in df_lang.columns]\n",
    "\n",
    "# Genres\n",
    "mlb = MultiLabelBinarizer()\n",
    "df_genre = pd.DataFrame(mlb.fit_transform(data_final['genres']), columns=mlb.classes_, index=data_final.index)\n",
    "\n",
    "# Production countries\n",
    "mlb = MultiLabelBinarizer()\n",
    "df_country = pd.DataFrame(mlb.fit_transform(data_final['production_countries']), columns=mlb.classes_, index=data_final.index)\n",
    "df_country.columns = ['prod_' + col for col in df_country.columns]"
   ]
  },
  {
   "cell_type": "code",
   "execution_count": 11,
   "metadata": {},
   "outputs": [],
   "source": [
    "data_final = pd.merge(data_final, df_lang, left_index=True, right_index=True) \\\n",
    "               .merge(df_genre, left_index=True, right_index=True) \\\n",
    "               .merge(df_country, left_index=True, right_index=True)"
   ]
  },
  {
   "cell_type": "markdown",
   "metadata": {},
   "source": [
    "### Features holidays"
   ]
  },
  {
   "cell_type": "code",
   "execution_count": 12,
   "metadata": {},
   "outputs": [],
   "source": [
    "# Load school holidays for France\n",
    "fr_holidays = SchoolHolidayDates()\n",
    "df_vacances = pd.DataFrame()\n",
    "for year in list(set(data_final['year'])):\n",
    "    df_vacances = pd.concat([df_vacances, pd.DataFrame.from_dict(fr_holidays.holidays_for_year(year)).T])\n",
    "\n",
    "# Load bank holidays for France\n",
    "df_jf = pd.DataFrame()\n",
    "for year in list(set(data_final['year'])):\n",
    "    df_jf = pd.concat([df_jf, pd.DataFrame([\n",
    "        {'date': el[0], 'jour_ferie': el[1]} for el in sorted(holidays.FRA(years=year).items())])])\n",
    "\n",
    "# Merge school and bank holidays\n",
    "df_holidays = pd.merge(df_vacances, df_jf, how='outer', on='date')"
   ]
  },
  {
   "cell_type": "code",
   "execution_count": 13,
   "metadata": {},
   "outputs": [],
   "source": [
    "# Encode holidays\n",
    "df_holidays['jour_ferie'] = df_holidays['jour_ferie'].map(lambda x: 1 if str(x) != 'nan' else 0)\n",
    "\n",
    "dict_map_vac = {\n",
    "    True: 1,\n",
    "    False: 0\n",
    "}\n",
    "df_holidays['vacances_zone_a'] = df_holidays['vacances_zone_a'].map(dict_map_vac)\n",
    "df_holidays['vacances_zone_b'] = df_holidays['vacances_zone_b'].map(dict_map_vac)\n",
    "df_holidays['vacances_zone_c'] = df_holidays['vacances_zone_c'].map(dict_map_vac)"
   ]
  },
  {
   "cell_type": "code",
   "execution_count": 14,
   "metadata": {},
   "outputs": [],
   "source": [
    "# Merge with main dataframe\n",
    "df_holidays['date'] = df_holidays['date'].map(lambda x: str(x))\n",
    "data_final_cal = pd.merge(data_final, df_holidays, how='left', left_on='release_date', right_on='date').fillna(0)"
   ]
  },
  {
   "cell_type": "code",
   "execution_count": 15,
   "metadata": {},
   "outputs": [],
   "source": [
    "# Create global holidays feature\n",
    "data_final_cal['holidays'] = data_final_cal['vacances_zone_a'] + data_final_cal[\n",
    "    'vacances_zone_b'] + data_final_cal['vacances_zone_c'] + data_final_cal['jour_ferie']\n",
    "\n",
    "# Drop useless features\n",
    "col_to_drop = ['nom_vacances', 'date']\n",
    "data_final_cal = data_final_cal.drop(col_to_drop, axis=1)"
   ]
  },
  {
   "cell_type": "markdown",
   "metadata": {},
   "source": [
    "### Features calendaires (month, cos_month)"
   ]
  },
  {
   "cell_type": "code",
   "execution_count": 16,
   "metadata": {},
   "outputs": [],
   "source": [
    "# Create two calendar features for month\n",
    "data_final_cal['month'] = data_final_cal['release_date'].map(lambda x: int(x[5:7]))\n",
    "data_final_cal = apply_cos(data_final_cal, 'month', 'cos_month', 12)"
   ]
  },
  {
   "cell_type": "markdown",
   "metadata": {},
   "source": [
    "### Is part of collection "
   ]
  },
  {
   "cell_type": "code",
   "execution_count": 17,
   "metadata": {},
   "outputs": [],
   "source": [
    "# Exclude collections with only one movie\n",
    "df_count_col = data_final_cal.groupby(['collection_name']).count().reset_index()\n",
    "not_collection = list(set(df_count_col.loc[df_count_col['year'] < 2]['collection_name']))\n",
    "\n",
    "data_final_cal.loc[data_final_cal['collection_name'].isin(not_collection), 'is_part_of_collection'] = 0\n",
    "data_final_cal.loc[data_final_cal['collection_name'].isin(not_collection), 'collection_name'] = None"
   ]
  },
  {
   "cell_type": "code",
   "execution_count": 18,
   "metadata": {},
   "outputs": [],
   "source": [
    "# Get the number of movies per collection\n",
    "map_col_count = dict(data_final_cal['collection_name'].value_counts())\n",
    "del map_col_count[0]\n",
    "data_final_cal['nb_movie_collection'] = data_final_cal['collection_name'].map(map_col_count)"
   ]
  },
  {
   "cell_type": "code",
   "execution_count": 19,
   "metadata": {},
   "outputs": [
    {
     "name": "stderr",
     "output_type": "stream",
     "text": [
      "/Library/Frameworks/Python.framework/Versions/3.7/lib/python3.7/site-packages/ipykernel_launcher.py:5: SettingWithCopyWarning: \n",
      "A value is trying to be set on a copy of a slice from a DataFrame.\n",
      "Try using .loc[row_indexer,col_indexer] = value instead\n",
      "\n",
      "See the caveats in the documentation: https://pandas.pydata.org/pandas-docs/stable/user_guide/indexing.html#returning-a-view-versus-a-copy\n",
      "  \"\"\"\n"
     ]
    }
   ],
   "source": [
    "# Compute rolling sales for previous movies per collection\n",
    "df_collection = data_final_cal.loc[data_final_cal['is_part_of_collection'] == 1]\n",
    "df_collection['rolling_sales_collection'] = df_collection.sort_values(by=['collection_name', 'release_date']) \\\n",
    "             .groupby('collection_name')['sales'] \\\n",
    "             .transform(lambda x: x.rolling(10, 1).mean().shift())"
   ]
  },
  {
   "cell_type": "code",
   "execution_count": 20,
   "metadata": {},
   "outputs": [],
   "source": [
    "# Merge with main dataframe\n",
    "cols = ['year', 'title', 'release_date', 'collection_name', 'sales', 'rolling_sales_collection']\n",
    "df_all = pd.merge(data_final_cal, df_collection[cols], how = 'left', \n",
    "                  on = ['year', 'title', 'release_date', 'collection_name', 'sales']).fillna(0)"
   ]
  },
  {
   "cell_type": "code",
   "execution_count": 21,
   "metadata": {},
   "outputs": [
    {
     "data": {
      "text/html": [
       "<div>\n",
       "<style scoped>\n",
       "    .dataframe tbody tr th:only-of-type {\n",
       "        vertical-align: middle;\n",
       "    }\n",
       "\n",
       "    .dataframe tbody tr th {\n",
       "        vertical-align: top;\n",
       "    }\n",
       "\n",
       "    .dataframe thead th {\n",
       "        text-align: right;\n",
       "    }\n",
       "</style>\n",
       "<table border=\"1\" class=\"dataframe\">\n",
       "  <thead>\n",
       "    <tr style=\"text-align: right;\">\n",
       "      <th></th>\n",
       "      <th>year</th>\n",
       "      <th>title</th>\n",
       "      <th>sales</th>\n",
       "      <th>release_date</th>\n",
       "      <th>is_adult</th>\n",
       "      <th>is_part_of_collection</th>\n",
       "      <th>collection_name</th>\n",
       "      <th>budget</th>\n",
       "      <th>genres</th>\n",
       "      <th>overview</th>\n",
       "      <th>...</th>\n",
       "      <th>prod_US</th>\n",
       "      <th>vacances_zone_a</th>\n",
       "      <th>vacances_zone_b</th>\n",
       "      <th>vacances_zone_c</th>\n",
       "      <th>jour_ferie</th>\n",
       "      <th>holidays</th>\n",
       "      <th>month</th>\n",
       "      <th>cos_month</th>\n",
       "      <th>nb_movie_collection</th>\n",
       "      <th>rolling_sales_collection</th>\n",
       "    </tr>\n",
       "  </thead>\n",
       "  <tbody>\n",
       "    <tr>\n",
       "      <th>0</th>\n",
       "      <td>2019</td>\n",
       "      <td>Maléfique : Le Pouvoir du Mal</td>\n",
       "      <td>786485</td>\n",
       "      <td>2019-10-16</td>\n",
       "      <td>False</td>\n",
       "      <td>0</td>\n",
       "      <td>0</td>\n",
       "      <td>185000000.0</td>\n",
       "      <td>[Fantastique, Action, Familial]</td>\n",
       "      <td>Cinq années après la conjuration de la malédic...</td>\n",
       "      <td>...</td>\n",
       "      <td>1</td>\n",
       "      <td>0.0</td>\n",
       "      <td>0.0</td>\n",
       "      <td>0.0</td>\n",
       "      <td>0.0</td>\n",
       "      <td>0.0</td>\n",
       "      <td>10</td>\n",
       "      <td>1.000000</td>\n",
       "      <td>0.0</td>\n",
       "      <td>0.0</td>\n",
       "    </tr>\n",
       "    <tr>\n",
       "      <th>1</th>\n",
       "      <td>2019</td>\n",
       "      <td>Nous finirons ensemble</td>\n",
       "      <td>1261701</td>\n",
       "      <td>2019-05-01</td>\n",
       "      <td>False</td>\n",
       "      <td>1</td>\n",
       "      <td>Les Petits Mouchoirs - Saga</td>\n",
       "      <td>25000000.0</td>\n",
       "      <td>[Comédie, Drame]</td>\n",
       "      <td>Préoccupé, Max est parti dans sa maison au bor...</td>\n",
       "      <td>...</td>\n",
       "      <td>0</td>\n",
       "      <td>0.0</td>\n",
       "      <td>0.0</td>\n",
       "      <td>1.0</td>\n",
       "      <td>1.0</td>\n",
       "      <td>2.0</td>\n",
       "      <td>5</td>\n",
       "      <td>-1.732051</td>\n",
       "      <td>2.0</td>\n",
       "      <td>1369812.0</td>\n",
       "    </tr>\n",
       "  </tbody>\n",
       "</table>\n",
       "<p>2 rows × 60 columns</p>\n",
       "</div>"
      ],
      "text/plain": [
       "   year                          title    sales release_date  is_adult  \\\n",
       "0  2019  Maléfique : Le Pouvoir du Mal   786485   2019-10-16     False   \n",
       "1  2019         Nous finirons ensemble  1261701   2019-05-01     False   \n",
       "\n",
       "   is_part_of_collection              collection_name       budget  \\\n",
       "0                      0                            0  185000000.0   \n",
       "1                      1  Les Petits Mouchoirs - Saga   25000000.0   \n",
       "\n",
       "                            genres  \\\n",
       "0  [Fantastique, Action, Familial]   \n",
       "1                 [Comédie, Drame]   \n",
       "\n",
       "                                            overview  ... prod_US  \\\n",
       "0  Cinq années après la conjuration de la malédic...  ...       1   \n",
       "1  Préoccupé, Max est parti dans sa maison au bor...  ...       0   \n",
       "\n",
       "  vacances_zone_a vacances_zone_b  vacances_zone_c jour_ferie  holidays  \\\n",
       "0             0.0             0.0              0.0        0.0       0.0   \n",
       "1             0.0             0.0              1.0        1.0       2.0   \n",
       "\n",
       "   month  cos_month  nb_movie_collection  rolling_sales_collection  \n",
       "0     10   1.000000                  0.0                       0.0  \n",
       "1      5  -1.732051                  2.0                 1369812.0  \n",
       "\n",
       "[2 rows x 60 columns]"
      ]
     },
     "execution_count": 21,
     "metadata": {},
     "output_type": "execute_result"
    }
   ],
   "source": [
    "df_all.head(2)"
   ]
  },
  {
   "cell_type": "markdown",
   "metadata": {},
   "source": [
    "### Text features (title, cast, overview, tagline)"
   ]
  },
  {
   "cell_type": "markdown",
   "metadata": {},
   "source": [
    "# 4. Save file"
   ]
  },
  {
   "cell_type": "code",
   "execution_count": 265,
   "metadata": {},
   "outputs": [],
   "source": [
    "to_drop = ['genres', 'production_countries', 'languages', 'budget_null', 'is_adult', 'title', 'collection_name',\n",
    "           'overview', 'tagline', 'cast']\n",
    "df_all = df_all.drop(to_drop, axis=1).reset_index()"
   ]
  },
  {
   "cell_type": "code",
   "execution_count": 268,
   "metadata": {},
   "outputs": [],
   "source": [
    "df_all.to_csv('data_prepared_ponts_v2.csv', index=None)"
   ]
  }
 ],
 "metadata": {
  "kernelspec": {
   "display_name": "Python 3",
   "language": "python",
   "name": "python3"
  },
  "language_info": {
   "codemirror_mode": {
    "name": "ipython",
    "version": 3
   },
   "file_extension": ".py",
   "mimetype": "text/x-python",
   "name": "python",
   "nbconvert_exporter": "python",
   "pygments_lexer": "ipython3",
   "version": "3.7.7"
  }
 },
 "nbformat": 4,
 "nbformat_minor": 4
}
