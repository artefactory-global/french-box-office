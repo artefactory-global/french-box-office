{
 "cells": [
  {
   "cell_type": "code",
   "execution_count": null,
   "metadata": {},
   "outputs": [],
   "source": [
    "# Copyright (C) 2020 Artefact\n",
    "# licence-information@artefact.com\n",
    "\n",
    "# This program is free software: you can redistribute it and/or modify\n",
    "# it under the terms of the GNU Affero General Public License as\n",
    "# published by the Free Software Foundation, either version 3 of the\n",
    "# License, or (at your option) any later version.\n",
    "\n",
    "# This program is distributed in the hope that it will be useful,\n",
    "# but WITHOUT ANY WARRANTY; without even the implied warranty of\n",
    "# MERCHANTABILITY or FITNESS FOR A PARTICULAR PURPOSE.  See the\n",
    "# GNU Affero General Public License for more details.\n",
    "\n",
    "# You should have received a copy of the GNU Affero General Public License\n",
    "# along with this program.  If not, see <https://www.gnu.org/licenses/>."
   ]
  },
  {
   "cell_type": "markdown",
   "metadata": {},
   "source": [
    "<table><tr>\n",
    "<td> <img src=\"https://upload.wikimedia.org/wikipedia/fr/thumb/e/e5/Logo_%C3%A9cole_des_ponts_paristech.svg/676px-Logo_%C3%A9cole_des_ponts_paristech.svg.png\" width=\"200\"  height=\"200\" hspace=\"200\"/> </td>\n",
    "<td> <img src=\"https://pbs.twimg.com/profile_images/1156541928193896448/5ihYIbCQ_200x200.png\" width=\"200\" height=\"200\" /> </td>\n",
    "</tr></table>\n",
    "\n",
    "<br/>\n",
    "\n",
    "<h1><center>Session 11 - Model Serving</center></h1>\n",
    "\n",
    "\n",
    "\n",
    "<font size=\"3\">This session is divided into **4** parts:\n",
    "- **1. Package models and feature engineering**\n",
    "- **2. Get new data and create inference function**\n",
    "- **3. Package this code and create a FastAPI server**\n",
    "- **4. Build a UI to request this API**\n",
    "\n",
    "\n",
    "In each of these parts, some **guidelines** and **hints** are given for each task. \n",
    "Do not hesitate to check the links to documentation to understand the functions you use. \n",
    "    \n",
    "The goal of this session is to **select a model** that you will use as your best candidate and optimize it to get the best out of it.\n",
    "</font>"
   ]
  },
  {
   "cell_type": "code",
   "execution_count": 1,
   "metadata": {},
   "outputs": [],
   "source": [
    "%config Completer.use_jedi = False"
   ]
  },
  {
   "cell_type": "markdown",
   "metadata": {},
   "source": [
    "# 1. Package models and feature engineering"
   ]
  },
  {
   "cell_type": "markdown",
   "metadata": {},
   "source": [
    "## A - Data preprocessing"
   ]
  },
  {
   "cell_type": "markdown",
   "metadata": {},
   "source": [
    "In this part, we are going to run the code we made from the previous sessions, in order to save our train models."
   ]
  },
  {
   "cell_type": "code",
   "execution_count": 2,
   "metadata": {},
   "outputs": [],
   "source": [
    "# to import the libraries from the package, you must provide the absolute path of the place where you put your\n",
    "# folder french-box-office. For example, if my path is C:/path/to/french-box-office\n",
    "# replace with the valid filepath in your computer:\n",
    "import sys\n",
    "\n",
    "sys.path.append(os.path.join('C:/', 'path', 'to', 'french-box-office')"
   ]
  },
  {
   "cell_type": "code",
   "execution_count": 5,
   "metadata": {},
   "outputs": [],
   "source": [
    "# import libraries\n",
    "import pandas as pd\n",
    "from config import ROOT_DIRPATH\n",
    "from lib.preprocessing.encode import (encode_movie_data,\n",
    "                                      get_encoded_collections_df,\n",
    "                                      get_encoded_actors_df,\n",
    "                                      get_mean_popularity)\n",
    "from lib.utils.io import read_movies_entrees, read_movies_features\n",
    "import os"
   ]
  },
  {
   "cell_type": "code",
   "execution_count": 6,
   "metadata": {},
   "outputs": [
    {
     "data": {
      "text/plain": [
       "'1.0.3'"
      ]
     },
     "execution_count": 6,
     "metadata": {},
     "output_type": "execute_result"
    }
   ],
   "source": [
    "# to make sure this notebook runs, please make sure your have pandas 1.0.3 installed. \n",
    "# You can do this to check your version:\n",
    "# if you need to reinstall, uncomment and run the following cell:\n",
    "# !pip install pandas==1.0.3\n",
    "pd.__version__"
   ]
  },
  {
   "cell_type": "code",
   "execution_count": 7,
   "metadata": {},
   "outputs": [],
   "source": [
    "# data loading and merging\n",
    "df_boxoffice = read_movies_entrees(os.path.join(ROOT_DIRPATH, 'data', 'french-box-office-29nov2020.json'))\n",
    "df_features = read_movies_features(os.path.join(ROOT_DIRPATH, 'data', 'movie-features-29nov2020.json'))\n",
    "data = pd.merge(df_boxoffice, df_features, on='id')\n",
    "data = data.loc[(data['sales'] != 0) & (data['sales'].notna())]"
   ]
  },
  {
   "cell_type": "code",
   "execution_count": 8,
   "metadata": {},
   "outputs": [
    {
     "name": "stderr",
     "output_type": "stream",
     "text": [
      "2021-05-03 15:22:19.778 | INFO     | lib.preprocessing.encode:encode_movie_data:182 - budget median: 25000000.0\n",
      "2021-05-03 15:22:19.808 | INFO     | lib.preprocessing.encode:encode_movie_data:186 - runtime_mean: 101.67367174781708\n"
     ]
    },
    {
     "data": {
      "text/html": [
       "<div>\n",
       "<style scoped>\n",
       "    .dataframe tbody tr th:only-of-type {\n",
       "        vertical-align: middle;\n",
       "    }\n",
       "\n",
       "    .dataframe tbody tr th {\n",
       "        vertical-align: top;\n",
       "    }\n",
       "\n",
       "    .dataframe thead th {\n",
       "        text-align: right;\n",
       "    }\n",
       "</style>\n",
       "<table border=\"1\" class=\"dataframe\">\n",
       "  <thead>\n",
       "    <tr style=\"text-align: right;\">\n",
       "      <th></th>\n",
       "      <th>release_date</th>\n",
       "      <th>sales</th>\n",
       "      <th>is_part_of_collection</th>\n",
       "      <th>budget</th>\n",
       "      <th>runtime</th>\n",
       "      <th>original_lang_en</th>\n",
       "      <th>original_lang_es</th>\n",
       "      <th>original_lang_fr</th>\n",
       "      <th>original_lang_it</th>\n",
       "      <th>original_lang_ja</th>\n",
       "      <th>...</th>\n",
       "      <th>prod_GB</th>\n",
       "      <th>prod_OTHER</th>\n",
       "      <th>prod_US</th>\n",
       "      <th>vacances_zone_a</th>\n",
       "      <th>vacances_zone_b</th>\n",
       "      <th>vacances_zone_c</th>\n",
       "      <th>jour_ferie</th>\n",
       "      <th>holiday</th>\n",
       "      <th>month</th>\n",
       "      <th>cos_month</th>\n",
       "    </tr>\n",
       "  </thead>\n",
       "  <tbody>\n",
       "    <tr>\n",
       "      <th>0</th>\n",
       "      <td>2019-10-16</td>\n",
       "      <td>786485</td>\n",
       "      <td>1</td>\n",
       "      <td>185000000.0</td>\n",
       "      <td>110.0</td>\n",
       "      <td>1</td>\n",
       "      <td>0</td>\n",
       "      <td>0</td>\n",
       "      <td>0</td>\n",
       "      <td>0</td>\n",
       "      <td>...</td>\n",
       "      <td>0</td>\n",
       "      <td>0</td>\n",
       "      <td>1</td>\n",
       "      <td>0.0</td>\n",
       "      <td>0.0</td>\n",
       "      <td>0.0</td>\n",
       "      <td>0.0</td>\n",
       "      <td>0.0</td>\n",
       "      <td>10</td>\n",
       "      <td>1.000000</td>\n",
       "    </tr>\n",
       "    <tr>\n",
       "      <th>1</th>\n",
       "      <td>2019-05-01</td>\n",
       "      <td>1261701</td>\n",
       "      <td>1</td>\n",
       "      <td>25000000.0</td>\n",
       "      <td>135.0</td>\n",
       "      <td>0</td>\n",
       "      <td>0</td>\n",
       "      <td>1</td>\n",
       "      <td>0</td>\n",
       "      <td>0</td>\n",
       "      <td>...</td>\n",
       "      <td>0</td>\n",
       "      <td>0</td>\n",
       "      <td>0</td>\n",
       "      <td>0.0</td>\n",
       "      <td>0.0</td>\n",
       "      <td>1.0</td>\n",
       "      <td>1.0</td>\n",
       "      <td>2.0</td>\n",
       "      <td>5</td>\n",
       "      <td>-1.732051</td>\n",
       "    </tr>\n",
       "    <tr>\n",
       "      <th>2</th>\n",
       "      <td>2019-07-03</td>\n",
       "      <td>1370178</td>\n",
       "      <td>1</td>\n",
       "      <td>160000000.0</td>\n",
       "      <td>129.0</td>\n",
       "      <td>1</td>\n",
       "      <td>0</td>\n",
       "      <td>0</td>\n",
       "      <td>0</td>\n",
       "      <td>0</td>\n",
       "      <td>...</td>\n",
       "      <td>0</td>\n",
       "      <td>0</td>\n",
       "      <td>1</td>\n",
       "      <td>0.0</td>\n",
       "      <td>0.0</td>\n",
       "      <td>0.0</td>\n",
       "      <td>0.0</td>\n",
       "      <td>0.0</td>\n",
       "      <td>7</td>\n",
       "      <td>-1.732051</td>\n",
       "    </tr>\n",
       "    <tr>\n",
       "      <th>3</th>\n",
       "      <td>2019-12-04</td>\n",
       "      <td>785636</td>\n",
       "      <td>1</td>\n",
       "      <td>125000000.0</td>\n",
       "      <td>123.0</td>\n",
       "      <td>1</td>\n",
       "      <td>0</td>\n",
       "      <td>0</td>\n",
       "      <td>0</td>\n",
       "      <td>0</td>\n",
       "      <td>...</td>\n",
       "      <td>0</td>\n",
       "      <td>0</td>\n",
       "      <td>1</td>\n",
       "      <td>0.0</td>\n",
       "      <td>0.0</td>\n",
       "      <td>0.0</td>\n",
       "      <td>0.0</td>\n",
       "      <td>0.0</td>\n",
       "      <td>12</td>\n",
       "      <td>2.000000</td>\n",
       "    </tr>\n",
       "    <tr>\n",
       "      <th>4</th>\n",
       "      <td>2019-02-06</td>\n",
       "      <td>1224811</td>\n",
       "      <td>1</td>\n",
       "      <td>129000000.0</td>\n",
       "      <td>104.0</td>\n",
       "      <td>1</td>\n",
       "      <td>0</td>\n",
       "      <td>0</td>\n",
       "      <td>0</td>\n",
       "      <td>0</td>\n",
       "      <td>...</td>\n",
       "      <td>0</td>\n",
       "      <td>1</td>\n",
       "      <td>1</td>\n",
       "      <td>0.0</td>\n",
       "      <td>0.0</td>\n",
       "      <td>0.0</td>\n",
       "      <td>0.0</td>\n",
       "      <td>0.0</td>\n",
       "      <td>2</td>\n",
       "      <td>1.000000</td>\n",
       "    </tr>\n",
       "  </tbody>\n",
       "</table>\n",
       "<p>5 rows × 40 columns</p>\n",
       "</div>"
      ],
      "text/plain": [
       "  release_date    sales  is_part_of_collection       budget  runtime  \\\n",
       "0   2019-10-16   786485                      1  185000000.0    110.0   \n",
       "1   2019-05-01  1261701                      1   25000000.0    135.0   \n",
       "2   2019-07-03  1370178                      1  160000000.0    129.0   \n",
       "3   2019-12-04   785636                      1  125000000.0    123.0   \n",
       "4   2019-02-06  1224811                      1  129000000.0    104.0   \n",
       "\n",
       "   original_lang_en  original_lang_es  original_lang_fr  original_lang_it  \\\n",
       "0                 1                 0                 0                 0   \n",
       "1                 0                 0                 1                 0   \n",
       "2                 1                 0                 0                 0   \n",
       "3                 1                 0                 0                 0   \n",
       "4                 1                 0                 0                 0   \n",
       "\n",
       "   original_lang_ja  ...  prod_GB  prod_OTHER  prod_US  vacances_zone_a  \\\n",
       "0                 0  ...        0           0        1              0.0   \n",
       "1                 0  ...        0           0        0              0.0   \n",
       "2                 0  ...        0           0        1              0.0   \n",
       "3                 0  ...        0           0        1              0.0   \n",
       "4                 0  ...        0           1        1              0.0   \n",
       "\n",
       "   vacances_zone_b  vacances_zone_c  jour_ferie  holiday  month  cos_month  \n",
       "0              0.0              0.0         0.0      0.0     10   1.000000  \n",
       "1              0.0              1.0         1.0      2.0      5  -1.732051  \n",
       "2              0.0              0.0         0.0      0.0      7  -1.732051  \n",
       "3              0.0              0.0         0.0      0.0     12   2.000000  \n",
       "4              0.0              0.0         0.0      0.0      2   1.000000  \n",
       "\n",
       "[5 rows x 40 columns]"
      ]
     },
     "execution_count": 8,
     "metadata": {},
     "output_type": "execute_result"
    }
   ],
   "source": [
    "# the preprocessing code has been wrapped in a function in order to re-use it with new data\n",
    "data_final_cal = encode_movie_data(data)\n",
    "data_final_cal.head()"
   ]
  },
  {
   "cell_type": "code",
   "execution_count": null,
   "metadata": {},
   "outputs": [],
   "source": [
    "# let's store these info for later, as we want to fill missing values in new data with those of our training dataset\n",
    "BUDGET_MEDIAN = 25000000.0\n",
    "RUNTIME_MEAN = 101.67367174781708"
   ]
  },
  {
   "cell_type": "markdown",
   "metadata": {},
   "source": [
    "## B - Model training"
   ]
  },
  {
   "cell_type": "markdown",
   "metadata": {},
   "source": [
    "In this part, we are re-training our lightGBM model in order to save it and use it to make a prediction on a new dataset."
   ]
  },
  {
   "cell_type": "code",
   "execution_count": null,
   "metadata": {},
   "outputs": [],
   "source": [
    "from lib.preprocessing.preprocess import (clean_data, get_x_y,\n",
    "                                          train_test_split_by_date,\n",
    "                                          transform_target)\n",
    "from lightgbm import LGBMRegressor"
   ]
  },
  {
   "cell_type": "code",
   "execution_count": null,
   "metadata": {},
   "outputs": [],
   "source": [
    "# We are going to store our LightGBM hyperparameters in a constant variable. \n",
    "LGBM_BEST_PARAMS = {\n",
    "    \"max_depth\": 70,\n",
    "    \"n_estimators\": 80,\n",
    "    \"num_leaves\": 31,\n",
    "}"
   ]
  },
  {
   "cell_type": "code",
   "execution_count": null,
   "metadata": {},
   "outputs": [],
   "source": [
    "# we need to preprocess our encoded dataset before training the model\n",
    "data = clean_data(data_final_cal, drop_2020=False)"
   ]
  },
  {
   "cell_type": "code",
   "execution_count": null,
   "metadata": {},
   "outputs": [],
   "source": [
    "# let's check how our DataFrame has been processed\n",
    "data.head()"
   ]
  },
  {
   "cell_type": "code",
   "execution_count": null,
   "metadata": {},
   "outputs": [],
   "source": [
    "# Let's train-test split our model for training, as usual, and make X and y datasets\n",
    "train_data, validation_data, test_data = train_test_split_by_date(data,\n",
    "                                                                '2018-01-01',\n",
    "                                                                '2020-01-01')\n",
    "train_x, train_y = get_x_y(train_data)\n",
    "validation_x, validation_y = get_x_y(validation_data)\n",
    "test_x, test_y = get_x_y(test_data)\n",
    "lgbm = LGBMRegressor(**LGBM_BEST_PARAMS)"
   ]
  },
  {
   "cell_type": "code",
   "execution_count": null,
   "metadata": {},
   "outputs": [],
   "source": [
    "# we are re-using the function of the optimization course \n",
    "from lib.evaluation.evaluate import evaluate\n",
    "from lib.modelling.training import save_model, train\n",
    "from loguru import logger"
   ]
  },
  {
   "cell_type": "code",
   "execution_count": null,
   "metadata": {},
   "outputs": [],
   "source": [
    "# A coding good practice is to use logging functions rather than print() to output information. \n",
    "# there are several levels of criticity: INFO, DEBUG, ERROR, SUCCESS\n",
    "# loguru is a very simple library to get a logger\n",
    "lgbm = train(lgbm, train_x, train_y, transformer=transform_target)\n",
    "logger.info(\"Evaluate on validation set ...\")\n",
    "evaluate(lgbm, validation_x, validation_y, transformer=transform_target)\n",
    "logger.info(\"Evaluate on test set...\")\n",
    "evaluate(lgbm, test_x, test_y, transformer=transform_target)"
   ]
  },
  {
   "cell_type": "markdown",
   "metadata": {},
   "source": [
    "## C - Save trained model"
   ]
  },
  {
   "cell_type": "markdown",
   "metadata": {},
   "source": [
    "Now that we have a trained model, we need to save its weights in order to load it later"
   ]
  },
  {
   "cell_type": "code",
   "execution_count": null,
   "metadata": {},
   "outputs": [],
   "source": [
    "# Exercise: Write a function that save the model in a file\n",
    "# The function will input a LGBMRegressor, and the filename of the saved model\n",
    "# The function won't return anything, but will log an info message \"Model saved to [filepath]\"\n",
    "# Hint: search on stackoverflow how to save a lightGBM model to a file\n",
    "\n",
    "def save_model(...):\n",
    "    ..."
   ]
  },
  {
   "cell_type": "code",
   "execution_count": null,
   "metadata": {},
   "outputs": [],
   "source": [
    "# Now apply the function to save your model\n",
    "save_model(...)"
   ]
  },
  {
   "cell_type": "markdown",
   "metadata": {},
   "source": [
    "# 2. Get new data and create inference function"
   ]
  },
  {
   "cell_type": "markdown",
   "metadata": {},
   "source": [
    "## A - Query TMDb API to get new movie data"
   ]
  },
  {
   "cell_type": "markdown",
   "metadata": {},
   "source": [
    "In this part, we are going to fetch new data by querying the [TMDB API](https://www.themoviedb.org/). \n",
    "\n",
    "**1. Create an account to TMDb developer portal to get an API key**\n",
    "\n",
    "Movie features are extracted via [The Movie Database API](https://developers.themoviedb.org/3/getting-started/introduction). Create an account on their website and export your API key.\n",
    "\n",
    "**2. Store your API Key in a safe place**\n",
    "\n",
    "These kind of credentials are considered as \"secrets\", so you don't want to share it with anyone. NEVER version it or write it down in your code. \n",
    "A good practice is to set an environment variable. In a terminal shell, run the following command\n",
    "\n",
    "- On Windows:\n",
    "```bash\n",
    "set TMDB_API_KEY='your-key-here'\n",
    "```\n",
    "- On Mac/Linux:\n",
    "```bash\n",
    "export TMDB_API_KEY='your-key-here'\n",
    "```\n",
    "\n",
    "Then, to access it in python, you can use the following lib:\n",
    "```python\n",
    "import os\n",
    "\n",
    "print(os.environ['TMDB_API_KEY'])\n",
    "```\n",
    "\n",
    "Another method is to use the `dotenv-python` library:\n",
    "- Make a copy of the `.env_template` file and save it as `.env`\n",
    "- Copy your key to the file\n",
    "- Now, you can export the environment variable with the following direcly in your python code\n",
    "```python\n",
    "dotenv.load_dotenv(dotenv.find_dotenv())\n",
    "```\n",
    "- Then you can access it in your python code using the previous `os.environ` function"
   ]
  },
  {
   "cell_type": "code",
   "execution_count": null,
   "metadata": {},
   "outputs": [],
   "source": [
    "import json"
   ]
  },
  {
   "cell_type": "code",
   "execution_count": null,
   "metadata": {},
   "outputs": [],
   "source": [
    "# if you don't want to make API calls, run this cell instead of the followings\n",
    "\n",
    "# movie_card = json.loads('{\"tmdb_id\": 577242, \"adult\": false, \"belongs_to_collection\": {}, \"budget\": 17516235, \"genres\": [{\"id\": 12, \"name\": \"Aventure\"}, {\"id\": 35, \"name\": \"Com\\\\u00e9die\"}], \"imdb_id\": \"tt9844322\", \"original_language\": \"fr\", \"original_title\": \"Kaamelott : Premier volet\", \"overview\": \"La suite sur grand \\\\u00e9cran de la s\\\\u00e9rie culte d\\'Alexandre Astier, version d\\\\u00e9cal\\\\u00e9e de la l\\\\u00e9gende des Chevaliers de la Table Ronde. R\\\\u00e9fugi\\\\u00e9 \\\\u00e0 Rome, le Roi Arthur y fait son grand retour pour s\\'opposer \\\\u00e0 l\\'arm\\\\u00e9e de son ancien ami Lancelot.\", \"tmdb_popularity\": 4.833, \"production_companies\": [{\"id\": 2902, \"name\": \"SND\", \"origin_country\": \"FR\"}], \"production_countries\": [{\"iso_code\": \"FR\", \"name\": \"France\"}], \"release_date\": \"2021-07-21\", \"revenue\": 0, \"runtime\": 0, \"languages\": [{\"iso_code\": \"fr\", \"name\": \"Fran\\\\u00e7ais\"}], \"status\": \"Post Production\", \"tagline\": \"La patience est un plat qui se mange sans sauce.\", \"title\": \"Kaamelott : Premier volet\", \"tmdb_vote_count\": 0, \"tmdb_vote_average\": 0.0, \"cast\": [{\"adult\": false, \"gender\": 2, \"tmdb_id\": 47826, \"name\": \"Alexandre Astier\", \"tmdb_popularity\": 1.4, \"order\": 0}, {\"adult\": false, \"gender\": 2, \"tmdb_id\": 145231, \"name\": \"Lionnel Astier\", \"tmdb_popularity\": 1.283, \"order\": 1}, {\"adult\": false, \"gender\": 1, \"tmdb_id\": 204034, \"name\": \"Anne Girouard\", \"tmdb_popularity\": 1.213, \"order\": 2}, {\"adult\": false, \"gender\": 2, \"tmdb_id\": 1243291, \"name\": \"Thomas Cousseau\", \"tmdb_popularity\": 0.728, \"order\": 3}, {\"adult\": false, \"gender\": 2, \"tmdb_id\": 1243293, \"name\": \"Franck Pitiot\", \"tmdb_popularity\": 0.6, \"order\": 4}, {\"adult\": false, \"gender\": 2, \"tmdb_id\": 1243294, \"name\": \"Jean-Christophe Hembert\", \"tmdb_popularity\": 1.614, \"order\": 5}, {\"adult\": false, \"gender\": 1, \"tmdb_id\": 219708, \"name\": \"Audrey Fleurot\", \"tmdb_popularity\": 5.294, \"order\": 6}, {\"adult\": false, \"gender\": 2, \"tmdb_id\": 219707, \"name\": \"Jacques Chambon\", \"tmdb_popularity\": 0.694, \"order\": 7}, {\"adult\": false, \"gender\": 2, \"tmdb_id\": 46280, \"name\": \"Antoine de Caunes\", \"tmdb_popularity\": 2.364, \"order\": 8}, {\"adult\": false, \"gender\": 2, \"tmdb_id\": 4275, \"name\": \"Alain Chabat\", \"tmdb_popularity\": 1.873, \"order\": 9}, {\"adult\": false, \"gender\": 2, \"tmdb_id\": 1372039, \"name\": \"Lo\\\\u00efc Varraut\", \"tmdb_popularity\": 0.6, \"order\": 10}, {\"adult\": false, \"gender\": 1, \"tmdb_id\": 1316265, \"name\": \"Jo\\\\u00eblle Sevilla\", \"tmdb_popularity\": 0.84, \"order\": 11}, {\"adult\": false, \"gender\": 2, \"tmdb_id\": 1913754, \"name\": \"Bruno Fontaine\", \"tmdb_popularity\": 0.6, \"order\": 12}, {\"adult\": false, \"gender\": 0, \"tmdb_id\": 1856314, \"name\": \"Jean-Robert Lombard\", \"tmdb_popularity\": 0.6, \"order\": 13}, {\"adult\": false, \"gender\": 2, \"tmdb_id\": 41031, \"name\": \"Fran\\\\u00e7ois Rollin\", \"tmdb_popularity\": 1.109, \"order\": 14}, {\"adult\": false, \"gender\": 1, \"tmdb_id\": 2214804, \"name\": \"Caroline Ferrus\", \"tmdb_popularity\": 0.6, \"order\": 15}, {\"adult\": false, \"gender\": 2, \"tmdb_id\": 1152669, \"name\": \"Guillaume Briat\", \"tmdb_popularity\": 0.6, \"order\": 16}, {\"adult\": false, \"gender\": 2, \"tmdb_id\": 219705, \"name\": \"Nicolas Gabion\", \"tmdb_popularity\": 0.98, \"order\": 17}, {\"adult\": false, \"gender\": 2, \"tmdb_id\": 28781, \"name\": \"Christian Clavier\", \"tmdb_popularity\": 4.909, \"order\": 18}, {\"adult\": false, \"gender\": 2, \"tmdb_id\": 77929, \"name\": \"Fran\\\\u00e7ois Morel\", \"tmdb_popularity\": 2.643, \"order\": 19}, {\"adult\": false, \"gender\": 2, \"tmdb_id\": 6554, \"name\": \"Guillaume Gallienne\", \"tmdb_popularity\": 1.668, \"order\": 20}, {\"adult\": false, \"gender\": 2, \"tmdb_id\": 24891, \"name\": \"Clovis Cornillac\", \"tmdb_popularity\": 1.596, \"order\": 21}, {\"adult\": false, \"gender\": 2, \"tmdb_id\": 982, \"name\": \"Sting\", \"tmdb_popularity\": 4.406, \"order\": 22}, {\"adult\": false, \"gender\": 0, \"tmdb_id\": 586758, \"name\": \"Marie-Christine Orry\", \"tmdb_popularity\": 1.38, \"order\": 23}, {\"adult\": false, \"gender\": 1, \"tmdb_id\": 1574596, \"name\": \"Jehnny Beth\", \"tmdb_popularity\": 0.6, \"order\": 24}, {\"adult\": false, \"gender\": 0, \"tmdb_id\": 587147, \"name\": \"Brice Fournier\", \"tmdb_popularity\": 0.675, \"order\": 26}, {\"adult\": false, \"gender\": 0, \"tmdb_id\": 225853, \"name\": \"Serge Papagalli\", \"tmdb_popularity\": 0.98, \"order\": 27}, {\"adult\": false, \"gender\": 2, \"tmdb_id\": 114953, \"name\": \"G\\\\u00e9raldine Nakache\", \"tmdb_popularity\": 0.958, \"order\": 28}, {\"adult\": false, \"gender\": 0, \"tmdb_id\": 2442062, \"name\": \"Gilles Graveleau\", \"tmdb_popularity\": 0.6, \"order\": 29}, {\"adult\": false, \"gender\": 0, \"tmdb_id\": 2837722, \"name\": \"St\\\\u00e9phane Margot\", \"tmdb_popularity\": 0.6, \"order\": 30}, {\"adult\": false, \"gender\": 2, \"tmdb_id\": 2442059, \"name\": \"Aur\\\\u00e9lien Portehaut\", \"tmdb_popularity\": 0.6, \"order\": 31}, {\"adult\": false, \"gender\": 2, \"tmdb_id\": 1536874, \"name\": \"Etienne Fague\", \"tmdb_popularity\": 0.6, \"order\": 32}, {\"adult\": false, \"gender\": 2, \"tmdb_id\": 134216, \"name\": \"Carlo Brandt\", \"tmdb_popularity\": 1.396, \"order\": 33}, {\"adult\": false, \"gender\": 2, \"tmdb_id\": 2625427, \"name\": \"Pascal Vincent\", \"tmdb_popularity\": 0.6, \"order\": 34}, {\"adult\": false, \"gender\": 1, \"tmdb_id\": 146491, \"name\": \"Valerie K\\\\u00e9ruzor\\\\u00e9\", \"tmdb_popularity\": 3.57, \"order\": 35}, {\"adult\": false, \"gender\": 0, \"tmdb_id\": 2475712, \"name\": \"Mehdi Rahim-Silvioli\", \"tmdb_popularity\": 0.6, \"order\": 36}, {\"adult\": false, \"gender\": 2, \"tmdb_id\": 1636467, \"name\": \"David Ayala\", \"tmdb_popularity\": 1.38, \"order\": 37}, {\"adult\": false, \"gender\": 0, \"tmdb_id\": 1090662, \"name\": \"Jean-charles Simon\", \"tmdb_popularity\": 0.6, \"order\": 38}, {\"adult\": false, \"gender\": 0, \"tmdb_id\": 2837723, \"name\": \"Lamari Amine\", \"tmdb_popularity\": 0.6, \"order\": 39}, {\"adult\": false, \"gender\": 0, \"tmdb_id\": 2837724, \"name\": \"H\\\\u00e9l\\\\u00e8ne Rudermann\", \"tmdb_popularity\": 0.6, \"order\": 40}, {\"adult\": false, \"gender\": 0, \"tmdb_id\": 2837725, \"name\": \"Yazan Al-Mashni\", \"tmdb_popularity\": 0.6, \"order\": 41}, {\"adult\": false, \"gender\": 0, \"tmdb_id\": 2837726, \"name\": \"Neil Astier\", \"tmdb_popularity\": 0.6, \"order\": 42}, {\"adult\": false, \"gender\": 0, \"tmdb_id\": 1865891, \"name\": \"Tigran Mekhitarian\", \"tmdb_popularity\": 0.6, \"order\": 43}, {\"adult\": false, \"gender\": 0, \"tmdb_id\": 2837727, \"name\": \"Oc\\\\u00e9ane Slim\", \"tmdb_popularity\": 0.6, \"order\": 44}, {\"adult\": false, \"gender\": 0, \"tmdb_id\": 2837728, \"name\": \"Antoine Bordes\", \"tmdb_popularity\": 0.6, \"order\": 45}], \"id\": 577242, \"query\": \"Kaamelott : Premier volet\", \"year\": 2021, \"first_week_sales\": null}')"
   ]
  },
  {
   "cell_type": "code",
   "execution_count": null,
   "metadata": {},
   "outputs": [],
   "source": [
    "# Let's import the TBDb API client\n",
    "from lib.crawling.movie_features.tmdb.client import TMDbClient"
   ]
  },
  {
   "cell_type": "code",
   "execution_count": null,
   "metadata": {},
   "outputs": [],
   "source": [
    "# Let's load the TMDB_API_KEY that stores our API token in a environment variable\n",
    "import dotenv\n",
    "\n",
    "dotenv.load_dotenv(dotenv.find_dotenv())"
   ]
  },
  {
   "cell_type": "code",
   "execution_count": null,
   "metadata": {},
   "outputs": [],
   "source": [
    "# if you didn't manage to do ```export TMDB_API_KEY='My API key'``` or the environment file, uncomment the following cells, past your API key and run it\n",
    "\n",
    "## TMDB_API_KEY = 'My API key'\n",
    "## os.environ[\"TMDB_API_KEY\"] = TMDB_API_KEY"
   ]
  },
  {
   "cell_type": "code",
   "execution_count": null,
   "metadata": {},
   "outputs": [],
   "source": [
    "# Exercise: Enter a valid movie title and execute!\n",
    "MOVIE_TITLE = \"\"\n",
    "\n",
    "tmdb_client = TMDbClient()\n",
    "movie_card = tmdb_client.find_movie_features(MOVIE_TITLE)"
   ]
  },
  {
   "cell_type": "code",
   "execution_count": null,
   "metadata": {},
   "outputs": [],
   "source": [
    "# Exercise: print the result, using the pprint function to make it nicer\n",
    "from pprint import pprint\n",
    "\n",
    "pprint(movie_card)"
   ]
  },
  {
   "cell_type": "code",
   "execution_count": null,
   "metadata": {},
   "outputs": [],
   "source": [
    "# Exercise: now try to extract the year of the release, from this movie card, and store it in a\n",
    "# variable \"release_year\". It has to be of type integer. \n",
    "# Hint: look at the \"release_date\" variable\n",
    "release_year = ..."
   ]
  },
  {
   "cell_type": "code",
   "execution_count": null,
   "metadata": {},
   "outputs": [],
   "source": [
    "# If response is not null, write to results\n",
    "if movie_card:\n",
    "    movie_card['id'] = movie_card['tmdb_id']\n",
    "    movie_card['query'] = MOVIE_TITLE\n",
    "    movie_card[\"year\"] = release_year\n",
    "    movie_card[\"first_week_sales\"] = None"
   ]
  },
  {
   "cell_type": "code",
   "execution_count": null,
   "metadata": {},
   "outputs": [],
   "source": [
    "# Now let's wrap this in a function\n",
    "\n",
    "def query_movie_data_from_title(tmdb_client, title: str):\n",
    "    movie_card = tmdb_client.find_movie_features(title)\n",
    "    # If response is not null, write to results\n",
    "    if movie_card:\n",
    "        movie_card['id'] = movie_card['tmdb_id']\n",
    "        movie_card['query'] = title\n",
    "        movie_card[\"year\"] = int(movie_card['release_date'][:4])\n",
    "        movie_card[\"first_week_sales\"] = None\n",
    "        status = {\"message\": \"Success\", \"success\": True}\n",
    "        return movie_card, status\n",
    "    else:\n",
    "        status_message = f\"Error: Movie {title} not found\"\n",
    "        status = {\"message\": status_message, \"success\": False}\n",
    "        logger.error(status_message)\n",
    "        return movie_card, status"
   ]
  },
  {
   "cell_type": "code",
   "execution_count": null,
   "metadata": {},
   "outputs": [],
   "source": [
    "# Try with a name that doesn't exists, and print the status\n",
    "MOVIE_TITLE = \"\"\n",
    "\n",
    "tmdb_client = TMDbClient()\n",
    "movie_card, status = query_movie_data_from_title(tmdb_client, MOVIE_TITLE)\n",
    "print(status)"
   ]
  },
  {
   "cell_type": "code",
   "execution_count": null,
   "metadata": {},
   "outputs": [],
   "source": [
    "# Try with a movie name! \n",
    "MOVIE_TITLE = \"\"\n",
    "\n",
    "tmdb_client = TMDbClient()\n",
    "movie_card, status = query_movie_data_from_title(tmdb_client, MOVIE_TITLE)\n",
    "print(status)"
   ]
  },
  {
   "cell_type": "markdown",
   "metadata": {},
   "source": [
    "## B - Process data"
   ]
  },
  {
   "cell_type": "markdown",
   "metadata": {},
   "source": [
    "Now we are going to create a DataFrame out of our movie card in order to be able to apply our encoding functions on it."
   ]
  },
  {
   "cell_type": "code",
   "execution_count": null,
   "metadata": {},
   "outputs": [],
   "source": [
    "import pandas as pd\n",
    "from lib.preprocessing.load import get_dataset_from_api_res\n",
    "\n",
    "movie_data = get_dataset_from_api_res(movie_card)\n",
    "\n",
    "movie_data"
   ]
  },
  {
   "cell_type": "code",
   "execution_count": null,
   "metadata": {
    "scrolled": true
   },
   "outputs": [],
   "source": [
    "# Exercise: Now, let's apply our feature encoding function. \n",
    "# Hint: Check at the beginning of the notebook. See the parameters and the docstring of the functions (CTRL + SHIFT).\n",
    "# What values would you input to the function to handle missing values in the new dataset?\n",
    "movie_data = ...\n",
    "movie_data.head()"
   ]
  },
  {
   "cell_type": "code",
   "execution_count": null,
   "metadata": {},
   "outputs": [],
   "source": [
    "# Then, apply the data cleaning function, and get X and y matrix in order to make prediction on X to get y_hat later. \n",
    "data_clean = ..\n",
    "X, y = ..."
   ]
  },
  {
   "cell_type": "markdown",
   "metadata": {},
   "source": [
    "## C. Predict using the saved model"
   ]
  },
  {
   "cell_type": "markdown",
   "metadata": {},
   "source": [
    "In this step, we load the model that has been previously saved, and then we make a prediction against our new data set. "
   ]
  },
  {
   "cell_type": "code",
   "execution_count": null,
   "metadata": {},
   "outputs": [],
   "source": [
    "# Exercise: Create a lightGBM model from the file you saved earlier. \n",
    "# Hint: check on this Stackoverflow page:\n",
    "# https://stackoverflow.com/questions/55208734/save-lgbmregressor-model-from-python-lightgbm-package-to-disc/55209076\n",
    "..."
   ]
  },
  {
   "cell_type": "code",
   "execution_count": null,
   "metadata": {},
   "outputs": [],
   "source": [
    "# Exercise: Now, create a function predict that inputs the Booster model, the feature dataset X, and a transform_target function\n",
    "# (as we normalized log our target, we want to use transform_target() to do the inverse operation)\n",
    "# Hint: Feel free to take this function as a basis: lib.evaluation.evaluate.evaluate()\n",
    "# You need to find it in the codebase.\n",
    "def predict(...):\n",
    "    ..."
   ]
  },
  {
   "cell_type": "code",
   "execution_count": null,
   "metadata": {},
   "outputs": [],
   "source": [
    "# Now apply the function and get a prediction\n",
    "predictions = ..."
   ]
  },
  {
   "cell_type": "markdown",
   "metadata": {},
   "source": [
    "## D. Wrapping up: write the inference function"
   ]
  },
  {
   "cell_type": "code",
   "execution_count": null,
   "metadata": {},
   "outputs": [],
   "source": [
    "# Exercise: write a function that inputs a movie title, and return a movie card. \n",
    "# This function must do:\n",
    "# - load the dotenv\n",
    "# - Instanciate the TMDbClient, and fetch the movie card from the API, and the status\n",
    "# If the status[\"success\"] is False:\n",
    "# - return the status\n",
    "# Else, if the status[\"success\"] is True:\n",
    "# - Format a dataset from the movie card\n",
    "# - Encode the movie dataset to get features\n",
    "# - Clean dataset \n",
    "# - Create a dataframe X with features\n",
    "# - Load lightGBM Model from filepath\n",
    "# - Predict on X using the model \n",
    "# - Store the prediction in the movie_card dict, in a key called box_office_sales_forecast\n",
    "# - Return the movie_card dict\n",
    "# Hint: find the relevant functions above\n",
    "\n",
    "def infer_from_movie_title(...):\n",
    "    ..."
   ]
  },
  {
   "cell_type": "code",
   "execution_count": null,
   "metadata": {},
   "outputs": [],
   "source": [
    "# Now choose a movie and apply your function to get a movie card. \n",
    "# Print the result of the prediction\n",
    "NEW_MOVIE = ...\n",
    "movie_card = infer_from_movie_title(NEW_MOVIE)\n",
    "print(...)"
   ]
  },
  {
   "cell_type": "code",
   "execution_count": null,
   "metadata": {},
   "outputs": [],
   "source": [
    "# Let's see how the data looks like\n",
    "from pprint import pprint\n",
    "\n",
    "pprint(movie_card)"
   ]
  },
  {
   "cell_type": "markdown",
   "metadata": {},
   "source": [
    "# 3. Create the service that make prediction"
   ]
  },
  {
   "cell_type": "markdown",
   "metadata": {},
   "source": [
    "The goal of this section is to put our inference function in the codebase, and to put it in a API. \n",
    "\n",
    "First, you need to understand how the code repository is organized. Here is the structure of the tree:\n",
    "\n",
    "```\n",
    "├── README.md\n",
    "├── app\n",
    "│   └── server.py -> the Web Server API that serves our model\n",
    "│   ├── client.py -> the User Interface we are going to build to query the API that serves our model\n",
    "├── bin --> stands for \"binary\", ie. the executable scripts\n",
    "│   ├── get_movie_features.py\n",
    "│   ├── predict.py\n",
    "│   ├── preprocess_data.py\n",
    "│   └── train.py\n",
    "├── config.py --> the place where we store the constants, our parameters.\n",
    "├── data -> the historical data\n",
    "│   ├── french-box-office-29nov2020.json\n",
    "│   ├── movie-features-29nov2020.json\n",
    "├── lib -> stands for \"library\". The place where you put your function\n",
    "│   ├── crawling\n",
    "│   │   ├── boxoffice\n",
    "│   │   └── movie_features\n",
    "│   ├── evaluation\n",
    "│   │   └── evaluate.py\n",
    "│   ├── modelling\n",
    "│   │   ├── predict.py\n",
    "│   │   └── training.py\n",
    "│   ├── preprocessing\n",
    "│   │   ├── encode.py\n",
    "│   │   ├── load.py\n",
    "│   │   └── preprocess.py\n",
    "│   ├── utils\n",
    "│   │   ├── io.py\n",
    "│   │   └── path.py\n",
    "│   └── workflows\n",
    "│       └── inference.py\n",
    "├── models --> the folder where you store your model\n",
    "│   └── light_gbm_model.txt\n",
    "├── notebooks --> your notebooks\n",
    "└── requirements.txt --> the library dependancies\n",
    "```\n",
    "\n",
    "**Questions**\n",
    "\n",
    "* Where would you copy-paste the function?\n",
    "* In which script will you call this function?\n",
    "* Copy-paste the function at the right place in the code\n",
    "* Execute the code\n",
    "\n",
    "Hint: to run a python script, you need to:\n",
    "```bash\n",
    "conda activate french_box_office\n",
    "run `python path/to/script.py`\n",
    "```\n",
    "\n",
    "To stop the execution, press `CTRL + C`\n",
    "We are going to let it open for the exercize"
   ]
  },
  {
   "cell_type": "markdown",
   "metadata": {},
   "source": [
    "# 4. Make a request agaist the API server and build an UI client\n",
    "\n",
    "The goal of this part is to learn how to make a request to the API we built, and then build a client application with a nice UI for our end-users"
   ]
  },
  {
   "cell_type": "markdown",
   "metadata": {},
   "source": [
    "## A - Make request"
   ]
  },
  {
   "cell_type": "markdown",
   "metadata": {},
   "source": [
    "We want to send a request to our API. \n",
    "\n",
    "**Questions:**\n",
    "* What is the host URI of the API?\n",
    "* What is the port number?\n",
    "* What is the API endpoint (=route) URL where we can send a POST requests?\n",
    "* How to format our POST request?"
   ]
  },
  {
   "cell_type": "code",
   "execution_count": null,
   "metadata": {},
   "outputs": [],
   "source": [
    "# Exercise: Make an API call to the server in Python\n",
    "# Hint: The reference lib is called requests. You need to pass a dict to query the API\n",
    "..."
   ]
  },
  {
   "cell_type": "markdown",
   "metadata": {},
   "source": [
    "## B - Parse response"
   ]
  },
  {
   "cell_type": "code",
   "execution_count": null,
   "metadata": {},
   "outputs": [],
   "source": [
    "# each HTTP request has a status code. \n",
    "# print the status code of the request\n",
    "..."
   ]
  },
  {
   "cell_type": "code",
   "execution_count": null,
   "metadata": {},
   "outputs": [],
   "source": [
    "# now make a request with a movie title that doesn't exists and print the status code\n",
    "..."
   ]
  },
  {
   "cell_type": "code",
   "execution_count": null,
   "metadata": {},
   "outputs": [],
   "source": [
    "# print the content of the request\n",
    "..."
   ]
  },
  {
   "cell_type": "markdown",
   "metadata": {},
   "source": [
    "## C. Build a UI client"
   ]
  },
  {
   "cell_type": "markdown",
   "metadata": {},
   "source": [
    "To build an UI client, we are using the library [streamlit](https://docs.streamlit.io/en/stable/getting_started.html).\n",
    "\n",
    "\n",
    "\n",
    "** Run **\n",
    "To run the client, in a Shell terminal, do:\n",
    "\n",
    "```bash\n",
    "conda activate french_box_office\n",
    "streamlit run app/client.py\n",
    "```\n",
    "\n",
    "**Questions**\n",
    "* Take 5 minutes to read the [quickstart](https://docs.streamlit.io/en/stable/getting_started.html).\n",
    "* Run the streamlit app\n",
    "* Copy-paste the request function at the right place\n",
    "* Refresh the app"
   ]
  },
  {
   "cell_type": "code",
   "execution_count": null,
   "metadata": {},
   "outputs": [],
   "source": []
  }
 ],
 "metadata": {
  "kernelspec": {
   "display_name": "french_box_office (py37)",
   "language": "python",
   "name": "french_box_office"
  },
  "language_info": {
   "codemirror_mode": {
    "name": "ipython",
    "version": 3
   },
   "file_extension": ".py",
   "mimetype": "text/x-python",
   "name": "python",
   "nbconvert_exporter": "python",
   "pygments_lexer": "ipython3",
   "version": "3.7.9"
  }
 },
 "nbformat": 4,
 "nbformat_minor": 4
}
