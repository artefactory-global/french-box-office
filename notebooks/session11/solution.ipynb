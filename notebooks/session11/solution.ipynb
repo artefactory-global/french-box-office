{
 "cells": [
  {
   "cell_type": "markdown",
   "metadata": {},
   "source": [
    "<table><tr>\n",
    "<td> <img src=\"https://upload.wikimedia.org/wikipedia/fr/thumb/e/e5/Logo_%C3%A9cole_des_ponts_paristech.svg/676px-Logo_%C3%A9cole_des_ponts_paristech.svg.png\" width=\"200\"  height=\"200\" hspace=\"200\"/> </td>\n",
    "<td> <img src=\"https://pbs.twimg.com/profile_images/1156541928193896448/5ihYIbCQ_200x200.png\" width=\"200\" height=\"200\" /> </td>\n",
    "</tr></table>\n",
    "\n",
    "<br/>\n",
    "\n",
    "<h1><center>Session 11 - Model Serving</center></h1>\n",
    "\n",
    "\n",
    "\n",
    "<font size=\"3\">This session is divided into **4** parts:\n",
    "- **1. Package models and feature engineering**\n",
    "- **2. Get new data and create inference function**\n",
    "- **3. Package this code and create a FastAPI server**\n",
    "- **4. Build a UI to request this API**\n",
    "\n",
    "\n",
    "In each of these parts, some **guidelines** and **hints** are given for each task. \n",
    "Do not hesitate to check the links to documentation to understand the functions you use. \n",
    "    \n",
    "The goal of this session is to **select a model** that you will use as your best candidate and optimize it to get the best out of it.\n",
    "</font>"
   ]
  },
  {
   "cell_type": "code",
   "execution_count": 1,
   "metadata": {},
   "outputs": [],
   "source": [
    "%config Completer.use_jedi = False"
   ]
  },
  {
   "cell_type": "markdown",
   "metadata": {
    "heading_collapsed": true
   },
   "source": [
    "# 1. Package models and feature engineering"
   ]
  },
  {
   "cell_type": "markdown",
   "metadata": {
    "hidden": true
   },
   "source": [
    "## A - Data preprocessing"
   ]
  },
  {
   "cell_type": "code",
   "execution_count": 2,
   "metadata": {
    "hidden": true
   },
   "outputs": [],
   "source": [
    "import pandas as pd\n",
    "from config import ROOT_DIRPATH, COLS_TO_DROP_PREPROCESSING\n",
    "from lib.preprocessing.encode import (encode_movie_data,\n",
    "                                      get_encoded_collections_df,\n",
    "                                      get_encoded_actors_df,\n",
    "                                      get_mean_popularity)\n",
    "from lib.utils.io import read_movies_entrees, read_movies_features\n",
    "import os"
   ]
  },
  {
   "cell_type": "code",
   "execution_count": 3,
   "metadata": {
    "hidden": true
   },
   "outputs": [],
   "source": [
    "# data loading and merging\n",
    "df_boxoffice = read_movies_entrees(os.path.join(ROOT_DIRPATH, 'data', 'french-box-office-29nov2020.json'))\n",
    "df_features = read_movies_features(os.path.join(ROOT_DIRPATH, 'data', 'movie-features-29nov2020.json'))\n",
    "data = pd.merge(df_boxoffice, df_features, on='id')\n",
    "data = data.loc[(data['sales'] != 0) & (data['sales'].notna())]"
   ]
  },
  {
   "cell_type": "code",
   "execution_count": 4,
   "metadata": {
    "hidden": true
   },
   "outputs": [
    {
     "name": "stderr",
     "output_type": "stream",
     "text": [
      "2021-04-26 15:28:10.218 | INFO     | lib.preprocessing.encode:encode_movie_data:164 - budget median: 25000000.0\n",
      "2021-04-26 15:28:10.244 | INFO     | lib.preprocessing.encode:encode_movie_data:168 - runtime_mean: 101.67367174781708\n"
     ]
    },
    {
     "data": {
      "text/html": [
       "<div>\n",
       "<style scoped>\n",
       "    .dataframe tbody tr th:only-of-type {\n",
       "        vertical-align: middle;\n",
       "    }\n",
       "\n",
       "    .dataframe tbody tr th {\n",
       "        vertical-align: top;\n",
       "    }\n",
       "\n",
       "    .dataframe thead th {\n",
       "        text-align: right;\n",
       "    }\n",
       "</style>\n",
       "<table border=\"1\" class=\"dataframe\">\n",
       "  <thead>\n",
       "    <tr style=\"text-align: right;\">\n",
       "      <th></th>\n",
       "      <th>release_date</th>\n",
       "      <th>sales</th>\n",
       "      <th>is_part_of_collection</th>\n",
       "      <th>budget</th>\n",
       "      <th>runtime</th>\n",
       "      <th>original_lang_en</th>\n",
       "      <th>original_lang_es</th>\n",
       "      <th>original_lang_fr</th>\n",
       "      <th>original_lang_it</th>\n",
       "      <th>original_lang_ja</th>\n",
       "      <th>...</th>\n",
       "      <th>prod_GB</th>\n",
       "      <th>prod_OTHER</th>\n",
       "      <th>prod_US</th>\n",
       "      <th>vacances_zone_a</th>\n",
       "      <th>vacances_zone_b</th>\n",
       "      <th>vacances_zone_c</th>\n",
       "      <th>jour_ferie</th>\n",
       "      <th>holiday</th>\n",
       "      <th>month</th>\n",
       "      <th>cos_month</th>\n",
       "    </tr>\n",
       "  </thead>\n",
       "  <tbody>\n",
       "    <tr>\n",
       "      <th>0</th>\n",
       "      <td>2019-10-16</td>\n",
       "      <td>786485</td>\n",
       "      <td>1</td>\n",
       "      <td>185000000.0</td>\n",
       "      <td>110.0</td>\n",
       "      <td>1</td>\n",
       "      <td>0</td>\n",
       "      <td>0</td>\n",
       "      <td>0</td>\n",
       "      <td>0</td>\n",
       "      <td>...</td>\n",
       "      <td>0</td>\n",
       "      <td>0</td>\n",
       "      <td>1</td>\n",
       "      <td>0.0</td>\n",
       "      <td>0.0</td>\n",
       "      <td>0.0</td>\n",
       "      <td>0.0</td>\n",
       "      <td>0.0</td>\n",
       "      <td>10</td>\n",
       "      <td>1.000000</td>\n",
       "    </tr>\n",
       "    <tr>\n",
       "      <th>1</th>\n",
       "      <td>2019-05-01</td>\n",
       "      <td>1261701</td>\n",
       "      <td>1</td>\n",
       "      <td>25000000.0</td>\n",
       "      <td>135.0</td>\n",
       "      <td>0</td>\n",
       "      <td>0</td>\n",
       "      <td>1</td>\n",
       "      <td>0</td>\n",
       "      <td>0</td>\n",
       "      <td>...</td>\n",
       "      <td>0</td>\n",
       "      <td>0</td>\n",
       "      <td>0</td>\n",
       "      <td>0.0</td>\n",
       "      <td>0.0</td>\n",
       "      <td>1.0</td>\n",
       "      <td>1.0</td>\n",
       "      <td>2.0</td>\n",
       "      <td>5</td>\n",
       "      <td>-1.732051</td>\n",
       "    </tr>\n",
       "    <tr>\n",
       "      <th>2</th>\n",
       "      <td>2019-07-03</td>\n",
       "      <td>1370178</td>\n",
       "      <td>1</td>\n",
       "      <td>160000000.0</td>\n",
       "      <td>129.0</td>\n",
       "      <td>1</td>\n",
       "      <td>0</td>\n",
       "      <td>0</td>\n",
       "      <td>0</td>\n",
       "      <td>0</td>\n",
       "      <td>...</td>\n",
       "      <td>0</td>\n",
       "      <td>0</td>\n",
       "      <td>1</td>\n",
       "      <td>0.0</td>\n",
       "      <td>0.0</td>\n",
       "      <td>0.0</td>\n",
       "      <td>0.0</td>\n",
       "      <td>0.0</td>\n",
       "      <td>7</td>\n",
       "      <td>-1.732051</td>\n",
       "    </tr>\n",
       "    <tr>\n",
       "      <th>3</th>\n",
       "      <td>2019-12-04</td>\n",
       "      <td>785636</td>\n",
       "      <td>1</td>\n",
       "      <td>125000000.0</td>\n",
       "      <td>123.0</td>\n",
       "      <td>1</td>\n",
       "      <td>0</td>\n",
       "      <td>0</td>\n",
       "      <td>0</td>\n",
       "      <td>0</td>\n",
       "      <td>...</td>\n",
       "      <td>0</td>\n",
       "      <td>0</td>\n",
       "      <td>1</td>\n",
       "      <td>0.0</td>\n",
       "      <td>0.0</td>\n",
       "      <td>0.0</td>\n",
       "      <td>0.0</td>\n",
       "      <td>0.0</td>\n",
       "      <td>12</td>\n",
       "      <td>2.000000</td>\n",
       "    </tr>\n",
       "    <tr>\n",
       "      <th>4</th>\n",
       "      <td>2019-02-06</td>\n",
       "      <td>1224811</td>\n",
       "      <td>1</td>\n",
       "      <td>129000000.0</td>\n",
       "      <td>104.0</td>\n",
       "      <td>1</td>\n",
       "      <td>0</td>\n",
       "      <td>0</td>\n",
       "      <td>0</td>\n",
       "      <td>0</td>\n",
       "      <td>...</td>\n",
       "      <td>0</td>\n",
       "      <td>1</td>\n",
       "      <td>1</td>\n",
       "      <td>0.0</td>\n",
       "      <td>0.0</td>\n",
       "      <td>0.0</td>\n",
       "      <td>0.0</td>\n",
       "      <td>0.0</td>\n",
       "      <td>2</td>\n",
       "      <td>1.000000</td>\n",
       "    </tr>\n",
       "  </tbody>\n",
       "</table>\n",
       "<p>5 rows × 40 columns</p>\n",
       "</div>"
      ],
      "text/plain": [
       "  release_date    sales  is_part_of_collection       budget  runtime  \\\n",
       "0   2019-10-16   786485                      1  185000000.0    110.0   \n",
       "1   2019-05-01  1261701                      1   25000000.0    135.0   \n",
       "2   2019-07-03  1370178                      1  160000000.0    129.0   \n",
       "3   2019-12-04   785636                      1  125000000.0    123.0   \n",
       "4   2019-02-06  1224811                      1  129000000.0    104.0   \n",
       "\n",
       "   original_lang_en  original_lang_es  original_lang_fr  original_lang_it  \\\n",
       "0                 1                 0                 0                 0   \n",
       "1                 0                 0                 1                 0   \n",
       "2                 1                 0                 0                 0   \n",
       "3                 1                 0                 0                 0   \n",
       "4                 1                 0                 0                 0   \n",
       "\n",
       "   original_lang_ja  ...  prod_GB  prod_OTHER  prod_US  vacances_zone_a  \\\n",
       "0                 0  ...        0           0        1              0.0   \n",
       "1                 0  ...        0           0        0              0.0   \n",
       "2                 0  ...        0           0        1              0.0   \n",
       "3                 0  ...        0           0        1              0.0   \n",
       "4                 0  ...        0           1        1              0.0   \n",
       "\n",
       "   vacances_zone_b  vacances_zone_c  jour_ferie  holiday  month  cos_month  \n",
       "0              0.0              0.0         0.0      0.0     10   1.000000  \n",
       "1              0.0              1.0         1.0      2.0      5  -1.732051  \n",
       "2              0.0              0.0         0.0      0.0      7  -1.732051  \n",
       "3              0.0              0.0         0.0      0.0     12   2.000000  \n",
       "4              0.0              0.0         0.0      0.0      2   1.000000  \n",
       "\n",
       "[5 rows x 40 columns]"
      ]
     },
     "execution_count": 4,
     "metadata": {},
     "output_type": "execute_result"
    }
   ],
   "source": [
    "# the preprocessing code has been packaged in a function\n",
    "data_final_cal = encode_movie_data(data)\n",
    "data_final_cal.head()"
   ]
  },
  {
   "cell_type": "code",
   "execution_count": 5,
   "metadata": {
    "hidden": true
   },
   "outputs": [],
   "source": [
    "# let's store these info for later\n",
    "BUDGET_MEDIAN = 25000000.0\n",
    "RUNTIME_MEAN = 101.67367174781708"
   ]
  },
  {
   "cell_type": "markdown",
   "metadata": {
    "hidden": true
   },
   "source": [
    "## B - Model training"
   ]
  },
  {
   "cell_type": "code",
   "execution_count": 6,
   "metadata": {
    "hidden": true
   },
   "outputs": [],
   "source": [
    "from lib.preprocessing.preprocess import (clean_data, get_x_y,\n",
    "                                          train_test_split_by_date,\n",
    "                                          transform_target)\n",
    "from lightgbm import LGBMRegressor"
   ]
  },
  {
   "cell_type": "code",
   "execution_count": 7,
   "metadata": {
    "hidden": true
   },
   "outputs": [],
   "source": [
    "LGBM_BEST_PARAMS = {\n",
    "    \"max_depth\": 70,\n",
    "    \"n_estimators\": 80,\n",
    "    \"num_leaves\": 31,\n",
    "}  # LightGBM hyperparameters"
   ]
  },
  {
   "cell_type": "code",
   "execution_count": 8,
   "metadata": {
    "hidden": true
   },
   "outputs": [
    {
     "name": "stderr",
     "output_type": "stream",
     "text": [
      "2021-04-26 15:28:16.386 | INFO     | lib.preprocessing.preprocess:clean_data:7 - cleaning data..\n"
     ]
    }
   ],
   "source": [
    "data = clean_data(data_final_cal, drop_2020=False)"
   ]
  },
  {
   "cell_type": "code",
   "execution_count": 9,
   "metadata": {
    "hidden": true
   },
   "outputs": [
    {
     "data": {
      "text/html": [
       "<div>\n",
       "<style scoped>\n",
       "    .dataframe tbody tr th:only-of-type {\n",
       "        vertical-align: middle;\n",
       "    }\n",
       "\n",
       "    .dataframe tbody tr th {\n",
       "        vertical-align: top;\n",
       "    }\n",
       "\n",
       "    .dataframe thead th {\n",
       "        text-align: right;\n",
       "    }\n",
       "</style>\n",
       "<table border=\"1\" class=\"dataframe\">\n",
       "  <thead>\n",
       "    <tr style=\"text-align: right;\">\n",
       "      <th></th>\n",
       "      <th>sales</th>\n",
       "      <th>is_part_of_collection</th>\n",
       "      <th>budget</th>\n",
       "      <th>runtime</th>\n",
       "      <th>original_lang_en</th>\n",
       "      <th>original_lang_es</th>\n",
       "      <th>original_lang_fr</th>\n",
       "      <th>original_lang_it</th>\n",
       "      <th>original_lang_ja</th>\n",
       "      <th>original_lang_other</th>\n",
       "      <th>...</th>\n",
       "      <th>prod_GB</th>\n",
       "      <th>prod_OTHER</th>\n",
       "      <th>prod_US</th>\n",
       "      <th>vacances_zone_a</th>\n",
       "      <th>vacances_zone_b</th>\n",
       "      <th>vacances_zone_c</th>\n",
       "      <th>jour_ferie</th>\n",
       "      <th>holiday</th>\n",
       "      <th>month</th>\n",
       "      <th>cos_month</th>\n",
       "    </tr>\n",
       "    <tr>\n",
       "      <th>release_date</th>\n",
       "      <th></th>\n",
       "      <th></th>\n",
       "      <th></th>\n",
       "      <th></th>\n",
       "      <th></th>\n",
       "      <th></th>\n",
       "      <th></th>\n",
       "      <th></th>\n",
       "      <th></th>\n",
       "      <th></th>\n",
       "      <th></th>\n",
       "      <th></th>\n",
       "      <th></th>\n",
       "      <th></th>\n",
       "      <th></th>\n",
       "      <th></th>\n",
       "      <th></th>\n",
       "      <th></th>\n",
       "      <th></th>\n",
       "      <th></th>\n",
       "      <th></th>\n",
       "    </tr>\n",
       "  </thead>\n",
       "  <tbody>\n",
       "    <tr>\n",
       "      <th>2000-01-01</th>\n",
       "      <td>139087</td>\n",
       "      <td>0</td>\n",
       "      <td>25000000.0</td>\n",
       "      <td>120.0</td>\n",
       "      <td>0</td>\n",
       "      <td>0</td>\n",
       "      <td>1</td>\n",
       "      <td>0</td>\n",
       "      <td>0</td>\n",
       "      <td>0</td>\n",
       "      <td>...</td>\n",
       "      <td>0</td>\n",
       "      <td>0</td>\n",
       "      <td>0</td>\n",
       "      <td>1.0</td>\n",
       "      <td>1.0</td>\n",
       "      <td>1.0</td>\n",
       "      <td>1.0</td>\n",
       "      <td>4.0</td>\n",
       "      <td>1</td>\n",
       "      <td>1.732051</td>\n",
       "    </tr>\n",
       "    <tr>\n",
       "      <th>2000-01-05</th>\n",
       "      <td>1463152</td>\n",
       "      <td>0</td>\n",
       "      <td>25000000.0</td>\n",
       "      <td>77.0</td>\n",
       "      <td>0</td>\n",
       "      <td>1</td>\n",
       "      <td>0</td>\n",
       "      <td>0</td>\n",
       "      <td>0</td>\n",
       "      <td>0</td>\n",
       "      <td>...</td>\n",
       "      <td>0</td>\n",
       "      <td>1</td>\n",
       "      <td>0</td>\n",
       "      <td>0.0</td>\n",
       "      <td>0.0</td>\n",
       "      <td>0.0</td>\n",
       "      <td>0.0</td>\n",
       "      <td>0.0</td>\n",
       "      <td>1</td>\n",
       "      <td>1.732051</td>\n",
       "    </tr>\n",
       "    <tr>\n",
       "      <th>2000-01-05</th>\n",
       "      <td>32954</td>\n",
       "      <td>0</td>\n",
       "      <td>25000000.0</td>\n",
       "      <td>116.0</td>\n",
       "      <td>1</td>\n",
       "      <td>0</td>\n",
       "      <td>0</td>\n",
       "      <td>0</td>\n",
       "      <td>0</td>\n",
       "      <td>0</td>\n",
       "      <td>...</td>\n",
       "      <td>1</td>\n",
       "      <td>0</td>\n",
       "      <td>0</td>\n",
       "      <td>0.0</td>\n",
       "      <td>0.0</td>\n",
       "      <td>0.0</td>\n",
       "      <td>0.0</td>\n",
       "      <td>0.0</td>\n",
       "      <td>1</td>\n",
       "      <td>1.732051</td>\n",
       "    </tr>\n",
       "    <tr>\n",
       "      <th>2000-01-05</th>\n",
       "      <td>66228</td>\n",
       "      <td>0</td>\n",
       "      <td>22000000.0</td>\n",
       "      <td>142.0</td>\n",
       "      <td>1</td>\n",
       "      <td>0</td>\n",
       "      <td>0</td>\n",
       "      <td>0</td>\n",
       "      <td>0</td>\n",
       "      <td>0</td>\n",
       "      <td>...</td>\n",
       "      <td>0</td>\n",
       "      <td>0</td>\n",
       "      <td>1</td>\n",
       "      <td>0.0</td>\n",
       "      <td>0.0</td>\n",
       "      <td>0.0</td>\n",
       "      <td>0.0</td>\n",
       "      <td>0.0</td>\n",
       "      <td>1</td>\n",
       "      <td>1.732051</td>\n",
       "    </tr>\n",
       "    <tr>\n",
       "      <th>2000-01-12</th>\n",
       "      <td>25224</td>\n",
       "      <td>0</td>\n",
       "      <td>9000000.0</td>\n",
       "      <td>165.0</td>\n",
       "      <td>0</td>\n",
       "      <td>0</td>\n",
       "      <td>0</td>\n",
       "      <td>1</td>\n",
       "      <td>0</td>\n",
       "      <td>0</td>\n",
       "      <td>...</td>\n",
       "      <td>0</td>\n",
       "      <td>1</td>\n",
       "      <td>0</td>\n",
       "      <td>0.0</td>\n",
       "      <td>0.0</td>\n",
       "      <td>0.0</td>\n",
       "      <td>0.0</td>\n",
       "      <td>0.0</td>\n",
       "      <td>1</td>\n",
       "      <td>1.732051</td>\n",
       "    </tr>\n",
       "  </tbody>\n",
       "</table>\n",
       "<p>5 rows × 39 columns</p>\n",
       "</div>"
      ],
      "text/plain": [
       "                sales  is_part_of_collection      budget  runtime  \\\n",
       "release_date                                                        \n",
       "2000-01-01     139087                      0  25000000.0    120.0   \n",
       "2000-01-05    1463152                      0  25000000.0     77.0   \n",
       "2000-01-05      32954                      0  25000000.0    116.0   \n",
       "2000-01-05      66228                      0  22000000.0    142.0   \n",
       "2000-01-12      25224                      0   9000000.0    165.0   \n",
       "\n",
       "              original_lang_en  original_lang_es  original_lang_fr  \\\n",
       "release_date                                                         \n",
       "2000-01-01                   0                 0                 1   \n",
       "2000-01-05                   0                 1                 0   \n",
       "2000-01-05                   1                 0                 0   \n",
       "2000-01-05                   1                 0                 0   \n",
       "2000-01-12                   0                 0                 0   \n",
       "\n",
       "              original_lang_it  original_lang_ja  original_lang_other  ...  \\\n",
       "release_date                                                           ...   \n",
       "2000-01-01                   0                 0                    0  ...   \n",
       "2000-01-05                   0                 0                    0  ...   \n",
       "2000-01-05                   0                 0                    0  ...   \n",
       "2000-01-05                   0                 0                    0  ...   \n",
       "2000-01-12                   1                 0                    0  ...   \n",
       "\n",
       "              prod_GB  prod_OTHER  prod_US  vacances_zone_a  vacances_zone_b  \\\n",
       "release_date                                                                   \n",
       "2000-01-01          0           0        0              1.0              1.0   \n",
       "2000-01-05          0           1        0              0.0              0.0   \n",
       "2000-01-05          1           0        0              0.0              0.0   \n",
       "2000-01-05          0           0        1              0.0              0.0   \n",
       "2000-01-12          0           1        0              0.0              0.0   \n",
       "\n",
       "              vacances_zone_c  jour_ferie  holiday  month  cos_month  \n",
       "release_date                                                          \n",
       "2000-01-01                1.0         1.0      4.0      1   1.732051  \n",
       "2000-01-05                0.0         0.0      0.0      1   1.732051  \n",
       "2000-01-05                0.0         0.0      0.0      1   1.732051  \n",
       "2000-01-05                0.0         0.0      0.0      1   1.732051  \n",
       "2000-01-12                0.0         0.0      0.0      1   1.732051  \n",
       "\n",
       "[5 rows x 39 columns]"
      ]
     },
     "execution_count": 9,
     "metadata": {},
     "output_type": "execute_result"
    }
   ],
   "source": [
    "data.head()"
   ]
  },
  {
   "cell_type": "code",
   "execution_count": 39,
   "metadata": {
    "hidden": true
   },
   "outputs": [],
   "source": [
    "train_data, validation_data, test_data = train_test_split_by_date(data,\n",
    "                                                                '2018-01-01',\n",
    "                                                                '2020-01-01')\n",
    "train_x, train_y = get_x_y(train_data)\n",
    "validation_x, validation_y = get_x_y(validation_data)\n",
    "test_x, test_y = get_x_y(test_data)\n",
    "lgbm = LGBMRegressor(**LGBM_BEST_PARAMS)"
   ]
  },
  {
   "cell_type": "code",
   "execution_count": 11,
   "metadata": {
    "hidden": true
   },
   "outputs": [],
   "source": [
    "from lib.evaluation.evaluate import evaluate\n",
    "from lib.modelling.training import save_model, train\n",
    "from loguru import logger"
   ]
  },
  {
   "cell_type": "code",
   "execution_count": 12,
   "metadata": {
    "hidden": true
   },
   "outputs": [
    {
     "name": "stderr",
     "output_type": "stream",
     "text": [
      "2021-04-26 15:28:23.036 | INFO     | lib.modelling.training:train:7 - start fitting a <class 'lightgbm.sklearn.LGBMRegressor'>...\n"
     ]
    },
    {
     "name": "stdout",
     "output_type": "stream",
     "text": [
      "[LightGBM] [Warning] Accuracy may be bad since you didn't explicitly set num_leaves OR 2^max_depth > num_leaves. (num_leaves=31).\n"
     ]
    },
    {
     "name": "stderr",
     "output_type": "stream",
     "text": [
      "2021-04-26 15:28:23.469 | INFO     | lib.modelling.training:train:13 - {'mape': 259.7951138784969, 'rmse': 248446.17436903322, 'mae': 111806.91020683752}\n",
      "2021-04-26 15:28:23.471 | INFO     | __main__:<module>:2 - Evaluate on validation set ...\n",
      "2021-04-26 15:28:23.488 | INFO     | lib.evaluation.evaluate:evaluate:33 - {'mape': 385.7822207702718, 'rmse': 245750.790776571, 'mae': 106328.76600547637}\n",
      "2021-04-26 15:28:23.489 | INFO     | __main__:<module>:4 - Evaluate on test set...\n",
      "2021-04-26 15:28:23.499 | INFO     | lib.evaluation.evaluate:evaluate:33 - {'mape': 247.92134224671875, 'rmse': 121393.32992711238, 'mae': 68727.43167489658}\n"
     ]
    }
   ],
   "source": [
    "lgbm = train(lgbm, train_x, train_y, transformer=transform_target)\n",
    "logger.info(\"Evaluate on validation set ...\")\n",
    "evaluate(lgbm, validation_x, validation_y, transformer=transform_target)\n",
    "logger.info(\"Evaluate on test set...\")\n",
    "evaluate(lgbm, test_x, test_y, transformer=transform_target)"
   ]
  },
  {
   "cell_type": "markdown",
   "metadata": {
    "hidden": true
   },
   "source": [
    "## C - Save trained model"
   ]
  },
  {
   "cell_type": "code",
   "execution_count": 13,
   "metadata": {
    "hidden": true
   },
   "outputs": [],
   "source": [
    "from config import ROOT_DIRPATH\n",
    "\n",
    "LGBM_MODEL_FILEPATH = os.path.join(ROOT_DIRPATH, \"models\", \"light_gbm_model.txt\")"
   ]
  },
  {
   "cell_type": "code",
   "execution_count": 14,
   "metadata": {
    "hidden": true
   },
   "outputs": [],
   "source": [
    "def save_model(model: LGBMRegressor, filepath: str):\n",
    "    model.booster_.save_model(filepath, num_iteration=model.best_iteration_)\n",
    "    logger.info(f'Model saved to {filepath}')"
   ]
  },
  {
   "cell_type": "code",
   "execution_count": 15,
   "metadata": {
    "hidden": true
   },
   "outputs": [
    {
     "name": "stderr",
     "output_type": "stream",
     "text": [
      "2021-04-26 15:28:29.040 | INFO     | __main__:save_model:3 - Model saved to /Users/hugo/Documents/PONTS/french-box-office/models/light_gbm_model.txt\n"
     ]
    }
   ],
   "source": [
    "save_model(lgbm, LGBM_MODEL_FILEPATH)"
   ]
  },
  {
   "cell_type": "markdown",
   "metadata": {},
   "source": [
    "# 2. Get new data and create inference function"
   ]
  },
  {
   "cell_type": "markdown",
   "metadata": {},
   "source": [
    "## A - Query TMDb API to get new movie data"
   ]
  },
  {
   "cell_type": "code",
   "execution_count": 16,
   "metadata": {},
   "outputs": [],
   "source": [
    "# if you don't want to make API calls, run this cell and not the followings\n",
    "movie_card = json.loads('{\"tmdb_id\": 577242, \"adult\": false, \"belongs_to_collection\": {}, \"budget\": 17516235, \"genres\": [{\"id\": 12, \"name\": \"Aventure\"}, {\"id\": 35, \"name\": \"Com\\\\u00e9die\"}], \"imdb_id\": \"tt9844322\", \"original_language\": \"fr\", \"original_title\": \"Kaamelott : Premier volet\", \"overview\": \"La suite sur grand \\\\u00e9cran de la s\\\\u00e9rie culte d\\'Alexandre Astier, version d\\\\u00e9cal\\\\u00e9e de la l\\\\u00e9gende des Chevaliers de la Table Ronde. R\\\\u00e9fugi\\\\u00e9 \\\\u00e0 Rome, le Roi Arthur y fait son grand retour pour s\\'opposer \\\\u00e0 l\\'arm\\\\u00e9e de son ancien ami Lancelot.\", \"tmdb_popularity\": 4.833, \"production_companies\": [{\"id\": 2902, \"name\": \"SND\", \"origin_country\": \"FR\"}], \"production_countries\": [{\"iso_code\": \"FR\", \"name\": \"France\"}], \"release_date\": \"2021-07-21\", \"revenue\": 0, \"runtime\": 0, \"languages\": [{\"iso_code\": \"fr\", \"name\": \"Fran\\\\u00e7ais\"}], \"status\": \"Post Production\", \"tagline\": \"La patience est un plat qui se mange sans sauce.\", \"title\": \"Kaamelott : Premier volet\", \"tmdb_vote_count\": 0, \"tmdb_vote_average\": 0.0, \"cast\": [{\"adult\": false, \"gender\": 2, \"tmdb_id\": 47826, \"name\": \"Alexandre Astier\", \"tmdb_popularity\": 1.4, \"order\": 0}, {\"adult\": false, \"gender\": 2, \"tmdb_id\": 145231, \"name\": \"Lionnel Astier\", \"tmdb_popularity\": 1.283, \"order\": 1}, {\"adult\": false, \"gender\": 1, \"tmdb_id\": 204034, \"name\": \"Anne Girouard\", \"tmdb_popularity\": 1.213, \"order\": 2}, {\"adult\": false, \"gender\": 2, \"tmdb_id\": 1243291, \"name\": \"Thomas Cousseau\", \"tmdb_popularity\": 0.728, \"order\": 3}, {\"adult\": false, \"gender\": 2, \"tmdb_id\": 1243293, \"name\": \"Franck Pitiot\", \"tmdb_popularity\": 0.6, \"order\": 4}, {\"adult\": false, \"gender\": 2, \"tmdb_id\": 1243294, \"name\": \"Jean-Christophe Hembert\", \"tmdb_popularity\": 1.614, \"order\": 5}, {\"adult\": false, \"gender\": 1, \"tmdb_id\": 219708, \"name\": \"Audrey Fleurot\", \"tmdb_popularity\": 5.294, \"order\": 6}, {\"adult\": false, \"gender\": 2, \"tmdb_id\": 219707, \"name\": \"Jacques Chambon\", \"tmdb_popularity\": 0.694, \"order\": 7}, {\"adult\": false, \"gender\": 2, \"tmdb_id\": 46280, \"name\": \"Antoine de Caunes\", \"tmdb_popularity\": 2.364, \"order\": 8}, {\"adult\": false, \"gender\": 2, \"tmdb_id\": 4275, \"name\": \"Alain Chabat\", \"tmdb_popularity\": 1.873, \"order\": 9}, {\"adult\": false, \"gender\": 2, \"tmdb_id\": 1372039, \"name\": \"Lo\\\\u00efc Varraut\", \"tmdb_popularity\": 0.6, \"order\": 10}, {\"adult\": false, \"gender\": 1, \"tmdb_id\": 1316265, \"name\": \"Jo\\\\u00eblle Sevilla\", \"tmdb_popularity\": 0.84, \"order\": 11}, {\"adult\": false, \"gender\": 2, \"tmdb_id\": 1913754, \"name\": \"Bruno Fontaine\", \"tmdb_popularity\": 0.6, \"order\": 12}, {\"adult\": false, \"gender\": 0, \"tmdb_id\": 1856314, \"name\": \"Jean-Robert Lombard\", \"tmdb_popularity\": 0.6, \"order\": 13}, {\"adult\": false, \"gender\": 2, \"tmdb_id\": 41031, \"name\": \"Fran\\\\u00e7ois Rollin\", \"tmdb_popularity\": 1.109, \"order\": 14}, {\"adult\": false, \"gender\": 1, \"tmdb_id\": 2214804, \"name\": \"Caroline Ferrus\", \"tmdb_popularity\": 0.6, \"order\": 15}, {\"adult\": false, \"gender\": 2, \"tmdb_id\": 1152669, \"name\": \"Guillaume Briat\", \"tmdb_popularity\": 0.6, \"order\": 16}, {\"adult\": false, \"gender\": 2, \"tmdb_id\": 219705, \"name\": \"Nicolas Gabion\", \"tmdb_popularity\": 0.98, \"order\": 17}, {\"adult\": false, \"gender\": 2, \"tmdb_id\": 28781, \"name\": \"Christian Clavier\", \"tmdb_popularity\": 4.909, \"order\": 18}, {\"adult\": false, \"gender\": 2, \"tmdb_id\": 77929, \"name\": \"Fran\\\\u00e7ois Morel\", \"tmdb_popularity\": 2.643, \"order\": 19}, {\"adult\": false, \"gender\": 2, \"tmdb_id\": 6554, \"name\": \"Guillaume Gallienne\", \"tmdb_popularity\": 1.668, \"order\": 20}, {\"adult\": false, \"gender\": 2, \"tmdb_id\": 24891, \"name\": \"Clovis Cornillac\", \"tmdb_popularity\": 1.596, \"order\": 21}, {\"adult\": false, \"gender\": 2, \"tmdb_id\": 982, \"name\": \"Sting\", \"tmdb_popularity\": 4.406, \"order\": 22}, {\"adult\": false, \"gender\": 0, \"tmdb_id\": 586758, \"name\": \"Marie-Christine Orry\", \"tmdb_popularity\": 1.38, \"order\": 23}, {\"adult\": false, \"gender\": 1, \"tmdb_id\": 1574596, \"name\": \"Jehnny Beth\", \"tmdb_popularity\": 0.6, \"order\": 24}, {\"adult\": false, \"gender\": 0, \"tmdb_id\": 587147, \"name\": \"Brice Fournier\", \"tmdb_popularity\": 0.675, \"order\": 26}, {\"adult\": false, \"gender\": 0, \"tmdb_id\": 225853, \"name\": \"Serge Papagalli\", \"tmdb_popularity\": 0.98, \"order\": 27}, {\"adult\": false, \"gender\": 2, \"tmdb_id\": 114953, \"name\": \"G\\\\u00e9raldine Nakache\", \"tmdb_popularity\": 0.958, \"order\": 28}, {\"adult\": false, \"gender\": 0, \"tmdb_id\": 2442062, \"name\": \"Gilles Graveleau\", \"tmdb_popularity\": 0.6, \"order\": 29}, {\"adult\": false, \"gender\": 0, \"tmdb_id\": 2837722, \"name\": \"St\\\\u00e9phane Margot\", \"tmdb_popularity\": 0.6, \"order\": 30}, {\"adult\": false, \"gender\": 2, \"tmdb_id\": 2442059, \"name\": \"Aur\\\\u00e9lien Portehaut\", \"tmdb_popularity\": 0.6, \"order\": 31}, {\"adult\": false, \"gender\": 2, \"tmdb_id\": 1536874, \"name\": \"Etienne Fague\", \"tmdb_popularity\": 0.6, \"order\": 32}, {\"adult\": false, \"gender\": 2, \"tmdb_id\": 134216, \"name\": \"Carlo Brandt\", \"tmdb_popularity\": 1.396, \"order\": 33}, {\"adult\": false, \"gender\": 2, \"tmdb_id\": 2625427, \"name\": \"Pascal Vincent\", \"tmdb_popularity\": 0.6, \"order\": 34}, {\"adult\": false, \"gender\": 1, \"tmdb_id\": 146491, \"name\": \"Valerie K\\\\u00e9ruzor\\\\u00e9\", \"tmdb_popularity\": 3.57, \"order\": 35}, {\"adult\": false, \"gender\": 0, \"tmdb_id\": 2475712, \"name\": \"Mehdi Rahim-Silvioli\", \"tmdb_popularity\": 0.6, \"order\": 36}, {\"adult\": false, \"gender\": 2, \"tmdb_id\": 1636467, \"name\": \"David Ayala\", \"tmdb_popularity\": 1.38, \"order\": 37}, {\"adult\": false, \"gender\": 0, \"tmdb_id\": 1090662, \"name\": \"Jean-charles Simon\", \"tmdb_popularity\": 0.6, \"order\": 38}, {\"adult\": false, \"gender\": 0, \"tmdb_id\": 2837723, \"name\": \"Lamari Amine\", \"tmdb_popularity\": 0.6, \"order\": 39}, {\"adult\": false, \"gender\": 0, \"tmdb_id\": 2837724, \"name\": \"H\\\\u00e9l\\\\u00e8ne Rudermann\", \"tmdb_popularity\": 0.6, \"order\": 40}, {\"adult\": false, \"gender\": 0, \"tmdb_id\": 2837725, \"name\": \"Yazan Al-Mashni\", \"tmdb_popularity\": 0.6, \"order\": 41}, {\"adult\": false, \"gender\": 0, \"tmdb_id\": 2837726, \"name\": \"Neil Astier\", \"tmdb_popularity\": 0.6, \"order\": 42}, {\"adult\": false, \"gender\": 0, \"tmdb_id\": 1865891, \"name\": \"Tigran Mekhitarian\", \"tmdb_popularity\": 0.6, \"order\": 43}, {\"adult\": false, \"gender\": 0, \"tmdb_id\": 2837727, \"name\": \"Oc\\\\u00e9ane Slim\", \"tmdb_popularity\": 0.6, \"order\": 44}, {\"adult\": false, \"gender\": 0, \"tmdb_id\": 2837728, \"name\": \"Antoine Bordes\", \"tmdb_popularity\": 0.6, \"order\": 45}], \"id\": 577242, \"query\": \"Kaamelott : Premier volet\", \"year\": 2021, \"first_week_sales\": null}')"
   ]
  },
  {
   "cell_type": "code",
   "execution_count": 95,
   "metadata": {},
   "outputs": [],
   "source": [
    "## register here to get an API key : https://developers.themoviedb.org/3/getting-started/introduction\n",
    "\n",
    "from lib.crawling.movie_features.tmdb.client import TMDbClient\n",
    "import os"
   ]
  },
  {
   "cell_type": "code",
   "execution_count": 119,
   "metadata": {},
   "outputs": [],
   "source": [
    "import dotenv"
   ]
  },
  {
   "cell_type": "code",
   "execution_count": 120,
   "metadata": {},
   "outputs": [
    {
     "data": {
      "text/plain": [
       "True"
      ]
     },
     "execution_count": 120,
     "metadata": {},
     "output_type": "execute_result"
    }
   ],
   "source": [
    "dotenv.load_dotenv(dotenv.find_dotenv())"
   ]
  },
  {
   "cell_type": "code",
   "execution_count": 97,
   "metadata": {},
   "outputs": [],
   "source": [
    "# if you didn't manage to do ```export TMDB_API_KEY='My API key'```, run the following cells\n",
    "## TMDB_API_KEY = 'My API key'\n",
    "## os.environ[\"TMDB_API_KEY\"] = TMDB_API_KEY"
   ]
  },
  {
   "cell_type": "code",
   "execution_count": null,
   "metadata": {},
   "outputs": [],
   "source": [
    "MOVIE_TITLE = \"Kaamelott : Premier volet\""
   ]
  },
  {
   "cell_type": "code",
   "execution_count": 23,
   "metadata": {},
   "outputs": [],
   "source": [
    "tmdb_client = TMDbClient()\n",
    "movie_card = tmdb_client.find_movie_features(MOVIE_TITLE)"
   ]
  },
  {
   "cell_type": "code",
   "execution_count": 24,
   "metadata": {},
   "outputs": [],
   "source": [
    "# If response is not null, write to results\n",
    "if movie_card:\n",
    "    movie_card['id'] = movie_card['tmdb_id']\n",
    "    movie_card['query'] = MOVIE_TITLE\n",
    "    movie_card[\"year\"] = int(movie_card['release_date'][:4])\n",
    "    movie_card[\"first_week_sales\"] = None"
   ]
  },
  {
   "cell_type": "code",
   "execution_count": 114,
   "metadata": {},
   "outputs": [],
   "source": [
    "def query_movie_data_from_title(title: str) -> dict:\n",
    "    tmdb_client = TMDbClient()\n",
    "    movie_card = tmdb_client.find_movie_features(title)\n",
    "    # If response is not null, write to results\n",
    "    if movie_card:\n",
    "        movie_card['id'] = movie_card['tmdb_id']\n",
    "        movie_card['query'] = title\n",
    "        movie_card[\"year\"] = int(movie_card['release_date'][:4])\n",
    "        movie_card[\"first_week_sales\"] = None\n",
    "    return movie_card"
   ]
  },
  {
   "cell_type": "code",
   "execution_count": 48,
   "metadata": {},
   "outputs": [],
   "source": [
    "#MOVIE_JSON_RESULT = json.dumps(movie_card)"
   ]
  },
  {
   "cell_type": "markdown",
   "metadata": {
    "heading_collapsed": true
   },
   "source": [
    "## B - Process data"
   ]
  },
  {
   "cell_type": "code",
   "execution_count": 17,
   "metadata": {
    "hidden": true
   },
   "outputs": [],
   "source": [
    "import pandas as pd\n",
    "from lib.preprocessing.load import get_dataset_from_api_res"
   ]
  },
  {
   "cell_type": "code",
   "execution_count": 43,
   "metadata": {
    "hidden": true
   },
   "outputs": [],
   "source": [
    "movie_data = get_dataset_from_api_res(movie_card)"
   ]
  },
  {
   "cell_type": "code",
   "execution_count": 44,
   "metadata": {
    "hidden": true
   },
   "outputs": [
    {
     "data": {
      "text/html": [
       "<div>\n",
       "<style scoped>\n",
       "    .dataframe tbody tr th:only-of-type {\n",
       "        vertical-align: middle;\n",
       "    }\n",
       "\n",
       "    .dataframe tbody tr th {\n",
       "        vertical-align: top;\n",
       "    }\n",
       "\n",
       "    .dataframe thead th {\n",
       "        text-align: right;\n",
       "    }\n",
       "</style>\n",
       "<table border=\"1\" class=\"dataframe\">\n",
       "  <thead>\n",
       "    <tr style=\"text-align: right;\">\n",
       "      <th></th>\n",
       "      <th>is_adult</th>\n",
       "      <th>is_part_of_collection</th>\n",
       "      <th>budget</th>\n",
       "      <th>genres</th>\n",
       "      <th>original_language</th>\n",
       "      <th>production_countries</th>\n",
       "      <th>languages</th>\n",
       "      <th>runtime</th>\n",
       "      <th>id</th>\n",
       "      <th>year</th>\n",
       "      <th>title</th>\n",
       "      <th>sales</th>\n",
       "      <th>release_date</th>\n",
       "    </tr>\n",
       "  </thead>\n",
       "  <tbody>\n",
       "    <tr>\n",
       "      <th>0</th>\n",
       "      <td>False</td>\n",
       "      <td>False</td>\n",
       "      <td>17516235</td>\n",
       "      <td>[Aventure, Comédie]</td>\n",
       "      <td>fr</td>\n",
       "      <td>[FR]</td>\n",
       "      <td>[fr]</td>\n",
       "      <td>0</td>\n",
       "      <td>577242</td>\n",
       "      <td>2021</td>\n",
       "      <td>Kaamelott : Premier volet</td>\n",
       "      <td>None</td>\n",
       "      <td>2021-07-21</td>\n",
       "    </tr>\n",
       "  </tbody>\n",
       "</table>\n",
       "</div>"
      ],
      "text/plain": [
       "   is_adult  is_part_of_collection    budget               genres  \\\n",
       "0     False                  False  17516235  [Aventure, Comédie]   \n",
       "\n",
       "  original_language production_countries languages  runtime      id  year  \\\n",
       "0                fr                 [FR]      [fr]        0  577242  2021   \n",
       "\n",
       "                       title sales release_date  \n",
       "0  Kaamelott : Premier volet  None   2021-07-21  "
      ]
     },
     "execution_count": 44,
     "metadata": {},
     "output_type": "execute_result"
    }
   ],
   "source": [
    "movie_data"
   ]
  },
  {
   "cell_type": "code",
   "execution_count": 45,
   "metadata": {
    "hidden": true,
    "scrolled": true
   },
   "outputs": [
    {
     "data": {
      "text/html": [
       "<div>\n",
       "<style scoped>\n",
       "    .dataframe tbody tr th:only-of-type {\n",
       "        vertical-align: middle;\n",
       "    }\n",
       "\n",
       "    .dataframe tbody tr th {\n",
       "        vertical-align: top;\n",
       "    }\n",
       "\n",
       "    .dataframe thead th {\n",
       "        text-align: right;\n",
       "    }\n",
       "</style>\n",
       "<table border=\"1\" class=\"dataframe\">\n",
       "  <thead>\n",
       "    <tr style=\"text-align: right;\">\n",
       "      <th></th>\n",
       "      <th>release_date</th>\n",
       "      <th>sales</th>\n",
       "      <th>is_part_of_collection</th>\n",
       "      <th>budget</th>\n",
       "      <th>runtime</th>\n",
       "      <th>original_lang_en</th>\n",
       "      <th>original_lang_es</th>\n",
       "      <th>original_lang_fr</th>\n",
       "      <th>original_lang_it</th>\n",
       "      <th>original_lang_ja</th>\n",
       "      <th>...</th>\n",
       "      <th>prod_GB</th>\n",
       "      <th>prod_OTHER</th>\n",
       "      <th>prod_US</th>\n",
       "      <th>vacances_zone_a</th>\n",
       "      <th>vacances_zone_b</th>\n",
       "      <th>vacances_zone_c</th>\n",
       "      <th>jour_ferie</th>\n",
       "      <th>holiday</th>\n",
       "      <th>month</th>\n",
       "      <th>cos_month</th>\n",
       "    </tr>\n",
       "  </thead>\n",
       "  <tbody>\n",
       "    <tr>\n",
       "      <th>0</th>\n",
       "      <td>2021-07-21</td>\n",
       "      <td>0</td>\n",
       "      <td>0</td>\n",
       "      <td>17516235.0</td>\n",
       "      <td>101.673672</td>\n",
       "      <td>0.0</td>\n",
       "      <td>0.0</td>\n",
       "      <td>0.0</td>\n",
       "      <td>0.0</td>\n",
       "      <td>0.0</td>\n",
       "      <td>...</td>\n",
       "      <td>0.0</td>\n",
       "      <td>0.0</td>\n",
       "      <td>0.0</td>\n",
       "      <td>1.0</td>\n",
       "      <td>1.0</td>\n",
       "      <td>1.0</td>\n",
       "      <td>0</td>\n",
       "      <td>3.0</td>\n",
       "      <td>7</td>\n",
       "      <td>-1.732051</td>\n",
       "    </tr>\n",
       "  </tbody>\n",
       "</table>\n",
       "<p>1 rows × 40 columns</p>\n",
       "</div>"
      ],
      "text/plain": [
       "  release_date  sales  is_part_of_collection      budget     runtime  \\\n",
       "0   2021-07-21      0                      0  17516235.0  101.673672   \n",
       "\n",
       "   original_lang_en  original_lang_es  original_lang_fr  original_lang_it  \\\n",
       "0               0.0               0.0               0.0               0.0   \n",
       "\n",
       "   original_lang_ja  ...  prod_GB  prod_OTHER  prod_US  vacances_zone_a  \\\n",
       "0               0.0  ...      0.0         0.0      0.0              1.0   \n",
       "\n",
       "   vacances_zone_b  vacances_zone_c  jour_ferie  holiday  month  cos_month  \n",
       "0              1.0              1.0           0      3.0      7  -1.732051  \n",
       "\n",
       "[1 rows x 40 columns]"
      ]
     },
     "execution_count": 45,
     "metadata": {},
     "output_type": "execute_result"
    }
   ],
   "source": [
    "# Apply feature engineering and pre-processing\n",
    "# the preprocessing code has been packaged in a function\n",
    "movie_data = encode_movie_data(movie_data, budget_median=BUDGET_MEDIAN, runtime_mean=RUNTIME_MEAN)\n",
    "movie_data.head()"
   ]
  },
  {
   "cell_type": "code",
   "execution_count": 46,
   "metadata": {
    "hidden": true
   },
   "outputs": [
    {
     "name": "stderr",
     "output_type": "stream",
     "text": [
      "2021-04-26 15:32:55.514 | INFO     | lib.preprocessing.preprocess:clean_data:7 - cleaning data..\n"
     ]
    }
   ],
   "source": [
    "data_clean = clean_data(movie_data, drop_2020=False)\n",
    "X, _ = get_x_y(data_clean)"
   ]
  },
  {
   "cell_type": "markdown",
   "metadata": {
    "heading_collapsed": true
   },
   "source": [
    "## C. Predict using the saved model"
   ]
  },
  {
   "cell_type": "code",
   "execution_count": 84,
   "metadata": {
    "hidden": true
   },
   "outputs": [],
   "source": [
    "import lightgbm as lgb\n",
    "\n",
    "model = lgb.Booster(model_file=LGBM_MODEL_FILEPATH)"
   ]
  },
  {
   "cell_type": "code",
   "execution_count": 85,
   "metadata": {
    "hidden": true
   },
   "outputs": [],
   "source": [
    "def predict(model, features, transformer=None):\n",
    "    predicted_target = model.predict(features)\n",
    "    if transformer:\n",
    "        predicted_target = transformer(predicted_target, forward=False)\n",
    "    return predicted_target"
   ]
  },
  {
   "cell_type": "code",
   "execution_count": 88,
   "metadata": {
    "hidden": true
   },
   "outputs": [],
   "source": [
    "predictions = predict(model, X, transformer=transform_target)"
   ]
  },
  {
   "cell_type": "code",
   "execution_count": 89,
   "metadata": {
    "hidden": true
   },
   "outputs": [
    {
     "data": {
      "text/plain": [
       "72623.28705647879"
      ]
     },
     "execution_count": 89,
     "metadata": {},
     "output_type": "execute_result"
    }
   ],
   "source": [
    "predictions[0]"
   ]
  },
  {
   "cell_type": "markdown",
   "metadata": {
    "heading_collapsed": true
   },
   "source": [
    "## D. Wrapping up: write the inference function"
   ]
  },
  {
   "cell_type": "code",
   "execution_count": 107,
   "metadata": {
    "hidden": true
   },
   "outputs": [],
   "source": [
    "def infer_from_movie_title(title: str) -> float:\n",
    "    movie_card = query_movie_data_from_title(title)\n",
    "    movie_data = get_dataset_from_api_res(movie_card)\n",
    "    movie_data = encode_movie_data(movie_data, budget_median=BUDGET_MEDIAN, runtime_mean=RUNTIME_MEAN)\n",
    "    data_clean = clean_data(movie_data, drop_2020=False)\n",
    "    X, _ = get_x_y(data_clean)\n",
    "    model = lgb.Booster(model_file=LGBM_MODEL_FILEPATH)\n",
    "    predictions = predict(model, X, transformer=transform_target)\n",
    "    return movie_card, predictions[0]"
   ]
  },
  {
   "cell_type": "code",
   "execution_count": 116,
   "metadata": {
    "hidden": true
   },
   "outputs": [
    {
     "name": "stderr",
     "output_type": "stream",
     "text": [
      "2021-04-26 16:01:27.535 | INFO     | lib.preprocessing.preprocess:clean_data:7 - cleaning data..\n"
     ]
    },
    {
     "name": "stdout",
     "output_type": "stream",
     "text": [
      "53121.10894798973\n"
     ]
    }
   ],
   "source": [
    "# chose a movie from here\n",
    "NEW_MOVIE = \"Nomadland\"\n",
    "movie_card, prediction = infer_from_movie_title(NEW_MOVIE)\n",
    "print(prediction)"
   ]
  },
  {
   "cell_type": "code",
   "execution_count": 117,
   "metadata": {
    "hidden": true
   },
   "outputs": [],
   "source": [
    "from pprint import pprint"
   ]
  },
  {
   "cell_type": "code",
   "execution_count": 118,
   "metadata": {
    "hidden": true
   },
   "outputs": [
    {
     "name": "stdout",
     "output_type": "stream",
     "text": [
      "{'adult': False,\n",
      " 'belongs_to_collection': {},\n",
      " 'budget': 5000000,\n",
      " 'cast': [{'adult': False,\n",
      "           'gender': 1,\n",
      "           'name': 'Frances McDormand',\n",
      "           'order': 0,\n",
      "           'tmdb_id': 3910,\n",
      "           'tmdb_popularity': 12.053},\n",
      "          {'adult': False,\n",
      "           'gender': 2,\n",
      "           'name': 'David Strathairn',\n",
      "           'order': 1,\n",
      "           'tmdb_id': 11064,\n",
      "           'tmdb_popularity': 6.894},\n",
      "          {'adult': False,\n",
      "           'gender': 1,\n",
      "           'name': 'Linda May',\n",
      "           'order': 2,\n",
      "           'tmdb_id': 2241214,\n",
      "           'tmdb_popularity': 1.417},\n",
      "          {'adult': False,\n",
      "           'gender': 1,\n",
      "           'name': 'Swankie',\n",
      "           'order': 3,\n",
      "           'tmdb_id': 2776341,\n",
      "           'tmdb_popularity': 1.473},\n",
      "          {'adult': False,\n",
      "           'gender': 0,\n",
      "           'name': 'Gay DeForest',\n",
      "           'order': 4,\n",
      "           'tmdb_id': 2786070,\n",
      "           'tmdb_popularity': 1.411},\n",
      "          {'adult': False,\n",
      "           'gender': 0,\n",
      "           'name': 'Patricia Grier',\n",
      "           'order': 5,\n",
      "           'tmdb_id': 2786072,\n",
      "           'tmdb_popularity': 1.4},\n",
      "          {'adult': False,\n",
      "           'gender': 0,\n",
      "           'name': 'Angela Reyes',\n",
      "           'order': 6,\n",
      "           'tmdb_id': 2786074,\n",
      "           'tmdb_popularity': 1.38},\n",
      "          {'adult': False,\n",
      "           'gender': 0,\n",
      "           'name': 'Carl R. Hughes',\n",
      "           'order': 7,\n",
      "           'tmdb_id': 2786076,\n",
      "           'tmdb_popularity': 1.4},\n",
      "          {'adult': False,\n",
      "           'gender': 0,\n",
      "           'name': 'Douglas G. Soul',\n",
      "           'order': 8,\n",
      "           'tmdb_id': 2786077,\n",
      "           'tmdb_popularity': 1.4},\n",
      "          {'adult': False,\n",
      "           'gender': 0,\n",
      "           'name': 'Ryan Aquino',\n",
      "           'order': 9,\n",
      "           'tmdb_id': 2786078,\n",
      "           'tmdb_popularity': 0.98},\n",
      "          {'adult': False,\n",
      "           'gender': 0,\n",
      "           'name': 'Teresa Buchanan',\n",
      "           'order': 10,\n",
      "           'tmdb_id': 2786080,\n",
      "           'tmdb_popularity': 0.98},\n",
      "          {'adult': False,\n",
      "           'gender': 0,\n",
      "           'name': 'Karie Lynn McDermott Wilder',\n",
      "           'order': 11,\n",
      "           'tmdb_id': 2786081,\n",
      "           'tmdb_popularity': 0.98},\n",
      "          {'adult': False,\n",
      "           'gender': 0,\n",
      "           'name': 'Brandy Wilber',\n",
      "           'order': 12,\n",
      "           'tmdb_id': 2786082,\n",
      "           'tmdb_popularity': 0.98},\n",
      "          {'adult': False,\n",
      "           'gender': 0,\n",
      "           'name': 'Makenzie Etcheverry',\n",
      "           'order': 13,\n",
      "           'tmdb_id': 2786084,\n",
      "           'tmdb_popularity': 0.98},\n",
      "          {'adult': False,\n",
      "           'gender': 2,\n",
      "           'name': 'Bob Wells',\n",
      "           'order': 14,\n",
      "           'tmdb_id': 2724256,\n",
      "           'tmdb_popularity': 0.98},\n",
      "          {'adult': False,\n",
      "           'gender': 1,\n",
      "           'name': 'Annette Webb',\n",
      "           'order': 15,\n",
      "           'tmdb_id': 2786086,\n",
      "           'tmdb_popularity': 0.98},\n",
      "          {'adult': False,\n",
      "           'gender': 0,\n",
      "           'name': 'Rachel Bannon',\n",
      "           'order': 16,\n",
      "           'tmdb_id': 2786087,\n",
      "           'tmdb_popularity': 0.98},\n",
      "          {'adult': False,\n",
      "           'gender': 0,\n",
      "           'name': 'Bryce Bedsworth',\n",
      "           'order': 17,\n",
      "           'tmdb_id': 2922241,\n",
      "           'tmdb_popularity': 0.98},\n",
      "          {'adult': False,\n",
      "           'gender': 0,\n",
      "           'name': 'Sherita Deni Coker',\n",
      "           'order': 18,\n",
      "           'tmdb_id': 2922242,\n",
      "           'tmdb_popularity': 1.094},\n",
      "          {'adult': False,\n",
      "           'gender': 0,\n",
      "           'name': 'Merle Redwing',\n",
      "           'order': 19,\n",
      "           'tmdb_id': 2922243,\n",
      "           'tmdb_popularity': 1.38},\n",
      "          {'adult': False,\n",
      "           'gender': 0,\n",
      "           'name': 'Forrest Bault',\n",
      "           'order': 20,\n",
      "           'tmdb_id': 2922244,\n",
      "           'tmdb_popularity': 0.98},\n",
      "          {'adult': False,\n",
      "           'gender': 0,\n",
      "           'name': 'Suanne Carlson',\n",
      "           'order': 21,\n",
      "           'tmdb_id': 2922249,\n",
      "           'tmdb_popularity': 0.98},\n",
      "          {'adult': False,\n",
      "           'gender': 0,\n",
      "           'name': 'Donnie Miller',\n",
      "           'order': 22,\n",
      "           'tmdb_id': 2922250,\n",
      "           'tmdb_popularity': 0.98},\n",
      "          {'adult': False,\n",
      "           'gender': 0,\n",
      "           'name': 'Roxanne Bay',\n",
      "           'order': 23,\n",
      "           'tmdb_id': 2922251,\n",
      "           'tmdb_popularity': 0.98},\n",
      "          {'adult': False,\n",
      "           'gender': 0,\n",
      "           'name': 'Matt Sfaelos',\n",
      "           'order': 24,\n",
      "           'tmdb_id': 2922252,\n",
      "           'tmdb_popularity': 0.98},\n",
      "          {'adult': False,\n",
      "           'gender': 0,\n",
      "           'name': 'Ronald O. Zimmerman',\n",
      "           'order': 25,\n",
      "           'tmdb_id': 2922253,\n",
      "           'tmdb_popularity': 0.98},\n",
      "          {'adult': False,\n",
      "           'gender': 0,\n",
      "           'name': 'Derek Endres',\n",
      "           'order': 26,\n",
      "           'tmdb_id': 2776344,\n",
      "           'tmdb_popularity': 1.4},\n",
      "          {'adult': False,\n",
      "           'gender': 0,\n",
      "           'name': 'Paige Dean',\n",
      "           'order': 27,\n",
      "           'tmdb_id': 2922254,\n",
      "           'tmdb_popularity': 0.98},\n",
      "          {'adult': False,\n",
      "           'gender': 0,\n",
      "           'name': 'Paul Winer',\n",
      "           'order': 28,\n",
      "           'tmdb_id': 2922255,\n",
      "           'tmdb_popularity': 0.98},\n",
      "          {'adult': False,\n",
      "           'gender': 0,\n",
      "           'name': 'Derrick Janis',\n",
      "           'order': 29,\n",
      "           'tmdb_id': 1800467,\n",
      "           'tmdb_popularity': 1.38},\n",
      "          {'adult': False,\n",
      "           'gender': 0,\n",
      "           'name': 'Greg Barber',\n",
      "           'order': 30,\n",
      "           'tmdb_id': 2100873,\n",
      "           'tmdb_popularity': 0.98},\n",
      "          {'adult': False,\n",
      "           'gender': 0,\n",
      "           'name': 'Carol Anne Hodge',\n",
      "           'order': 31,\n",
      "           'tmdb_id': 2922256,\n",
      "           'tmdb_popularity': 0.98},\n",
      "          {'adult': False,\n",
      "           'gender': 0,\n",
      "           'name': 'Matthew Stinson',\n",
      "           'order': 32,\n",
      "           'tmdb_id': 2922257,\n",
      "           'tmdb_popularity': 0.98},\n",
      "          {'adult': False,\n",
      "           'gender': 0,\n",
      "           'name': 'Terry Phillip',\n",
      "           'order': 33,\n",
      "           'tmdb_id': 2922258,\n",
      "           'tmdb_popularity': 0.98},\n",
      "          {'adult': False,\n",
      "           'gender': 0,\n",
      "           'name': 'Bradford Lee Riza',\n",
      "           'order': 34,\n",
      "           'tmdb_id': 2922259,\n",
      "           'tmdb_popularity': 0.98},\n",
      "          {'adult': False,\n",
      "           'gender': 0,\n",
      "           'name': 'Tay Strathairn',\n",
      "           'order': 35,\n",
      "           'tmdb_id': 2294533,\n",
      "           'tmdb_popularity': 1.38},\n",
      "          {'adult': False,\n",
      "           'gender': 0,\n",
      "           'name': 'Cat Clifford',\n",
      "           'order': 36,\n",
      "           'tmdb_id': 1800460,\n",
      "           'tmdb_popularity': 0.98},\n",
      "          {'adult': False,\n",
      "           'gender': 0,\n",
      "           'name': 'James R. Taylor, Jr.',\n",
      "           'order': 37,\n",
      "           'tmdb_id': 2922260,\n",
      "           'tmdb_popularity': 0.98},\n",
      "          {'adult': False,\n",
      "           'gender': 0,\n",
      "           'name': 'Jeremy Greenman',\n",
      "           'order': 38,\n",
      "           'tmdb_id': 2922261,\n",
      "           'tmdb_popularity': 0.98},\n",
      "          {'adult': False,\n",
      "           'gender': 0,\n",
      "           'name': 'Ken Greenman',\n",
      "           'order': 39,\n",
      "           'tmdb_id': 2922262,\n",
      "           'tmdb_popularity': 0.98},\n",
      "          {'adult': False,\n",
      "           'gender': 0,\n",
      "           'name': 'Melissa Smith',\n",
      "           'order': 40,\n",
      "           'tmdb_id': 2922263,\n",
      "           'tmdb_popularity': 1.38},\n",
      "          {'adult': False,\n",
      "           'gender': 0,\n",
      "           'name': 'Warren Keith',\n",
      "           'order': 41,\n",
      "           'tmdb_id': 2922264,\n",
      "           'tmdb_popularity': 0.98},\n",
      "          {'adult': False,\n",
      "           'gender': 0,\n",
      "           'name': 'Jeff Andrews',\n",
      "           'order': 42,\n",
      "           'tmdb_id': 2922265,\n",
      "           'tmdb_popularity': 0.98},\n",
      "          {'adult': False,\n",
      "           'gender': 0,\n",
      "           'name': 'Paul Cunningham',\n",
      "           'order': 43,\n",
      "           'tmdb_id': 2922266,\n",
      "           'tmdb_popularity': 0.98},\n",
      "          {'adult': False,\n",
      "           'gender': 1,\n",
      "           'name': 'Emily Foley',\n",
      "           'order': 44,\n",
      "           'tmdb_id': 1950611,\n",
      "           'tmdb_popularity': 0.98},\n",
      "          {'adult': False,\n",
      "           'gender': 0,\n",
      "           'name': 'Mike Sells',\n",
      "           'order': 45,\n",
      "           'tmdb_id': 2922267,\n",
      "           'tmdb_popularity': 0.98},\n",
      "          {'adult': False,\n",
      "           'gender': 2,\n",
      "           'name': 'Peter Spears',\n",
      "           'order': 46,\n",
      "           'tmdb_id': 156483,\n",
      "           'tmdb_popularity': 1.4},\n",
      "          {'adult': False,\n",
      "           'gender': 0,\n",
      "           'name': 'Cheryl Davis',\n",
      "           'order': 47,\n",
      "           'tmdb_id': 586183,\n",
      "           'tmdb_popularity': 0.98}],\n",
      " 'first_week_sales': None,\n",
      " 'genres': [{'id': 18, 'name': 'Drame'}, {'id': 37, 'name': 'Western'}],\n",
      " 'id': 581734,\n",
      " 'imdb_id': 'tt9770150',\n",
      " 'languages': [{'iso_code': 'en', 'name': 'English'}],\n",
      " 'original_language': 'en',\n",
      " 'original_title': 'Nomadland',\n",
      " 'overview': 'Après avoir tout perdu pendant la Grande Récession, une '\n",
      "             \"sexagénaire se lance dans un voyage à travers l'Ouest américain, \"\n",
      "             'vivant comme un nomade des temps modernes.',\n",
      " 'production_companies': [{'id': 114776,\n",
      "                           'name': 'Cor Cordium Productions',\n",
      "                           'origin_country': 'US'},\n",
      "                          {'id': 114777,\n",
      "                           'name': 'Hear/Say Productions',\n",
      "                           'origin_country': 'US'},\n",
      "                          {'id': 96168,\n",
      "                           'name': 'Highwayman Films',\n",
      "                           'origin_country': 'US'}],\n",
      " 'production_countries': [{'iso_code': 'US',\n",
      "                           'name': 'United States of America'}],\n",
      " 'query': 'Nomadland',\n",
      " 'release_date': '2021-01-29',\n",
      " 'revenue': 0,\n",
      " 'runtime': 108,\n",
      " 'status': 'Released',\n",
      " 'tagline': 'Rendez-vous sur la route.',\n",
      " 'title': 'Nomadland',\n",
      " 'tmdb_id': 581734,\n",
      " 'tmdb_popularity': 365.372,\n",
      " 'tmdb_vote_average': 7.5,\n",
      " 'tmdb_vote_count': 601,\n",
      " 'year': 2021}\n"
     ]
    }
   ],
   "source": [
    "pprint(movie_card)"
   ]
  },
  {
   "cell_type": "markdown",
   "metadata": {},
   "source": [
    "# 3. Create the service that make prediction"
   ]
  },
  {
   "cell_type": "markdown",
   "metadata": {},
   "source": [
    "To run the server"
   ]
  },
  {
   "cell_type": "markdown",
   "metadata": {},
   "source": [
    "# 4. Make a requests agaist the API server and build an UI client"
   ]
  },
  {
   "cell_type": "code",
   "execution_count": 41,
   "metadata": {},
   "outputs": [],
   "source": [
    "import requests\n",
    "import json"
   ]
  },
  {
   "cell_type": "code",
   "execution_count": 61,
   "metadata": {},
   "outputs": [],
   "source": [
    "res = requests.post('http://0.0.0.0:8080/predict', json={'user': 'john'})"
   ]
  },
  {
   "cell_type": "code",
   "execution_count": 62,
   "metadata": {},
   "outputs": [
    {
     "data": {
      "text/plain": [
       "b'\"hello john\"'"
      ]
     },
     "execution_count": 62,
     "metadata": {},
     "output_type": "execute_result"
    }
   ],
   "source": [
    "res.content"
   ]
  }
 ],
 "metadata": {
  "kernelspec": {
   "display_name": "french_box_office (py37)",
   "language": "python",
   "name": "french_box_office"
  },
  "language_info": {
   "codemirror_mode": {
    "name": "ipython",
    "version": 3
   },
   "file_extension": ".py",
   "mimetype": "text/x-python",
   "name": "python",
   "nbconvert_exporter": "python",
   "pygments_lexer": "ipython3",
   "version": "3.7.9"
  }
 },
 "nbformat": 4,
 "nbformat_minor": 4
}
