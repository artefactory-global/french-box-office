{
 "cells": [
  {
   "cell_type": "markdown",
   "metadata": {},
   "source": [
    "<table><tr>\n",
    "<td> <img src=\"https://upload.wikimedia.org/wikipedia/fr/thumb/e/e5/Logo_%C3%A9cole_des_ponts_paristech.svg/676px-Logo_%C3%A9cole_des_ponts_paristech.svg.png\" width=\"200\"  height=\"200\" hspace=\"200\"/> </td>\n",
    "<td> <img src=\"https://pbs.twimg.com/profile_images/1156541928193896448/5ihYIbCQ_200x200.png\" width=\"200\" height=\"200\" /> </td>\n",
    "</tr></table>\n",
    "\n",
    "<br/>\n",
    "\n",
    "<h1><center>Session 11 - Models lifecycle and production deployment</center></h1>\n",
    "\n",
    "\n",
    "\n",
    "<font size=\"3\">This session is divided into **2** parts:\n",
    "- **Code packaging**\n",
    "- **Testing**\n",
    "\n",
    "In each of these parts, some **guidelines** and **hints** are given for each task. \n",
    "Do not hesitate to check the links to documentation to understand the functions you use. \n",
    "    \n",
    "The goal of this session is to **package your code** you used during the development phase and to implement a few tests on the data before infering on new data\n",
    "</font>"
   ]
  },
  {
   "cell_type": "code",
   "execution_count": 1,
   "metadata": {},
   "outputs": [],
   "source": [
    "ROOT_DIRPATH = '/Users/yaguethiam/Ponts/french-box-office/notebooks/session11/solution'"
   ]
  },
  {
   "cell_type": "code",
   "execution_count": 2,
   "metadata": {},
   "outputs": [],
   "source": [
    "from pathlib import Path\n",
    "import sys\n",
    "sys.path.append(ROOT_DIRPATH)# set the path to where you put the folder of your package"
   ]
  },
  {
   "cell_type": "code",
   "execution_count": 3,
   "metadata": {},
   "outputs": [],
   "source": [
    "#this is called a magic in jupyter notebook, it is helpful when you add code to your scripts \n",
    "#while using this notebook to test them because you wont need to restart the kernel everytime you change a function\n",
    "%load_ext autoreload\n",
    "%autoreload 2"
   ]
  },
  {
   "cell_type": "code",
   "execution_count": null,
   "metadata": {},
   "outputs": [],
   "source": [
    "#install loguru if you dont already have it"
   ]
  },
  {
   "cell_type": "code",
   "execution_count": 38,
   "metadata": {
    "scrolled": true
   },
   "outputs": [
    {
     "name": "stdout",
     "output_type": "stream",
     "text": [
      "Collecting loguru\n",
      "  Downloading loguru-0.5.3-py3-none-any.whl (57 kB)\n",
      "\u001b[K     |████████████████████████████████| 57 kB 5.4 MB/s eta 0:00:011\n",
      "\u001b[?25hInstalling collected packages: loguru\n",
      "Successfully installed loguru-0.5.3\n"
     ]
    }
   ],
   "source": [
    "!pip install loguru"
   ]
  },
  {
   "cell_type": "markdown",
   "metadata": {},
   "source": [
    "### Train model flow"
   ]
  },
  {
   "cell_type": "code",
   "execution_count": 6,
   "metadata": {},
   "outputs": [],
   "source": [
    "from bin.train import training_workflow"
   ]
  },
  {
   "cell_type": "code",
   "execution_count": 7,
   "metadata": {},
   "outputs": [
    {
     "name": "stderr",
     "output_type": "stream",
     "text": [
      "2021-05-10 10:03:26.036 | INFO     | lib.utils:load_dataset:6 - loading raw data /Users/yaguethiam/Ponts/french-box-office/notebooks/session11/solution/data/processed_dataset.csv...\n",
      "2021-05-10 10:03:26.126 | INFO     | lib.modelling.preprocessing:clean_data:7 - cleaning data..\n",
      "2021-05-10 10:03:26.165 | INFO     | bin.train:training_workflow:35 - Training LightGBM using hyper-parameters: {'max_depth': 70, 'n_estimators': 80, 'num_leaves': 31}\n",
      "2021-05-10 10:03:26.166 | INFO     | lib.modelling.training:train:7 - start fitting a <class 'lightgbm.sklearn.LGBMRegressor'>...\n",
      "2021-05-10 10:03:26.387 | INFO     | lib.modelling.training:train:13 - {'mape': 187.99827186360915, 'rmse': 234171.0957984909, 'mae': 102878.43197478513}\n",
      "2021-05-10 10:03:26.389 | INFO     | bin.train:training_workflow:38 - Evaluate on validation set ...\n",
      "2021-05-10 10:03:26.404 | INFO     | lib.modelling.evaluate:evaluate:33 - {'mape': 376.8063413834246, 'rmse': 238484.95219472746, 'mae': 103569.43339518228}\n",
      "2021-05-10 10:03:26.421 | INFO     | lib.modelling.training:save_model:27 - Model saved to /Users/yaguethiam/Ponts/french-box-office/notebooks/session11/solution/models/light_gbm_model.txt\n"
     ]
    }
   ],
   "source": [
    "training_workflow()"
   ]
  },
  {
   "cell_type": "markdown",
   "metadata": {},
   "source": [
    "### Test input data"
   ]
  },
  {
   "cell_type": "code",
   "execution_count": 8,
   "metadata": {},
   "outputs": [],
   "source": [
    "test_data_1 = Path(ROOT_DIRPATH, 'data/test_data/infer_data_1.csv')\n",
    "test_data_2 = Path(ROOT_DIRPATH, 'data/test_data/infer_data_2.csv')\n",
    "test_data_3 = Path(ROOT_DIRPATH, 'data/test_data/infer_data_3.csv')"
   ]
  },
  {
   "cell_type": "code",
   "execution_count": 9,
   "metadata": {},
   "outputs": [],
   "source": [
    "from bin.test_data import run_test_data"
   ]
  },
  {
   "cell_type": "code",
   "execution_count": 10,
   "metadata": {},
   "outputs": [
    {
     "name": "stderr",
     "output_type": "stream",
     "text": [
      "2021-05-10 10:03:30.151 | INFO     | lib.utils:get_features_list:12 - getting features list...\n",
      "2021-05-10 10:03:30.152 | INFO     | bin.test_data:run_test_data:24 - Testing features list: failed :( \n",
      "2021-05-10 10:03:30.153 | INFO     | bin.test_data:run_test_data:30 - Testing runtime is positive: failed :( \n"
     ]
    }
   ],
   "source": [
    "run_test_data(test_data_1)"
   ]
  },
  {
   "cell_type": "code",
   "execution_count": 11,
   "metadata": {},
   "outputs": [
    {
     "name": "stderr",
     "output_type": "stream",
     "text": [
      "2021-05-10 10:03:30.600 | INFO     | lib.utils:get_features_list:12 - getting features list...\n",
      "2021-05-10 10:03:30.601 | INFO     | bin.test_data:run_test_data:22 - Testing features list: passed :) \n",
      "2021-05-10 10:03:30.602 | INFO     | bin.test_data:run_test_data:28 - Testing runtime is positive: passed :) \n"
     ]
    }
   ],
   "source": [
    "run_test_data(test_data_2)"
   ]
  },
  {
   "cell_type": "code",
   "execution_count": 12,
   "metadata": {},
   "outputs": [
    {
     "name": "stderr",
     "output_type": "stream",
     "text": [
      "2021-05-10 10:03:31.038 | INFO     | lib.utils:get_features_list:12 - getting features list...\n",
      "2021-05-10 10:03:31.038 | INFO     | bin.test_data:run_test_data:22 - Testing features list: passed :) \n",
      "2021-05-10 10:03:31.040 | INFO     | bin.test_data:run_test_data:30 - Testing runtime is positive: failed :( \n"
     ]
    }
   ],
   "source": [
    "run_test_data(test_data_3)"
   ]
  },
  {
   "cell_type": "markdown",
   "metadata": {},
   "source": [
    "### Infer on new data"
   ]
  },
  {
   "cell_type": "code",
   "execution_count": 13,
   "metadata": {},
   "outputs": [],
   "source": [
    "from bin.inference import inference_workflow"
   ]
  },
  {
   "cell_type": "code",
   "execution_count": 14,
   "metadata": {},
   "outputs": [
    {
     "name": "stderr",
     "output_type": "stream",
     "text": [
      "2021-05-10 10:03:33.431 | INFO     | lib.utils:load_dataset:6 - loading raw data /Users/yaguethiam/Ponts/french-box-office/notebooks/session11/solution/data/test_data/infer_data_2.csv...\n",
      "2021-05-10 10:03:33.444 | INFO     | lib.modelling.preprocessing:clean_data:7 - cleaning data..\n",
      "2021-05-10 10:03:33.478 | INFO     | lib.modelling.training:predict:18 - Predicting on new data..\n",
      "2021-05-10 10:03:33.485 | INFO     | bin.inference:inference_workflow:21 - [18352.696331886153, 140055.48003604222, 21536.425616237488, 213357.1488319803, 120928.36250857462, 88816.20415419793, 31823.370492814014, 27189.249221504026, 167962.0402494937, 200300.18352043463]\n",
      "2021-05-10 10:03:33.488 | INFO     | lib.utils:save_results:17 - Saving predictions in /Users/yaguethiam/Ponts/french-box-office/notebooks/session11/solution/data/test_data/prediction_infer_data_2.csv ...\n"
     ]
    }
   ],
   "source": [
    "inference_workflow(str(Path(ROOT_DIRPATH,'data/test_data/infer_data_2.csv')))"
   ]
  },
  {
   "cell_type": "code",
   "execution_count": null,
   "metadata": {},
   "outputs": [],
   "source": []
  }
 ],
 "metadata": {
  "kernelspec": {
   "display_name": "Python 3",
   "language": "python",
   "name": "python3"
  },
  "language_info": {
   "codemirror_mode": {
    "name": "ipython",
    "version": 3
   },
   "file_extension": ".py",
   "mimetype": "text/x-python",
   "name": "python",
   "nbconvert_exporter": "python",
   "pygments_lexer": "ipython3",
   "version": "3.8.5"
  }
 },
 "nbformat": 4,
 "nbformat_minor": 4
}
