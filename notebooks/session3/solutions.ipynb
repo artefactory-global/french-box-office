{
 "metadata": {
  "language_info": {
   "codemirror_mode": {
    "name": "ipython",
    "version": 3
   },
   "file_extension": ".py",
   "mimetype": "text/x-python",
   "name": "python",
   "nbconvert_exporter": "python",
   "pygments_lexer": "ipython3",
   "version": "3.7.4-final"
  },
  "orig_nbformat": 2,
  "kernelspec": {
   "name": "python3",
   "display_name": "Python 3.7.4 64-bit ('base': conda)",
   "metadata": {
    "interpreter": {
     "hash": "1de66b342c56008ba304535e5db416a3b5383aa6adc960cb9fb432a74dfb9f5b"
    }
   }
  }
 },
 "nbformat": 4,
 "nbformat_minor": 2,
 "cells": [
  {
   "source": [
    "<table><tr>\n",
    "<td> <img src=\"https://upload.wikimedia.org/wikipedia/fr/thumb/e/e5/Logo_%C3%A9cole_des_ponts_paristech.svg/676px-Logo_%C3%A9cole_des_ponts_paristech.svg.png\" width=\"200\"  height=\"200\" hspace=\"200\"/> </td>\n",
    "<td> <img src=\"https://pbs.twimg.com/profile_images/1156541928193896448/5ihYIbCQ_200x200.png\" width=\"200\" height=\"200\" /> </td>\n",
    "</tr></table>\n",
    "\n",
    "<br/><br/><br/><br/>\n",
    "\n",
    "<h1><center>Session 3 - Data Sourcing</center></h1>\n",
    "\n",
    "<font size=\"3\">\n",
    "The goal of this session is to get and consolidate the data we need for our \"first week\" boxoffice prediction project. We will:\n",
    "\n",
    "- first read sales data provided by one of our company department\n",
    "- then look for additional data to complete our understanding of the movies involved\n",
    "- finally consolidate all the data into a single database\n",
    "\n",
    "</font>"
   ],
   "cell_type": "markdown",
   "metadata": {}
  },
  {
   "source": [
    "# 1 - Movies and their first week boxoffice\n",
    "\n",
    "The market study service from your company has shared with you a list of french movies released during the last 5 years, with their boxoffice results. The file is available through a Gdrive [link](https://drive.google.com/file/d/1Pxs-C6l47wjWfBvsuQxJePlY1AjFBC5R/view?usp=sharing)."
   ],
   "cell_type": "markdown",
   "metadata": {}
  },
  {
   "source": [
    "### 1-1. Download the file\n",
    "\n",
    "What kind of file format it is? \n",
    "Are the data included a priori easy to understand? \n",
    "Would you need further documentation to grasp their meaning?\n",
    "What are the advantages and drawbacks of using these kinds of file and format?\n",
    "What data do you need additionnally for your project?"
   ],
   "cell_type": "markdown",
   "metadata": {}
  },
  {
   "source": [
    "> It is a json file. A priori the data is quite easy to understand and we get the order of magnitudes (number of theaters entries). There should not need for further documentation. \n",
    "\n",
    "> The json format helps dealing with less structured data, or at least hierarchichal data, while a csv file would have had a hard time representing nested dictionaries. This file is also static, so it will be costly to refresh if we decide to automate the boxoffice prediction.\n",
    "\n",
    "> There is not so much information except an idea, the year, the sales and the movie title. Our algorithm would benefit from additional information (cast, genre, budget, duration, language, production country...)\n"
   ],
   "cell_type": "markdown",
   "metadata": {}
  },
  {
   "source": [
    "### 1-2 Put the file in a proper location\n",
    "\n",
    "Ideally, where would you like to place it?\n",
    "Should you use `git`, would you push this file to remote? If not, how do you properly avoid to do it?"
   ],
   "cell_type": "markdown",
   "metadata": {}
  },
  {
   "source": [
    "> We should put this file in a data folder in our repository. It is not that big but it is usually not recommended to version data files in git as the diff & conflict resolution algorithm may have a hard time finding and solving conflicts. To avoid versionning it, we can use a .gitignore file."
   ],
   "cell_type": "markdown",
   "metadata": {}
  },
  {
   "source": [
    "### 1-3. Open the file\n",
    "\n",
    "How do you open `.json` files?\n",
    "Write a simple function which will open any json file located at a `path` given as argument and return back the file content. Test it on our file. How can you verify it worked?\n"
   ],
   "cell_type": "markdown",
   "metadata": {}
  },
  {
   "cell_type": "code",
   "execution_count": 3,
   "metadata": {},
   "outputs": [],
   "source": [
    "import json \n",
    "from typing import Union\n",
    "\n",
    "def read_from_json(path: str) -> Union[dict, list]:\n",
    "    '''\n",
    "    Read and cast a json into a python object\n",
    "    \n",
    "    Parameters\n",
    "    ----------\n",
    "    path: str\n",
    "        Path to json file\n",
    "\n",
    "    Returns\n",
    "    -------\n",
    "    data: Union[dict, list]\n",
    "        Json casted as python object\n",
    "    '''\n",
    "    with open(path, 'r') as infile:\n",
    "        data = json.load(infile)\n",
    "    return data"
   ]
  },
  {
   "cell_type": "code",
   "execution_count": 4,
   "metadata": {},
   "outputs": [
    {
     "output_type": "stream",
     "name": "stdout",
     "text": [
      "[{'first_day_sales': 630478,\n  'first_screening_sales': None,\n  'first_week_sales': 3252896,\n  'first_weekend_sales': 2559370,\n  'id': '17528',\n  'max_theaters_used': 820,\n  'rank': '1',\n  'release_date': '2019-07-17',\n  'title': 'Le Roi Lion (2019)',\n  'total_sales': 10017995,\n  'year': 2019},\n {'first_day_sales': 66164,\n  'first_screening_sales': None,\n  'first_week_sales': 786485,\n  'first_weekend_sales': 548537,\n  'id': '19073',\n  'max_theaters_used': 575,\n  'rank': '13',\n  'release_date': '2019-10-16',\n  'title': 'Maléfique : Le Pouvoir du Mal',\n  'total_sales': 2718604,\n  'year': 2019},\n {'first_day_sales': 370691,\n  'first_screening_sales': None,\n  'first_week_sales': 1261701,\n  'first_weekend_sales': 1056143,\n  'id': '18875',\n  'max_theaters_used': 757,\n  'rank': '12',\n  'release_date': '2019-05-01',\n  'title': 'Nous finirons ensemble',\n  'total_sales': 2800004,\n  'year': 2019},\n {'first_day_sales': 453503,\n  'first_screening_sales': None,\n  'first_week_sales': 1370178,\n  'first_weekend_sales': 1109050,\n  'id': '18243',\n  'max_theaters_used': 833,\n  'rank': '11',\n  'release_date': '2019-07-03',\n  'title': 'Spider-Man: Far from Home',\n  'total_sales': 3226105,\n  'year': 2019},\n {'first_day_sales': 103369,\n  'first_screening_sales': None,\n  'first_week_sales': 785636,\n  'first_weekend_sales': 713189,\n  'id': '18258',\n  'max_theaters_used': 676,\n  'rank': '10',\n  'release_date': '2019-12-04',\n  'title': 'Jumanji: next level',\n  'total_sales': 3255668,\n  'year': 2019},\n {'first_day_sales': 300542,\n  'first_screening_sales': None,\n  'first_week_sales': 1224811,\n  'first_weekend_sales': 1020715,\n  'id': '18167',\n  'max_theaters_used': 744,\n  'rank': '9',\n  'release_date': '2019-02-06',\n  'title': 'Dragons 3 : Le monde caché',\n  'total_sales': 3367445,\n  'year': 2019},\n {'first_day_sales': 212199,\n  'first_screening_sales': None,\n  'first_week_sales': 1254628,\n  'first_weekend_sales': 1125726,\n  'id': '18563',\n  'max_theaters_used': 611,\n  'rank': '8',\n  'release_date': '2019-03-06',\n  'title': 'Captain Marvel',\n  'total_sales': 3374568,\n  'year': 2019},\n {'first_day_sales': 306462,\n  'first_screening_sales': None,\n  'first_week_sales': 1505679,\n  'first_weekend_sales': 1100058,\n  'id': '15289',\n  'max_theaters_used': 844,\n  'rank': '7',\n  'release_date': '2019-06-26',\n  'title': 'Toy Story 4',\n  'total_sales': 4599884,\n  'year': 2019},\n {'first_day_sales': 291152,\n  'first_screening_sales': None,\n  'first_week_sales': 1606425,\n  'first_weekend_sales': 1357118,\n  'id': '18661',\n  'max_theaters_used': 757,\n  'rank': '6',\n  'release_date': '2019-10-09',\n  'title': 'Joker',\n  'total_sales': 5608532,\n  'year': 2019},\n {'first_day_sales': 392483,\n  'first_screening_sales': None,\n  'first_week_sales': 2420710,\n  'first_weekend_sales': 1886610,\n  'id': '17224',\n  'max_theaters_used': 795,\n  'rank': '5',\n  'release_date': '2019-12-18',\n  'title': \"Star Wars: L'Ascension de Skywalker\",\n  'total_sales': 5911207,\n  'year': 2019}]\n"
     ]
    }
   ],
   "source": [
    "# Test it here\n",
    "from pprint import pprint\n",
    "boxoffice = read_from_json(\"../../data/french-box-office-29nov2020.json\")\n",
    "pprint(boxoffice[:10])"
   ]
  },
  {
   "source": [
    "# 2 - Movie features\n",
    "\n",
    "We are still missing additional features that would help us our algorithms better predict movie theaters sales during the first week of a movie release. "
   ],
   "cell_type": "markdown",
   "metadata": {}
  },
  {
   "source": [
    "### 2-1. Source identification\n",
    "\n",
    "Where could we find such information? Try to find ideas on the web."
   ],
   "cell_type": "markdown",
   "metadata": {}
  },
  {
   "source": [
    "> We could use the [movie db API](https://developers.themoviedb.org/3/getting-started/introduction)."
   ],
   "cell_type": "markdown",
   "metadata": {}
  },
  {
   "source": [
    "### 2-2. Terms of contracts and usage\n",
    "\n",
    "A priori, could we use the service provided by the website we have just found?\n",
    "Take a moment to look at the API documentation. List all information we could retrieve which could be interesting for our project.\n",
    "How would you do to:\n",
    "\n",
    "1. extract the information you need. Think of the different functions you would need to perform this.\n",
    "2. link back these features to our boxoffice data? Which feature from this dataset should we save along with the movie features?"
   ],
   "cell_type": "markdown",
   "metadata": {}
  },
  {
   "source": [
    "> The service can be used freely as long as we attribute TMDb as the source of our data. Eventually if we make numerous and large calls to the API and use it commercially at one point, we might get in touch with the owners to further discuss terms of use.\n",
    "\n",
    "> There are a lot of [movie](https://developers.themoviedb.org/3/movies/get-movie-details) features we could extract: cast, crew, plot keywords, budget, ... . The only difficulty is that we only have an id (not the same as TMDb one) and a movie title. As the GET /movie/ route needs a TMDb id to search for a specific film, we'll need to first search for a movie by title using the GET /search/movie route, then extract the Id and use it with the GET /movie route. \n",
    "\n",
    "> To properly perform this, we should loop through all the movies in our boxoffice dataset, use the title in our search and keep the boxoffice id to ease the merge of both datasets at the end."
   ],
   "cell_type": "markdown",
   "metadata": {}
  },
  {
   "source": [
    "### 2-3. Connectors\n",
    "\n",
    "Create an account to proceed.\n",
    "How would you connect to the API?"
   ],
   "cell_type": "markdown",
   "metadata": {}
  },
  {
   "source": [
    "> We can use [tmdbv3api](https://github.com/AnthonyBloomer/tmdbv3api) package from Python. It will prevent us from recreating all the API calls, we'll just need to use its functions and provide the API key provided by TMDb after having created our account."
   ],
   "cell_type": "markdown",
   "metadata": {}
  },
  {
   "source": [
    "### 2-4. Data extraction\n",
    "\n",
    "Write several function which will extract the information you need in a structured object. What kind of python object would you use? Test these functions on a movie of your choice."
   ],
   "cell_type": "markdown",
   "metadata": {}
  },
  {
   "cell_type": "code",
   "execution_count": 5,
   "metadata": {},
   "outputs": [],
   "source": [
    "from tmdbv3api import TMDb, Movie, Search\n",
    "from typing import Union\n",
    "\n",
    "class TMDbClient:\n",
    "\n",
    "    def __init__(self, api_key: str):\n",
    "        '''\n",
    "        A custom client for The Movie Database API for French movies\n",
    "        '''\n",
    "        self.client = TMDb()\n",
    "        self.client.api_key = api_key\n",
    "        self.client.language = 'fr-FR'\n",
    "        self.movie_db = Movie()\n",
    "        self.search = Search()\n",
    "\n",
    "    def find_movie_id(self, movie: str) -> Union[int, None]:\n",
    "        '''\n",
    "        Looks for a particular movie in TMDb\n",
    "\n",
    "        Parameters\n",
    "        ----------\n",
    "        movie: str\n",
    "            a movie title\n",
    "\n",
    "        Returns\n",
    "        -------\n",
    "        id: Union[int, None]\n",
    "            the most relevant movie id if we found one, or None\n",
    "        '''\n",
    "        results = self.search.movies({'query': movie})\n",
    "        if len(results) > 0:\n",
    "            return results[0].id\n",
    "\n",
    "    def get_movie_details(self, movie_id: int):\n",
    "        '''\n",
    "        Get a movie main features\n",
    "\n",
    "        Parameters\n",
    "        ----------\n",
    "        movie_id: int\n",
    "            a movie id (the tmdb one)\n",
    "\n",
    "        Returns\n",
    "        -------\n",
    "        details: MovieDetails\n",
    "            A movie details\n",
    "        '''\n",
    "        details = self.movie_db.details(movie_id)\n",
    "        details = unmarshal_details(details)\n",
    "        return details\n",
    "\n",
    "    def get_movie_cast(self, movie_id: int):\n",
    "        '''\n",
    "        Get a movie cast\n",
    "\n",
    "        Parameters\n",
    "        ----------\n",
    "        movie_id: int\n",
    "            a movie id (the tmdb one)\n",
    "\n",
    "        Returns\n",
    "        -------\n",
    "        cast: MovieCast\n",
    "            A movie cast\n",
    "        '''\n",
    "        credits = self.movie_db.credits(movie_id)\n",
    "        cast = unmarshal_credits(credits)\n",
    "        return cast\n",
    "\n",
    "    def find_movie_features(self, movie: str):\n",
    "        '''\n",
    "        Find all relevant features (details and cast)\n",
    "        given a movie title\n",
    "\n",
    "        Parameters\n",
    "        ----------\n",
    "        movie: str\n",
    "            a movie title\n",
    "\n",
    "        Returns\n",
    "        -------\n",
    "        card: Union[None, MovieCard]\n",
    "            A movie card. None if no movie was found\n",
    "        '''\n",
    "        movie_id = self.find_movie_id(movie)\n",
    "        if movie_id:\n",
    "            card = self.get_movie_details(movie_id)\n",
    "            card['cast'] = self.get_movie_cast(movie_id)\n",
    "            return card\n",
    "        else:\n",
    "            return None\n",
    "\n",
    "\n",
    "\n",
    "\n",
    "def unmarshal_details(details: dict):\n",
    "    '''\n",
    "    Decompose a TMDb movie details response into a properly\n",
    "    structured movie card\n",
    "\n",
    "    Parameters\n",
    "    ----------\n",
    "    details: dict\n",
    "        the movie details response\n",
    "\n",
    "    Returns\n",
    "    -------\n",
    "    card: MovieDetails\n",
    "        A movie card\n",
    "    '''\n",
    "    return {\n",
    "        'tmdb_id': details.id,\n",
    "        'adult': details.adult,\n",
    "        'budget': details.budget,\n",
    "        'imdb_id': details.imdb_id,\n",
    "        'original_language': details.original_language,\n",
    "        'original_title': details.original_title,\n",
    "        'overview': details.overview,\n",
    "        'tmdb_popularity': details.popularity,\n",
    "        'release_date': details.release_date,\n",
    "        'revenue': details.revenue,\n",
    "        'runtime': details.runtime,\n",
    "        'status': details.status,\n",
    "        'tagline': details.tagline,\n",
    "        'title': details.title,\n",
    "        'tmdb_vote_count': details.vote_count,\n",
    "        'tmdb_vote_average': details.vote_average\n",
    "    }\n",
    "\n",
    "\n",
    "def unmarshal_credits(credits: dict):\n",
    "    '''\n",
    "    Decompose a TMDb movie credits response into a properly\n",
    "    structured movie cast\n",
    "\n",
    "    Parameters\n",
    "    ----------\n",
    "    credits: dict\n",
    "        the movie credits response\n",
    "\n",
    "    Returns\n",
    "    -------\n",
    "    cast: MovieCast\n",
    "        A list of actors\n",
    "    '''\n",
    "    return [\n",
    "        {\n",
    "            'adult': cast['adult'],\n",
    "            'gender': cast['gender'],\n",
    "            'tmdb_id': cast['id'],\n",
    "            'name': cast['name'],\n",
    "            'tmdb_popularity': cast['popularity'],\n",
    "            'order': cast['order']\n",
    "        }\n",
    "    for cast in credits.cast ] if credits.cast else []\n"
   ]
  },
  {
   "cell_type": "code",
   "execution_count": 8,
   "metadata": {},
   "outputs": [
    {
     "output_type": "error",
     "ename": "Exception",
     "evalue": "Invalid API key: You must be granted a valid key.",
     "traceback": [
      "\u001b[0;31m---------------------------------------------------------------------------\u001b[0m",
      "\u001b[0;31mException\u001b[0m                                 Traceback (most recent call last)",
      "\u001b[0;32m<ipython-input-8-c9b71a0fec01>\u001b[0m in \u001b[0;36m<module>\u001b[0;34m\u001b[0m\n\u001b[1;32m      1\u001b[0m \u001b[0;31m# Test them here\u001b[0m\u001b[0;34m\u001b[0m\u001b[0;34m\u001b[0m\u001b[0;34m\u001b[0m\u001b[0m\n\u001b[1;32m      2\u001b[0m \u001b[0mclient\u001b[0m \u001b[0;34m=\u001b[0m \u001b[0mTMDbClient\u001b[0m\u001b[0;34m(\u001b[0m\u001b[0;34m'api_key'\u001b[0m\u001b[0;34m)\u001b[0m\u001b[0;34m\u001b[0m\u001b[0;34m\u001b[0m\u001b[0m\n\u001b[0;32m----> 3\u001b[0;31m \u001b[0mmovie_details\u001b[0m \u001b[0;34m=\u001b[0m \u001b[0mclient\u001b[0m\u001b[0;34m.\u001b[0m\u001b[0mfind_movie_features\u001b[0m\u001b[0;34m(\u001b[0m\u001b[0;34m'Titanic'\u001b[0m\u001b[0;34m)\u001b[0m\u001b[0;34m\u001b[0m\u001b[0;34m\u001b[0m\u001b[0m\n\u001b[0m",
      "\u001b[0;32m<ipython-input-5-528846f9f2e7>\u001b[0m in \u001b[0;36mfind_movie_features\u001b[0;34m(self, movie)\u001b[0m\n\u001b[1;32m     83\u001b[0m             \u001b[0mA\u001b[0m \u001b[0mmovie\u001b[0m \u001b[0mcard\u001b[0m\u001b[0;34m.\u001b[0m \u001b[0;32mNone\u001b[0m \u001b[0;32mif\u001b[0m \u001b[0mno\u001b[0m \u001b[0mmovie\u001b[0m \u001b[0mwas\u001b[0m \u001b[0mfound\u001b[0m\u001b[0;34m\u001b[0m\u001b[0;34m\u001b[0m\u001b[0m\n\u001b[1;32m     84\u001b[0m         '''\n\u001b[0;32m---> 85\u001b[0;31m         \u001b[0mmovie_id\u001b[0m \u001b[0;34m=\u001b[0m \u001b[0mself\u001b[0m\u001b[0;34m.\u001b[0m\u001b[0mfind_movie_id\u001b[0m\u001b[0;34m(\u001b[0m\u001b[0mmovie\u001b[0m\u001b[0;34m)\u001b[0m\u001b[0;34m\u001b[0m\u001b[0;34m\u001b[0m\u001b[0m\n\u001b[0m\u001b[1;32m     86\u001b[0m         \u001b[0;32mif\u001b[0m \u001b[0mmovie_id\u001b[0m\u001b[0;34m:\u001b[0m\u001b[0;34m\u001b[0m\u001b[0;34m\u001b[0m\u001b[0m\n\u001b[1;32m     87\u001b[0m             \u001b[0mcard\u001b[0m \u001b[0;34m=\u001b[0m \u001b[0mself\u001b[0m\u001b[0;34m.\u001b[0m\u001b[0mget_movie_details\u001b[0m\u001b[0;34m(\u001b[0m\u001b[0mmovie_id\u001b[0m\u001b[0;34m)\u001b[0m\u001b[0;34m\u001b[0m\u001b[0;34m\u001b[0m\u001b[0m\n",
      "\u001b[0;32m<ipython-input-5-528846f9f2e7>\u001b[0m in \u001b[0;36mfind_movie_id\u001b[0;34m(self, movie)\u001b[0m\n\u001b[1;32m     28\u001b[0m             \u001b[0mthe\u001b[0m \u001b[0mmost\u001b[0m \u001b[0mrelevant\u001b[0m \u001b[0mmovie\u001b[0m \u001b[0mid\u001b[0m \u001b[0;32mif\u001b[0m \u001b[0mwe\u001b[0m \u001b[0mfound\u001b[0m \u001b[0mone\u001b[0m\u001b[0;34m,\u001b[0m \u001b[0;32mor\u001b[0m \u001b[0;32mNone\u001b[0m\u001b[0;34m\u001b[0m\u001b[0;34m\u001b[0m\u001b[0m\n\u001b[1;32m     29\u001b[0m         '''\n\u001b[0;32m---> 30\u001b[0;31m         \u001b[0mresults\u001b[0m \u001b[0;34m=\u001b[0m \u001b[0mself\u001b[0m\u001b[0;34m.\u001b[0m\u001b[0msearch\u001b[0m\u001b[0;34m.\u001b[0m\u001b[0mmovies\u001b[0m\u001b[0;34m(\u001b[0m\u001b[0;34m{\u001b[0m\u001b[0;34m'query'\u001b[0m\u001b[0;34m:\u001b[0m \u001b[0mmovie\u001b[0m\u001b[0;34m}\u001b[0m\u001b[0;34m)\u001b[0m\u001b[0;34m\u001b[0m\u001b[0;34m\u001b[0m\u001b[0m\n\u001b[0m\u001b[1;32m     31\u001b[0m         \u001b[0;32mif\u001b[0m \u001b[0mlen\u001b[0m\u001b[0;34m(\u001b[0m\u001b[0mresults\u001b[0m\u001b[0;34m)\u001b[0m \u001b[0;34m>\u001b[0m \u001b[0;36m0\u001b[0m\u001b[0;34m:\u001b[0m\u001b[0;34m\u001b[0m\u001b[0;34m\u001b[0m\u001b[0m\n\u001b[1;32m     32\u001b[0m             \u001b[0;32mreturn\u001b[0m \u001b[0mresults\u001b[0m\u001b[0;34m[\u001b[0m\u001b[0;36m0\u001b[0m\u001b[0;34m]\u001b[0m\u001b[0;34m.\u001b[0m\u001b[0mid\u001b[0m\u001b[0;34m\u001b[0m\u001b[0;34m\u001b[0m\u001b[0m\n",
      "\u001b[0;32m~/opt/anaconda3/lib/python3.7/site-packages/tmdbv3api/objs/search.py\u001b[0m in \u001b[0;36mmovies\u001b[0;34m(self, params)\u001b[0m\n\u001b[1;32m     49\u001b[0m         \u001b[0;34m:\u001b[0m\u001b[0;32mreturn\u001b[0m\u001b[0;34m:\u001b[0m\u001b[0;34m\u001b[0m\u001b[0;34m\u001b[0m\u001b[0m\n\u001b[1;32m     50\u001b[0m         \"\"\"\n\u001b[0;32m---> 51\u001b[0;31m         \u001b[0;32mreturn\u001b[0m \u001b[0mself\u001b[0m\u001b[0;34m.\u001b[0m\u001b[0m_get_obj\u001b[0m\u001b[0;34m(\u001b[0m\u001b[0mself\u001b[0m\u001b[0;34m.\u001b[0m\u001b[0m_call\u001b[0m\u001b[0;34m(\u001b[0m\u001b[0mself\u001b[0m\u001b[0;34m.\u001b[0m\u001b[0m_urls\u001b[0m\u001b[0;34m[\u001b[0m\u001b[0;34m\"movies\"\u001b[0m\u001b[0;34m]\u001b[0m\u001b[0;34m,\u001b[0m \u001b[0murlencode\u001b[0m\u001b[0;34m(\u001b[0m\u001b[0mparams\u001b[0m\u001b[0;34m)\u001b[0m\u001b[0;34m)\u001b[0m\u001b[0;34m)\u001b[0m\u001b[0;34m\u001b[0m\u001b[0;34m\u001b[0m\u001b[0m\n\u001b[0m\u001b[1;32m     52\u001b[0m \u001b[0;34m\u001b[0m\u001b[0m\n\u001b[1;32m     53\u001b[0m     \u001b[0;32mdef\u001b[0m \u001b[0mmulti\u001b[0m\u001b[0;34m(\u001b[0m\u001b[0mself\u001b[0m\u001b[0;34m,\u001b[0m \u001b[0mparams\u001b[0m\u001b[0;34m)\u001b[0m\u001b[0;34m:\u001b[0m\u001b[0;34m\u001b[0m\u001b[0;34m\u001b[0m\u001b[0m\n",
      "\u001b[0;32m~/opt/anaconda3/lib/python3.7/site-packages/tmdbv3api/tmdb.py\u001b[0m in \u001b[0;36m_get_obj\u001b[0;34m(result, key)\u001b[0m\n\u001b[1;32m     99\u001b[0m     \u001b[0;32mdef\u001b[0m \u001b[0m_get_obj\u001b[0m\u001b[0;34m(\u001b[0m\u001b[0mresult\u001b[0m\u001b[0;34m,\u001b[0m \u001b[0mkey\u001b[0m\u001b[0;34m=\u001b[0m\u001b[0;34m\"results\"\u001b[0m\u001b[0;34m)\u001b[0m\u001b[0;34m:\u001b[0m\u001b[0;34m\u001b[0m\u001b[0;34m\u001b[0m\u001b[0m\n\u001b[1;32m    100\u001b[0m         \u001b[0;32mif\u001b[0m \u001b[0;34m\"success\"\u001b[0m \u001b[0;32min\u001b[0m \u001b[0mresult\u001b[0m \u001b[0;32mand\u001b[0m \u001b[0mresult\u001b[0m\u001b[0;34m[\u001b[0m\u001b[0;34m\"success\"\u001b[0m\u001b[0;34m]\u001b[0m \u001b[0;32mis\u001b[0m \u001b[0;32mFalse\u001b[0m\u001b[0;34m:\u001b[0m\u001b[0;34m\u001b[0m\u001b[0;34m\u001b[0m\u001b[0m\n\u001b[0;32m--> 101\u001b[0;31m             \u001b[0;32mraise\u001b[0m \u001b[0mException\u001b[0m\u001b[0;34m(\u001b[0m\u001b[0mresult\u001b[0m\u001b[0;34m[\u001b[0m\u001b[0;34m\"status_message\"\u001b[0m\u001b[0;34m]\u001b[0m\u001b[0;34m)\u001b[0m\u001b[0;34m\u001b[0m\u001b[0;34m\u001b[0m\u001b[0m\n\u001b[0m\u001b[1;32m    102\u001b[0m         \u001b[0marr\u001b[0m \u001b[0;34m=\u001b[0m \u001b[0;34m[\u001b[0m\u001b[0;34m]\u001b[0m\u001b[0;34m\u001b[0m\u001b[0;34m\u001b[0m\u001b[0m\n\u001b[1;32m    103\u001b[0m         \u001b[0;32mif\u001b[0m \u001b[0mkey\u001b[0m \u001b[0;32mis\u001b[0m \u001b[0;32mnot\u001b[0m \u001b[0;32mNone\u001b[0m\u001b[0;34m:\u001b[0m\u001b[0;34m\u001b[0m\u001b[0;34m\u001b[0m\u001b[0m\n",
      "\u001b[0;31mException\u001b[0m: Invalid API key: You must be granted a valid key."
     ]
    }
   ],
   "source": [
    "# Test them here\n",
    "client = TMDbClient('api_key')\n",
    "movie_details = client.find_movie_features('Titanic')"
   ]
  },
  {
   "source": [
    "### 2-5. Run\n",
    "\n",
    "Write the loop which will extract all the data required. Test it on a subset of 20 movies. No need to run it on the whole scope, we will avoid overloading the API servers and provide you with the end data directly.\n",
    "\n",
    "In which format would you store the data? Where would you save it? Write a function to perform this operation and test it."
   ],
   "cell_type": "markdown",
   "metadata": {}
  },
  {
   "cell_type": "code",
   "execution_count": 9,
   "metadata": {
    "tags": []
   },
   "outputs": [
    {
     "output_type": "stream",
     "name": "stderr",
     "text": [
      "  0%|          | 0/10 [00:00<?, ?it/s]\n"
     ]
    },
    {
     "output_type": "error",
     "ename": "Exception",
     "evalue": "Invalid API key: You must be granted a valid key.",
     "traceback": [
      "\u001b[0;31m---------------------------------------------------------------------------\u001b[0m",
      "\u001b[0;31mException\u001b[0m                                 Traceback (most recent call last)",
      "\u001b[0;32m<ipython-input-9-0d25057022eb>\u001b[0m in \u001b[0;36m<module>\u001b[0;34m\u001b[0m\n\u001b[1;32m      3\u001b[0m \u001b[0msample\u001b[0m \u001b[0;34m=\u001b[0m \u001b[0;34m[\u001b[0m\u001b[0;34m]\u001b[0m\u001b[0;34m\u001b[0m\u001b[0;34m\u001b[0m\u001b[0m\n\u001b[1;32m      4\u001b[0m \u001b[0;32mfor\u001b[0m \u001b[0mmovie\u001b[0m \u001b[0;32min\u001b[0m \u001b[0mtqdm\u001b[0m\u001b[0;34m(\u001b[0m\u001b[0mboxoffice\u001b[0m\u001b[0;34m[\u001b[0m\u001b[0;34m:\u001b[0m\u001b[0;36m10\u001b[0m\u001b[0;34m]\u001b[0m\u001b[0;34m)\u001b[0m\u001b[0;34m:\u001b[0m\u001b[0;34m\u001b[0m\u001b[0;34m\u001b[0m\u001b[0m\n\u001b[0;32m----> 5\u001b[0;31m     \u001b[0msample\u001b[0m\u001b[0;34m.\u001b[0m\u001b[0mappend\u001b[0m\u001b[0;34m(\u001b[0m\u001b[0mclient\u001b[0m\u001b[0;34m.\u001b[0m\u001b[0mfind_movie_features\u001b[0m\u001b[0;34m(\u001b[0m\u001b[0mmovie\u001b[0m\u001b[0;34m[\u001b[0m\u001b[0;34m'title'\u001b[0m\u001b[0;34m]\u001b[0m\u001b[0;34m)\u001b[0m\u001b[0;34m)\u001b[0m\u001b[0;34m\u001b[0m\u001b[0;34m\u001b[0m\u001b[0m\n\u001b[0m\u001b[1;32m      6\u001b[0m \u001b[0mpprint\u001b[0m\u001b[0;34m(\u001b[0m\u001b[0msample\u001b[0m\u001b[0;34m)\u001b[0m\u001b[0;34m\u001b[0m\u001b[0;34m\u001b[0m\u001b[0m\n",
      "\u001b[0;32m<ipython-input-5-528846f9f2e7>\u001b[0m in \u001b[0;36mfind_movie_features\u001b[0;34m(self, movie)\u001b[0m\n\u001b[1;32m     83\u001b[0m             \u001b[0mA\u001b[0m \u001b[0mmovie\u001b[0m \u001b[0mcard\u001b[0m\u001b[0;34m.\u001b[0m \u001b[0;32mNone\u001b[0m \u001b[0;32mif\u001b[0m \u001b[0mno\u001b[0m \u001b[0mmovie\u001b[0m \u001b[0mwas\u001b[0m \u001b[0mfound\u001b[0m\u001b[0;34m\u001b[0m\u001b[0;34m\u001b[0m\u001b[0m\n\u001b[1;32m     84\u001b[0m         '''\n\u001b[0;32m---> 85\u001b[0;31m         \u001b[0mmovie_id\u001b[0m \u001b[0;34m=\u001b[0m \u001b[0mself\u001b[0m\u001b[0;34m.\u001b[0m\u001b[0mfind_movie_id\u001b[0m\u001b[0;34m(\u001b[0m\u001b[0mmovie\u001b[0m\u001b[0;34m)\u001b[0m\u001b[0;34m\u001b[0m\u001b[0;34m\u001b[0m\u001b[0m\n\u001b[0m\u001b[1;32m     86\u001b[0m         \u001b[0;32mif\u001b[0m \u001b[0mmovie_id\u001b[0m\u001b[0;34m:\u001b[0m\u001b[0;34m\u001b[0m\u001b[0;34m\u001b[0m\u001b[0m\n\u001b[1;32m     87\u001b[0m             \u001b[0mcard\u001b[0m \u001b[0;34m=\u001b[0m \u001b[0mself\u001b[0m\u001b[0;34m.\u001b[0m\u001b[0mget_movie_details\u001b[0m\u001b[0;34m(\u001b[0m\u001b[0mmovie_id\u001b[0m\u001b[0;34m)\u001b[0m\u001b[0;34m\u001b[0m\u001b[0;34m\u001b[0m\u001b[0m\n",
      "\u001b[0;32m<ipython-input-5-528846f9f2e7>\u001b[0m in \u001b[0;36mfind_movie_id\u001b[0;34m(self, movie)\u001b[0m\n\u001b[1;32m     28\u001b[0m             \u001b[0mthe\u001b[0m \u001b[0mmost\u001b[0m \u001b[0mrelevant\u001b[0m \u001b[0mmovie\u001b[0m \u001b[0mid\u001b[0m \u001b[0;32mif\u001b[0m \u001b[0mwe\u001b[0m \u001b[0mfound\u001b[0m \u001b[0mone\u001b[0m\u001b[0;34m,\u001b[0m \u001b[0;32mor\u001b[0m \u001b[0;32mNone\u001b[0m\u001b[0;34m\u001b[0m\u001b[0;34m\u001b[0m\u001b[0m\n\u001b[1;32m     29\u001b[0m         '''\n\u001b[0;32m---> 30\u001b[0;31m         \u001b[0mresults\u001b[0m \u001b[0;34m=\u001b[0m \u001b[0mself\u001b[0m\u001b[0;34m.\u001b[0m\u001b[0msearch\u001b[0m\u001b[0;34m.\u001b[0m\u001b[0mmovies\u001b[0m\u001b[0;34m(\u001b[0m\u001b[0;34m{\u001b[0m\u001b[0;34m'query'\u001b[0m\u001b[0;34m:\u001b[0m \u001b[0mmovie\u001b[0m\u001b[0;34m}\u001b[0m\u001b[0;34m)\u001b[0m\u001b[0;34m\u001b[0m\u001b[0;34m\u001b[0m\u001b[0m\n\u001b[0m\u001b[1;32m     31\u001b[0m         \u001b[0;32mif\u001b[0m \u001b[0mlen\u001b[0m\u001b[0;34m(\u001b[0m\u001b[0mresults\u001b[0m\u001b[0;34m)\u001b[0m \u001b[0;34m>\u001b[0m \u001b[0;36m0\u001b[0m\u001b[0;34m:\u001b[0m\u001b[0;34m\u001b[0m\u001b[0;34m\u001b[0m\u001b[0m\n\u001b[1;32m     32\u001b[0m             \u001b[0;32mreturn\u001b[0m \u001b[0mresults\u001b[0m\u001b[0;34m[\u001b[0m\u001b[0;36m0\u001b[0m\u001b[0;34m]\u001b[0m\u001b[0;34m.\u001b[0m\u001b[0mid\u001b[0m\u001b[0;34m\u001b[0m\u001b[0;34m\u001b[0m\u001b[0m\n",
      "\u001b[0;32m~/opt/anaconda3/lib/python3.7/site-packages/tmdbv3api/objs/search.py\u001b[0m in \u001b[0;36mmovies\u001b[0;34m(self, params)\u001b[0m\n\u001b[1;32m     49\u001b[0m         \u001b[0;34m:\u001b[0m\u001b[0;32mreturn\u001b[0m\u001b[0;34m:\u001b[0m\u001b[0;34m\u001b[0m\u001b[0;34m\u001b[0m\u001b[0m\n\u001b[1;32m     50\u001b[0m         \"\"\"\n\u001b[0;32m---> 51\u001b[0;31m         \u001b[0;32mreturn\u001b[0m \u001b[0mself\u001b[0m\u001b[0;34m.\u001b[0m\u001b[0m_get_obj\u001b[0m\u001b[0;34m(\u001b[0m\u001b[0mself\u001b[0m\u001b[0;34m.\u001b[0m\u001b[0m_call\u001b[0m\u001b[0;34m(\u001b[0m\u001b[0mself\u001b[0m\u001b[0;34m.\u001b[0m\u001b[0m_urls\u001b[0m\u001b[0;34m[\u001b[0m\u001b[0;34m\"movies\"\u001b[0m\u001b[0;34m]\u001b[0m\u001b[0;34m,\u001b[0m \u001b[0murlencode\u001b[0m\u001b[0;34m(\u001b[0m\u001b[0mparams\u001b[0m\u001b[0;34m)\u001b[0m\u001b[0;34m)\u001b[0m\u001b[0;34m)\u001b[0m\u001b[0;34m\u001b[0m\u001b[0;34m\u001b[0m\u001b[0m\n\u001b[0m\u001b[1;32m     52\u001b[0m \u001b[0;34m\u001b[0m\u001b[0m\n\u001b[1;32m     53\u001b[0m     \u001b[0;32mdef\u001b[0m \u001b[0mmulti\u001b[0m\u001b[0;34m(\u001b[0m\u001b[0mself\u001b[0m\u001b[0;34m,\u001b[0m \u001b[0mparams\u001b[0m\u001b[0;34m)\u001b[0m\u001b[0;34m:\u001b[0m\u001b[0;34m\u001b[0m\u001b[0;34m\u001b[0m\u001b[0m\n",
      "\u001b[0;32m~/opt/anaconda3/lib/python3.7/site-packages/tmdbv3api/tmdb.py\u001b[0m in \u001b[0;36m_get_obj\u001b[0;34m(result, key)\u001b[0m\n\u001b[1;32m     99\u001b[0m     \u001b[0;32mdef\u001b[0m \u001b[0m_get_obj\u001b[0m\u001b[0;34m(\u001b[0m\u001b[0mresult\u001b[0m\u001b[0;34m,\u001b[0m \u001b[0mkey\u001b[0m\u001b[0;34m=\u001b[0m\u001b[0;34m\"results\"\u001b[0m\u001b[0;34m)\u001b[0m\u001b[0;34m:\u001b[0m\u001b[0;34m\u001b[0m\u001b[0;34m\u001b[0m\u001b[0m\n\u001b[1;32m    100\u001b[0m         \u001b[0;32mif\u001b[0m \u001b[0;34m\"success\"\u001b[0m \u001b[0;32min\u001b[0m \u001b[0mresult\u001b[0m \u001b[0;32mand\u001b[0m \u001b[0mresult\u001b[0m\u001b[0;34m[\u001b[0m\u001b[0;34m\"success\"\u001b[0m\u001b[0;34m]\u001b[0m \u001b[0;32mis\u001b[0m \u001b[0;32mFalse\u001b[0m\u001b[0;34m:\u001b[0m\u001b[0;34m\u001b[0m\u001b[0;34m\u001b[0m\u001b[0m\n\u001b[0;32m--> 101\u001b[0;31m             \u001b[0;32mraise\u001b[0m \u001b[0mException\u001b[0m\u001b[0;34m(\u001b[0m\u001b[0mresult\u001b[0m\u001b[0;34m[\u001b[0m\u001b[0;34m\"status_message\"\u001b[0m\u001b[0;34m]\u001b[0m\u001b[0;34m)\u001b[0m\u001b[0;34m\u001b[0m\u001b[0;34m\u001b[0m\u001b[0m\n\u001b[0m\u001b[1;32m    102\u001b[0m         \u001b[0marr\u001b[0m \u001b[0;34m=\u001b[0m \u001b[0;34m[\u001b[0m\u001b[0;34m]\u001b[0m\u001b[0;34m\u001b[0m\u001b[0;34m\u001b[0m\u001b[0m\n\u001b[1;32m    103\u001b[0m         \u001b[0;32mif\u001b[0m \u001b[0mkey\u001b[0m \u001b[0;32mis\u001b[0m \u001b[0;32mnot\u001b[0m \u001b[0;32mNone\u001b[0m\u001b[0;34m:\u001b[0m\u001b[0;34m\u001b[0m\u001b[0;34m\u001b[0m\u001b[0m\n",
      "\u001b[0;31mException\u001b[0m: Invalid API key: You must be granted a valid key."
     ]
    }
   ],
   "source": [
    "# Write the loop here\n",
    "from tqdm import tqdm\n",
    "sample = []\n",
    "for movie in tqdm(boxoffice[:10]):\n",
    "    sample.append(client.find_movie_features(movie['title']))\n",
    "pprint(sample)"
   ]
  },
  {
   "cell_type": "code",
   "execution_count": null,
   "metadata": {},
   "outputs": [],
   "source": [
    "def write_json_to_file(payload: Union[dict, list], path: str) -> None:\n",
    "    '''\n",
    "    Write a dict or list of dicts into a json file\n",
    "    \n",
    "    Parameters\n",
    "    ----------\n",
    "    path: str\n",
    "        Path to file\n",
    "\n",
    "    Returns\n",
    "    -------\n",
    "    None\n",
    "    '''\n",
    "    with open(path, 'w', encoding='utf-8') as f:\n",
    "        json.dump(payload, f, ensure_ascii=False, indent=4)"
   ]
  },
  {
   "cell_type": "code",
   "execution_count": null,
   "metadata": {},
   "outputs": [],
   "source": [
    "write_json_to_file(sample, \"../../data/movie_features_sample.json\")"
   ]
  },
  {
   "source": [
    "# 3 - Data consolidation"
   ],
   "cell_type": "markdown",
   "metadata": {}
  },
  {
   "source": [
    "### 3-1. Next steps?\n",
    "\n",
    "You can download the whole movies features database [here](https://drive.google.com/file/d/1hv_FCcJi--n0S9GXu75zS7hRGcCrPB6d/view?usp=sharing). What should we do next before moving to the data preparation and modelling parts?"
   ],
   "cell_type": "markdown",
   "metadata": {}
  },
  {
   "source": [
    "> Consolidate all data into one single object would be nice."
   ],
   "cell_type": "markdown",
   "metadata": {}
  },
  {
   "source": [
    "### 3-2. Data reading\n",
    "\n",
    "`pandas` (https://pandas.pydata.org) is very well known Python library to perform data analysis and manipulation. It mainly works leveraging two powerful objects: `series` and `DataFrame` (https://pandas.pydata.org/pandas-docs/stable/user_guide/dsintro.html#intro-to-data-structures). For more information and a 10 min introduction you can watch this [video](https://www.youtube.com/watch?v=_T8LGqJtuGc&feature=emb_title).\n",
    "\n",
    "Read again your movie features dataset. Cast it into a `DataFrame` (`pd.DataFrame()` [supports](https://pandas.pydata.org/pandas-docs/stable/reference/api/pandas.DataFrame.html#pandas-dataframe) taking into account list of dicts)."
   ],
   "cell_type": "markdown",
   "metadata": {}
  },
  {
   "cell_type": "code",
   "execution_count": 10,
   "metadata": {},
   "outputs": [
    {
     "output_type": "execute_result",
     "data": {
      "text/plain": [
       "   tmdb_id  adult                              belongs_to_collection  \\\n",
       "0   420809  False         {'id': 531331, 'name': 'Maléfique - Saga'}   \n",
       "1   542830  False  {'id': 629597, 'name': 'Les Petits Mouchoirs -...   \n",
       "2   429617  False  {'id': 531241, 'name': 'Spider-Man (Avengers) ...   \n",
       "3   512200  False          {'id': 495527, 'name': 'Jumanji  - Saga'}   \n",
       "4   166428  False            {'id': 89137, 'name': 'Dragons - Saga'}   \n",
       "\n",
       "      budget                                             genres    imdb_id  \\\n",
       "0  185000000  [{'id': 14, 'name': 'Fantastique'}, {'id': 107...  tt4777008   \n",
       "1          0  [{'id': 35, 'name': 'Comédie'}, {'id': 18, 'na...  tt8201404   \n",
       "2  160000000  [{'id': 28, 'name': 'Action'}, {'id': 12, 'nam...  tt6320628   \n",
       "3  125000000  [{'id': 12, 'name': 'Aventure'}, {'id': 35, 'n...  tt7975244   \n",
       "4  129000000  [{'id': 16, 'name': 'Animation'}, {'id': 10751...  tt2386490   \n",
       "\n",
       "  original_language                              original_title  \\\n",
       "0                en                Maleficent: Mistress of Evil   \n",
       "1                fr                      Nous finirons ensemble   \n",
       "2                en                   Spider-Man: Far from Home   \n",
       "3                en                     Jumanji: The Next Level   \n",
       "4                en  How to Train Your Dragon: The Hidden World   \n",
       "\n",
       "                                            overview  tmdb_popularity  ...  \\\n",
       "0  Cinq années après la conjuration de la malédic...          184.959  ...   \n",
       "1  Préoccupé, Max est parti dans sa maison au bor...           10.840  ...   \n",
       "2  Peter et ses amis passent leurs vacances d’été...          204.536  ...   \n",
       "3  L’équipe est de retour, mais le jeu a changé. ...          237.001  ...   \n",
       "4  Ce qui avait commencé comme une amitié improba...          113.912  ...   \n",
       "\n",
       "  runtime                                          languages    status  \\\n",
       "0   110.0            [{'iso_code': 'en', 'name': 'English'}]  Released   \n",
       "1   135.0           [{'iso_code': 'fr', 'name': 'Français'}]  Released   \n",
       "2   129.0  [{'iso_code': 'cs', 'name': 'Český'}, {'iso_co...  Released   \n",
       "3   123.0            [{'iso_code': 'en', 'name': 'English'}]  Released   \n",
       "4   104.0            [{'iso_code': 'en', 'name': 'English'}]  Released   \n",
       "\n",
       "                              tagline                          title  \\\n",
       "0      Aller au-delà du conte de fée.  Maléfique 2 Le pouvoir du mal   \n",
       "1                                             Nous finirons ensemble   \n",
       "2  Il est temps de passer à l'action.     Spider-Man : Far from Home   \n",
       "3               Bienvenue à Jumanji !            Jumanji: Next Level   \n",
       "4               Une amitié légendaire     Dragons 3 : Le monde caché   \n",
       "\n",
       "  tmdb_vote_count tmdb_vote_average  \\\n",
       "0            3904               7.4   \n",
       "1             490               6.9   \n",
       "2            8750               7.5   \n",
       "3            5056               7.0   \n",
       "4            4107               7.8   \n",
       "\n",
       "                                                cast     id  \\\n",
       "0  [{'adult': False, 'gender': 1, 'tmdb_id': 1170...  19073   \n",
       "1  [{'adult': False, 'gender': 2, 'tmdb_id': 3316...  18875   \n",
       "2  [{'adult': False, 'gender': 2, 'tmdb_id': 1136...  18243   \n",
       "3  [{'adult': False, 'gender': 2, 'tmdb_id': 1891...  18258   \n",
       "4  [{'adult': False, 'gender': 2, 'tmdb_id': 449,...  18167   \n",
       "\n",
       "                           query  \n",
       "0  Maléfique : Le Pouvoir du Mal  \n",
       "1         Nous finirons ensemble  \n",
       "2      Spider-Man: Far from Home  \n",
       "3            Jumanji: next level  \n",
       "4     Dragons 3 : Le monde caché  \n",
       "\n",
       "[5 rows x 24 columns]"
      ],
      "text/html": "<div>\n<style scoped>\n    .dataframe tbody tr th:only-of-type {\n        vertical-align: middle;\n    }\n\n    .dataframe tbody tr th {\n        vertical-align: top;\n    }\n\n    .dataframe thead th {\n        text-align: right;\n    }\n</style>\n<table border=\"1\" class=\"dataframe\">\n  <thead>\n    <tr style=\"text-align: right;\">\n      <th></th>\n      <th>tmdb_id</th>\n      <th>adult</th>\n      <th>belongs_to_collection</th>\n      <th>budget</th>\n      <th>genres</th>\n      <th>imdb_id</th>\n      <th>original_language</th>\n      <th>original_title</th>\n      <th>overview</th>\n      <th>tmdb_popularity</th>\n      <th>...</th>\n      <th>runtime</th>\n      <th>languages</th>\n      <th>status</th>\n      <th>tagline</th>\n      <th>title</th>\n      <th>tmdb_vote_count</th>\n      <th>tmdb_vote_average</th>\n      <th>cast</th>\n      <th>id</th>\n      <th>query</th>\n    </tr>\n  </thead>\n  <tbody>\n    <tr>\n      <th>0</th>\n      <td>420809</td>\n      <td>False</td>\n      <td>{'id': 531331, 'name': 'Maléfique - Saga'}</td>\n      <td>185000000</td>\n      <td>[{'id': 14, 'name': 'Fantastique'}, {'id': 107...</td>\n      <td>tt4777008</td>\n      <td>en</td>\n      <td>Maleficent: Mistress of Evil</td>\n      <td>Cinq années après la conjuration de la malédic...</td>\n      <td>184.959</td>\n      <td>...</td>\n      <td>110.0</td>\n      <td>[{'iso_code': 'en', 'name': 'English'}]</td>\n      <td>Released</td>\n      <td>Aller au-delà du conte de fée.</td>\n      <td>Maléfique 2 Le pouvoir du mal</td>\n      <td>3904</td>\n      <td>7.4</td>\n      <td>[{'adult': False, 'gender': 1, 'tmdb_id': 1170...</td>\n      <td>19073</td>\n      <td>Maléfique : Le Pouvoir du Mal</td>\n    </tr>\n    <tr>\n      <th>1</th>\n      <td>542830</td>\n      <td>False</td>\n      <td>{'id': 629597, 'name': 'Les Petits Mouchoirs -...</td>\n      <td>0</td>\n      <td>[{'id': 35, 'name': 'Comédie'}, {'id': 18, 'na...</td>\n      <td>tt8201404</td>\n      <td>fr</td>\n      <td>Nous finirons ensemble</td>\n      <td>Préoccupé, Max est parti dans sa maison au bor...</td>\n      <td>10.840</td>\n      <td>...</td>\n      <td>135.0</td>\n      <td>[{'iso_code': 'fr', 'name': 'Français'}]</td>\n      <td>Released</td>\n      <td></td>\n      <td>Nous finirons ensemble</td>\n      <td>490</td>\n      <td>6.9</td>\n      <td>[{'adult': False, 'gender': 2, 'tmdb_id': 3316...</td>\n      <td>18875</td>\n      <td>Nous finirons ensemble</td>\n    </tr>\n    <tr>\n      <th>2</th>\n      <td>429617</td>\n      <td>False</td>\n      <td>{'id': 531241, 'name': 'Spider-Man (Avengers) ...</td>\n      <td>160000000</td>\n      <td>[{'id': 28, 'name': 'Action'}, {'id': 12, 'nam...</td>\n      <td>tt6320628</td>\n      <td>en</td>\n      <td>Spider-Man: Far from Home</td>\n      <td>Peter et ses amis passent leurs vacances d’été...</td>\n      <td>204.536</td>\n      <td>...</td>\n      <td>129.0</td>\n      <td>[{'iso_code': 'cs', 'name': 'Český'}, {'iso_co...</td>\n      <td>Released</td>\n      <td>Il est temps de passer à l'action.</td>\n      <td>Spider-Man : Far from Home</td>\n      <td>8750</td>\n      <td>7.5</td>\n      <td>[{'adult': False, 'gender': 2, 'tmdb_id': 1136...</td>\n      <td>18243</td>\n      <td>Spider-Man: Far from Home</td>\n    </tr>\n    <tr>\n      <th>3</th>\n      <td>512200</td>\n      <td>False</td>\n      <td>{'id': 495527, 'name': 'Jumanji  - Saga'}</td>\n      <td>125000000</td>\n      <td>[{'id': 12, 'name': 'Aventure'}, {'id': 35, 'n...</td>\n      <td>tt7975244</td>\n      <td>en</td>\n      <td>Jumanji: The Next Level</td>\n      <td>L’équipe est de retour, mais le jeu a changé. ...</td>\n      <td>237.001</td>\n      <td>...</td>\n      <td>123.0</td>\n      <td>[{'iso_code': 'en', 'name': 'English'}]</td>\n      <td>Released</td>\n      <td>Bienvenue à Jumanji !</td>\n      <td>Jumanji: Next Level</td>\n      <td>5056</td>\n      <td>7.0</td>\n      <td>[{'adult': False, 'gender': 2, 'tmdb_id': 1891...</td>\n      <td>18258</td>\n      <td>Jumanji: next level</td>\n    </tr>\n    <tr>\n      <th>4</th>\n      <td>166428</td>\n      <td>False</td>\n      <td>{'id': 89137, 'name': 'Dragons - Saga'}</td>\n      <td>129000000</td>\n      <td>[{'id': 16, 'name': 'Animation'}, {'id': 10751...</td>\n      <td>tt2386490</td>\n      <td>en</td>\n      <td>How to Train Your Dragon: The Hidden World</td>\n      <td>Ce qui avait commencé comme une amitié improba...</td>\n      <td>113.912</td>\n      <td>...</td>\n      <td>104.0</td>\n      <td>[{'iso_code': 'en', 'name': 'English'}]</td>\n      <td>Released</td>\n      <td>Une amitié légendaire</td>\n      <td>Dragons 3 : Le monde caché</td>\n      <td>4107</td>\n      <td>7.8</td>\n      <td>[{'adult': False, 'gender': 2, 'tmdb_id': 449,...</td>\n      <td>18167</td>\n      <td>Dragons 3 : Le monde caché</td>\n    </tr>\n  </tbody>\n</table>\n<p>5 rows × 24 columns</p>\n</div>"
     },
     "metadata": {},
     "execution_count": 10
    }
   ],
   "source": [
    "import pandas as pd\n",
    "movies_features = read_from_json(\"../../data/movie-features-29nov2020.json\")\n",
    "movies_features_df = pd.DataFrame(movies_features)\n",
    "movies_features_df.head()"
   ]
  },
  {
   "source": [
    "### 3-3. Data manipulation\n",
    "\n",
    "`pandas` and the affiliated `DataFrame` come with a lot of handy features. Here is a non exhaustive list. Take a few minutes to test them on your new `DataFrame`.\n",
    "\n",
    "- `DataFrame.columns` (https://pandas.pydata.org/pandas-docs/stable/reference/api/pandas.DataFrame.columns.html)\n",
    "- `DataFrame.dtypes` (https://pandas.pydata.org/pandas-docs/stable/reference/api/pandas.DataFrame.dtypes.html)\n",
    "- `DataFrame.head` (https://pandas.pydata.org/pandas-docs/stable/reference/api/pandas.DataFrame.head.html)\n",
    "- `DataFrame.tail` (https://pandas.pydata.org/pandas-docs/stable/reference/api/pandas.DataFrame.tail.html)\n",
    "- `DataFrame.size` (https://pandas.pydata.org/pandas-docs/stable/reference/api/pandas.DataFrame.size.html)\n",
    "- `DataFrame.shape` (https://pandas.pydata.org/pandas-docs/stable/reference/api/pandas.DataFrame.shape.html)\n",
    "- `DataFrame.loc` (https://pandas.pydata.org/pandas-docs/stable/reference/api/pandas.DataFrame.loc.html)\n",
    "- `DataFrame.iloc` (https://pandas.pydata.org/pandas-docs/stable/reference/api/pandas.DataFrame.iloc.html)\n",
    "- `DataFrame.query` (https://pandas.pydata.org/pandas-docs/stable/reference/api/pandas.DataFrame.query.html)\n"
   ],
   "cell_type": "markdown",
   "metadata": {}
  },
  {
   "cell_type": "code",
   "execution_count": 11,
   "metadata": {},
   "outputs": [
    {
     "output_type": "execute_result",
     "data": {
      "text/plain": [
       "tmdb_id                    int64\n",
       "adult                       bool\n",
       "belongs_to_collection     object\n",
       "budget                     int64\n",
       "genres                    object\n",
       "imdb_id                   object\n",
       "original_language         object\n",
       "original_title            object\n",
       "overview                  object\n",
       "tmdb_popularity          float64\n",
       "production_companies      object\n",
       "production_countries      object\n",
       "release_date              object\n",
       "revenue                    int64\n",
       "runtime                  float64\n",
       "languages                 object\n",
       "status                    object\n",
       "tagline                   object\n",
       "title                     object\n",
       "tmdb_vote_count            int64\n",
       "tmdb_vote_average        float64\n",
       "cast                      object\n",
       "id                        object\n",
       "query                     object\n",
       "dtype: object"
      ]
     },
     "metadata": {},
     "execution_count": 11
    }
   ],
   "source": [
    "# dtypes\n",
    "movies_features_df.dtypes"
   ]
  },
  {
   "cell_type": "code",
   "execution_count": 12,
   "metadata": {},
   "outputs": [
    {
     "output_type": "execute_result",
     "data": {
      "text/plain": [
       "Index(['tmdb_id', 'adult', 'belongs_to_collection', 'budget', 'genres',\n",
       "       'imdb_id', 'original_language', 'original_title', 'overview',\n",
       "       'tmdb_popularity', 'production_companies', 'production_countries',\n",
       "       'release_date', 'revenue', 'runtime', 'languages', 'status', 'tagline',\n",
       "       'title', 'tmdb_vote_count', 'tmdb_vote_average', 'cast', 'id', 'query'],\n",
       "      dtype='object')"
      ]
     },
     "metadata": {},
     "execution_count": 12
    }
   ],
   "source": [
    "# columns\n",
    "movies_features_df.columns"
   ]
  },
  {
   "cell_type": "code",
   "execution_count": 13,
   "metadata": {},
   "outputs": [
    {
     "output_type": "execute_result",
     "data": {
      "text/plain": [
       "   tmdb_id  adult                              belongs_to_collection  \\\n",
       "0   420809  False         {'id': 531331, 'name': 'Maléfique - Saga'}   \n",
       "1   542830  False  {'id': 629597, 'name': 'Les Petits Mouchoirs -...   \n",
       "2   429617  False  {'id': 531241, 'name': 'Spider-Man (Avengers) ...   \n",
       "3   512200  False          {'id': 495527, 'name': 'Jumanji  - Saga'}   \n",
       "4   166428  False            {'id': 89137, 'name': 'Dragons - Saga'}   \n",
       "\n",
       "      budget                                             genres    imdb_id  \\\n",
       "0  185000000  [{'id': 14, 'name': 'Fantastique'}, {'id': 107...  tt4777008   \n",
       "1          0  [{'id': 35, 'name': 'Comédie'}, {'id': 18, 'na...  tt8201404   \n",
       "2  160000000  [{'id': 28, 'name': 'Action'}, {'id': 12, 'nam...  tt6320628   \n",
       "3  125000000  [{'id': 12, 'name': 'Aventure'}, {'id': 35, 'n...  tt7975244   \n",
       "4  129000000  [{'id': 16, 'name': 'Animation'}, {'id': 10751...  tt2386490   \n",
       "\n",
       "  original_language                              original_title  \\\n",
       "0                en                Maleficent: Mistress of Evil   \n",
       "1                fr                      Nous finirons ensemble   \n",
       "2                en                   Spider-Man: Far from Home   \n",
       "3                en                     Jumanji: The Next Level   \n",
       "4                en  How to Train Your Dragon: The Hidden World   \n",
       "\n",
       "                                            overview  tmdb_popularity  ...  \\\n",
       "0  Cinq années après la conjuration de la malédic...          184.959  ...   \n",
       "1  Préoccupé, Max est parti dans sa maison au bor...           10.840  ...   \n",
       "2  Peter et ses amis passent leurs vacances d’été...          204.536  ...   \n",
       "3  L’équipe est de retour, mais le jeu a changé. ...          237.001  ...   \n",
       "4  Ce qui avait commencé comme une amitié improba...          113.912  ...   \n",
       "\n",
       "  runtime                                          languages    status  \\\n",
       "0   110.0            [{'iso_code': 'en', 'name': 'English'}]  Released   \n",
       "1   135.0           [{'iso_code': 'fr', 'name': 'Français'}]  Released   \n",
       "2   129.0  [{'iso_code': 'cs', 'name': 'Český'}, {'iso_co...  Released   \n",
       "3   123.0            [{'iso_code': 'en', 'name': 'English'}]  Released   \n",
       "4   104.0            [{'iso_code': 'en', 'name': 'English'}]  Released   \n",
       "\n",
       "                              tagline                          title  \\\n",
       "0      Aller au-delà du conte de fée.  Maléfique 2 Le pouvoir du mal   \n",
       "1                                             Nous finirons ensemble   \n",
       "2  Il est temps de passer à l'action.     Spider-Man : Far from Home   \n",
       "3               Bienvenue à Jumanji !            Jumanji: Next Level   \n",
       "4               Une amitié légendaire     Dragons 3 : Le monde caché   \n",
       "\n",
       "  tmdb_vote_count tmdb_vote_average  \\\n",
       "0            3904               7.4   \n",
       "1             490               6.9   \n",
       "2            8750               7.5   \n",
       "3            5056               7.0   \n",
       "4            4107               7.8   \n",
       "\n",
       "                                                cast     id  \\\n",
       "0  [{'adult': False, 'gender': 1, 'tmdb_id': 1170...  19073   \n",
       "1  [{'adult': False, 'gender': 2, 'tmdb_id': 3316...  18875   \n",
       "2  [{'adult': False, 'gender': 2, 'tmdb_id': 1136...  18243   \n",
       "3  [{'adult': False, 'gender': 2, 'tmdb_id': 1891...  18258   \n",
       "4  [{'adult': False, 'gender': 2, 'tmdb_id': 449,...  18167   \n",
       "\n",
       "                           query  \n",
       "0  Maléfique : Le Pouvoir du Mal  \n",
       "1         Nous finirons ensemble  \n",
       "2      Spider-Man: Far from Home  \n",
       "3            Jumanji: next level  \n",
       "4     Dragons 3 : Le monde caché  \n",
       "\n",
       "[5 rows x 24 columns]"
      ],
      "text/html": "<div>\n<style scoped>\n    .dataframe tbody tr th:only-of-type {\n        vertical-align: middle;\n    }\n\n    .dataframe tbody tr th {\n        vertical-align: top;\n    }\n\n    .dataframe thead th {\n        text-align: right;\n    }\n</style>\n<table border=\"1\" class=\"dataframe\">\n  <thead>\n    <tr style=\"text-align: right;\">\n      <th></th>\n      <th>tmdb_id</th>\n      <th>adult</th>\n      <th>belongs_to_collection</th>\n      <th>budget</th>\n      <th>genres</th>\n      <th>imdb_id</th>\n      <th>original_language</th>\n      <th>original_title</th>\n      <th>overview</th>\n      <th>tmdb_popularity</th>\n      <th>...</th>\n      <th>runtime</th>\n      <th>languages</th>\n      <th>status</th>\n      <th>tagline</th>\n      <th>title</th>\n      <th>tmdb_vote_count</th>\n      <th>tmdb_vote_average</th>\n      <th>cast</th>\n      <th>id</th>\n      <th>query</th>\n    </tr>\n  </thead>\n  <tbody>\n    <tr>\n      <th>0</th>\n      <td>420809</td>\n      <td>False</td>\n      <td>{'id': 531331, 'name': 'Maléfique - Saga'}</td>\n      <td>185000000</td>\n      <td>[{'id': 14, 'name': 'Fantastique'}, {'id': 107...</td>\n      <td>tt4777008</td>\n      <td>en</td>\n      <td>Maleficent: Mistress of Evil</td>\n      <td>Cinq années après la conjuration de la malédic...</td>\n      <td>184.959</td>\n      <td>...</td>\n      <td>110.0</td>\n      <td>[{'iso_code': 'en', 'name': 'English'}]</td>\n      <td>Released</td>\n      <td>Aller au-delà du conte de fée.</td>\n      <td>Maléfique 2 Le pouvoir du mal</td>\n      <td>3904</td>\n      <td>7.4</td>\n      <td>[{'adult': False, 'gender': 1, 'tmdb_id': 1170...</td>\n      <td>19073</td>\n      <td>Maléfique : Le Pouvoir du Mal</td>\n    </tr>\n    <tr>\n      <th>1</th>\n      <td>542830</td>\n      <td>False</td>\n      <td>{'id': 629597, 'name': 'Les Petits Mouchoirs -...</td>\n      <td>0</td>\n      <td>[{'id': 35, 'name': 'Comédie'}, {'id': 18, 'na...</td>\n      <td>tt8201404</td>\n      <td>fr</td>\n      <td>Nous finirons ensemble</td>\n      <td>Préoccupé, Max est parti dans sa maison au bor...</td>\n      <td>10.840</td>\n      <td>...</td>\n      <td>135.0</td>\n      <td>[{'iso_code': 'fr', 'name': 'Français'}]</td>\n      <td>Released</td>\n      <td></td>\n      <td>Nous finirons ensemble</td>\n      <td>490</td>\n      <td>6.9</td>\n      <td>[{'adult': False, 'gender': 2, 'tmdb_id': 3316...</td>\n      <td>18875</td>\n      <td>Nous finirons ensemble</td>\n    </tr>\n    <tr>\n      <th>2</th>\n      <td>429617</td>\n      <td>False</td>\n      <td>{'id': 531241, 'name': 'Spider-Man (Avengers) ...</td>\n      <td>160000000</td>\n      <td>[{'id': 28, 'name': 'Action'}, {'id': 12, 'nam...</td>\n      <td>tt6320628</td>\n      <td>en</td>\n      <td>Spider-Man: Far from Home</td>\n      <td>Peter et ses amis passent leurs vacances d’été...</td>\n      <td>204.536</td>\n      <td>...</td>\n      <td>129.0</td>\n      <td>[{'iso_code': 'cs', 'name': 'Český'}, {'iso_co...</td>\n      <td>Released</td>\n      <td>Il est temps de passer à l'action.</td>\n      <td>Spider-Man : Far from Home</td>\n      <td>8750</td>\n      <td>7.5</td>\n      <td>[{'adult': False, 'gender': 2, 'tmdb_id': 1136...</td>\n      <td>18243</td>\n      <td>Spider-Man: Far from Home</td>\n    </tr>\n    <tr>\n      <th>3</th>\n      <td>512200</td>\n      <td>False</td>\n      <td>{'id': 495527, 'name': 'Jumanji  - Saga'}</td>\n      <td>125000000</td>\n      <td>[{'id': 12, 'name': 'Aventure'}, {'id': 35, 'n...</td>\n      <td>tt7975244</td>\n      <td>en</td>\n      <td>Jumanji: The Next Level</td>\n      <td>L’équipe est de retour, mais le jeu a changé. ...</td>\n      <td>237.001</td>\n      <td>...</td>\n      <td>123.0</td>\n      <td>[{'iso_code': 'en', 'name': 'English'}]</td>\n      <td>Released</td>\n      <td>Bienvenue à Jumanji !</td>\n      <td>Jumanji: Next Level</td>\n      <td>5056</td>\n      <td>7.0</td>\n      <td>[{'adult': False, 'gender': 2, 'tmdb_id': 1891...</td>\n      <td>18258</td>\n      <td>Jumanji: next level</td>\n    </tr>\n    <tr>\n      <th>4</th>\n      <td>166428</td>\n      <td>False</td>\n      <td>{'id': 89137, 'name': 'Dragons - Saga'}</td>\n      <td>129000000</td>\n      <td>[{'id': 16, 'name': 'Animation'}, {'id': 10751...</td>\n      <td>tt2386490</td>\n      <td>en</td>\n      <td>How to Train Your Dragon: The Hidden World</td>\n      <td>Ce qui avait commencé comme une amitié improba...</td>\n      <td>113.912</td>\n      <td>...</td>\n      <td>104.0</td>\n      <td>[{'iso_code': 'en', 'name': 'English'}]</td>\n      <td>Released</td>\n      <td>Une amitié légendaire</td>\n      <td>Dragons 3 : Le monde caché</td>\n      <td>4107</td>\n      <td>7.8</td>\n      <td>[{'adult': False, 'gender': 2, 'tmdb_id': 449,...</td>\n      <td>18167</td>\n      <td>Dragons 3 : Le monde caché</td>\n    </tr>\n  </tbody>\n</table>\n<p>5 rows × 24 columns</p>\n</div>"
     },
     "metadata": {},
     "execution_count": 13
    }
   ],
   "source": [
    "# head\n",
    "movies_features_df.head()"
   ]
  },
  {
   "cell_type": "code",
   "execution_count": 14,
   "metadata": {},
   "outputs": [
    {
     "output_type": "execute_result",
     "data": {
      "text/plain": [
       "      tmdb_id  adult                              belongs_to_collection  \\\n",
       "7048   281338  False  {'id': 173710, 'name': 'La Planète des Singes ...   \n",
       "7049   260514  False               {'id': 87118, 'name': 'Cars - Saga'}   \n",
       "7050   432068  False                                                 {}   \n",
       "7051   341174  False  {'id': 344830, 'name': 'Cinquante nuances - Sa...   \n",
       "7052   434616  False                                                 {}   \n",
       "\n",
       "         budget                                             genres    imdb_id  \\\n",
       "7048  150000000  [{'id': 18, 'name': 'Drame'}, {'id': 878, 'nam...  tt3450958   \n",
       "7049  175000000  [{'id': 12, 'name': 'Aventure'}, {'id': 16, 'n...  tt3606752   \n",
       "7050   17200000                    [{'id': 35, 'name': 'Comédie'}]  tt5699154   \n",
       "7051   55000000  [{'id': 18, 'name': 'Drame'}, {'id': 10749, 'n...  tt4465564   \n",
       "7052          0  [{'id': 18, 'name': 'Drame'}, {'id': 35, 'name...  tt5598100   \n",
       "\n",
       "     original_language                  original_title  \\\n",
       "7048                en  War for the Planet of the Apes   \n",
       "7049                en                          Cars 3   \n",
       "7050                fr              Le Sens de la fête   \n",
       "7051                en             Fifty Shades Darker   \n",
       "7052                fr                        Patients   \n",
       "\n",
       "                                               overview  tmdb_popularity  ...  \\\n",
       "7048  César et les Singes sont contraints de mener u...           50.468  ...   \n",
       "7049  Dépassé par une nouvelle génération de bolides...           88.435  ...   \n",
       "7050  Max est traiteur depuis trente ans. Des fêtes ...            7.793  ...   \n",
       "7051  Dépassée par les sombres secrets de Christian ...           32.518  ...   \n",
       "7052  Se laver, s'habiller, marcher, jouer au basket...            7.122  ...   \n",
       "\n",
       "     runtime                                 languages    status  \\\n",
       "7048   142.0   [{'iso_code': 'en', 'name': 'English'}]  Released   \n",
       "7049   109.0   [{'iso_code': 'en', 'name': 'English'}]  Released   \n",
       "7050   117.0  [{'iso_code': 'fr', 'name': 'Français'}]  Released   \n",
       "7051   118.0   [{'iso_code': 'en', 'name': 'English'}]  Released   \n",
       "7052   110.0  [{'iso_code': 'fr', 'name': 'Français'}]  Released   \n",
       "\n",
       "                                               tagline  \\\n",
       "7048  Pour l'humanité. Pour l'espoir. Pour la planète.   \n",
       "7049           La suite des aventures de Flash McQueen   \n",
       "7050                                                     \n",
       "7051                                                     \n",
       "7052                                                     \n",
       "\n",
       "                                   title tmdb_vote_count tmdb_vote_average  \\\n",
       "7048  La Planète des singes : Suprématie            6391               7.1   \n",
       "7049                              Cars 3            3663               6.8   \n",
       "7050                  Le Sens de la fête             969               6.9   \n",
       "7051      Cinquante nuances plus sombres            5891               6.4   \n",
       "7052                            Patients             469               7.5   \n",
       "\n",
       "                                                   cast     id  \\\n",
       "7048  [{'adult': False, 'gender': 2, 'tmdb_id': 1333...  15748   \n",
       "7049  [{'adult': False, 'gender': 2, 'tmdb_id': 887,...  16452   \n",
       "7050  [{'adult': False, 'gender': 2, 'tmdb_id': 2828...  17386   \n",
       "7051  [{'adult': False, 'gender': 1, 'tmdb_id': 1185...  15186   \n",
       "7052  [{'adult': False, 'gender': 2, 'tmdb_id': 1314...  16903   \n",
       "\n",
       "                                   query  \n",
       "7048  La Planète des Singes - Suprématie  \n",
       "7049                              Cars 3  \n",
       "7050                  Le Sens de la fête  \n",
       "7051      Cinquante nuances plus sombres  \n",
       "7052                            Patients  \n",
       "\n",
       "[5 rows x 24 columns]"
      ],
      "text/html": "<div>\n<style scoped>\n    .dataframe tbody tr th:only-of-type {\n        vertical-align: middle;\n    }\n\n    .dataframe tbody tr th {\n        vertical-align: top;\n    }\n\n    .dataframe thead th {\n        text-align: right;\n    }\n</style>\n<table border=\"1\" class=\"dataframe\">\n  <thead>\n    <tr style=\"text-align: right;\">\n      <th></th>\n      <th>tmdb_id</th>\n      <th>adult</th>\n      <th>belongs_to_collection</th>\n      <th>budget</th>\n      <th>genres</th>\n      <th>imdb_id</th>\n      <th>original_language</th>\n      <th>original_title</th>\n      <th>overview</th>\n      <th>tmdb_popularity</th>\n      <th>...</th>\n      <th>runtime</th>\n      <th>languages</th>\n      <th>status</th>\n      <th>tagline</th>\n      <th>title</th>\n      <th>tmdb_vote_count</th>\n      <th>tmdb_vote_average</th>\n      <th>cast</th>\n      <th>id</th>\n      <th>query</th>\n    </tr>\n  </thead>\n  <tbody>\n    <tr>\n      <th>7048</th>\n      <td>281338</td>\n      <td>False</td>\n      <td>{'id': 173710, 'name': 'La Planète des Singes ...</td>\n      <td>150000000</td>\n      <td>[{'id': 18, 'name': 'Drame'}, {'id': 878, 'nam...</td>\n      <td>tt3450958</td>\n      <td>en</td>\n      <td>War for the Planet of the Apes</td>\n      <td>César et les Singes sont contraints de mener u...</td>\n      <td>50.468</td>\n      <td>...</td>\n      <td>142.0</td>\n      <td>[{'iso_code': 'en', 'name': 'English'}]</td>\n      <td>Released</td>\n      <td>Pour l'humanité. Pour l'espoir. Pour la planète.</td>\n      <td>La Planète des singes : Suprématie</td>\n      <td>6391</td>\n      <td>7.1</td>\n      <td>[{'adult': False, 'gender': 2, 'tmdb_id': 1333...</td>\n      <td>15748</td>\n      <td>La Planète des Singes - Suprématie</td>\n    </tr>\n    <tr>\n      <th>7049</th>\n      <td>260514</td>\n      <td>False</td>\n      <td>{'id': 87118, 'name': 'Cars - Saga'}</td>\n      <td>175000000</td>\n      <td>[{'id': 12, 'name': 'Aventure'}, {'id': 16, 'n...</td>\n      <td>tt3606752</td>\n      <td>en</td>\n      <td>Cars 3</td>\n      <td>Dépassé par une nouvelle génération de bolides...</td>\n      <td>88.435</td>\n      <td>...</td>\n      <td>109.0</td>\n      <td>[{'iso_code': 'en', 'name': 'English'}]</td>\n      <td>Released</td>\n      <td>La suite des aventures de Flash McQueen</td>\n      <td>Cars 3</td>\n      <td>3663</td>\n      <td>6.8</td>\n      <td>[{'adult': False, 'gender': 2, 'tmdb_id': 887,...</td>\n      <td>16452</td>\n      <td>Cars 3</td>\n    </tr>\n    <tr>\n      <th>7050</th>\n      <td>432068</td>\n      <td>False</td>\n      <td>{}</td>\n      <td>17200000</td>\n      <td>[{'id': 35, 'name': 'Comédie'}]</td>\n      <td>tt5699154</td>\n      <td>fr</td>\n      <td>Le Sens de la fête</td>\n      <td>Max est traiteur depuis trente ans. Des fêtes ...</td>\n      <td>7.793</td>\n      <td>...</td>\n      <td>117.0</td>\n      <td>[{'iso_code': 'fr', 'name': 'Français'}]</td>\n      <td>Released</td>\n      <td></td>\n      <td>Le Sens de la fête</td>\n      <td>969</td>\n      <td>6.9</td>\n      <td>[{'adult': False, 'gender': 2, 'tmdb_id': 2828...</td>\n      <td>17386</td>\n      <td>Le Sens de la fête</td>\n    </tr>\n    <tr>\n      <th>7051</th>\n      <td>341174</td>\n      <td>False</td>\n      <td>{'id': 344830, 'name': 'Cinquante nuances - Sa...</td>\n      <td>55000000</td>\n      <td>[{'id': 18, 'name': 'Drame'}, {'id': 10749, 'n...</td>\n      <td>tt4465564</td>\n      <td>en</td>\n      <td>Fifty Shades Darker</td>\n      <td>Dépassée par les sombres secrets de Christian ...</td>\n      <td>32.518</td>\n      <td>...</td>\n      <td>118.0</td>\n      <td>[{'iso_code': 'en', 'name': 'English'}]</td>\n      <td>Released</td>\n      <td></td>\n      <td>Cinquante nuances plus sombres</td>\n      <td>5891</td>\n      <td>6.4</td>\n      <td>[{'adult': False, 'gender': 1, 'tmdb_id': 1185...</td>\n      <td>15186</td>\n      <td>Cinquante nuances plus sombres</td>\n    </tr>\n    <tr>\n      <th>7052</th>\n      <td>434616</td>\n      <td>False</td>\n      <td>{}</td>\n      <td>0</td>\n      <td>[{'id': 18, 'name': 'Drame'}, {'id': 35, 'name...</td>\n      <td>tt5598100</td>\n      <td>fr</td>\n      <td>Patients</td>\n      <td>Se laver, s'habiller, marcher, jouer au basket...</td>\n      <td>7.122</td>\n      <td>...</td>\n      <td>110.0</td>\n      <td>[{'iso_code': 'fr', 'name': 'Français'}]</td>\n      <td>Released</td>\n      <td></td>\n      <td>Patients</td>\n      <td>469</td>\n      <td>7.5</td>\n      <td>[{'adult': False, 'gender': 2, 'tmdb_id': 1314...</td>\n      <td>16903</td>\n      <td>Patients</td>\n    </tr>\n  </tbody>\n</table>\n<p>5 rows × 24 columns</p>\n</div>"
     },
     "metadata": {},
     "execution_count": 14
    }
   ],
   "source": [
    "# tail\n",
    "movies_features_df.tail()"
   ]
  },
  {
   "cell_type": "code",
   "execution_count": 15,
   "metadata": {},
   "outputs": [
    {
     "output_type": "execute_result",
     "data": {
      "text/plain": [
       "169272"
      ]
     },
     "metadata": {},
     "execution_count": 15
    }
   ],
   "source": [
    "# size\n",
    "movies_features_df.size"
   ]
  },
  {
   "cell_type": "code",
   "execution_count": 16,
   "metadata": {},
   "outputs": [
    {
     "output_type": "execute_result",
     "data": {
      "text/plain": [
       "(7053, 24)"
      ]
     },
     "metadata": {},
     "execution_count": 16
    }
   ],
   "source": [
    "# shape\n",
    "movies_features_df.shape"
   ]
  },
  {
   "cell_type": "code",
   "execution_count": 17,
   "metadata": {},
   "outputs": [
    {
     "output_type": "execute_result",
     "data": {
      "text/plain": [
       "'Maleficent: Mistress of Evil'"
      ]
     },
     "metadata": {},
     "execution_count": 17
    }
   ],
   "source": [
    "# loc\n",
    "movies_features_df.loc[0, 'original_title']"
   ]
  },
  {
   "cell_type": "code",
   "execution_count": 18,
   "metadata": {},
   "outputs": [
    {
     "output_type": "execute_result",
     "data": {
      "text/plain": [
       "tmdb_id                                                             420809\n",
       "adult                                                                False\n",
       "belongs_to_collection           {'id': 531331, 'name': 'Maléfique - Saga'}\n",
       "budget                                                           185000000\n",
       "genres                   [{'id': 14, 'name': 'Fantastique'}, {'id': 107...\n",
       "imdb_id                                                          tt4777008\n",
       "original_language                                                       en\n",
       "original_title                                Maleficent: Mistress of Evil\n",
       "overview                 Cinq années après la conjuration de la malédic...\n",
       "tmdb_popularity                                                    184.959\n",
       "Name: 0, dtype: object"
      ]
     },
     "metadata": {},
     "execution_count": 18
    }
   ],
   "source": [
    "# iloc\n",
    "movies_features_df.iloc[0, 0:10]"
   ]
  },
  {
   "cell_type": "code",
   "execution_count": 21,
   "metadata": {},
   "outputs": [
    {
     "output_type": "execute_result",
     "data": {
      "text/plain": [
       "   tmdb_id  adult                       belongs_to_collection     budget  \\\n",
       "0   420809  False  {'id': 531331, 'name': 'Maléfique - Saga'}  185000000   \n",
       "\n",
       "                                              genres    imdb_id  \\\n",
       "0  [{'id': 14, 'name': 'Fantastique'}, {'id': 107...  tt4777008   \n",
       "\n",
       "  original_language                original_title  \\\n",
       "0                en  Maleficent: Mistress of Evil   \n",
       "\n",
       "                                            overview  tmdb_popularity  ...  \\\n",
       "0  Cinq années après la conjuration de la malédic...          184.959  ...   \n",
       "\n",
       "  runtime                                languages    status  \\\n",
       "0   110.0  [{'iso_code': 'en', 'name': 'English'}]  Released   \n",
       "\n",
       "                          tagline                          title  \\\n",
       "0  Aller au-delà du conte de fée.  Maléfique 2 Le pouvoir du mal   \n",
       "\n",
       "  tmdb_vote_count tmdb_vote_average  \\\n",
       "0            3904               7.4   \n",
       "\n",
       "                                                cast     id  \\\n",
       "0  [{'adult': False, 'gender': 1, 'tmdb_id': 1170...  19073   \n",
       "\n",
       "                           query  \n",
       "0  Maléfique : Le Pouvoir du Mal  \n",
       "\n",
       "[1 rows x 24 columns]"
      ],
      "text/html": "<div>\n<style scoped>\n    .dataframe tbody tr th:only-of-type {\n        vertical-align: middle;\n    }\n\n    .dataframe tbody tr th {\n        vertical-align: top;\n    }\n\n    .dataframe thead th {\n        text-align: right;\n    }\n</style>\n<table border=\"1\" class=\"dataframe\">\n  <thead>\n    <tr style=\"text-align: right;\">\n      <th></th>\n      <th>tmdb_id</th>\n      <th>adult</th>\n      <th>belongs_to_collection</th>\n      <th>budget</th>\n      <th>genres</th>\n      <th>imdb_id</th>\n      <th>original_language</th>\n      <th>original_title</th>\n      <th>overview</th>\n      <th>tmdb_popularity</th>\n      <th>...</th>\n      <th>runtime</th>\n      <th>languages</th>\n      <th>status</th>\n      <th>tagline</th>\n      <th>title</th>\n      <th>tmdb_vote_count</th>\n      <th>tmdb_vote_average</th>\n      <th>cast</th>\n      <th>id</th>\n      <th>query</th>\n    </tr>\n  </thead>\n  <tbody>\n    <tr>\n      <th>0</th>\n      <td>420809</td>\n      <td>False</td>\n      <td>{'id': 531331, 'name': 'Maléfique - Saga'}</td>\n      <td>185000000</td>\n      <td>[{'id': 14, 'name': 'Fantastique'}, {'id': 107...</td>\n      <td>tt4777008</td>\n      <td>en</td>\n      <td>Maleficent: Mistress of Evil</td>\n      <td>Cinq années après la conjuration de la malédic...</td>\n      <td>184.959</td>\n      <td>...</td>\n      <td>110.0</td>\n      <td>[{'iso_code': 'en', 'name': 'English'}]</td>\n      <td>Released</td>\n      <td>Aller au-delà du conte de fée.</td>\n      <td>Maléfique 2 Le pouvoir du mal</td>\n      <td>3904</td>\n      <td>7.4</td>\n      <td>[{'adult': False, 'gender': 1, 'tmdb_id': 1170...</td>\n      <td>19073</td>\n      <td>Maléfique : Le Pouvoir du Mal</td>\n    </tr>\n  </tbody>\n</table>\n<p>1 rows × 24 columns</p>\n</div>"
     },
     "metadata": {},
     "execution_count": 21
    }
   ],
   "source": [
    "# query\n",
    "movies_features_df.query('original_title == \"Maleficent: Mistress of Evil\"')"
   ]
  },
  {
   "source": [
    "### 3-4. Data merging\n",
    "\n",
    "Reload your boxoffice dataset. Using the `DataFrame.merge` function, merge both datasets into a single one. This will be the data we'll analyse and transform in the next session. How would you prefer to save it? In which format?"
   ],
   "cell_type": "markdown",
   "metadata": {}
  },
  {
   "cell_type": "code",
   "execution_count": 23,
   "metadata": {},
   "outputs": [
    {
     "output_type": "execute_result",
     "data": {
      "text/plain": [
       "   tmdb_id  adult                              belongs_to_collection  \\\n",
       "0   420809  False         {'id': 531331, 'name': 'Maléfique - Saga'}   \n",
       "1   542830  False  {'id': 629597, 'name': 'Les Petits Mouchoirs -...   \n",
       "2   429617  False  {'id': 531241, 'name': 'Spider-Man (Avengers) ...   \n",
       "3   512200  False          {'id': 495527, 'name': 'Jumanji  - Saga'}   \n",
       "4   166428  False            {'id': 89137, 'name': 'Dragons - Saga'}   \n",
       "\n",
       "      budget                                             genres    imdb_id  \\\n",
       "0  185000000  [{'id': 14, 'name': 'Fantastique'}, {'id': 107...  tt4777008   \n",
       "1          0  [{'id': 35, 'name': 'Comédie'}, {'id': 18, 'na...  tt8201404   \n",
       "2  160000000  [{'id': 28, 'name': 'Action'}, {'id': 12, 'nam...  tt6320628   \n",
       "3  125000000  [{'id': 12, 'name': 'Aventure'}, {'id': 35, 'n...  tt7975244   \n",
       "4  129000000  [{'id': 16, 'name': 'Animation'}, {'id': 10751...  tt2386490   \n",
       "\n",
       "  original_language                              original_title  \\\n",
       "0                en                Maleficent: Mistress of Evil   \n",
       "1                fr                      Nous finirons ensemble   \n",
       "2                en                   Spider-Man: Far from Home   \n",
       "3                en                     Jumanji: The Next Level   \n",
       "4                en  How to Train Your Dragon: The Hidden World   \n",
       "\n",
       "                                            overview  tmdb_popularity  ...  \\\n",
       "0  Cinq années après la conjuration de la malédic...          184.959  ...   \n",
       "1  Préoccupé, Max est parti dans sa maison au bor...           10.840  ...   \n",
       "2  Peter et ses amis passent leurs vacances d’été...          204.536  ...   \n",
       "3  L’équipe est de retour, mais le jeu a changé. ...          237.001  ...   \n",
       "4  Ce qui avait commencé comme une amitié improba...          113.912  ...   \n",
       "\n",
       "   year rank                        title_y  total_sales  release_date_y  \\\n",
       "0  2019   13  Maléfique : Le Pouvoir du Mal      2718604      2019-10-16   \n",
       "1  2019   12         Nous finirons ensemble      2800004      2019-05-01   \n",
       "2  2019   11      Spider-Man: Far from Home      3226105      2019-07-03   \n",
       "3  2019   10            Jumanji: next level      3255668      2019-12-04   \n",
       "4  2019    9     Dragons 3 : Le monde caché      3367445      2019-02-06   \n",
       "\n",
       "  max_theaters_used first_screening_sales first_day_sales first_weekend_sales  \\\n",
       "0               575                   NaN         66164.0            548537.0   \n",
       "1               757                   NaN        370691.0           1056143.0   \n",
       "2               833                   NaN        453503.0           1109050.0   \n",
       "3               676                   NaN        103369.0            713189.0   \n",
       "4               744                   NaN        300542.0           1020715.0   \n",
       "\n",
       "   first_week_sales  \n",
       "0            786485  \n",
       "1           1261701  \n",
       "2           1370178  \n",
       "3            785636  \n",
       "4           1224811  \n",
       "\n",
       "[5 rows x 34 columns]"
      ],
      "text/html": "<div>\n<style scoped>\n    .dataframe tbody tr th:only-of-type {\n        vertical-align: middle;\n    }\n\n    .dataframe tbody tr th {\n        vertical-align: top;\n    }\n\n    .dataframe thead th {\n        text-align: right;\n    }\n</style>\n<table border=\"1\" class=\"dataframe\">\n  <thead>\n    <tr style=\"text-align: right;\">\n      <th></th>\n      <th>tmdb_id</th>\n      <th>adult</th>\n      <th>belongs_to_collection</th>\n      <th>budget</th>\n      <th>genres</th>\n      <th>imdb_id</th>\n      <th>original_language</th>\n      <th>original_title</th>\n      <th>overview</th>\n      <th>tmdb_popularity</th>\n      <th>...</th>\n      <th>year</th>\n      <th>rank</th>\n      <th>title_y</th>\n      <th>total_sales</th>\n      <th>release_date_y</th>\n      <th>max_theaters_used</th>\n      <th>first_screening_sales</th>\n      <th>first_day_sales</th>\n      <th>first_weekend_sales</th>\n      <th>first_week_sales</th>\n    </tr>\n  </thead>\n  <tbody>\n    <tr>\n      <th>0</th>\n      <td>420809</td>\n      <td>False</td>\n      <td>{'id': 531331, 'name': 'Maléfique - Saga'}</td>\n      <td>185000000</td>\n      <td>[{'id': 14, 'name': 'Fantastique'}, {'id': 107...</td>\n      <td>tt4777008</td>\n      <td>en</td>\n      <td>Maleficent: Mistress of Evil</td>\n      <td>Cinq années après la conjuration de la malédic...</td>\n      <td>184.959</td>\n      <td>...</td>\n      <td>2019</td>\n      <td>13</td>\n      <td>Maléfique : Le Pouvoir du Mal</td>\n      <td>2718604</td>\n      <td>2019-10-16</td>\n      <td>575</td>\n      <td>NaN</td>\n      <td>66164.0</td>\n      <td>548537.0</td>\n      <td>786485</td>\n    </tr>\n    <tr>\n      <th>1</th>\n      <td>542830</td>\n      <td>False</td>\n      <td>{'id': 629597, 'name': 'Les Petits Mouchoirs -...</td>\n      <td>0</td>\n      <td>[{'id': 35, 'name': 'Comédie'}, {'id': 18, 'na...</td>\n      <td>tt8201404</td>\n      <td>fr</td>\n      <td>Nous finirons ensemble</td>\n      <td>Préoccupé, Max est parti dans sa maison au bor...</td>\n      <td>10.840</td>\n      <td>...</td>\n      <td>2019</td>\n      <td>12</td>\n      <td>Nous finirons ensemble</td>\n      <td>2800004</td>\n      <td>2019-05-01</td>\n      <td>757</td>\n      <td>NaN</td>\n      <td>370691.0</td>\n      <td>1056143.0</td>\n      <td>1261701</td>\n    </tr>\n    <tr>\n      <th>2</th>\n      <td>429617</td>\n      <td>False</td>\n      <td>{'id': 531241, 'name': 'Spider-Man (Avengers) ...</td>\n      <td>160000000</td>\n      <td>[{'id': 28, 'name': 'Action'}, {'id': 12, 'nam...</td>\n      <td>tt6320628</td>\n      <td>en</td>\n      <td>Spider-Man: Far from Home</td>\n      <td>Peter et ses amis passent leurs vacances d’été...</td>\n      <td>204.536</td>\n      <td>...</td>\n      <td>2019</td>\n      <td>11</td>\n      <td>Spider-Man: Far from Home</td>\n      <td>3226105</td>\n      <td>2019-07-03</td>\n      <td>833</td>\n      <td>NaN</td>\n      <td>453503.0</td>\n      <td>1109050.0</td>\n      <td>1370178</td>\n    </tr>\n    <tr>\n      <th>3</th>\n      <td>512200</td>\n      <td>False</td>\n      <td>{'id': 495527, 'name': 'Jumanji  - Saga'}</td>\n      <td>125000000</td>\n      <td>[{'id': 12, 'name': 'Aventure'}, {'id': 35, 'n...</td>\n      <td>tt7975244</td>\n      <td>en</td>\n      <td>Jumanji: The Next Level</td>\n      <td>L’équipe est de retour, mais le jeu a changé. ...</td>\n      <td>237.001</td>\n      <td>...</td>\n      <td>2019</td>\n      <td>10</td>\n      <td>Jumanji: next level</td>\n      <td>3255668</td>\n      <td>2019-12-04</td>\n      <td>676</td>\n      <td>NaN</td>\n      <td>103369.0</td>\n      <td>713189.0</td>\n      <td>785636</td>\n    </tr>\n    <tr>\n      <th>4</th>\n      <td>166428</td>\n      <td>False</td>\n      <td>{'id': 89137, 'name': 'Dragons - Saga'}</td>\n      <td>129000000</td>\n      <td>[{'id': 16, 'name': 'Animation'}, {'id': 10751...</td>\n      <td>tt2386490</td>\n      <td>en</td>\n      <td>How to Train Your Dragon: The Hidden World</td>\n      <td>Ce qui avait commencé comme une amitié improba...</td>\n      <td>113.912</td>\n      <td>...</td>\n      <td>2019</td>\n      <td>9</td>\n      <td>Dragons 3 : Le monde caché</td>\n      <td>3367445</td>\n      <td>2019-02-06</td>\n      <td>744</td>\n      <td>NaN</td>\n      <td>300542.0</td>\n      <td>1020715.0</td>\n      <td>1224811</td>\n    </tr>\n  </tbody>\n</table>\n<p>5 rows × 34 columns</p>\n</div>"
     },
     "metadata": {},
     "execution_count": 23
    }
   ],
   "source": [
    "boxoffice_df = pd.DataFrame(boxoffice)\n",
    "train_set = movies_features_df.merge(boxoffice_df, on='id')\n",
    "train_set.head()"
   ]
  },
  {
   "cell_type": "code",
   "execution_count": null,
   "metadata": {},
   "outputs": [],
   "source": [
    "# Save your data here\n",
    "payload = train_set.to_dict('records')\n",
    "write_json_to_file(payload, \"../../data/train_set.json\")"
   ]
  }
 ]
}