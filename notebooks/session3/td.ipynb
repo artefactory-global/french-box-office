{
 "metadata": {
  "language_info": {
   "codemirror_mode": {
    "name": "ipython",
    "version": 3
   },
   "file_extension": ".py",
   "mimetype": "text/x-python",
   "name": "python",
   "nbconvert_exporter": "python",
   "pygments_lexer": "ipython3",
   "version": 3
  },
  "orig_nbformat": 2
 },
 "nbformat": 4,
 "nbformat_minor": 2,
 "cells": [
  {
   "cell_type": "code",
   "execution_count": null,
   "metadata": {},
   "outputs": [],
   "source": [
    "# Copyright (C) 2020 Artefact\n",
    "# licence-information@artefact.com\n",
    "\n",
    "# This program is free software: you can redistribute it and/or modify\n",
    "# it under the terms of the GNU Affero General Public License as\n",
    "# published by the Free Software Foundation, either version 3 of the\n",
    "# License, or (at your option) any later version.\n",
    "\n",
    "# This program is distributed in the hope that it will be useful,\n",
    "# but WITHOUT ANY WARRANTY; without even the implied warranty of\n",
    "# MERCHANTABILITY or FITNESS FOR A PARTICULAR PURPOSE.  See the\n",
    "# GNU Affero General Public License for more details.\n",
    "\n",
    "# You should have received a copy of the GNU Affero General Public License\n",
    "# along with this program.  If not, see <https://www.gnu.org/licenses/>."
   ]
  },
  {
   "source": [
    "<table><tr>\n",
    "<td> <img src=\"https://upload.wikimedia.org/wikipedia/fr/thumb/e/e5/Logo_%C3%A9cole_des_ponts_paristech.svg/676px-Logo_%C3%A9cole_des_ponts_paristech.svg.png\" width=\"200\"  height=\"200\" hspace=\"200\"/> </td>\n",
    "<td> <img src=\"https://pbs.twimg.com/profile_images/1156541928193896448/5ihYIbCQ_200x200.png\" width=\"200\" height=\"200\" /> </td>\n",
    "</tr></table>\n",
    "\n",
    "<br/><br/><br/><br/>\n",
    "\n",
    "<h1><center>Session 3 - Data Sourcing</center></h1>\n",
    "\n",
    "<font size=\"3\">\n",
    "The goal of this session is to get and consolidate the data we need for our \"first week\" boxoffice prediction project. We will:\n",
    "\n",
    "- first read sales data provided by one of our company department\n",
    "- then look for additional data to complete our understanding of the movies involved\n",
    "- finally consolidate all the data into a single database\n",
    "\n",
    "</font>"
   ],
   "cell_type": "markdown",
   "metadata": {}
  },
  {
   "source": [
    "# 1 - Movies and their first week boxoffice\n",
    "\n",
    "The market study service from your company has shared with you a list of french movies released during the last 5 years, with their boxoffice results. The file is available through a Gdrive [link](https://drive.google.com/file/d/1Pxs-C6l47wjWfBvsuQxJePlY1AjFBC5R/view?usp=sharing)."
   ],
   "cell_type": "markdown",
   "metadata": {}
  },
  {
   "source": [
    "### 1-1. Download the file\n",
    "\n",
    "What kind of file format it is? \n",
    "Are the data included a priori easy to understand? \n",
    "Would you need further documentation to grasp their meaning?\n",
    "What are the advantages and drawbacks of using these kinds of file and format?\n",
    "What data do you need additionnally for your project?"
   ],
   "cell_type": "markdown",
   "metadata": {}
  },
  {
   "source": [
    "> Write your answers here"
   ],
   "cell_type": "markdown",
   "metadata": {}
  },
  {
   "source": [
    "### 1-2 Put the file in a proper location\n",
    "\n",
    "Ideally, where would you like to place it?\n",
    "Should you use `git`, would you push this file to remote? If not, how do you properly avoid to do it?"
   ],
   "cell_type": "markdown",
   "metadata": {}
  },
  {
   "source": [
    "> Write your answers here"
   ],
   "cell_type": "markdown",
   "metadata": {}
  },
  {
   "source": [
    "### 1-3. Open the file\n",
    "\n",
    "How do you open `.json` files?\n",
    "Write a simple function which will open any json file located at a `path` given as argument and return back the file content. Test it on our file. How can you verify it worked?\n"
   ],
   "cell_type": "markdown",
   "metadata": {}
  },
  {
   "cell_type": "code",
   "execution_count": null,
   "metadata": {},
   "outputs": [],
   "source": [
    "# Write your function here"
   ]
  },
  {
   "cell_type": "code",
   "execution_count": null,
   "metadata": {},
   "outputs": [],
   "source": [
    "# Test it here"
   ]
  },
  {
   "source": [
    "# 2 - Movie features\n",
    "\n",
    "We are still missing additional features that would help us our algorithms better predict movie theaters sales during the first week of a movie release. "
   ],
   "cell_type": "markdown",
   "metadata": {}
  },
  {
   "source": [
    "### 2-1. Source identification\n",
    "\n",
    "Where could we find such information? Try to find ideas on the web."
   ],
   "cell_type": "markdown",
   "metadata": {}
  },
  {
   "source": [
    "> Write your answers here"
   ],
   "cell_type": "markdown",
   "metadata": {}
  },
  {
   "source": [
    "### 2-2. Terms of contracts and usage\n",
    "\n",
    "A priori, could we use the service provided by the website we have just found?\n",
    "Take a moment to look at the API documentation. List all information we could retrieve which could be interesting for our project.\n",
    "How would you do to:\n",
    "\n",
    "1. extract the information you need. Think of the different functions you would need to perform this.\n",
    "2. link back these features to our boxoffice data? Which feature from this dataset should we save along with the movie features?"
   ],
   "cell_type": "markdown",
   "metadata": {}
  },
  {
   "source": [
    "> Write your answers here"
   ],
   "cell_type": "markdown",
   "metadata": {}
  },
  {
   "source": [
    "### 2-3. Connectors\n",
    "\n",
    "Create an account to proceed.\n",
    "How would you connect to the API?"
   ],
   "cell_type": "markdown",
   "metadata": {}
  },
  {
   "source": [
    "> Write your answers here"
   ],
   "cell_type": "markdown",
   "metadata": {}
  },
  {
   "source": [
    "### 2-4. Data extraction\n",
    "\n",
    "Write several function which will extract the information you need in a structured object. What kind of python object would you use? Test these functions on a movie of your choice."
   ],
   "cell_type": "markdown",
   "metadata": {}
  },
  {
   "cell_type": "code",
   "execution_count": null,
   "metadata": {},
   "outputs": [],
   "source": [
    "# Write your functions"
   ]
  },
  {
   "cell_type": "code",
   "execution_count": null,
   "metadata": {},
   "outputs": [],
   "source": [
    "# Test them here"
   ]
  },
  {
   "source": [
    "### 2-5. Run\n",
    "\n",
    "Write the loop which will extract all the data required. Test it on a subset of 20 movies. No need to run it on the whole scope, we will avoid overloading the API servers and provide you with the end data directly.\n",
    "\n",
    "In which format would you store the data? Where would you save it? Write a function to perform this operation and test it."
   ],
   "cell_type": "markdown",
   "metadata": {}
  },
  {
   "cell_type": "code",
   "execution_count": null,
   "metadata": {},
   "outputs": [],
   "source": [
    "# Write the loop here"
   ]
  },
  {
   "cell_type": "code",
   "execution_count": null,
   "metadata": {},
   "outputs": [],
   "source": [
    "# Function to save your data sample"
   ]
  },
  {
   "cell_type": "code",
   "execution_count": null,
   "metadata": {},
   "outputs": [],
   "source": [
    "# Save your data here"
   ]
  },
  {
   "source": [
    "# 3 - Data consolidation"
   ],
   "cell_type": "markdown",
   "metadata": {}
  },
  {
   "source": [
    "### 3-1. Next steps?\n",
    "\n",
    "You can download the whole movies features database [here](https://drive.google.com/file/d/1hv_FCcJi--n0S9GXu75zS7hRGcCrPB6d/view?usp=sharing). What should we do next before moving to the data preparation and modelling parts?"
   ],
   "cell_type": "markdown",
   "metadata": {}
  },
  {
   "source": [
    "> Write your answers here"
   ],
   "cell_type": "markdown",
   "metadata": {}
  },
  {
   "source": [
    "### 3-2. Data reading\n",
    "\n",
    "`pandas` (https://pandas.pydata.org) is very well known Python library to perform data analysis and manipulation. It mainly works leveraging two powerful objects: `series` and `DataFrame` (https://pandas.pydata.org/pandas-docs/stable/user_guide/dsintro.html#intro-to-data-structures). For more information and a 10 min introduction you can watch this [video](https://www.youtube.com/watch?v=_T8LGqJtuGc&feature=emb_title).\n",
    "\n",
    "Read again your movie features dataset. Cast it into a `DataFrame` (`pd.DataFrame()` [supports](https://pandas.pydata.org/pandas-docs/stable/reference/api/pandas.DataFrame.html#pandas-dataframe) taking into account list of dicts)."
   ],
   "cell_type": "markdown",
   "metadata": {}
  },
  {
   "cell_type": "code",
   "execution_count": null,
   "metadata": {},
   "outputs": [],
   "source": [
    "# Write your code here"
   ]
  },
  {
   "source": [
    "### 3-3. Data manipulation\n",
    "\n",
    "`pandas` and the affiliated `DataFrame` come with a lot of handy features. Here is a non exhaustive list. Take a few minutes to test them on your new `DataFrame`.\n",
    "\n",
    "- `DataFrame.columns` (https://pandas.pydata.org/pandas-docs/stable/reference/api/pandas.DataFrame.columns.html)\n",
    "- `DataFrame.dtypes` (https://pandas.pydata.org/pandas-docs/stable/reference/api/pandas.DataFrame.dtypes.html)\n",
    "- `DataFrame.head` (https://pandas.pydata.org/pandas-docs/stable/reference/api/pandas.DataFrame.head.html)\n",
    "- `DataFrame.tail` (https://pandas.pydata.org/pandas-docs/stable/reference/api/pandas.DataFrame.tail.html)\n",
    "- `DataFrame.size` (https://pandas.pydata.org/pandas-docs/stable/reference/api/pandas.DataFrame.size.html)\n",
    "- `DataFrame.shape` (https://pandas.pydata.org/pandas-docs/stable/reference/api/pandas.DataFrame.shape.html)\n",
    "- `DataFrame.loc` (https://pandas.pydata.org/pandas-docs/stable/reference/api/pandas.DataFrame.loc.html)\n",
    "- `DataFrame.iloc` (https://pandas.pydata.org/pandas-docs/stable/reference/api/pandas.DataFrame.iloc.html)\n",
    "- `DataFrame.query` (https://pandas.pydata.org/pandas-docs/stable/reference/api/pandas.DataFrame.query.html)\n"
   ],
   "cell_type": "markdown",
   "metadata": {}
  },
  {
   "cell_type": "code",
   "execution_count": null,
   "metadata": {},
   "outputs": [],
   "source": [
    "# dtypes"
   ]
  },
  {
   "cell_type": "code",
   "execution_count": null,
   "metadata": {},
   "outputs": [],
   "source": [
    "# columns"
   ]
  },
  {
   "cell_type": "code",
   "execution_count": null,
   "metadata": {},
   "outputs": [],
   "source": [
    "# head"
   ]
  },
  {
   "cell_type": "code",
   "execution_count": null,
   "metadata": {},
   "outputs": [],
   "source": [
    "# tail"
   ]
  },
  {
   "cell_type": "code",
   "execution_count": null,
   "metadata": {},
   "outputs": [],
   "source": [
    "# size"
   ]
  },
  {
   "cell_type": "code",
   "execution_count": null,
   "metadata": {},
   "outputs": [],
   "source": [
    "# shape"
   ]
  },
  {
   "cell_type": "code",
   "execution_count": null,
   "metadata": {},
   "outputs": [],
   "source": [
    "# loc"
   ]
  },
  {
   "cell_type": "code",
   "execution_count": null,
   "metadata": {},
   "outputs": [],
   "source": [
    "# iloc"
   ]
  },
  {
   "cell_type": "code",
   "execution_count": null,
   "metadata": {},
   "outputs": [],
   "source": [
    "# query"
   ]
  },
  {
   "source": [
    "### 3-4. Data merging\n",
    "\n",
    "Reload your boxoffice dataset. Using the `DataFrame.merge` function, merge both datasets into a single one. This will be the data we'll analyse and transform in the next session. How would you prefer to save it? In which format?"
   ],
   "cell_type": "markdown",
   "metadata": {}
  },
  {
   "cell_type": "code",
   "execution_count": null,
   "metadata": {},
   "outputs": [],
   "source": [
    "# Write your data manipulation here"
   ]
  },
  {
   "cell_type": "code",
   "execution_count": null,
   "metadata": {},
   "outputs": [],
   "source": [
    "# Save your data here"
   ]
  },
  {
   "source": [
    "# 4 - (Bonus) Data crawling\n",
    "\n",
    "Write a crawling script that will extract all tabular data (movie title, sales) from this [webpage](http://jpbox-office.com/charts_france.php?view=&filtre=datefr&limite=0&infla=0&variable=2019&tri=champ0&order=DESC&limit5=0). How would you extend your script to crawl further information from this website?\n",
    "\n",
    "NB: Please crawl responsibly and parcimoniously websites and avoid overloading the web with too many requests."
   ],
   "cell_type": "markdown",
   "metadata": {}
  },
  {
   "cell_type": "code",
   "execution_count": null,
   "metadata": {},
   "outputs": [],
   "source": [
    "# Write your functions and script here"
   ]
  }
 ]
}