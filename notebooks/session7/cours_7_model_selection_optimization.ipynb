{
 "cells": [
  {
   "cell_type": "markdown",
   "id": "formal-pointer",
   "metadata": {},
   "source": [
    "## 0 - Model training"
   ]
  },
  {
   "cell_type": "markdown",
   "id": "intensive-microwave",
   "metadata": {},
   "source": [
    "#### last class wrap up functions"
   ]
  },
  {
   "cell_type": "code",
   "execution_count": 10,
   "id": "satisfied-consumption",
   "metadata": {},
   "outputs": [],
   "source": [
    "#basics\n",
    "import pandas as pd\n",
    "import numpy as np\n",
    "#processing\n",
    "from sklearn.model_selection import train_test_split\n",
    "\n",
    "#metrics\n",
    "from sklearn.metrics import mean_squared_error, mean_absolute_error, r2_score\n",
    "from sklearn.metrics._regression import _check_reg_targets\n",
    "\n",
    "#models\n",
    "from lightgbm import LGBMRegressor\n",
    "from sklearn.linear_model import LinearRegression\n",
    "from sklearn.ensemble import RandomForestRegressor\n",
    "from catboost import CatBoostRegressor"
   ]
  },
  {
   "cell_type": "code",
   "execution_count": 30,
   "id": "planned-conservation",
   "metadata": {},
   "outputs": [],
   "source": [
    "def prepare_data(data):\n",
    "    data = data.dropna()\n",
    "    data = data.query(\"year != 2020\")\n",
    "    data = data.sort_values(by='release_date')\n",
    "    data.release_date = pd.to_datetime(data.release_date)\n",
    "    data.index = data.release_date\n",
    "    y = data.sales\n",
    "    y = y.astype(float)\n",
    "    X = data.drop(columns=['index', 'year', 'sales', 'release_date'], errors='ignore')\n",
    "    return X,y\n",
    "\n",
    "def train_test_split_by_date(df: pd.DataFrame, split_date: str):\n",
    "    \"\"\"Split dataset according to a split date in format \"YYYY-MM-DD\"\n",
    "    - train: [:split_date[\n",
    "    - test: [split_date:]\n",
    "    \"\"\"\n",
    "    train = df.loc[:split_date].copy()\n",
    "    test = df.loc[split_date:].copy()\n",
    "    return train, test\n",
    "\n",
    "def mean_absolute_percentage_error(y_true, y_pred):\n",
    "    \"\"\"in percent\"\"\"\n",
    "    y_true, y_pred = np.array(y_true), np.array(y_pred)\n",
    "    return np.mean(np.abs((y_true - y_pred)/y_true)) * 100\n",
    "\n",
    "def get_evaluation_metrics(y_test, y_pred, y_train=None) -> dict:\n",
    "    metrics = {\n",
    "        'mape': mean_absolute_percentage_error(y_test, y_pred),\n",
    "        'mse': mean_squared_error(y_test, y_pred, squared=True),\n",
    "        'rmse': mean_squared_error(y_test, y_pred, squared=False),\n",
    "        'mae': mean_absolute_error(y_test, y_pred),\n",
    "        'r2': r2_score(y_test, y_pred),\n",
    "    }\n",
    "    return metrics\n",
    "\n",
    "def mean_absolute_percentage_error(y_true, y_pred):\n",
    "    \"\"\"in percent\"\"\"\n",
    "    y_true, y_pred = np.array(y_true), np.array(y_pred)\n",
    "    return np.mean(np.abs((y_true - y_pred)/y_true)) * 100\n",
    "\n",
    "\n",
    "def prettify_metrics(metrics: dict) -> str:\n",
    "    output = [f\"Evaluation:\\n{'-'*10}\"]\n",
    "    for name, metric in metrics.items():\n",
    "        output.append((f'- {name.upper()}: {round(metric, 2)}'))\n",
    "    return '\\n'.join(output)\n",
    "\n",
    "def train_test_learner(learners):\n",
    "    for lr in learners:\n",
    "        print(lr.__class__)\n",
    "        lr = lr.fit(X_train, y_train)\n",
    "        yhat = lr.predict(X_test)\n",
    "        print(prettify_metrics(get_evaluation_metrics(y_test, yhat)))\n",
    "        print('\\n')"
   ]
  },
  {
   "cell_type": "markdown",
   "id": "southern-tutorial",
   "metadata": {},
   "source": [
    "#### Prepare data"
   ]
  },
  {
   "cell_type": "code",
   "execution_count": 48,
   "id": "theoretical-medicare",
   "metadata": {},
   "outputs": [],
   "source": [
    "data_processed = pd.read_csv('/Users/yaguethiam/Ponts/data_prepared_ponts_v4.csv')"
   ]
  },
  {
   "cell_type": "code",
   "execution_count": 49,
   "id": "affiliated-parker",
   "metadata": {},
   "outputs": [],
   "source": [
    "X, y = prepare_data(data_processed)\n",
    "\n",
    "X_train, X_test = train_test_split_by_date(X, '2018-01-01')\n",
    "y_train, y_test = train_test_split_by_date(y, '2018-01-01')"
   ]
  },
  {
   "cell_type": "code",
   "execution_count": 6,
   "id": "bulgarian-announcement",
   "metadata": {},
   "outputs": [],
   "source": [
    "from sklearn.model_selection import TimeSeriesSplit"
   ]
  },
  {
   "cell_type": "code",
   "execution_count": null,
   "id": "suspected-radius",
   "metadata": {},
   "outputs": [],
   "source": [
    "#todo"
   ]
  },
  {
   "cell_type": "markdown",
   "id": "stunning-liver",
   "metadata": {},
   "source": [
    "#### Models Evaluation"
   ]
  },
  {
   "cell_type": "code",
   "execution_count": 31,
   "id": "professional-slope",
   "metadata": {},
   "outputs": [
    {
     "name": "stdout",
     "output_type": "stream",
     "text": [
      "<class 'sklearn.linear_model._base.LinearRegression'>\n",
      "Evaluation:\n",
      "----------\n",
      "- MAPE: 1185.43\n",
      "- MSE: 51183156852.65\n",
      "- RMSE: 226236.95\n",
      "- MAE: 129010.34\n",
      "- R2: 0.56\n",
      "\n",
      "\n",
      "<class 'sklearn.ensemble._forest.RandomForestRegressor'>\n",
      "Evaluation:\n",
      "----------\n",
      "- MAPE: 1251.39\n",
      "- MSE: 52114654061.29\n",
      "- RMSE: 228286.34\n",
      "- MAE: 124703.72\n",
      "- R2: 0.55\n",
      "\n",
      "\n",
      "<class 'lightgbm.sklearn.LGBMRegressor'>\n",
      "Evaluation:\n",
      "----------\n",
      "- MAPE: 986.91\n",
      "- MSE: 47208306381.14\n",
      "- RMSE: 217274.73\n",
      "- MAE: 115518.99\n",
      "- R2: 0.59\n",
      "\n",
      "\n"
     ]
    }
   ],
   "source": [
    "learners = [LinearRegression(),RandomForestRegressor(), LGBMRegressor()]\n",
    "train_test_learner(learners)"
   ]
  },
  {
   "cell_type": "markdown",
   "id": "common-scratch",
   "metadata": {},
   "source": [
    "### 1 - Choice of metrics/Loss"
   ]
  },
  {
   "cell_type": "markdown",
   "id": "boxed-excellence",
   "metadata": {},
   "source": [
    "- which metrics is more adequate in predicting the target?\n",
    "- Do we care if the prediction is slightly higher than the ground truth?\n",
    "- Do we care if it is lower?\n",
    "- Do we want to predict lower values as much as higher values?\n",
    "--> plot metrics per quartile"
   ]
  },
  {
   "cell_type": "markdown",
   "id": "joined-amateur",
   "metadata": {},
   "source": [
    "#### Metrics per quartile "
   ]
  },
  {
   "cell_type": "code",
   "execution_count": 50,
   "id": "connected-design",
   "metadata": {},
   "outputs": [],
   "source": [
    "quantiles = [data_processed['sales'].quantile(0.25), data_processed['sales'].quantile(0.5), data_processed['sales'].quantile(0.75), data_processed['sales'].quantile(1.)]"
   ]
  },
  {
   "cell_type": "code",
   "execution_count": 51,
   "id": "athletic-gazette",
   "metadata": {},
   "outputs": [],
   "source": [
    "lr = LGBMRegressor().fit(X_train, y_train)"
   ]
  },
  {
   "cell_type": "code",
   "execution_count": 64,
   "id": "continental-technique",
   "metadata": {},
   "outputs": [
    {
     "data": {
      "text/plain": [
       "[23970.0, 73797.0, 205136.75, 4378720.0]"
      ]
     },
     "execution_count": 64,
     "metadata": {},
     "output_type": "execute_result"
    }
   ],
   "source": [
    "quantiles"
   ]
  },
  {
   "cell_type": "code",
   "execution_count": 59,
   "id": "artistic-float",
   "metadata": {},
   "outputs": [
    {
     "name": "stdout",
     "output_type": "stream",
     "text": [
      "(217, 56)\n",
      "Evaluation:\n",
      "----------\n",
      "- MAPE: 3130.56\n",
      "- MSE: 7592562276.54\n",
      "- RMSE: 87135.31\n",
      "- MAE: 68440.72\n",
      "- R2: -159.2\n"
     ]
    }
   ],
   "source": [
    "X_test_i = X_test.copy()\n",
    "y_test_i = y_test.copy()\n",
    "X_test_i['sales'] = y_test_i\n",
    "X_test_i = X_test_i[X_test_i['sales']<=quantiles[0]]\n",
    "print(X_test_i.shape)\n",
    "y_test_i = X_test_i['sales'].astype(float)\n",
    "X_test_i.drop('sales', axis =1, inplace = True)\n",
    "yhat = lr.predict(X_test_i)\n",
    "print(prettify_metrics(get_evaluation_metrics(y_test_i, yhat)))"
   ]
  },
  {
   "cell_type": "code",
   "execution_count": 60,
   "id": "superior-boards",
   "metadata": {},
   "outputs": [
    {
     "name": "stdout",
     "output_type": "stream",
     "text": [
      "(185, 56)\n",
      "Evaluation:\n",
      "----------\n",
      "- MAPE: 156.77\n",
      "- MSE: 9599426710.19\n",
      "- RMSE: 97976.66\n",
      "- MAE: 62853.15\n",
      "- R2: -45.5\n"
     ]
    }
   ],
   "source": [
    "X_test_i = X_test.copy()\n",
    "y_test_i = y_test.copy()\n",
    "X_test_i['sales'] = y_test_i\n",
    "X_test_i = X_test_i[(X_test_i['sales']>quantiles[0]) & (X_test_i['sales']<=quantiles[1])]\n",
    "print(X_test_i.shape)\n",
    "y_test_i = X_test_i['sales'].astype(float)\n",
    "X_test_i.drop('sales', axis =1, inplace = True)\n",
    "yhat = lr.predict(X_test_i)\n",
    "print(prettify_metrics(get_evaluation_metrics(y_test_i, yhat)))"
   ]
  },
  {
   "cell_type": "code",
   "execution_count": 61,
   "id": "cathedral-dryer",
   "metadata": {},
   "outputs": [
    {
     "name": "stdout",
     "output_type": "stream",
     "text": [
      "(167, 56)\n",
      "Evaluation:\n",
      "----------\n",
      "- MAPE: 60.72\n",
      "- MSE: 14152267108.14\n",
      "- RMSE: 118963.3\n",
      "- MAE: 71999.72\n",
      "- R2: -9.42\n"
     ]
    }
   ],
   "source": [
    "X_test_i = X_test.copy()\n",
    "y_test_i = y_test.copy()\n",
    "X_test_i['sales'] = y_test_i\n",
    "X_test_i = X_test_i[(X_test_i['sales']>quantiles[1]) & (X_test_i['sales']<=quantiles[2])]\n",
    "print(X_test_i.shape)\n",
    "y_test_i = X_test_i['sales'].astype(float)\n",
    "X_test_i.drop('sales', axis =1, inplace = True)\n",
    "yhat = lr.predict(X_test_i)\n",
    "print(prettify_metrics(get_evaluation_metrics(y_test_i, yhat)))"
   ]
  },
  {
   "cell_type": "code",
   "execution_count": 62,
   "id": "living-hamilton",
   "metadata": {},
   "outputs": [
    {
     "name": "stdout",
     "output_type": "stream",
     "text": [
      "(168, 56)\n",
      "Evaluation:\n",
      "----------\n",
      "- MAPE: 52.85\n",
      "- MSE: 172652459764.56\n",
      "- RMSE: 415514.69\n",
      "- MAE: 277583.76\n",
      "- R2: 0.39\n"
     ]
    }
   ],
   "source": [
    "X_test_i = X_test.copy()\n",
    "y_test_i = y_test.copy()\n",
    "X_test_i['sales'] = y_test_i\n",
    "X_test_i = X_test_i[(X_test_i['sales']>quantiles[2])]\n",
    "print(X_test_i.shape)\n",
    "y_test_i = X_test_i['sales'].astype(float)\n",
    "X_test_i.drop('sales', axis =1, inplace = True)\n",
    "yhat = lr.predict(X_test_i)\n",
    "print(prettify_metrics(get_evaluation_metrics(y_test_i, yhat)))"
   ]
  },
  {
   "cell_type": "markdown",
   "id": "spiritual-parameter",
   "metadata": {},
   "source": [
    "### 2 - Model training and Selection (quick and dirty)"
   ]
  },
  {
   "cell_type": "code",
   "execution_count": 14,
   "id": "vanilla-china",
   "metadata": {},
   "outputs": [
    {
     "data": {
      "text/plain": [
       "(6676, 59)"
      ]
     },
     "execution_count": 14,
     "metadata": {},
     "output_type": "execute_result"
    }
   ],
   "source": [
    "data_processed.shape"
   ]
  },
  {
   "cell_type": "code",
   "execution_count": 37,
   "id": "middle-orlando",
   "metadata": {},
   "outputs": [
    {
     "data": {
      "text/plain": [
       "73797.0"
      ]
     },
     "execution_count": 37,
     "metadata": {},
     "output_type": "execute_result"
    }
   ],
   "source": [
    "data_processed['sales'].quantile(0.5)"
   ]
  },
  {
   "cell_type": "code",
   "execution_count": 36,
   "id": "aware-zealand",
   "metadata": {},
   "outputs": [
    {
     "data": {
      "text/plain": [
       "73797.0"
      ]
     },
     "execution_count": 36,
     "metadata": {},
     "output_type": "execute_result"
    }
   ],
   "source": [
    "data_processed['sales'].median()"
   ]
  },
  {
   "cell_type": "code",
   "execution_count": 15,
   "id": "played-clerk",
   "metadata": {},
   "outputs": [
    {
     "name": "stdout",
     "output_type": "stream",
     "text": [
      "mean: 192758.3\n",
      "max: 4378720\n",
      "min: 35\n",
      "min: 345442.64\n"
     ]
    }
   ],
   "source": [
    "print(f\"mean: {data_processed['sales'].mean().round(2)}\")\n",
    "print(f\"max: {data_processed['sales'].max().round(2)}\")\n",
    "print(f\"min: {data_processed['sales'].min().round(2)}\")\n",
    "print(f\"min: {data_processed['sales'].std().round(2)}\")"
   ]
  },
  {
   "cell_type": "code",
   "execution_count": 19,
   "id": "effective-zoning",
   "metadata": {
    "scrolled": true
   },
   "outputs": [
    {
     "data": {
      "text/plain": [
       "<matplotlib.axes._subplots.AxesSubplot at 0x7fbf51878610>"
      ]
     },
     "execution_count": 19,
     "metadata": {},
     "output_type": "execute_result"
    },
    {
     "data": {
      "image/png": "[encoded data removed]",
      "text/plain": [
       "<Figure size 432x288 with 1 Axes>"
      ]
     },
     "metadata": {
      "needs_background": "light"
     },
     "output_type": "display_data"
    }
   ],
   "source": [
    "data_processed['sales'].hist(bins=100)"
   ]
  },
  {
   "cell_type": "markdown",
   "id": "young-explanation",
   "metadata": {},
   "source": [
    "- see where we can make improvments\n",
    "\n",
    "- see if the data category has an impact\n",
    "\n",
    "- see distribution of the target\n",
    "\n",
    "- can we improve the target to predict?\n",
    "\n",
    "Answer: lognormal distributuion , meaning the log value of the sales follow a normal distribution"
   ]
  },
  {
   "cell_type": "code",
   "execution_count": 22,
   "id": "fifth-longitude",
   "metadata": {},
   "outputs": [
    {
     "data": {
      "text/plain": [
       "<matplotlib.axes._subplots.AxesSubplot at 0x7fbf52f7b090>"
      ]
     },
     "execution_count": 22,
     "metadata": {},
     "output_type": "execute_result"
    },
    {
     "data": {
      "image/png": "[encoded data removed]",
      "text/plain": [
       "<Figure size 432x288 with 1 Axes>"
      ]
     },
     "metadata": {
      "needs_background": "light"
     },
     "output_type": "display_data"
    }
   ],
   "source": [
    "data_processed['sales'].apply(lambda x: np.log(x)).hist(bins=50)"
   ]
  },
  {
   "cell_type": "code",
   "execution_count": 65,
   "id": "anticipated-apache",
   "metadata": {},
   "outputs": [],
   "source": [
    "X, y = prepare_data(data_processed)\n",
    "\n",
    "X_train, X_test = train_test_split_by_date(X, '2018-01-01')\n",
    "y_train, y_test = train_test_split_by_date(y, '2018-01-01')"
   ]
  },
  {
   "cell_type": "code",
   "execution_count": 73,
   "id": "lesbian-seminar",
   "metadata": {},
   "outputs": [],
   "source": [
    "def prettify_metrics(metrics: dict) -> str:\n",
    "    output = [f\"Evaluation:\\n{'-'*10}\"]\n",
    "    for name, metric in metrics.items():\n",
    "        output.append((f'- {name.upper()}: {round(metric, 2)}'))\n",
    "    return '\\n'.join(output)\n",
    "\n",
    "def train_test_learner(learners):\n",
    "    for lr in learners:\n",
    "        print(lr.__class__)\n",
    "        lr = lr.fit(X_train, y_train.apply(lambda x: np.log(x)))\n",
    "        yhat = lr.predict(X_test)\n",
    "        print(prettify_metrics(get_evaluation_metrics(y_test, [np.exp(x) for x in yhat])))\n",
    "        print('\\n')"
   ]
  },
  {
   "cell_type": "code",
   "execution_count": 74,
   "id": "heavy-apartment",
   "metadata": {},
   "outputs": [
    {
     "name": "stdout",
     "output_type": "stream",
     "text": [
      "<class 'sklearn.linear_model._base.LinearRegression'>\n",
      "Evaluation:\n",
      "----------\n",
      "- MAPE: 469.75\n",
      "- MSE: 2128429412830.11\n",
      "- RMSE: 1458913.78\n",
      "- MAE: 191188.52\n",
      "- R2: -17.3\n",
      "\n",
      "\n",
      "<class 'sklearn.ensemble._forest.RandomForestRegressor'>\n",
      "Evaluation:\n",
      "----------\n",
      "- MAPE: 442.6\n",
      "- MSE: 56544436834.83\n",
      "- RMSE: 237790.74\n",
      "- MAE: 105840.68\n",
      "- R2: 0.51\n",
      "\n",
      "\n",
      "<class 'lightgbm.sklearn.LGBMRegressor'>\n",
      "Evaluation:\n",
      "----------\n",
      "- MAPE: 402.64\n",
      "- MSE: 61469125204.82\n",
      "- RMSE: 247929.68\n",
      "- MAE: 107553.21\n",
      "- R2: 0.47\n",
      "\n",
      "\n"
     ]
    }
   ],
   "source": [
    "learners = [LinearRegression(),RandomForestRegressor(), LGBMRegressor()]\n",
    "train_test_learner(learners)"
   ]
  },
  {
   "cell_type": "markdown",
   "id": "downtown-point",
   "metadata": {},
   "source": [
    "### 3 - Cross validation "
   ]
  },
  {
   "cell_type": "markdown",
   "id": "southeast-rating",
   "metadata": {},
   "source": [
    "- Why? \n",
    "- get the generalization error of your model"
   ]
  },
  {
   "cell_type": "markdown",
   "id": "computational-fever",
   "metadata": {},
   "source": [
    "#### 3.1.1 Train/Validation"
   ]
  },
  {
   "cell_type": "markdown",
   "id": "junior-tournament",
   "metadata": {},
   "source": [
    "- the most used,, quick and dirty but not recommended\n",
    "\n",
    "- Why? when you not doing model selection"
   ]
  },
  {
   "cell_type": "markdown",
   "id": "balanced-advancement",
   "metadata": {},
   "source": [
    "####  3.1.2 - Train/Validation/Test"
   ]
  },
  {
   "cell_type": "markdown",
   "id": "surprised-bubble",
   "metadata": {},
   "source": [
    "- reccommended. \n",
    "- Why?"
   ]
  },
  {
   "cell_type": "markdown",
   "id": "certain-crawford",
   "metadata": {},
   "source": [
    "#### 3.2 K-Fold, etc other type of validation"
   ]
  },
  {
   "cell_type": "markdown",
   "id": "equipped-bracelet",
   "metadata": {},
   "source": [
    "When do you use it? --> small dataset"
   ]
  },
  {
   "cell_type": "markdown",
   "id": "fatal-error",
   "metadata": {},
   "source": [
    "- KFold"
   ]
  },
  {
   "cell_type": "markdown",
   "id": "extra-delight",
   "metadata": {},
   "source": [
    "Not always a good choice specially for time series"
   ]
  },
  {
   "cell_type": "markdown",
   "id": "anonymous-signature",
   "metadata": {},
   "source": [
    "#### 3.3 Compare the model validation methods"
   ]
  },
  {
   "cell_type": "raw",
   "id": "exact-commercial",
   "metadata": {},
   "source": [
    "Pros and Cons of each:\n",
    "- cost of running time\n",
    "- size of dataset\n",
    "- ..."
   ]
  },
  {
   "cell_type": "markdown",
   "id": "dynamic-discipline",
   "metadata": {},
   "source": [
    "### 4 - Regularization"
   ]
  },
  {
   "cell_type": "markdown",
   "id": "acknowledged-heavy",
   "metadata": {},
   "source": [
    "- Mostly used to avoid overfitting. Penelize models with lots of parameters"
   ]
  },
  {
   "cell_type": "markdown",
   "id": "after-onion",
   "metadata": {},
   "source": [
    "### 5 - Hyperparameters Optimization"
   ]
  },
  {
   "cell_type": "markdown",
   "id": "rolled-romance",
   "metadata": {},
   "source": [
    "- how to choose the parameter of the parameters of your model?"
   ]
  },
  {
   "cell_type": "code",
   "execution_count": null,
   "id": "prescribed-blair",
   "metadata": {},
   "outputs": [],
   "source": []
  }
 ],
 "metadata": {
  "kernelspec": {
   "display_name": "Python 3",
   "language": "python",
   "name": "python3"
  },
  "language_info": {
   "codemirror_mode": {
    "name": "ipython",
    "version": 3
   },
   "file_extension": ".py",
   "mimetype": "text/x-python",
   "name": "python",
   "nbconvert_exporter": "python",
   "pygments_lexer": "ipython3",
   "version": "3.7.7"
  }
 },
 "nbformat": 4,
 "nbformat_minor": 5
}
