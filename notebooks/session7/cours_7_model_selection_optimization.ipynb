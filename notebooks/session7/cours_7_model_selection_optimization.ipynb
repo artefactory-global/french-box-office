{
 "cells": [
  {
   "cell_type": "markdown",
   "id": "limiting-launch",
   "metadata": {},
   "source": [
    "### 1 - Choice of metrics/Loss"
   ]
  },
  {
   "cell_type": "markdown",
   "id": "exposed-logan",
   "metadata": {},
   "source": [
    "- which metrics is more adequate in predicting the target?\n",
    "- Do we care if the prediction is slightly higher than the ground truth?\n",
    "- Do we care if it is lower?\n",
    "- Do we want to predict lower values as much as higher values?"
   ]
  },
  {
   "cell_type": "markdown",
   "id": "virtual-detective",
   "metadata": {},
   "source": [
    "### 2 - Model training and Evaluation (quick and dirty)"
   ]
  },
  {
   "cell_type": "markdown",
   "id": "metropolitan-functionality",
   "metadata": {},
   "source": [
    "- see where we can make improvments\n",
    "\n",
    "- see if the data category has an impact\n",
    "\n",
    "- see distribution of the target\n",
    "\n",
    "- can we improve the target to predict?"
   ]
  },
  {
   "cell_type": "markdown",
   "id": "massive-adjustment",
   "metadata": {},
   "source": [
    "### 3 - Cross validation "
   ]
  },
  {
   "cell_type": "markdown",
   "id": "tutorial-dealing",
   "metadata": {},
   "source": [
    "- Why? \n",
    "- get the generalization error of your model"
   ]
  },
  {
   "cell_type": "markdown",
   "id": "reported-reunion",
   "metadata": {},
   "source": [
    "#### 3.1.1 Train/Validation"
   ]
  },
  {
   "cell_type": "markdown",
   "id": "moderate-breath",
   "metadata": {},
   "source": [
    "- the most used,, quick and dirty but not recommended\n",
    "\n",
    "- Why? when you not doing model selection"
   ]
  },
  {
   "cell_type": "markdown",
   "id": "republican-thong",
   "metadata": {},
   "source": [
    "####  3.1.2 - Train/Validation/Test"
   ]
  },
  {
   "cell_type": "markdown",
   "id": "generic-veteran",
   "metadata": {},
   "source": [
    "- reccommended. \n",
    "- Why?"
   ]
  },
  {
   "cell_type": "markdown",
   "id": "israeli-engineering",
   "metadata": {},
   "source": [
    "#### 3.2 K-Fold, etc other type of validation"
   ]
  },
  {
   "cell_type": "markdown",
   "id": "ordered-round",
   "metadata": {},
   "source": [
    "When do you use it? --> small dataset"
   ]
  },
  {
   "cell_type": "markdown",
   "id": "polar-drawing",
   "metadata": {},
   "source": [
    "- KFold"
   ]
  },
  {
   "cell_type": "markdown",
   "id": "inside-performer",
   "metadata": {},
   "source": [
    "Not always a good choice specially for time series"
   ]
  },
  {
   "cell_type": "markdown",
   "id": "spare-indonesia",
   "metadata": {},
   "source": [
    "#### 3.3 Compare the model validation methods"
   ]
  },
  {
   "cell_type": "raw",
   "id": "laughing-designation",
   "metadata": {},
   "source": [
    "Pros and Cons of each:\n",
    "- cost of running time\n",
    "- size of dataset\n",
    "- ..."
   ]
  },
  {
   "cell_type": "markdown",
   "id": "outer-raleigh",
   "metadata": {},
   "source": [
    "### 4 - Regularization"
   ]
  },
  {
   "cell_type": "markdown",
   "id": "historical-prison",
   "metadata": {},
   "source": [
    "- Mostly used to avoid overfitting. Penelize models with lots of parameters"
   ]
  },
  {
   "cell_type": "markdown",
   "id": "roman-frederick",
   "metadata": {},
   "source": [
    "### 5 - Hyperparameters Optimization"
   ]
  },
  {
   "cell_type": "markdown",
   "id": "linear-circuit",
   "metadata": {},
   "source": [
    "- how to choose the parameter of the parameters of your model?"
   ]
  },
  {
   "cell_type": "code",
   "execution_count": null,
   "id": "formed-patrol",
   "metadata": {},
   "outputs": [],
   "source": []
  }
 ],
 "metadata": {
  "kernelspec": {
   "display_name": "Python 3",
   "language": "python",
   "name": "python3"
  },
  "language_info": {
   "codemirror_mode": {
    "name": "ipython",
    "version": 3
   },
   "file_extension": ".py",
   "mimetype": "text/x-python",
   "name": "python",
   "nbconvert_exporter": "python",
   "pygments_lexer": "ipython3",
   "version": "3.7.7"
  }
 },
 "nbformat": 4,
 "nbformat_minor": 5
}
