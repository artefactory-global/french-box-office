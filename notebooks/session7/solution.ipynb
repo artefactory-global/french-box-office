{
 "cells": [
  {
   "cell_type": "markdown",
   "id": "unnecessary-panel",
   "metadata": {},
   "source": [
    "<table><tr>\n",
    "<td> <img src=\"https://upload.wikimedia.org/wikipedia/fr/thumb/e/e5/Logo_%C3%A9cole_des_ponts_paristech.svg/676px-Logo_%C3%A9cole_des_ponts_paristech.svg.png\" width=\"200\"  height=\"200\" hspace=\"200\"/> </td>\n",
    "<td> <img src=\"https://pbs.twimg.com/profile_images/1156541928193896448/5ihYIbCQ_200x200.png\" width=\"200\" height=\"200\" /> </td>\n",
    "</tr></table>\n",
    "\n",
    "<br/>\n",
    "\n",
    "<h1><center>Session 7 - Model Evaluation and Selection</center></h1>\n",
    "\n",
    "\n",
    "\n",
    "<font size=\"3\">This session is divided into **2** parts:\n",
    "- **Model selection**\n",
    "- **Model optimization:**\n",
    ">  * 1-Features selection\n",
    ">  * 2-Hyperparameters optimization\n",
    "\n",
    "In each of these parts, some **guidelines** and **hints** are given for each task. \n",
    "Do not hesitate to check the links to documentation to understand the functions you use. \n",
    "    \n",
    "The goal of this session is to **select a model** that you will use as your best candidate and optimize it to get the best out of it.\n",
    "</font>"
   ]
  },
  {
   "cell_type": "markdown",
   "id": "seven-support",
   "metadata": {},
   "source": [
    "# Session 5 modelling wrap up "
   ]
  },
  {
   "cell_type": "code",
   "execution_count": 1,
   "id": "pursuant-insulin",
   "metadata": {},
   "outputs": [],
   "source": [
    "#basics\n",
    "import pandas as pd\n",
    "import numpy as np\n",
    "\n",
    "#processing\n",
    "from sklearn.model_selection import train_test_split\n",
    "\n",
    "#metrics\n",
    "from sklearn.metrics import mean_squared_error, mean_absolute_error\n",
    "from sklearn.metrics._regression import _check_reg_targets\n",
    "\n",
    "#models\n",
    "from lightgbm import LGBMRegressor\n",
    "from sklearn.linear_model import LinearRegression\n",
    "from sklearn.ensemble import RandomForestRegressor"
   ]
  },
  {
   "cell_type": "code",
   "execution_count": 2,
   "id": "senior-injury",
   "metadata": {},
   "outputs": [],
   "source": [
    "def load_dataset(path):\n",
    "    print(f\"loading raw data..\")\n",
    "    data = pd.read_csv(path)\n",
    "    return data\n",
    "\n",
    "def clean_data(data, drop_2020=True):\n",
    "    print(f\"cleaning data..\")\n",
    "    data = data.dropna()\n",
    "    if drop_2020:\n",
    "        data = data.query(\"year != 2020\")\n",
    "    data = data.sort_values(by='release_date')\n",
    "    data.release_date = pd.to_datetime(data.release_date)\n",
    "    data.index = data.release_date\n",
    "    data = data.drop(columns = ['index', 'release_date', 'year'], errors='ignore')\n",
    "    return data\n",
    "\n",
    "def train_test_split_by_date(df: pd.DataFrame, split_date: str):\n",
    "    \"\"\"Split dataset according to a split date in format \"YYYY-MM-DD\"\n",
    "    - train: [:split_date[\n",
    "    - test: [split_date:]\n",
    "    \"\"\"\n",
    "    train = df.loc[:split_date].copy()\n",
    "    test = df.loc[split_date:].copy()\n",
    "    return train, test\n",
    "\n",
    "def get_x_y(dataset):\n",
    "    target = dataset.sales\n",
    "    target = target.astype(float)\n",
    "    features = dataset.drop(columns = ['sales'], errors='ignore')\n",
    "    return features, target\n",
    "          \n",
    "def transform_target(target, forward = True):\n",
    "    if forward == True: target_tf = [np.log(x) for x in target]\n",
    "    else: target_tf = [np.exp(x) for x in target]\n",
    "    return target_tf  \n",
    "          \n",
    "def get_evaluation_metrics(y_test, y_pred, y_train=None) -> dict:\n",
    "    metrics = {\n",
    "        'mape': mean_absolute_percentage_error(y_test, y_pred),\n",
    "        'rmse': mean_squared_error(y_test, y_pred, squared=False),\n",
    "        'mae': mean_absolute_error(y_test, y_pred),\n",
    "    }\n",
    "    return metrics\n",
    "\n",
    "def mean_absolute_percentage_error(y_true, y_pred):\n",
    "    \"\"\"in percent\"\"\"\n",
    "    y_true, y_pred = np.array(y_true), np.array(y_pred)\n",
    "    return np.mean(np.abs((y_true - y_pred)/y_true)) * 100\n",
    "\n",
    "def prettify_metrics(metrics: dict) -> str:\n",
    "    output = [f\"Evaluation:\\n{'-'*10}\"]\n",
    "    for name, metric in metrics.items():\n",
    "        output.append((f'- {name.upper()}: {round(metric, 2)}'))\n",
    "    return '\\n'.join(output) +'\\n'\n",
    "\n",
    "def train(lr, features, target, transformer = None):\n",
    "    print(f\"start fitting a {lr.__class__}...\")\n",
    "    if transformer:\n",
    "        lr = lr.fit(features, transformer(target, forward = True))\n",
    "    predicted_target = lr.predict(features)\n",
    "    if transformer:\n",
    "        predicted_target = transformer(predicted_target, forward= False)\n",
    "    print(prettify_metrics(get_evaluation_metrics(target, predicted_target)))\n",
    "    \n",
    "    return lr\n",
    "\n",
    "def evaluate(lr, features, target, transformer=None, ret=False):\n",
    "    predicted_target = lr.predict(features)\n",
    "    if transformer:\n",
    "        predicted_target = transformer(predicted_target, forward= False)\n",
    "    \n",
    "    print(prettify_metrics(get_evaluation_metrics(target, predicted_target)))\n",
    "    if ret==True:\n",
    "        return get_evaluation_metrics(target, predicted_target)"
   ]
  },
  {
   "cell_type": "markdown",
   "id": "optical-default",
   "metadata": {},
   "source": [
    "# Model Selection"
   ]
  },
  {
   "cell_type": "markdown",
   "id": "substantial-newspaper",
   "metadata": {},
   "source": [
    "## Q1 - Train/Test --> Train/Validation/Test"
   ]
  },
  {
   "cell_type": "markdown",
   "id": "entertaining-agreement",
   "metadata": {},
   "source": [
    "#### What if we want to use 2020 as testing set ?\n",
    "Update the split function so that we can keep 2020 as testing set\n",
    "> -  Modify the function **train_test_split_date** to produce a **train_validation_test_split_date**\n",
    "> -  Hint: add another date split to the function or use the function twice\n",
    "> - Your function should return 3 datasets"
   ]
  },
  {
   "cell_type": "code",
   "execution_count": 3,
   "id": "related-bikini",
   "metadata": {},
   "outputs": [],
   "source": [
    "def train_test_split_by_date(df: pd.DataFrame, split_date_val: str, split_date_test: str):\n",
    "    \"\"\"Split dataset according to a split date in format \"YYYY-MM-DD\"\n",
    "    - train: [:split_date_1[\n",
    "    - validation: [split_date_1: split_date_2[\n",
    "    - test: [split_date_2:[\n",
    "    \"\"\"\n",
    "    train = df.loc[:split_date_val].copy()\n",
    "    validation = df.loc[split_date_val:split_date_test].copy()\n",
    "    test = df.loc[split_date_test:].copy()\n",
    "    return train, validation, test"
   ]
  },
  {
   "cell_type": "markdown",
   "id": "material-prize",
   "metadata": {},
   "source": [
    "## Model training"
   ]
  },
  {
   "cell_type": "code",
   "execution_count": 4,
   "id": "concerned-vaccine",
   "metadata": {},
   "outputs": [
    {
     "name": "stdout",
     "output_type": "stream",
     "text": [
      "loading raw data..\n"
     ]
    }
   ],
   "source": [
    "path = '/Users/yaguethiam/Ponts/data_prepared_ponts_v4.csv'\n",
    "raw_data = load_dataset(path)"
   ]
  },
  {
   "cell_type": "code",
   "execution_count": 15,
   "id": "sensitive-small",
   "metadata": {},
   "outputs": [
    {
     "name": "stdout",
     "output_type": "stream",
     "text": [
      "cleaning data..\n"
     ]
    }
   ],
   "source": [
    "data = clean_data(raw_data, drop_2020=False)\n",
    "train_data, validation_data, test_data = train_test_split_by_date(data,\n",
    "                                                                  '2018-01-01',\n",
    "                                                                  '2020-01-01')\n",
    "train_x, train_y = get_x_y(train_data)\n",
    "validation_x, validation_y = get_x_y(validation_data)\n",
    "test_x, test_y = get_x_y(test_data)"
   ]
  },
  {
   "cell_type": "markdown",
   "id": "delayed-sullivan",
   "metadata": {},
   "source": [
    "# Models training\n",
    "> - run a linear regression, a Random Forest and a LGBM on the dataset without testing\n",
    "> - what metrics is more representative for our problem?\n",
    "> - compare the models\n",
    "> - select the best model"
   ]
  },
  {
   "cell_type": "markdown",
   "id": "great-space",
   "metadata": {},
   "source": [
    "#### Linear regression"
   ]
  },
  {
   "cell_type": "code",
   "execution_count": 7,
   "id": "contemporary-lobby",
   "metadata": {},
   "outputs": [
    {
     "name": "stdout",
     "output_type": "stream",
     "text": [
      "start fitting a <class 'sklearn.linear_model._base.LinearRegression'>...\n",
      "Evaluation:\n",
      "----------\n",
      "- MAPE: 530.3\n",
      "- RMSE: 641453.04\n",
      "- MAE: 156706.79\n",
      "\n",
      "Evaluate on validation set ...\n",
      "Evaluation:\n",
      "----------\n",
      "- MAPE: 469.75\n",
      "- RMSE: 1458913.78\n",
      "- MAE: 191188.52\n",
      "\n"
     ]
    }
   ],
   "source": [
    "lr = LinearRegression()\n",
    "lr = train(lr, train_x, train_y, transformer = transform_target)\n",
    "print(\"Evaluate on validation set ...\")\n",
    "evaluate(lr, validation_x, validation_y, transformer = transform_target)"
   ]
  },
  {
   "cell_type": "markdown",
   "id": "dense-liverpool",
   "metadata": {},
   "source": [
    "#### Random Forest "
   ]
  },
  {
   "cell_type": "code",
   "execution_count": 8,
   "id": "reliable-gates",
   "metadata": {},
   "outputs": [
    {
     "name": "stdout",
     "output_type": "stream",
     "text": [
      "start fitting a <class 'sklearn.ensemble._forest.RandomForestRegressor'>...\n",
      "Evaluation:\n",
      "----------\n",
      "- MAPE: 46.16\n",
      "- RMSE: 163213.62\n",
      "- MAE: 62127.64\n",
      "\n",
      "Evaluate on validation set ...\n",
      "Evaluation:\n",
      "----------\n",
      "- MAPE: 443.92\n",
      "- RMSE: 245229.08\n",
      "- MAE: 108568.69\n",
      "\n"
     ]
    }
   ],
   "source": [
    "rf = RandomForestRegressor()\n",
    "rf = train(rf, train_x, train_y, transformer = transform_target)\n",
    "print(\"Evaluate on validation set ...\")\n",
    "evaluate(rf, validation_x, validation_y, transformer = transform_target)"
   ]
  },
  {
   "cell_type": "markdown",
   "id": "binary-traveler",
   "metadata": {},
   "source": [
    "#### LGBM Regressor"
   ]
  },
  {
   "cell_type": "code",
   "execution_count": 9,
   "id": "continued-mailing",
   "metadata": {},
   "outputs": [
    {
     "name": "stdout",
     "output_type": "stream",
     "text": [
      "start fitting a <class 'lightgbm.sklearn.LGBMRegressor'>...\n",
      "Evaluation:\n",
      "----------\n",
      "- MAPE: 163.14\n",
      "- RMSE: 222880.43\n",
      "- MAE: 97888.22\n",
      "\n",
      "Evaluate on validation set ...\n",
      "Evaluation:\n",
      "----------\n",
      "- MAPE: 402.64\n",
      "- RMSE: 247929.68\n",
      "- MAE: 107553.21\n",
      "\n"
     ]
    }
   ],
   "source": [
    "lgbm = LGBMRegressor()\n",
    "lgbm = train(lgbm, train_x, train_y, transformer = transform_target)\n",
    "print(\"Evaluate on validation set ...\")\n",
    "evaluate(lgbm, validation_x, validation_y, transformer = transform_target)"
   ]
  },
  {
   "cell_type": "markdown",
   "id": "electrical-azerbaijan",
   "metadata": {},
   "source": [
    "## What are your thoughts?\n",
    "> - What can you say about the performance of the different model on the 2 datasets?\n",
    "> - Which model is overfitting ?\n",
    "> - Which model is underfitting?\n",
    "> - Which model is the best?"
   ]
  },
  {
   "cell_type": "markdown",
   "id": "addressed-colombia",
   "metadata": {},
   "source": [
    "The linear regression seems to be underfitting because the train error is bigger than the validation error. Maybe it is to sipmplistic.\n",
    "The random forest has great performance on the training set but get very bad on validation set, you dont want to select this model to run in prod. It might be overfitting too.\n",
    "\n",
    "Although the LGBM seems to be overfitting too, it has better performance on the validation set and the performance seems to be decrease less between training and validation. So we will pick that model as our procedure advice it."
   ]
  },
  {
   "cell_type": "markdown",
   "id": "accompanied-witch",
   "metadata": {},
   "source": [
    "### Train the selected model, validate and test"
   ]
  },
  {
   "cell_type": "code",
   "execution_count": 10,
   "id": "urban-variety",
   "metadata": {},
   "outputs": [
    {
     "name": "stdout",
     "output_type": "stream",
     "text": [
      "start fitting a <class 'lightgbm.sklearn.LGBMRegressor'>...\n",
      "Evaluation:\n",
      "----------\n",
      "- MAPE: 163.14\n",
      "- RMSE: 222880.43\n",
      "- MAE: 97888.22\n",
      "\n",
      "Evaluate on validation set ...\n",
      "Evaluation:\n",
      "----------\n",
      "- MAPE: 402.64\n",
      "- RMSE: 247929.68\n",
      "- MAE: 107553.21\n",
      "\n"
     ]
    }
   ],
   "source": [
    "lgbm = LGBMRegressor()\n",
    "lgbm = train(lgbm, train_x, train_y, transformer = transform_target)\n",
    "print(\"Evaluate on validation set ...\")\n",
    "evaluate(lgbm, validation_x, validation_y, transformer = transform_target)"
   ]
  },
  {
   "cell_type": "code",
   "execution_count": 16,
   "id": "speaking-vulnerability",
   "metadata": {},
   "outputs": [
    {
     "name": "stdout",
     "output_type": "stream",
     "text": [
      "Evaluate on test set ...\n",
      "Evaluation:\n",
      "----------\n",
      "- MAPE: 242.21\n",
      "- RMSE: 107999.79\n",
      "- MAE: 60957.63\n",
      "\n"
     ]
    }
   ],
   "source": [
    "print(\"Evaluate on test set ...\")\n",
    "evaluate(lgbm, test_x, test_y, transformer = transform_target)"
   ]
  },
  {
   "cell_type": "markdown",
   "id": "broke-backup",
   "metadata": {},
   "source": [
    "# Model Optimization"
   ]
  },
  {
   "cell_type": "markdown",
   "id": "married-message",
   "metadata": {},
   "source": [
    "> From this step and forward we will only focus on the MAPE to monitor the performance of our model"
   ]
  },
  {
   "cell_type": "code",
   "execution_count": 19,
   "id": "monthly-transmission",
   "metadata": {},
   "outputs": [],
   "source": [
    "def get_evaluation_metrics(y_test, y_pred, y_train=None) -> dict:\n",
    "    metrics = {\n",
    "        'mape': mean_absolute_percentage_error(y_test, y_pred)\n",
    "    }\n",
    "    return metrics"
   ]
  },
  {
   "cell_type": "markdown",
   "id": "elder-sampling",
   "metadata": {},
   "source": [
    "## 1 - Features selection : Importance Based"
   ]
  },
  {
   "cell_type": "code",
   "execution_count": 20,
   "id": "white-pride",
   "metadata": {},
   "outputs": [],
   "source": [
    "#save the importance in a dataframe in descending order (from most important to less important\n",
    "#plot the feature importance for the selected model \n",
    "lgbm_feature_imp = pd.DataFrame(lgbm.feature_importances_, train_x.columns, columns=['importance'])\n",
    "lgbm_feature_imp = lgbm_feature_imp.sort_values(by='importance', ascending=False)\n"
   ]
  },
  {
   "cell_type": "code",
   "execution_count": 21,
   "id": "representative-aruba",
   "metadata": {},
   "outputs": [
    {
     "data": {
      "text/plain": [
       "<matplotlib.axes._subplots.AxesSubplot at 0x7fbff7f71910>"
      ]
     },
     "execution_count": 21,
     "metadata": {},
     "output_type": "execute_result"
    },
    {
     "data": {
      "image/png": "[encoded data removed]",
      "text/plain": [
       "<Figure size 720x720 with 1 Axes>"
      ]
     },
     "metadata": {
      "needs_background": "light"
     },
     "output_type": "display_data"
    }
   ],
   "source": [
    "lgbm_feature_imp.plot(kind='bar', figsize=(10,10))"
   ]
  },
  {
   "cell_type": "code",
   "execution_count": 22,
   "id": "individual-galaxy",
   "metadata": {},
   "outputs": [
    {
     "name": "stdout",
     "output_type": "stream",
     "text": [
      "start fitting a <class 'lightgbm.sklearn.LGBMRegressor'>...\n",
      "Evaluation:\n",
      "----------\n",
      "- MAPE: 688.75\n",
      "\n",
      "Evaluation:\n",
      "----------\n",
      "- MAPE: 952.81\n",
      "\n",
      "start fitting a <class 'lightgbm.sklearn.LGBMRegressor'>...\n",
      "Evaluation:\n",
      "----------\n",
      "- MAPE: 461.94\n",
      "\n",
      "Evaluation:\n",
      "----------\n",
      "- MAPE: 707.03\n",
      "\n",
      "start fitting a <class 'lightgbm.sklearn.LGBMRegressor'>...\n",
      "Evaluation:\n",
      "----------\n",
      "- MAPE: 401.66\n",
      "\n",
      "Evaluation:\n",
      "----------\n",
      "- MAPE: 760.54\n",
      "\n",
      "start fitting a <class 'lightgbm.sklearn.LGBMRegressor'>...\n",
      "Evaluation:\n",
      "----------\n",
      "- MAPE: 307.13\n",
      "\n",
      "Evaluation:\n",
      "----------\n",
      "- MAPE: 631.7\n",
      "\n",
      "start fitting a <class 'lightgbm.sklearn.LGBMRegressor'>...\n",
      "Evaluation:\n",
      "----------\n",
      "- MAPE: 267.68\n",
      "\n",
      "Evaluation:\n",
      "----------\n",
      "- MAPE: 577.71\n",
      "\n",
      "start fitting a <class 'lightgbm.sklearn.LGBMRegressor'>...\n",
      "Evaluation:\n",
      "----------\n",
      "- MAPE: 229.1\n",
      "\n",
      "Evaluation:\n",
      "----------\n",
      "- MAPE: 630.53\n",
      "\n",
      "start fitting a <class 'lightgbm.sklearn.LGBMRegressor'>...\n",
      "Evaluation:\n",
      "----------\n",
      "- MAPE: 228.54\n",
      "\n",
      "Evaluation:\n",
      "----------\n",
      "- MAPE: 659.07\n",
      "\n",
      "start fitting a <class 'lightgbm.sklearn.LGBMRegressor'>...\n",
      "Evaluation:\n",
      "----------\n",
      "- MAPE: 220.6\n",
      "\n",
      "Evaluation:\n",
      "----------\n",
      "- MAPE: 666.34\n",
      "\n",
      "start fitting a <class 'lightgbm.sklearn.LGBMRegressor'>...\n",
      "Evaluation:\n",
      "----------\n",
      "- MAPE: 219.27\n",
      "\n",
      "Evaluation:\n",
      "----------\n",
      "- MAPE: 637.86\n",
      "\n",
      "start fitting a <class 'lightgbm.sklearn.LGBMRegressor'>...\n",
      "Evaluation:\n",
      "----------\n",
      "- MAPE: 205.98\n",
      "\n",
      "Evaluation:\n",
      "----------\n",
      "- MAPE: 610.78\n",
      "\n",
      "start fitting a <class 'lightgbm.sklearn.LGBMRegressor'>...\n",
      "Evaluation:\n",
      "----------\n",
      "- MAPE: 196.55\n",
      "\n",
      "Evaluation:\n",
      "----------\n",
      "- MAPE: 575.26\n",
      "\n",
      "start fitting a <class 'lightgbm.sklearn.LGBMRegressor'>...\n",
      "Evaluation:\n",
      "----------\n",
      "- MAPE: 191.25\n",
      "\n",
      "Evaluation:\n",
      "----------\n",
      "- MAPE: 678.68\n",
      "\n",
      "start fitting a <class 'lightgbm.sklearn.LGBMRegressor'>...\n",
      "Evaluation:\n",
      "----------\n",
      "- MAPE: 191.13\n",
      "\n",
      "Evaluation:\n",
      "----------\n",
      "- MAPE: 658.83\n",
      "\n",
      "start fitting a <class 'lightgbm.sklearn.LGBMRegressor'>...\n",
      "Evaluation:\n",
      "----------\n",
      "- MAPE: 182.47\n",
      "\n",
      "Evaluation:\n",
      "----------\n",
      "- MAPE: 592.33\n",
      "\n",
      "start fitting a <class 'lightgbm.sklearn.LGBMRegressor'>...\n",
      "Evaluation:\n",
      "----------\n",
      "- MAPE: 184.27\n",
      "\n",
      "Evaluation:\n",
      "----------\n",
      "- MAPE: 591.91\n",
      "\n",
      "start fitting a <class 'lightgbm.sklearn.LGBMRegressor'>...\n",
      "Evaluation:\n",
      "----------\n",
      "- MAPE: 185.52\n",
      "\n",
      "Evaluation:\n",
      "----------\n",
      "- MAPE: 628.58\n",
      "\n",
      "start fitting a <class 'lightgbm.sklearn.LGBMRegressor'>...\n",
      "Evaluation:\n",
      "----------\n",
      "- MAPE: 176.36\n",
      "\n",
      "Evaluation:\n",
      "----------\n",
      "- MAPE: 440.46\n",
      "\n",
      "start fitting a <class 'lightgbm.sklearn.LGBMRegressor'>...\n",
      "Evaluation:\n",
      "----------\n",
      "- MAPE: 174.22\n",
      "\n",
      "Evaluation:\n",
      "----------\n",
      "- MAPE: 456.55\n",
      "\n",
      "start fitting a <class 'lightgbm.sklearn.LGBMRegressor'>...\n",
      "Evaluation:\n",
      "----------\n",
      "- MAPE: 171.96\n",
      "\n",
      "Evaluation:\n",
      "----------\n",
      "- MAPE: 436.82\n",
      "\n",
      "start fitting a <class 'lightgbm.sklearn.LGBMRegressor'>...\n",
      "Evaluation:\n",
      "----------\n",
      "- MAPE: 171.86\n",
      "\n",
      "Evaluation:\n",
      "----------\n",
      "- MAPE: 402.31\n",
      "\n",
      "start fitting a <class 'lightgbm.sklearn.LGBMRegressor'>...\n",
      "Evaluation:\n",
      "----------\n",
      "- MAPE: 164.97\n",
      "\n",
      "Evaluation:\n",
      "----------\n",
      "- MAPE: 391.92\n",
      "\n",
      "start fitting a <class 'lightgbm.sklearn.LGBMRegressor'>...\n",
      "Evaluation:\n",
      "----------\n",
      "- MAPE: 170.55\n",
      "\n",
      "Evaluation:\n",
      "----------\n",
      "- MAPE: 419.3\n",
      "\n",
      "start fitting a <class 'lightgbm.sklearn.LGBMRegressor'>...\n",
      "Evaluation:\n",
      "----------\n",
      "- MAPE: 170.64\n",
      "\n",
      "Evaluation:\n",
      "----------\n",
      "- MAPE: 405.89\n",
      "\n",
      "start fitting a <class 'lightgbm.sklearn.LGBMRegressor'>...\n",
      "Evaluation:\n",
      "----------\n",
      "- MAPE: 176.67\n",
      "\n",
      "Evaluation:\n",
      "----------\n",
      "- MAPE: 401.9\n",
      "\n",
      "start fitting a <class 'lightgbm.sklearn.LGBMRegressor'>...\n",
      "Evaluation:\n",
      "----------\n",
      "- MAPE: 172.27\n",
      "\n",
      "Evaluation:\n",
      "----------\n",
      "- MAPE: 396.31\n",
      "\n",
      "start fitting a <class 'lightgbm.sklearn.LGBMRegressor'>...\n",
      "Evaluation:\n",
      "----------\n",
      "- MAPE: 168.49\n",
      "\n",
      "Evaluation:\n",
      "----------\n",
      "- MAPE: 416.92\n",
      "\n",
      "start fitting a <class 'lightgbm.sklearn.LGBMRegressor'>...\n",
      "Evaluation:\n",
      "----------\n",
      "- MAPE: 170.8\n",
      "\n",
      "Evaluation:\n",
      "----------\n",
      "- MAPE: 374.74\n",
      "\n",
      "start fitting a <class 'lightgbm.sklearn.LGBMRegressor'>...\n",
      "Evaluation:\n",
      "----------\n",
      "- MAPE: 169.72\n",
      "\n",
      "Evaluation:\n",
      "----------\n",
      "- MAPE: 377.92\n",
      "\n",
      "start fitting a <class 'lightgbm.sklearn.LGBMRegressor'>...\n",
      "Evaluation:\n",
      "----------\n",
      "- MAPE: 165.0\n",
      "\n",
      "Evaluation:\n",
      "----------\n",
      "- MAPE: 401.14\n",
      "\n",
      "start fitting a <class 'lightgbm.sklearn.LGBMRegressor'>...\n",
      "Evaluation:\n",
      "----------\n",
      "- MAPE: 168.89\n",
      "\n",
      "Evaluation:\n",
      "----------\n",
      "- MAPE: 391.62\n",
      "\n",
      "start fitting a <class 'lightgbm.sklearn.LGBMRegressor'>...\n",
      "Evaluation:\n",
      "----------\n",
      "- MAPE: 168.61\n",
      "\n",
      "Evaluation:\n",
      "----------\n",
      "- MAPE: 390.2\n",
      "\n",
      "start fitting a <class 'lightgbm.sklearn.LGBMRegressor'>...\n",
      "Evaluation:\n",
      "----------\n",
      "- MAPE: 166.32\n",
      "\n",
      "Evaluation:\n",
      "----------\n",
      "- MAPE: 404.27\n",
      "\n",
      "start fitting a <class 'lightgbm.sklearn.LGBMRegressor'>...\n",
      "Evaluation:\n",
      "----------\n",
      "- MAPE: 167.16\n",
      "\n",
      "Evaluation:\n",
      "----------\n",
      "- MAPE: 389.37\n",
      "\n",
      "start fitting a <class 'lightgbm.sklearn.LGBMRegressor'>...\n",
      "Evaluation:\n",
      "----------\n",
      "- MAPE: 163.57\n",
      "\n",
      "Evaluation:\n",
      "----------\n",
      "- MAPE: 387.23\n",
      "\n",
      "start fitting a <class 'lightgbm.sklearn.LGBMRegressor'>...\n",
      "Evaluation:\n",
      "----------\n",
      "- MAPE: 166.93\n",
      "\n",
      "Evaluation:\n",
      "----------\n",
      "- MAPE: 398.63\n",
      "\n",
      "start fitting a <class 'lightgbm.sklearn.LGBMRegressor'>...\n",
      "Evaluation:\n",
      "----------\n",
      "- MAPE: 162.61\n",
      "\n",
      "Evaluation:\n",
      "----------\n",
      "- MAPE: 379.41\n",
      "\n",
      "start fitting a <class 'lightgbm.sklearn.LGBMRegressor'>...\n",
      "Evaluation:\n",
      "----------\n",
      "- MAPE: 166.28\n",
      "\n",
      "Evaluation:\n",
      "----------\n",
      "- MAPE: 366.08\n",
      "\n",
      "start fitting a <class 'lightgbm.sklearn.LGBMRegressor'>...\n",
      "Evaluation:\n",
      "----------\n",
      "- MAPE: 165.28\n",
      "\n",
      "Evaluation:\n",
      "----------\n",
      "- MAPE: 383.15\n",
      "\n",
      "start fitting a <class 'lightgbm.sklearn.LGBMRegressor'>...\n",
      "Evaluation:\n",
      "----------\n",
      "- MAPE: 165.29\n",
      "\n",
      "Evaluation:\n",
      "----------\n",
      "- MAPE: 385.63\n",
      "\n",
      "start fitting a <class 'lightgbm.sklearn.LGBMRegressor'>...\n",
      "Evaluation:\n",
      "----------\n",
      "- MAPE: 161.99\n",
      "\n",
      "Evaluation:\n",
      "----------\n",
      "- MAPE: 380.91\n",
      "\n",
      "start fitting a <class 'lightgbm.sklearn.LGBMRegressor'>...\n",
      "Evaluation:\n",
      "----------\n",
      "- MAPE: 165.12\n",
      "\n",
      "Evaluation:\n",
      "----------\n",
      "- MAPE: 372.02\n",
      "\n",
      "start fitting a <class 'lightgbm.sklearn.LGBMRegressor'>...\n",
      "Evaluation:\n",
      "----------\n",
      "- MAPE: 163.38\n",
      "\n",
      "Evaluation:\n",
      "----------\n",
      "- MAPE: 357.02\n",
      "\n",
      "start fitting a <class 'lightgbm.sklearn.LGBMRegressor'>...\n",
      "Evaluation:\n",
      "----------\n",
      "- MAPE: 162.81\n",
      "\n",
      "Evaluation:\n",
      "----------\n",
      "- MAPE: 379.12\n",
      "\n",
      "start fitting a <class 'lightgbm.sklearn.LGBMRegressor'>...\n",
      "Evaluation:\n",
      "----------\n",
      "- MAPE: 163.67\n",
      "\n",
      "Evaluation:\n",
      "----------\n",
      "- MAPE: 382.68\n",
      "\n",
      "start fitting a <class 'lightgbm.sklearn.LGBMRegressor'>...\n",
      "Evaluation:\n",
      "----------\n",
      "- MAPE: 162.53\n",
      "\n",
      "Evaluation:\n",
      "----------\n",
      "- MAPE: 381.16\n",
      "\n",
      "start fitting a <class 'lightgbm.sklearn.LGBMRegressor'>...\n",
      "Evaluation:\n",
      "----------\n",
      "- MAPE: 161.18\n",
      "\n",
      "Evaluation:\n",
      "----------\n",
      "- MAPE: 369.61\n",
      "\n",
      "start fitting a <class 'lightgbm.sklearn.LGBMRegressor'>...\n",
      "Evaluation:\n",
      "----------\n",
      "- MAPE: 166.98\n",
      "\n",
      "Evaluation:\n",
      "----------\n",
      "- MAPE: 376.55\n",
      "\n",
      "start fitting a <class 'lightgbm.sklearn.LGBMRegressor'>...\n",
      "Evaluation:\n",
      "----------\n",
      "- MAPE: 168.13\n",
      "\n",
      "Evaluation:\n",
      "----------\n",
      "- MAPE: 388.17\n",
      "\n",
      "start fitting a <class 'lightgbm.sklearn.LGBMRegressor'>...\n",
      "Evaluation:\n",
      "----------\n",
      "- MAPE: 163.14\n",
      "\n",
      "Evaluation:\n",
      "----------\n",
      "- MAPE: 398.8\n",
      "\n",
      "start fitting a <class 'lightgbm.sklearn.LGBMRegressor'>...\n",
      "Evaluation:\n",
      "----------\n",
      "- MAPE: 163.14\n",
      "\n",
      "Evaluation:\n",
      "----------\n",
      "- MAPE: 398.8\n",
      "\n",
      "start fitting a <class 'lightgbm.sklearn.LGBMRegressor'>...\n",
      "Evaluation:\n",
      "----------\n",
      "- MAPE: 163.14\n",
      "\n",
      "Evaluation:\n",
      "----------\n",
      "- MAPE: 398.8\n",
      "\n",
      "start fitting a <class 'lightgbm.sklearn.LGBMRegressor'>...\n",
      "Evaluation:\n",
      "----------\n",
      "- MAPE: 163.14\n",
      "\n",
      "Evaluation:\n",
      "----------\n",
      "- MAPE: 398.8\n",
      "\n",
      "start fitting a <class 'lightgbm.sklearn.LGBMRegressor'>...\n",
      "Evaluation:\n",
      "----------\n",
      "- MAPE: 163.14\n",
      "\n",
      "Evaluation:\n",
      "----------\n",
      "- MAPE: 398.8\n",
      "\n",
      "start fitting a <class 'lightgbm.sklearn.LGBMRegressor'>...\n",
      "Evaluation:\n",
      "----------\n",
      "- MAPE: 163.14\n",
      "\n",
      "Evaluation:\n",
      "----------\n",
      "- MAPE: 398.8\n",
      "\n"
     ]
    }
   ],
   "source": [
    "# Loop on all features from 1 to n and keep track of the MAPE\n",
    "mape = []\n",
    "features_number = []\n",
    "for k in range(1, lgbm_feature_imp.shape[0]):\n",
    "    train_k = train_x[lgbm_feature_imp[:k].index]\n",
    "    validation_k = validation_x[lgbm_feature_imp[:k].index]\n",
    "    learner = train(LGBMRegressor(), train_k, train_y, transformer = transform_target)\n",
    "    metrics = evaluate(learner, validation_k, validation_y, transformer = transform_target, ret=True)\n",
    "    features_number.append(k)\n",
    "    mape.append(metrics['mape']) "
   ]
  },
  {
   "cell_type": "code",
   "execution_count": 23,
   "id": "activated-premium",
   "metadata": {},
   "outputs": [
    {
     "data": {
      "text/plain": [
       "<matplotlib.axes._subplots.AxesSubplot at 0x7fbff787b910>"
      ]
     },
     "execution_count": 23,
     "metadata": {},
     "output_type": "execute_result"
    },
    {
     "data": {
      "image/png": "[encoded data removed]",
      "text/plain": [
       "<Figure size 720x720 with 1 Axes>"
      ]
     },
     "metadata": {
      "needs_background": "light"
     },
     "output_type": "display_data"
    }
   ],
   "source": [
    "#plot MAPE vs number of features \n",
    "#what do you observe\n",
    "results = pd.DataFrame({'num_features':features_number,\n",
    "              \"mape\": mape})\n",
    "\n",
    "results.index = results.num_features\n",
    "results.drop('num_features', axis=1, inplace=True)\n",
    "results.plot(figsize=(10,10))"
   ]
  },
  {
   "cell_type": "code",
   "execution_count": 25,
   "id": "chubby-employment",
   "metadata": {},
   "outputs": [
    {
     "data": {
      "text/plain": [
       "41"
      ]
     },
     "execution_count": 25,
     "metadata": {},
     "output_type": "execute_result"
    }
   ],
   "source": [
    "# What is the top k features given the MAPE on the validation set?\n",
    "best_k = np.argmin(mape)\n",
    "best_k"
   ]
  },
  {
   "cell_type": "code",
   "execution_count": 31,
   "id": "missing-elephant",
   "metadata": {},
   "outputs": [
    {
     "name": "stdout",
     "output_type": "stream",
     "text": [
      "start fitting a <class 'lightgbm.sklearn.LGBMRegressor'>...\n",
      "Evaluation:\n",
      "----------\n",
      "- MAPE: 163.38\n",
      "\n",
      "Evaluate on validation set ...\n",
      "Evaluation:\n",
      "----------\n",
      "- MAPE: 357.02\n",
      "\n"
     ]
    }
   ],
   "source": [
    "#Run the model with the K best features and check the results\n",
    "lgbm = LGBMRegressor()\n",
    "lgbm = train(lgbm, train_x[lgbm_feature_imp[:best_k+1].index], train_y, transformer = transform_target)\n",
    "print(\"Evaluate on validation set ...\")\n",
    "evaluate(lgbm, validation_x[lgbm_feature_imp[:best_k+1].index], validation_y, transformer = transform_target)"
   ]
  },
  {
   "cell_type": "code",
   "execution_count": 32,
   "id": "prepared-accident",
   "metadata": {},
   "outputs": [
    {
     "name": "stdout",
     "output_type": "stream",
     "text": [
      "Evaluate on test set ...\n",
      "Evaluation:\n",
      "----------\n",
      "- MAPE: 258.24\n",
      "\n"
     ]
    }
   ],
   "source": [
    "print(\"Evaluate on test set ...\")\n",
    "evaluate(lgbm, test_x[lgbm_feature_imp[:best_k+1].index], test_y, transformer = transform_target)"
   ]
  },
  {
   "cell_type": "markdown",
   "id": "frank-consultation",
   "metadata": {},
   "source": [
    "## 2 - Select the best Hyperparameters"
   ]
  },
  {
   "cell_type": "markdown",
   "id": "several-indonesian",
   "metadata": {},
   "source": [
    "In this part we will implement the grid search hyperparameter algorithm from scratch"
   ]
  },
  {
   "cell_type": "markdown",
   "id": "arranged-fusion",
   "metadata": {},
   "source": [
    "#### Grid Search from scratch"
   ]
  },
  {
   "cell_type": "code",
   "execution_count": 33,
   "id": "engaged-three",
   "metadata": {},
   "outputs": [],
   "source": [
    "from sklearn.model_selection import ParameterGrid\n",
    "# https://scikit-learn.org/stable/modules/generated/sklearn.model_selection.ParameterGrid.html"
   ]
  },
  {
   "cell_type": "code",
   "execution_count": 34,
   "id": "limiting-domestic",
   "metadata": {},
   "outputs": [
    {
     "data": {
      "text/plain": [
       "{'boosting_type': 'gbdt',\n",
       " 'class_weight': None,\n",
       " 'colsample_bytree': 1.0,\n",
       " 'importance_type': 'split',\n",
       " 'learning_rate': 0.1,\n",
       " 'max_depth': -1,\n",
       " 'min_child_samples': 20,\n",
       " 'min_child_weight': 0.001,\n",
       " 'min_split_gain': 0.0,\n",
       " 'n_estimators': 100,\n",
       " 'n_jobs': -1,\n",
       " 'num_leaves': 31,\n",
       " 'objective': None,\n",
       " 'random_state': None,\n",
       " 'reg_alpha': 0.0,\n",
       " 'reg_lambda': 0.0,\n",
       " 'silent': True,\n",
       " 'subsample': 1.0,\n",
       " 'subsample_for_bin': 200000,\n",
       " 'subsample_freq': 0}"
      ]
     },
     "execution_count": 34,
     "metadata": {},
     "output_type": "execute_result"
    }
   ],
   "source": [
    "#print lgbm parameters\n",
    "#hint place your cursor after the dot and hit tab\n",
    "lgbm.get_params()"
   ]
  },
  {
   "cell_type": "code",
   "execution_count": 51,
   "id": "aboriginal-sympathy",
   "metadata": {},
   "outputs": [],
   "source": [
    "param_grid = {'n_estimators': [80, 90, 100, 110, 120],\n",
    "              'num_leaves': [27, 31, 35]}"
   ]
  },
  {
   "cell_type": "code",
   "execution_count": 52,
   "id": "significant-manufacturer",
   "metadata": {},
   "outputs": [
    {
     "data": {
      "text/plain": [
       "[{'n_estimators': 80, 'num_leaves': 27},\n",
       " {'n_estimators': 80, 'num_leaves': 31},\n",
       " {'n_estimators': 80, 'num_leaves': 35},\n",
       " {'n_estimators': 90, 'num_leaves': 27},\n",
       " {'n_estimators': 90, 'num_leaves': 31},\n",
       " {'n_estimators': 90, 'num_leaves': 35},\n",
       " {'n_estimators': 100, 'num_leaves': 27},\n",
       " {'n_estimators': 100, 'num_leaves': 31},\n",
       " {'n_estimators': 100, 'num_leaves': 35},\n",
       " {'n_estimators': 110, 'num_leaves': 27},\n",
       " {'n_estimators': 110, 'num_leaves': 31},\n",
       " {'n_estimators': 110, 'num_leaves': 35},\n",
       " {'n_estimators': 120, 'num_leaves': 27},\n",
       " {'n_estimators': 120, 'num_leaves': 31},\n",
       " {'n_estimators': 120, 'num_leaves': 35}]"
      ]
     },
     "execution_count": 52,
     "metadata": {},
     "output_type": "execute_result"
    }
   ],
   "source": [
    "#use ParameterGrid to print all the combinations of hyperparameters\n",
    "list(ParameterGrid(param_grid))"
   ]
  },
  {
   "cell_type": "code",
   "execution_count": 53,
   "id": "generic-watts",
   "metadata": {
    "scrolled": true
   },
   "outputs": [
    {
     "name": "stdout",
     "output_type": "stream",
     "text": [
      "start fitting a <class 'lightgbm.sklearn.LGBMRegressor'>...\n",
      "Evaluation:\n",
      "----------\n",
      "- MAPE: 204.92\n",
      "\n",
      "Evaluation:\n",
      "----------\n",
      "- MAPE: 383.1\n",
      "\n",
      "start fitting a <class 'lightgbm.sklearn.LGBMRegressor'>...\n",
      "Evaluation:\n",
      "----------\n",
      "- MAPE: 182.22\n",
      "\n",
      "Evaluation:\n",
      "----------\n",
      "- MAPE: 362.2\n",
      "\n",
      "start fitting a <class 'lightgbm.sklearn.LGBMRegressor'>...\n",
      "Evaluation:\n",
      "----------\n",
      "- MAPE: 170.05\n",
      "\n",
      "Evaluation:\n",
      "----------\n",
      "- MAPE: 387.1\n",
      "\n",
      "start fitting a <class 'lightgbm.sklearn.LGBMRegressor'>...\n",
      "Evaluation:\n",
      "----------\n",
      "- MAPE: 194.4\n",
      "\n",
      "Evaluation:\n",
      "----------\n",
      "- MAPE: 380.48\n",
      "\n",
      "start fitting a <class 'lightgbm.sklearn.LGBMRegressor'>...\n",
      "Evaluation:\n",
      "----------\n",
      "- MAPE: 172.04\n",
      "\n",
      "Evaluation:\n",
      "----------\n",
      "- MAPE: 359.55\n",
      "\n",
      "start fitting a <class 'lightgbm.sklearn.LGBMRegressor'>...\n",
      "Evaluation:\n",
      "----------\n",
      "- MAPE: 159.33\n",
      "\n",
      "Evaluation:\n",
      "----------\n",
      "- MAPE: 384.85\n",
      "\n",
      "start fitting a <class 'lightgbm.sklearn.LGBMRegressor'>...\n",
      "Evaluation:\n",
      "----------\n",
      "- MAPE: 180.59\n",
      "\n",
      "Evaluation:\n",
      "----------\n",
      "- MAPE: 379.92\n",
      "\n",
      "start fitting a <class 'lightgbm.sklearn.LGBMRegressor'>...\n",
      "Evaluation:\n",
      "----------\n",
      "- MAPE: 163.38\n",
      "\n",
      "Evaluation:\n",
      "----------\n",
      "- MAPE: 357.02\n",
      "\n",
      "start fitting a <class 'lightgbm.sklearn.LGBMRegressor'>...\n",
      "Evaluation:\n",
      "----------\n",
      "- MAPE: 150.19\n",
      "\n",
      "Evaluation:\n",
      "----------\n",
      "- MAPE: 382.95\n",
      "\n",
      "start fitting a <class 'lightgbm.sklearn.LGBMRegressor'>...\n",
      "Evaluation:\n",
      "----------\n",
      "- MAPE: 169.67\n",
      "\n",
      "Evaluation:\n",
      "----------\n",
      "- MAPE: 381.23\n",
      "\n",
      "start fitting a <class 'lightgbm.sklearn.LGBMRegressor'>...\n",
      "Evaluation:\n",
      "----------\n",
      "- MAPE: 155.52\n",
      "\n",
      "Evaluation:\n",
      "----------\n",
      "- MAPE: 358.62\n",
      "\n",
      "start fitting a <class 'lightgbm.sklearn.LGBMRegressor'>...\n",
      "Evaluation:\n",
      "----------\n",
      "- MAPE: 142.84\n",
      "\n",
      "Evaluation:\n",
      "----------\n",
      "- MAPE: 385.15\n",
      "\n",
      "start fitting a <class 'lightgbm.sklearn.LGBMRegressor'>...\n",
      "Evaluation:\n",
      "----------\n",
      "- MAPE: 162.56\n",
      "\n",
      "Evaluation:\n",
      "----------\n",
      "- MAPE: 376.82\n",
      "\n",
      "start fitting a <class 'lightgbm.sklearn.LGBMRegressor'>...\n",
      "Evaluation:\n",
      "----------\n",
      "- MAPE: 148.25\n",
      "\n",
      "Evaluation:\n",
      "----------\n",
      "- MAPE: 359.92\n",
      "\n",
      "start fitting a <class 'lightgbm.sklearn.LGBMRegressor'>...\n",
      "Evaluation:\n",
      "----------\n",
      "- MAPE: 135.92\n",
      "\n",
      "Evaluation:\n",
      "----------\n",
      "- MAPE: 383.82\n",
      "\n"
     ]
    }
   ],
   "source": [
    "## loop into this list of hyperparameters and get the best subset by logging MAPE\n",
    "mape_gs = []\n",
    "parameters = []\n",
    "for params in list(ParameterGrid(param_grid)):\n",
    "    learner = train(LGBMRegressor(**params), train_x[lgbm_feature_imp[:best_k+1].index], train_y, transformer = transform_target)\n",
    "    metrics = evaluate(learner, validation_x[lgbm_feature_imp[:best_k+1].index], validation_y, transformer = transform_target, ret=True)\n",
    "    parameters.append(params)\n",
    "    mape_gs.append(metrics['mape']) "
   ]
  },
  {
   "cell_type": "code",
   "execution_count": 54,
   "id": "moderate-combine",
   "metadata": {},
   "outputs": [
    {
     "data": {
      "text/plain": [
       "{'n_estimators': 100, 'num_leaves': 31}"
      ]
     },
     "execution_count": 54,
     "metadata": {},
     "output_type": "execute_result"
    }
   ],
   "source": [
    "# what is the best set of parameters\n",
    "parameters[np.argmin(mape_gs)]"
   ]
  },
  {
   "cell_type": "code",
   "execution_count": 50,
   "id": "honey-glass",
   "metadata": {},
   "outputs": [
    {
     "name": "stdout",
     "output_type": "stream",
     "text": [
      "start fitting a <class 'lightgbm.sklearn.LGBMRegressor'>...\n",
      "Evaluation:\n",
      "----------\n",
      "- MAPE: 163.38\n",
      "\n",
      "Evaluate on validation set ...\n",
      "Evaluation:\n",
      "----------\n",
      "- MAPE: 357.02\n",
      "\n"
     ]
    }
   ],
   "source": [
    "# Run a model with the best set of features \n",
    "#Run the model with the K best features and check the results\n",
    "lgbm = LGBMRegressor(**parameters[np.argmin(mape_gs)])\n",
    "lgbm = train(lgbm, train_x[lgbm_feature_imp[:best_k+1].index], train_y, transformer = transform_target)\n",
    "print(\"Evaluate on validation set ...\")\n",
    "evaluate(lgbm, validation_x[lgbm_feature_imp[:best_k+1].index], validation_y, transformer = transform_target)"
   ]
  },
  {
   "cell_type": "markdown",
   "id": "accurate-marina",
   "metadata": {},
   "source": [
    "# Try other hyperparameters search algorithm"
   ]
  },
  {
   "cell_type": "markdown",
   "id": "circular-siemens",
   "metadata": {},
   "source": [
    "#### Randomized search"
   ]
  },
  {
   "cell_type": "code",
   "execution_count": null,
   "id": "rental-channel",
   "metadata": {},
   "outputs": [],
   "source": [
    "# how would you bring randomization on the search?"
   ]
  },
  {
   "cell_type": "markdown",
   "id": "purple-charm",
   "metadata": {},
   "source": [
    "#### Bayesian search"
   ]
  },
  {
   "cell_type": "code",
   "execution_count": null,
   "id": "protective-spokesman",
   "metadata": {},
   "outputs": [],
   "source": []
  }
 ],
 "metadata": {
  "kernelspec": {
   "display_name": "Python 3",
   "language": "python",
   "name": "python3"
  },
  "language_info": {
   "codemirror_mode": {
    "name": "ipython",
    "version": 3
   },
   "file_extension": ".py",
   "mimetype": "text/x-python",
   "name": "python",
   "nbconvert_exporter": "python",
   "pygments_lexer": "ipython3",
   "version": "3.7.7"
  }
 },
 "nbformat": 4,
 "nbformat_minor": 5
}
