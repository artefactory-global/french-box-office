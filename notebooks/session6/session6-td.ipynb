{
 "cells": [
  {
   "cell_type": "code",
   "execution_count": 58,
   "metadata": {},
   "outputs": [],
   "source": [
    "import pandas as pd\n",
    "import numpy as np\n",
    "import random as rd\n",
    "from sklearn.cluster import KMeans\n",
    "from sklearn.model_selection import train_test_split\n",
    "from matplotlib import pyplot as plt\n",
    "import hdbscan\n",
    "from top2vec import Top2Vec\n",
    "from matplotlib import pyplot as plt\n",
    "from scipy.special import softmax\n",
    "import wordcloud\n",
    "import gensim\n",
    "import gensim.corpora as corpora\n",
    "from pprint import pprint\n",
    "import pyLDAvis.gensim\n",
    "import pyLDAvis\n",
    "# Pre-requisites for top2vec: keras_applications, keras_preprocessing\n",
    "\n",
    "# [OPTIONAL]\n",
    "from nlpretext import Preprocessor\n",
    "from nlpretext.basic.preprocess import *"
   ]
  },
  {
   "cell_type": "markdown",
   "metadata": {},
   "source": [
    "# 1. Load data"
   ]
  },
  {
   "cell_type": "code",
   "execution_count": 200,
   "metadata": {},
   "outputs": [],
   "source": [
    "# Load dataset for unsupervised modeling\n",
    "data = pd.read_csv('dataset_unsupervised.csv')\n",
    "\n",
    "# Load tagline data\n",
    "with open('movies_tagline.json', 'r') as f:\n",
    "    tagline = json.load(f)\n",
    "df_tagline = pd.DataFrame.from_dict(tagline, orient='index', columns=['tagline']).reset_index().rename({'index': 'id'}, axis=1)\n",
    "df_tagline['id'] = df_tagline['id'].astype(int)\n",
    "\n",
    "# Load overview data\n",
    "with open('movies_overview.json', 'r') as f:\n",
    "    overview = json.load(f)\n",
    "df_overview = pd.DataFrame.from_dict(overview, orient='index', columns=['overview']).reset_index().rename({'index': 'id'}, axis=1)\n",
    "df_overview['id'] = df_overview['id'].astype(int)\n",
    "\n",
    "# Merge datasets\n",
    "data = data.merge(df_tagline, on='id', how='left').merge(df_overview, on='id', how='left')\n",
    "\n",
    "# Create dictionary to associate a movie ID to its title (will be used for exploration later)\n",
    "dict_title = data[['id', 'title']].set_index('id').to_dict()['title']\n",
    "\n",
    "# Drop variables useless for the modeling part (clustering and topic modeling)\n",
    "data = data.drop(['release_date', 'title', 'index'], axis=1)"
   ]
  },
  {
   "cell_type": "code",
   "execution_count": 201,
   "metadata": {},
   "outputs": [
    {
     "data": {
      "text/html": [
       "<div>\n",
       "<style scoped>\n",
       "    .dataframe tbody tr th:only-of-type {\n",
       "        vertical-align: middle;\n",
       "    }\n",
       "\n",
       "    .dataframe tbody tr th {\n",
       "        vertical-align: top;\n",
       "    }\n",
       "\n",
       "    .dataframe thead th {\n",
       "        text-align: right;\n",
       "    }\n",
       "</style>\n",
       "<table border=\"1\" class=\"dataframe\">\n",
       "  <thead>\n",
       "    <tr style=\"text-align: right;\">\n",
       "      <th></th>\n",
       "      <th>year</th>\n",
       "      <th>sales</th>\n",
       "      <th>is_part_of_collection</th>\n",
       "      <th>budget</th>\n",
       "      <th>runtime</th>\n",
       "      <th>original_lang_en</th>\n",
       "      <th>original_lang_es</th>\n",
       "      <th>original_lang_fr</th>\n",
       "      <th>original_lang_it</th>\n",
       "      <th>original_lang_ja</th>\n",
       "      <th>...</th>\n",
       "      <th>mean_3_popularity</th>\n",
       "      <th>mean_5_popularity</th>\n",
       "      <th>actor_1_sales</th>\n",
       "      <th>actor_2_sales</th>\n",
       "      <th>actor_3_sales</th>\n",
       "      <th>mean_sales_actor</th>\n",
       "      <th>max_sales_actor</th>\n",
       "      <th>id</th>\n",
       "      <th>tagline</th>\n",
       "      <th>overview</th>\n",
       "    </tr>\n",
       "  </thead>\n",
       "  <tbody>\n",
       "    <tr>\n",
       "      <th>0</th>\n",
       "      <td>2000</td>\n",
       "      <td>139087</td>\n",
       "      <td>0</td>\n",
       "      <td>25000000.0</td>\n",
       "      <td>120.0</td>\n",
       "      <td>0</td>\n",
       "      <td>0</td>\n",
       "      <td>1</td>\n",
       "      <td>0</td>\n",
       "      <td>0</td>\n",
       "      <td>...</td>\n",
       "      <td>0.489158</td>\n",
       "      <td>0.373572</td>\n",
       "      <td>0.0</td>\n",
       "      <td>0.0</td>\n",
       "      <td>0.0</td>\n",
       "      <td>0.0</td>\n",
       "      <td>0.0</td>\n",
       "      <td>2475</td>\n",
       "      <td></td>\n",
       "      <td>Comme les Mousquetaires dont elles possèdent l...</td>\n",
       "    </tr>\n",
       "    <tr>\n",
       "      <th>1</th>\n",
       "      <td>2000</td>\n",
       "      <td>66228</td>\n",
       "      <td>0</td>\n",
       "      <td>22000000.0</td>\n",
       "      <td>142.0</td>\n",
       "      <td>1</td>\n",
       "      <td>0</td>\n",
       "      <td>0</td>\n",
       "      <td>0</td>\n",
       "      <td>0</td>\n",
       "      <td>...</td>\n",
       "      <td>1.404085</td>\n",
       "      <td>1.229533</td>\n",
       "      <td>0.0</td>\n",
       "      <td>0.0</td>\n",
       "      <td>0.0</td>\n",
       "      <td>0.0</td>\n",
       "      <td>0.0</td>\n",
       "      <td>2870</td>\n",
       "      <td></td>\n",
       "      <td>New York, été 1977. Alors que la ville connait...</td>\n",
       "    </tr>\n",
       "    <tr>\n",
       "      <th>2</th>\n",
       "      <td>2000</td>\n",
       "      <td>1463152</td>\n",
       "      <td>0</td>\n",
       "      <td>25000000.0</td>\n",
       "      <td>77.0</td>\n",
       "      <td>0</td>\n",
       "      <td>1</td>\n",
       "      <td>0</td>\n",
       "      <td>0</td>\n",
       "      <td>0</td>\n",
       "      <td>...</td>\n",
       "      <td>0.000000</td>\n",
       "      <td>0.000000</td>\n",
       "      <td>0.0</td>\n",
       "      <td>0.0</td>\n",
       "      <td>0.0</td>\n",
       "      <td>0.0</td>\n",
       "      <td>0.0</td>\n",
       "      <td>2706</td>\n",
       "      <td></td>\n",
       "      <td></td>\n",
       "    </tr>\n",
       "    <tr>\n",
       "      <th>3</th>\n",
       "      <td>2000</td>\n",
       "      <td>32954</td>\n",
       "      <td>0</td>\n",
       "      <td>25000000.0</td>\n",
       "      <td>116.0</td>\n",
       "      <td>1</td>\n",
       "      <td>0</td>\n",
       "      <td>0</td>\n",
       "      <td>0</td>\n",
       "      <td>0</td>\n",
       "      <td>...</td>\n",
       "      <td>0.465217</td>\n",
       "      <td>0.346425</td>\n",
       "      <td>0.0</td>\n",
       "      <td>0.0</td>\n",
       "      <td>0.0</td>\n",
       "      <td>0.0</td>\n",
       "      <td>0.0</td>\n",
       "      <td>11980</td>\n",
       "      <td></td>\n",
       "      <td>Félicia, dix-sept ans, traverse la mer d'Irlan...</td>\n",
       "    </tr>\n",
       "    <tr>\n",
       "      <th>4</th>\n",
       "      <td>2000</td>\n",
       "      <td>223564</td>\n",
       "      <td>1</td>\n",
       "      <td>40000000.0</td>\n",
       "      <td>99.0</td>\n",
       "      <td>1</td>\n",
       "      <td>0</td>\n",
       "      <td>0</td>\n",
       "      <td>0</td>\n",
       "      <td>0</td>\n",
       "      <td>...</td>\n",
       "      <td>2.802817</td>\n",
       "      <td>2.044138</td>\n",
       "      <td>0.0</td>\n",
       "      <td>0.0</td>\n",
       "      <td>0.0</td>\n",
       "      <td>0.0</td>\n",
       "      <td>0.0</td>\n",
       "      <td>2480</td>\n",
       "      <td>Il reprend du service.</td>\n",
       "      <td>Arthur Bishop pensait qu'il avait mis son pass...</td>\n",
       "    </tr>\n",
       "  </tbody>\n",
       "</table>\n",
       "<p>5 rows × 60 columns</p>\n",
       "</div>"
      ],
      "text/plain": [
       "   year    sales  is_part_of_collection      budget  runtime  \\\n",
       "0  2000   139087                      0  25000000.0    120.0   \n",
       "1  2000    66228                      0  22000000.0    142.0   \n",
       "2  2000  1463152                      0  25000000.0     77.0   \n",
       "3  2000    32954                      0  25000000.0    116.0   \n",
       "4  2000   223564                      1  40000000.0     99.0   \n",
       "\n",
       "   original_lang_en  original_lang_es  original_lang_fr  original_lang_it  \\\n",
       "0                 0                 0                 1                 0   \n",
       "1                 1                 0                 0                 0   \n",
       "2                 0                 1                 0                 0   \n",
       "3                 1                 0                 0                 0   \n",
       "4                 1                 0                 0                 0   \n",
       "\n",
       "   original_lang_ja  ...  mean_3_popularity  mean_5_popularity  actor_1_sales  \\\n",
       "0                 0  ...           0.489158           0.373572            0.0   \n",
       "1                 0  ...           1.404085           1.229533            0.0   \n",
       "2                 0  ...           0.000000           0.000000            0.0   \n",
       "3                 0  ...           0.465217           0.346425            0.0   \n",
       "4                 0  ...           2.802817           2.044138            0.0   \n",
       "\n",
       "   actor_2_sales  actor_3_sales  mean_sales_actor  max_sales_actor     id  \\\n",
       "0            0.0            0.0               0.0              0.0   2475   \n",
       "1            0.0            0.0               0.0              0.0   2870   \n",
       "2            0.0            0.0               0.0              0.0   2706   \n",
       "3            0.0            0.0               0.0              0.0  11980   \n",
       "4            0.0            0.0               0.0              0.0   2480   \n",
       "\n",
       "                  tagline                                           overview  \n",
       "0                          Comme les Mousquetaires dont elles possèdent l...  \n",
       "1                          New York, été 1977. Alors que la ville connait...  \n",
       "2                                                                             \n",
       "3                          Félicia, dix-sept ans, traverse la mer d'Irlan...  \n",
       "4  Il reprend du service.  Arthur Bishop pensait qu'il avait mis son pass...  \n",
       "\n",
       "[5 rows x 60 columns]"
      ]
     },
     "execution_count": 201,
     "metadata": {},
     "output_type": "execute_result"
    }
   ],
   "source": [
    "data.head()"
   ]
  },
  {
   "cell_type": "markdown",
   "metadata": {},
   "source": [
    "# 2. Clustering"
   ]
  },
  {
   "cell_type": "code",
   "execution_count": 204,
   "metadata": {},
   "outputs": [],
   "source": [
    "# For movie clustering, textual variables are not usefull, let's drop them\n",
    "data_clustering = data.drop(['overview', 'tagline'], axis=1)"
   ]
  },
  {
   "cell_type": "code",
   "execution_count": 205,
   "metadata": {},
   "outputs": [],
   "source": [
    "# Split the dataset into a train part and a test part (with a ratio 80/20 for example)\n",
    "# Hint: take a look at the train_test_split() function from sklearn \n",
    "# (https://scikit-learn.org/stable/modules/generated/sklearn.model_selection.train_test_split.html)\n",
    "X_train, X_test = "
   ]
  },
  {
   "cell_type": "markdown",
   "metadata": {},
   "source": [
    "## 2.1. K-means"
   ]
  },
  {
   "cell_type": "code",
   "execution_count": 247,
   "metadata": {},
   "outputs": [],
   "source": [
    "X_test_kmeans = X_test.copy()"
   ]
  },
  {
   "cell_type": "code",
   "execution_count": 248,
   "metadata": {},
   "outputs": [],
   "source": [
    "# Choose a number k of clusters \n",
    "k = "
   ]
  },
  {
   "cell_type": "code",
   "execution_count": 249,
   "metadata": {},
   "outputs": [],
   "source": [
    "# Initialize a K-means model"
   ]
  },
  {
   "cell_type": "code",
   "execution_count": 250,
   "metadata": {},
   "outputs": [],
   "source": [
    "# Fit the K-means model to your data"
   ]
  },
  {
   "cell_type": "code",
   "execution_count": 251,
   "metadata": {},
   "outputs": [],
   "source": [
    "# Predict on your test set\n",
    "predictions = "
   ]
  },
  {
   "cell_type": "code",
   "execution_count": 252,
   "metadata": {},
   "outputs": [],
   "source": [
    "# Explore your results\n",
    "# Hint: merge your predictions with your initial dataset X_test_kmeans and use the dict_title object to retrieve \n",
    "# which title is associated to each movie ID. From there you will be able to know which movies are in each cluster"
   ]
  },
  {
   "cell_type": "code",
   "execution_count": 1,
   "metadata": {},
   "outputs": [],
   "source": [
    "# Print the first 10 movies associated to a each cluster"
   ]
  },
  {
   "cell_type": "code",
   "execution_count": 3,
   "metadata": {},
   "outputs": [],
   "source": [
    "# To go further:\n",
    "# Try the elbow method to find the optimal number k of clusters. Train a new K-means model with this number, make predictions and explore the\n",
    "# results\n",
    "# Hint: use the function plot_elbow() to determine the optimal k\n",
    "X_test_kmeans = X_test.copy()\n",
    "\n",
    "def plot_elbow(X_train, K):\n",
    "    Sum_of_squared_distances = []\n",
    "    for k in range(1, K):\n",
    "        km = KMeans(n_clusters = k, random_state = 0)\n",
    "        km = km.fit(X_train)\n",
    "        Sum_of_squared_distances.append(km.inertia_)\n",
    "    plt.plot(range(1, K), Sum_of_squared_distances, 'bx-')\n",
    "    plt.xlabel('k')\n",
    "    plt.ylabel('Sum_of_squared_distances')\n",
    "    plt.title('Elbow Method For Optimal k')\n",
    "    plt.show()"
   ]
  },
  {
   "cell_type": "code",
   "execution_count": 255,
   "metadata": {},
   "outputs": [],
   "source": [
    "# Define optimal k and re-train a K-means model\n",
    "optimal_k = \n",
    "\n",
    "\n",
    "# Make predictions on test set and add corresponding title\n",
    "\n",
    "\n",
    "# Print the first 10 movies associated to a each cluster\n"
   ]
  },
  {
   "cell_type": "markdown",
   "metadata": {},
   "source": [
    "## 2.2. To go further on clustering: HDBSCAN\n",
    "HDBSCAN is another clustering model. \n",
    "Its advantage is that it determines automatically the number of clusters, it does not need to be defined beforehand."
   ]
  },
  {
   "cell_type": "code",
   "execution_count": 257,
   "metadata": {},
   "outputs": [],
   "source": [
    "X_test_hdbscan = X_test.copy()"
   ]
  },
  {
   "cell_type": "code",
   "execution_count": 4,
   "metadata": {},
   "outputs": [],
   "source": [
    "# Initialize a HDBSCAN model\n",
    "# Hint: take a look at the hdbscan package (https://hdbscan.readthedocs.io/en/latest/)"
   ]
  },
  {
   "cell_type": "code",
   "execution_count": 5,
   "metadata": {},
   "outputs": [],
   "source": [
    "# Find the number of clusters that HDBSCAN has determined"
   ]
  },
  {
   "cell_type": "code",
   "execution_count": 260,
   "metadata": {},
   "outputs": [],
   "source": [
    "# Make predictions on the test set\n",
    "# Hint: check the methods associated to an HDBSCAN model \n",
    "# (https://hdbscan.readthedocs.io/en/latest/api.html#hdbscan)"
   ]
  },
  {
   "cell_type": "code",
   "execution_count": 261,
   "metadata": {},
   "outputs": [],
   "source": [
    "# Append predictions and scores to the test set\n",
    "\n",
    "\n",
    "# Add the title associated to each movie\n"
   ]
  },
  {
   "cell_type": "code",
   "execution_count": 6,
   "metadata": {},
   "outputs": [],
   "source": [
    "# Explore results"
   ]
  },
  {
   "cell_type": "markdown",
   "metadata": {},
   "source": [
    "# 3. Topic modeling"
   ]
  },
  {
   "cell_type": "code",
   "execution_count": 193,
   "metadata": {},
   "outputs": [],
   "source": [
    "def make_word_cloud(text_df: pd.DataFrame):\n",
    "    \"\"\"\n",
    "    Function that computes word cloud from tokens\n",
    "\n",
    "    Parameters\n",
    "    ----------\n",
    "    text_df: pd.DataFrame\n",
    "        dataframe with text column\n",
    "    cmp: matplotlib.colors.LinearSegmentedColormap\n",
    "        colormap for the wordcloud\n",
    "    \"\"\"\n",
    "    text = ' '.join([' '.join(el) for el in text_df['tokens']])\n",
    "    if isinstance(text, str):\n",
    "        wordcloud_ = wordcloud.WordCloud(background_color='white', width=700, height=500).generate(text)\n",
    "        #wordcloud_.recolor(colormap=cmp)\n",
    "    else:\n",
    "        raise TypeError('text_df contains non str values')\n",
    "    plt.imshow(wordcloud_)\n",
    "    plt.axis(\"off\")\n",
    "    plt.show()"
   ]
  },
  {
   "cell_type": "code",
   "execution_count": 268,
   "metadata": {},
   "outputs": [],
   "source": [
    "# Create a 'text' column that is a combination of the tagline and the overview\n",
    "# Example:\n",
    "# - tagline = 'Il reprend du service.'\n",
    "# - overview = 'Arthur Bishop pensait qu'il avait mis son passé de tueur à gages derrière lui. ... etc'\n",
    "# -> text = 'Il reprend du service. Arthur Bishop pensait qu'il avait mis son passé de tueur à gages derrière lui. ... etc'\n",
    "data['text'] = "
   ]
  },
  {
   "cell_type": "code",
   "execution_count": 7,
   "metadata": {},
   "outputs": [],
   "source": [
    "# Preprocess the 'text' column:\n",
    "# - transform the text to lowercase\n",
    "# - remove end of line characters\n",
    "# - remove accents\n",
    "# - remove punctuation\n",
    "# - remove stopwords\n",
    "# - split the preprocessed text into words (i.e. tokens) and store it into a new column named 'tokens'"
   ]
  },
  {
   "cell_type": "markdown",
   "metadata": {},
   "source": [
    "## 3.1 LDA"
   ]
  },
  {
   "cell_type": "code",
   "execution_count": null,
   "metadata": {},
   "outputs": [],
   "source": [
    "# Create a list of all tokens associated to each movie and store it into the variable data_words\n",
    "data_words = "
   ]
  },
  {
   "cell_type": "code",
   "execution_count": null,
   "metadata": {},
   "outputs": [],
   "source": [
    "# Create a Dictionary based on the all the words per movie\n",
    "# Hint: explore the gensim library (specifically the 'corpora' section...)"
   ]
  },
  {
   "cell_type": "code",
   "execution_count": null,
   "metadata": {},
   "outputs": [],
   "source": [
    "# Create a Corpus for each text associated to each movie"
   ]
  },
  {
   "cell_type": "code",
   "execution_count": null,
   "metadata": {},
   "outputs": [],
   "source": [
    "# Define a number of topics\n",
    "num_topics = "
   ]
  },
  {
   "cell_type": "code",
   "execution_count": null,
   "metadata": {},
   "outputs": [],
   "source": [
    "# Train a LDA model\n",
    "# Hint: explore the gensim library (specifically the 'models' section...)\n",
    "lda_model = "
   ]
  },
  {
   "cell_type": "code",
   "execution_count": 146,
   "metadata": {},
   "outputs": [
    {
     "name": "stdout",
     "output_type": "stream",
     "text": [
      "[(0,\n",
      "  '0.004*\"histoire\" + 0.003*\"fils\" + 0.002*\"part\" + 0.002*\"guerre\" + '\n",
      "  '0.002*\"enfants\" + 0.002*\"amour\" + 0.002*\"roi\" + 0.002*\"voyage\" + '\n",
      "  '0.002*\"face\" + 0.002*\"temps\"'),\n",
      " (1,\n",
      "  '0.004*\"amour\" + 0.004*\"histoire\" + 0.004*\"grand\" + 0.004*\"parents\" + '\n",
      "  '0.003*\"nouvelle\" + 0.003*\"annees\" + 0.003*\"amis\" + 0.003*\"passe\" + '\n",
      "  '0.002*\"ami\" + 0.002*\"maison\"'),\n",
      " (2,\n",
      "  '0.004*\"petit\" + 0.003*\"grand\" + 0.003*\"decide\" + 0.003*\"histoire\" + '\n",
      "  '0.003*\"passe\" + 0.003*\"petite\" + 0.003*\"fils\" + 0.003*\"temps\" + '\n",
      "  '0.003*\"decouvre\" + 0.003*\"vient\"'),\n",
      " (3,\n",
      "  '0.005*\"enfants\" + 0.003*\"rencontre\" + 0.003*\"ville\" + 0.002*\"maison\" + '\n",
      "  '0.002*\"amis\" + 0.002*\"jamais\" + 0.002*\"aventure\" + 0.002*\"petit\" + '\n",
      "  '0.002*\"parents\" + 0.002*\"mari\"'),\n",
      " (4,\n",
      "  '0.005*\"annees\" + 0.004*\"histoire\" + 0.003*\"retrouve\" + 0.003*\"rencontre\" + '\n",
      "  '0.003*\"parents\" + 0.003*\"petit\" + 0.003*\"temps\" + 0.003*\"fils\" + '\n",
      "  '0.003*\"decide\" + 0.003*\"grand\"'),\n",
      " (5,\n",
      "  '0.005*\"ville\" + 0.003*\"decide\" + 0.003*\"rencontre\" + 0.003*\"paris\" + '\n",
      "  '0.003*\"grand\" + 0.003*\"histoire\" + 0.003*\"petit\" + 0.003*\"petite\" + '\n",
      "  '0.002*\"passe\" + 0.002*\"vit\"'),\n",
      " (6,\n",
      "  '0.008*\"histoire\" + 0.003*\"amour\" + 0.003*\"amis\" + 0.003*\"temps\" + '\n",
      "  '0.003*\"voyage\" + 0.003*\"grand\" + 0.003*\"ville\" + 0.003*\"enfants\" + '\n",
      "  '0.002*\"annees\" + 0.002*\"vivre\"')]\n"
     ]
    }
   ],
   "source": [
    "# Print the keywords in the n topics\n",
    "# Hint: maybe the gensim LDA model has a built-in function to do so..."
   ]
  },
  {
   "cell_type": "code",
   "execution_count": 147,
   "metadata": {},
   "outputs": [
    {
     "data": {
      "text/html": [
       "\n",
       "<link rel=\"stylesheet\" type=\"text/css\" href=\"https://cdn.rawgit.com/bmabey/pyLDAvis/files/ldavis.v1.0.0.css\">\n",
       "\n",
       "\n",
       "<div id=\"ldavis_el1169252491280164192587499\"></div>\n",
       "<script type=\"text/javascript\">\n",
       "\n",
       "var ldavis_el1169252491280164192587499_data = {\"mdsDat\": {\"x\": [-0.016789472193625754, -0.037514417779847875, -0.009391710971995195, -0.012963685793270233, -0.011368383680243609, -0.009101967251480735, 0.09712963767046345], \"y\": [-0.029930097963924145, 0.03633185274214855, -0.03638730213415016, 0.055399500456962285, -0.0556157064158002, 0.021922342226391545, 0.008279411088372185], \"topics\": [1, 2, 3, 4, 5, 6, 7], \"cluster\": [1, 1, 1, 1, 1, 1, 1], \"Freq\": [17.35091781616211, 15.111909866333008, 14.895454406738281, 14.15353012084961, 13.973155975341797, 12.755716323852539, 11.759320259094238]}, \"tinfo\": {\"Term\": [\"histoire\", \"enfants\", \"voyage\", \"ville\", \"parents\", \"roi\", \"annees\", \"photographe\", \"temps\", \"amis\", \"guerre\", \"pourri\", \"vic\", \"moxy\", \"muriel\", \"louise\", \"chien\", \"tombe\", \"amour\", \"fils\", \"kabir\", \"liberte\", \"politique\", \"vivre\", \"embuches\", \"victor\", \"c\\u0153ur\", \"morts\", \"emile\", \"fahim\", \"honka\", \"csg\", \"emerveilles\", \"pitoyable\", \"jewell\", \"yakov\", \"eliminee\", \"boutchou\", \"fleck\", \"referent\", \"realiseront\", \"dalle\", \"programmation\", \"almodovar\", \"funebre\", \"croyions\", \"veillee\", \"ignorons\", \"tablette\", \"infiltree\", \"glove\", \"meritent\", \"impawsible\", \"talion\", \"mathilda\", \"trumbull\", \"nevada\", \"conviee\", \"michiko\", \"pedro\", \"noriko\", \"viktor\", \"smith\", \"lara\", \"oliver\", \"ada\", \"lila\", \"iran\", \"souleiman\", \"annees\", \"preparez\", \"dent\", \"lutte\", \"innocente\", \"lola\", \"retrouve\", \"president\", \"emma\", \"prevenu\", \"mort\", \"60\", \"parents\", \"nait\", \"rencontre\", \"horreur\", \"etat\", \"guerre\", \"groupe\", \"temps\", \"trouve\", \"petit\", \"fils\", \"mission\", \"histoire\", \"heros\", \"nouvelle\", \"decide\", \"new\", \"decouvre\", \"hommes\", \"grand\", \"change\", \"prison\", \"pays\", \"jeunes\", \"amour\", \"face\", \"nuit\", \"passe\", \"equipe\", \"pouvoir\", \"retrouver\", \"amitie\", \"jamais\", \"petite\", \"pourri\", \"amine\", \"affublee\", \"pechotage\", \"pecho\", \"chaplapla\", \"doublure\", \"teen\", \"ouassima\", \"yi\", \"decontractees\", \"truffe\", \"promare\", \"madrilenes\", \"prequelle\", \"fugaces\", \"daim\", \"blouson\", \"dutch\", \"1849\", \"adorer\", \"lisiere\", \"emmenageant\", \"larvee\", \"declinante\", \"nico\", \"affrontes\", \"brixton\", \"retombe\", \"disait\", \"shaw\", \"selma\", \"gina\", \"jin\", \"bigfoot\", \"luge\", \"releve\", \"waad\", \"adversaire\", \"enterre\", \"tori\", \"toit\", \"combatif\", \"michel\", \"ville\", \"chien\", \"pingouins\", \"batla\", \"hobbs\", \"intrepides\", \"jeanne\", \"alep\", \"furious\", \"diplomatique\", \"elena\", \"house\", \"village\", \"paris\", \"fidele\", \"disparu\", \"mentor\", \"revolte\", \"couple\", \"decide\", \"sauver\", \"decouvrir\", \"rencontre\", \"cours\", \"petite\", \"suite\", \"star\", \"vit\", \"trouver\", \"petit\", \"passe\", \"jamais\", \"grand\", \"devenir\", \"main\", \"aventure\", \"retrouver\", \"histoire\", \"etait\", \"frere\", \"trouve\", \"amour\", \"fils\", \"meilleur\", \"vivre\", \"hommes\", \"equipe\", \"annees\", \"centerville\", \"kristoff\", \"olaf\", \"osciller\", \"silinks\", \"reichenbach\", \"revitaliser\", \"irreprochables\", \"bacqueux\", \"nokk\", \"poteriks\", \"janot\", \"reecrivent\", \"inhabituels\", \"bemby\", \"fary\", \"gwada\", \"sily\", \"arendelle\", \"vermine\", \"late\", \"moxy\", \"bembelates\", \"deploient\", \"henley\", \"declares\", \"deconnecter\", \"palpable\", \"pretendait\", \"palmipede\", \"cunningham\", \"uglyville\", \"uglydolls\", \"abruti\", \"vic\", \"sven\", \"samsam\", \"canard\", \"halvar\", \"attaquent\", \"cathy\", \"soudee\", \"enfants\", \"llorana\", \"dan\", \"sereine\", \"margaux\", \"danseur\", \"serenite\", \"dela\", \"aime\", \"elsa\", \"horaires\", \"morts\", \"eric\", \"theo\", \"marla\", \"prendre\", \"mari\", \"rencontre\", \"destin\", \"inattendue\", \"travers\", \"pouvoir\", \"aventure\", \"maison\", \"ville\", \"enquete\", \"jamais\", \"livre\", \"amis\", \"recherche\", \"menace\", \"parents\", \"jeunes\", \"secret\", \"nouvelle\", \"nuit\", \"petit\", \"passe\", \"mal\", \"belle\", \"vivre\", \"petite\", \"retrouver\", \"retrouve\", \"annees\", \"reve\", \"grand\", \"histoire\", \"amour\", \"sophia\", \"securiser\", \"laine\", \"lucius\", \"heloise\", \"adoptee\", \"rots\", \"mignonnes\", \"twerk\", \"rappelles\", \"florian\", \"performantes\", \"chantez\", \"modestement\", \"lahire\", \"manier\", \"mongole\", \"steppe\", \"instigation\", \"separeront\", \"inondation\", \"1770\", \"progressant\", \"menti\", \"chargeront\", \"vegetales\", \"recre\", \"eleonore\", \"introduite\", \"muriel\", \"lu\", \"samia\", \"lupin\", \"ouragan\", \"shaun\", \"iii\", \"marianne\", \"croix\", \"petrunya\", \"troupeau\", \"kurt\", \"buck\", \"canada\", \"yanis\", \"alex\", \"bouleversee\", \"natale\", \"petit\", \"intriguee\", \"vient\", \"compliquee\", \"tombe\", \"pousse\", \"passe\", \"petite\", \"decide\", \"decouvre\", \"grand\", \"partir\", \"meilleur\", \"temps\", \"fils\", \"vit\", \"lorsqu\", \"attend\", \"ami\", \"jamais\", \"jours\", \"nuit\", \"histoire\", \"lendemain\", \"devenir\", \"propre\", \"vivre\", \"retrouve\", \"maison\", \"aventure\", \"age\", \"amis\", \"amour\", \"ville\", \"destin\", \"sauver\", \"vite\", \"face\", \"kabir\", \"stubby\", \"breitner\", \"delignieres\", \"aures\", \"sata\", \"goelands\", \"student\", \"melodrame\", \"nemencha\", \"batra\", \"nuria\", \"shreya\", \"euridice\", \"degager\", \"ouaf\", \"guida\", \"postal\", \"martinet\", \"evergarden\", \"lise\", \"collocation\", \"compatibles\", \"fret\", \"gravit\", \"cicero\", \"liberons\", \"tropical\", \"khalid\", \"year\", \"fabre\", \"couler\", \"sultan\", \"superieur\", \"ebranle\", \"rebelles\", \"tessa\", \"voulait\", \"diana\", \"politique\", \"gilbert\", \"tanguy\", \"amour\", \"parents\", \"douce\", \"rencontrer\", \"grand\", \"nouvelle\", \"chambre\", \"link\", \"ami\", \"surprenante\", \"maison\", \"maire\", \"histoire\", \"hardin\", \"amis\", \"guerre\", \"debut\", \"annees\", \"passe\", \"lycee\", \"ex\", \"equipe\", \"retrouver\", \"decide\", \"recherche\", \"mal\", \"fete\", \"grande\", \"affronter\", \"mort\", \"prend\", \"petit\", \"etait\", \"enfant\", \"reve\", \"fils\", \"pays\", \"petite\", \"decouvre\", \"temps\", \"retrouve\", \"jours\", \"garrity\", \"autumn\", \"sonde\", \"chimeriques\", \"rodan\", \"mangalyann\", \"ulm\", \"monarch\", \"zoologique\", \"placera\", \"titanesques\", \"godzilla\", \"narrant\", \"crypto\", \"mothra\", \"alcott\", \"ghidorah\", \"souliers\", \"gagic\", \"marginalise\", \"ashleigh\", \"gatsby\", \"secouent\", \"comete\", \"calvez\", \"beck\", \"shelburn\", \"moufter\", \"plouha\", \"paniquee\", \"jared\", \"potiphar\", \"embuches\", \"oies\", \"perilleux\", \"photographe\", \"mohsen\", \"enchainent\", \"victor\", \"roi\", \"fierte\", \"margot\", \"kaboul\", \"solaire\", \"pot\", \"marguerite\", \"liberte\", \"religieuse\", \"inde\", \"bulletin\", \"akane\", \"imagination\", \"bayala\", \"part\", \"fils\", \"fleurs\", \"cherchent\", \"bruno\", \"peur\", \"voyage\", \"serge\", \"histoire\", \"planete\", \"prend\", \"guerre\", \"epoque\", \"commence\", \"enfants\", \"face\", \"pierre\", \"devient\", \"mettre\", \"hommes\", \"menace\", \"societe\", \"amour\", \"temps\", \"vit\", \"parents\", \"femmes\", \"retrouver\", \"grace\", \"decide\", \"amoureux\", \"rencontre\", \"reve\", \"grand\", \"passe\", \"jours\", \"petit\", \"sauver\", \"jamais\", \"vali\", \"maloye\", \"bellabre\", \"llorona\", \"reculees\", \"columbus\", \"tallahassee\", \"inconsideres\", \"bonnie\", \"mainate\", \"decoloration\", \"congedier\", \"obtiendront\", \"tensing\", \"parois\", \"mitonnes\", \"eliott\", \"soutenus\", \"haitienne\", \"experimentee\", \"taburin\", \"sherpa\", \"revelateurs\", \"fenice\", \"forky\", \"peseront\", \"artisanal\", \"nessim\", \"eloignees\", \"crawley\", \"fahim\", \"myriam\", \"gigolo\", \"yoladf\", \"emile\", \"pleurer\", \"picard\", \"honte\", \"daoud\", \"affective\", \"caravane\", \"nostalgie\", \"corentin\", \"coupables\", \"wichita\", \"zombies\", \"dreyfus\", \"mine\", \"preavis\", \"histoire\", \"woody\", \"voyage\", \"louise\", \"loups\", \"bernard\", \"c\\u0153ur\", \"sofia\", \"amis\", \"temps\", \"france\", \"amour\", \"vivre\", \"belle\", \"retrouvent\", \"enfants\", \"s\\u0153ur\", \"ville\", \"grand\", \"end\", \"annees\", \"face\", \"grande\", \"place\", \"commence\", \"secret\", \"petite\", \"veut\", \"paris\", \"week\", \"nature\", \"paul\", \"decide\", \"recherche\", \"pouvoir\", \"reve\", \"fils\", \"nouvelle\", \"vit\", \"aventure\", \"jamais\"], \"Freq\": [917.0, 473.0, 296.0, 536.0, 483.0, 162.0, 571.0, 75.0, 494.0, 470.0, 405.0, 34.0, 50.0, 32.0, 35.0, 65.0, 152.0, 211.0, 623.0, 531.0, 25.0, 159.0, 120.0, 340.0, 35.0, 74.0, 173.0, 85.0, 25.0, 21.0, 16.927473068237305, 16.185956954956055, 8.55054759979248, 8.545063972473145, 8.541275024414062, 8.543275833129883, 8.542513847351074, 8.539366722106934, 8.541810035705566, 8.533870697021484, 8.53419303894043, 8.536191940307617, 8.540385246276855, 8.530110359191895, 8.531707763671875, 8.532876968383789, 8.52854061126709, 8.527449607849121, 8.530830383300781, 8.525368690490723, 8.525864601135254, 8.5232572555542, 8.527359008789062, 8.510412216186523, 9.020014762878418, 8.489790916442871, 17.474620819091797, 8.97330379486084, 15.916635513305664, 9.73928165435791, 15.681492805480957, 19.04436683654785, 19.341920852661133, 17.028064727783203, 17.415117263793945, 22.217134475708008, 25.136789321899414, 21.11113929748535, 13.999248504638672, 205.2146453857422, 17.974946975708008, 17.81888198852539, 44.84209442138672, 18.187620162963867, 19.915109634399414, 149.1644744873047, 43.287105560302734, 36.602447509765625, 9.56536865234375, 109.2672348022461, 20.38273048400879, 135.77561950683594, 21.202001571655273, 136.9232177734375, 21.138755798339844, 42.362831115722656, 108.42804718017578, 78.1635513305664, 118.83982849121094, 80.67105102539062, 129.71435546875, 116.42849731445312, 73.86192321777344, 158.96658325195312, 66.9292221069336, 93.59465026855469, 110.57746124267578, 67.77178955078125, 87.45879364013672, 74.091064453125, 110.05177307128906, 46.65599060058594, 51.59022903442383, 61.51637649536133, 66.41728210449219, 96.5718002319336, 77.22411346435547, 69.7807388305664, 79.37133026123047, 63.17106246948242, 62.66904830932617, 66.58717346191406, 56.95244216918945, 64.96217346191406, 64.63507080078125, 32.14537048339844, 15.820622444152832, 7.995009422302246, 7.99212121963501, 7.991064548492432, 7.989368915557861, 7.988860607147217, 7.984057903289795, 7.978569030761719, 7.980173110961914, 7.9882426261901855, 7.974346160888672, 7.989269256591797, 7.983816623687744, 7.983239650726318, 7.979767799377441, 7.982082366943359, 7.963932514190674, 7.919625282287598, 7.925380706787109, 8.330161094665527, 7.842153072357178, 7.853804111480713, 7.842183589935303, 8.259765625, 23.747314453125, 9.863550186157227, 9.904672622680664, 8.525182723999023, 8.038788795471191, 20.13472557067871, 16.442747116088867, 15.923970222473145, 26.583019256591797, 14.634194374084473, 14.86589241027832, 17.591062545776367, 13.441813468933105, 26.183080673217773, 16.59549903869629, 14.09896183013916, 26.46626853942871, 9.990713119506836, 32.48171615600586, 174.0526123046875, 66.74597930908203, 18.77657127380371, 12.633596420288086, 9.919081687927246, 9.293320655822754, 36.676475524902344, 12.513293266296387, 9.874679565429688, 10.192902565002441, 16.141437530517578, 12.711880683898926, 68.28056335449219, 99.37373352050781, 31.165815353393555, 49.774715423583984, 24.25446891784668, 21.88545799255371, 66.9312973022461, 113.02967071533203, 78.15404510498047, 69.76241302490234, 101.92402648925781, 63.09764099121094, 94.64852905273438, 54.214046478271484, 45.6941032409668, 80.592529296875, 60.51958465576172, 96.051025390625, 89.02079772949219, 79.33399200439453, 97.28828430175781, 64.1026840209961, 47.9801139831543, 67.9415283203125, 69.52412414550781, 96.76560974121094, 58.73935317993164, 54.48073196411133, 58.5384521484375, 79.08699035644531, 72.62914276123047, 55.978553771972656, 60.67013931274414, 58.894222259521484, 55.95271682739258, 57.857696533203125, 16.09450340270996, 8.646503448486328, 8.643863677978516, 8.130108833312988, 8.128551483154297, 8.125383377075195, 8.126770973205566, 8.123054504394531, 8.123021125793457, 8.120977401733398, 8.122732162475586, 8.119640350341797, 8.12096118927002, 8.112302780151367, 8.11800479888916, 8.115521430969238, 8.113941192626953, 8.113658905029297, 8.109917640686035, 8.112786293029785, 8.110894203186035, 29.852041244506836, 8.106294631958008, 8.102795600891113, 8.110454559326172, 8.097640991210938, 8.107939720153809, 8.1154203414917, 8.090034484863281, 8.085660934448242, 20.857498168945312, 14.695976257324219, 14.625692367553711, 8.552536964416504, 37.262855529785156, 20.167421340942383, 14.147919654846191, 16.088172912597656, 18.733423233032227, 17.045658111572266, 17.114181518554688, 13.961097717285156, 173.66848754882812, 17.613874435424805, 28.212810516357422, 8.829718589782715, 28.30171775817871, 29.3203067779541, 18.553998947143555, 40.49325180053711, 67.1978759765625, 17.263731002807617, 8.452546119689941, 37.743804931640625, 25.52754020690918, 21.08662223815918, 12.19113540649414, 70.01057434082031, 73.92599487304688, 113.78230285644531, 67.58486938476562, 27.99081802368164, 63.87535858154297, 72.028564453125, 78.4203872680664, 82.03018951416016, 96.67829895019531, 54.377872467041016, 79.13662719726562, 37.126914978027344, 81.61990356445312, 61.920936584472656, 56.1672477722168, 77.14871215820312, 58.814125061035156, 57.755958557128906, 70.04328918457031, 62.997589111328125, 77.34895324707031, 72.56996154785156, 53.08316421508789, 53.72587203979492, 59.240745544433594, 66.8160629272461, 61.652793884277344, 63.75768280029297, 64.4037094116211, 56.51454162597656, 65.26609802246094, 66.78038787841797, 60.52566146850586, 15.305380821228027, 15.239952087402344, 16.309402465820312, 15.319409370422363, 15.61096477508545, 8.241973876953125, 8.215522766113281, 7.730458736419678, 7.727732181549072, 7.721111297607422, 7.718574047088623, 7.722642421722412, 7.711950778961182, 7.716520309448242, 7.717040538787842, 8.178736686706543, 7.658607482910156, 7.654537677764893, 7.645315170288086, 7.615095138549805, 14.849747657775879, 7.953698635101318, 7.5109405517578125, 15.44193172454834, 7.460334300994873, 7.893487453460693, 7.860559463500977, 8.25593376159668, 7.787513732910156, 30.99559783935547, 17.30321502685547, 21.294448852539062, 20.54877281188965, 15.984220504760742, 16.30767822265625, 14.63585376739502, 17.900569915771484, 19.977243423461914, 12.92377758026123, 16.73031234741211, 18.82259178161621, 15.4627685546875, 16.593936920166016, 13.173641204833984, 60.002933502197266, 33.31043243408203, 22.628704071044922, 133.20982360839844, 16.83805274963379, 88.07882690429688, 14.968609809875488, 62.69869613647461, 30.80573272705078, 105.164794921875, 100.04132843017578, 112.18067169189453, 89.72743225097656, 118.13603210449219, 53.382965087890625, 65.12361145019531, 92.99945831298828, 94.59392547607422, 79.95588684082031, 63.24732971191406, 39.50184631347656, 72.15914154052734, 79.94525146484375, 64.66117858886719, 68.45124053955078, 108.44884490966797, 37.51734161376953, 61.36808395385742, 48.80478286743164, 65.22859191894531, 73.00656127929688, 66.82746887207031, 62.50575637817383, 48.29754638671875, 69.30320739746094, 71.08551025390625, 63.97232437133789, 51.258235931396484, 54.906715393066406, 52.195064544677734, 52.600685119628906, 24.292530059814453, 15.576358795166016, 8.198288917541504, 8.196621894836426, 8.19354248046875, 8.192424774169922, 8.197665214538574, 8.189629554748535, 8.186294555664062, 8.187325477600098, 8.194452285766602, 8.188365936279297, 8.185036659240723, 8.180429458618164, 8.184599876403809, 8.188775062561035, 8.16980266571045, 8.17566967010498, 8.172761917114258, 8.158180236816406, 16.72221565246582, 8.035672187805176, 8.029553413391113, 7.9674201011657715, 8.410660743713379, 7.944728374481201, 8.326140403747559, 8.307083129882812, 16.199316024780273, 8.319610595703125, 14.85046672821045, 15.908365249633789, 14.240701675415039, 25.27585220336914, 16.890974044799805, 20.34649658203125, 14.627912521362305, 24.339391708374023, 21.78778648376465, 54.44230651855469, 12.29233169555664, 20.61391258239746, 146.4803009033203, 122.78931427001953, 17.436365127563477, 43.364994049072266, 134.2679443359375, 98.42278289794922, 32.391082763671875, 12.663405418395996, 84.97119903564453, 13.93136215209961, 84.46134185791016, 23.190563201904297, 138.6133575439453, 12.347223281860352, 91.95913696289062, 83.2980728149414, 47.23517990112305, 94.85075378417969, 88.3073501586914, 38.94331359863281, 43.10637283325195, 60.53985595703125, 68.0113754272461, 83.79608917236328, 56.20917510986328, 50.763519287109375, 41.24266815185547, 49.34583282470703, 40.50983428955078, 55.099449157714844, 46.121063232421875, 65.3892593383789, 49.208457946777344, 48.298274993896484, 51.474002838134766, 58.480594635009766, 46.11365509033203, 53.66447830200195, 51.6590461730957, 52.14882278442383, 50.548519134521484, 46.770912170410156, 14.608258247375488, 14.572408676147461, 14.585518836975098, 7.369700908660889, 7.366889476776123, 7.359124660491943, 7.3566508293151855, 7.357699394226074, 7.356489658355713, 7.353767395019531, 7.35304069519043, 7.35258150100708, 7.359132766723633, 7.348820209503174, 7.3487725257873535, 7.354764938354492, 7.346470832824707, 7.358080863952637, 7.365314483642578, 7.360544204711914, 7.3192219734191895, 7.29810094833374, 7.665422439575195, 7.640868186950684, 7.216969966888428, 7.186059951782227, 7.141164779663086, 7.1125807762146, 7.095821380615234, 7.512410640716553, 14.58122730255127, 12.812240600585938, 26.724525451660156, 8.262399673461914, 20.377391815185547, 42.848697662353516, 12.106804847717285, 13.697492599487305, 38.879844665527344, 69.10535430908203, 14.864245414733887, 18.889556884765625, 12.897618293762207, 12.806785583496094, 12.97305965423584, 15.717079162597656, 58.493682861328125, 14.822476387023926, 24.71299171447754, 11.682249069213867, 14.753582000732422, 23.41827392578125, 11.031095504760742, 77.24214172363281, 107.89958953857422, 15.960280418395996, 16.748891830444336, 22.69404411315918, 42.081607818603516, 67.38716888427734, 22.93328285217285, 127.77812194824219, 39.71394729614258, 52.67267608642578, 74.2684555053711, 31.604595184326172, 60.32728576660156, 72.65037536621094, 65.5318603515625, 39.67577362060547, 51.3016357421875, 44.98212814331055, 55.953147888183594, 47.19133377075195, 37.04129409790039, 70.83660888671875, 63.101627349853516, 56.73539733886719, 59.843631744384766, 46.066551208496094, 52.42552947998047, 41.15741729736328, 60.911224365234375, 41.77821731567383, 52.92207336425781, 46.70890808105469, 52.430484771728516, 49.86481475830078, 44.56441116333008, 47.21401596069336, 44.59372329711914, 44.89764404296875, 13.456537246704102, 13.45024299621582, 13.43958568572998, 13.277095794677734, 8.101515769958496, 7.222176551818848, 7.203385353088379, 7.197299480438232, 14.037691116333008, 6.785458087921143, 6.782662391662598, 6.787099361419678, 6.782674312591553, 6.782653331756592, 6.783200740814209, 6.783931732177734, 6.781647682189941, 6.779052257537842, 6.781434059143066, 6.781383514404297, 6.786104202270508, 6.776519775390625, 6.7779927253723145, 6.775207042694092, 6.776847839355469, 6.7792229652404785, 6.779179573059082, 6.7783122062683105, 6.774878025054932, 6.776906490325928, 19.17523765563965, 13.737884521484375, 14.069374084472656, 12.50326156616211, 21.12569236755371, 13.715538024902344, 13.440716743469238, 13.517730712890625, 11.922853469848633, 7.12181282043457, 14.970474243164062, 13.731252670288086, 11.440157890319824, 18.477407455444336, 7.391232967376709, 15.353109359741211, 15.98546314239502, 14.998685836791992, 7.394509792327881, 220.637939453125, 15.79968547821045, 86.87093353271484, 30.426034927368164, 20.459392547607422, 14.942572593688965, 54.086448669433594, 20.891271591186523, 98.2534408569336, 96.13013458251953, 58.69075012207031, 99.21503448486328, 67.57298278808594, 56.49010467529297, 38.378658294677734, 73.37933349609375, 40.21430969238281, 75.15491485595703, 81.8807144165039, 28.59444808959961, 73.07856750488281, 60.145755767822266, 47.99587631225586, 47.84361267089844, 53.172489166259766, 49.16009521484375, 62.410552978515625, 46.29679489135742, 51.96122360229492, 27.9317626953125, 32.43263626098633, 35.60758972167969, 61.81064224243164, 45.074031829833984, 45.561100006103516, 46.71611404418945, 53.64907455444336, 49.702213287353516, 45.86196517944336, 43.556427001953125, 44.668582916259766], \"Total\": [917.0, 473.0, 296.0, 536.0, 483.0, 162.0, 571.0, 75.0, 494.0, 470.0, 405.0, 34.0, 50.0, 32.0, 35.0, 65.0, 152.0, 211.0, 623.0, 531.0, 25.0, 159.0, 120.0, 340.0, 35.0, 74.0, 173.0, 85.0, 25.0, 21.0, 17.735225677490234, 17.694061279296875, 9.357392311096191, 9.351646423339844, 9.3475923538208, 9.349835395812988, 9.349087715148926, 9.345975875854492, 9.349116325378418, 9.340596199035645, 9.340968132019043, 9.343323707580566, 9.348017692565918, 9.336796760559082, 9.338587760925293, 9.340065002441406, 9.335330963134766, 9.334294319152832, 9.338054656982422, 9.332202911376953, 9.33277416229248, 9.330228805541992, 9.335260391235352, 9.31765365600586, 9.88752555847168, 9.318572044372559, 19.206758499145508, 9.883687019348145, 17.676713943481445, 10.958027839660645, 17.66875457763672, 22.937793731689453, 23.420785903930664, 20.658672332763672, 21.211156845092773, 28.487512588500977, 33.249755859375, 28.527873992919922, 17.603992462158203, 571.4540405273438, 24.335704803466797, 24.24752426147461, 80.5396957397461, 25.436864852905273, 28.922000885009766, 444.08538818359375, 85.6880111694336, 69.68316650390625, 10.948382377624512, 339.5005798339844, 32.04688262939453, 483.02569580078125, 34.59445571899414, 534.7435302734375, 35.108192443847656, 99.2119140625, 405.429931640625, 251.5945587158203, 494.6116638183594, 276.1924743652344, 589.38134765625, 531.4814453125, 254.46681213378906, 917.9908447265625, 222.95663452148438, 430.0549621582031, 594.6341552734375, 254.88206481933594, 412.9190979003906, 308.0098876953125, 659.3213500976562, 134.3463134765625, 166.22593688964844, 239.23043823242188, 280.9080810546875, 623.8018798828125, 388.5735778808594, 342.46209716796875, 515.2763671875, 300.96014404296875, 294.59869384765625, 386.73248291015625, 236.05259704589844, 433.71075439453125, 485.48052978515625, 34.42362594604492, 17.12975311279297, 8.811271667480469, 8.808121681213379, 8.80705451965332, 8.805397987365723, 8.805426597595215, 8.800578117370605, 8.794661521911621, 8.796695709228516, 8.805593490600586, 8.79065990447998, 8.807119369506836, 8.801523208618164, 8.801304817199707, 8.797542572021484, 8.801898002624512, 8.785264015197754, 8.775915145874023, 8.791577339172363, 9.312963485717773, 8.79647445678711, 8.813687324523926, 8.805298805236816, 9.31749439239502, 27.035497665405273, 11.291891098022461, 11.352553367614746, 9.801350593566895, 9.267012596130371, 24.188034057617188, 19.672874450683594, 19.19801902770996, 33.96982192993164, 17.551237106323242, 17.91672706604004, 22.14628791809082, 16.57175064086914, 37.361244201660156, 21.659605026245117, 17.822141647338867, 40.847312927246094, 11.85030746459961, 57.142486572265625, 536.2876586914062, 152.9105682373047, 28.219812393188477, 16.406618118286133, 11.81777286529541, 10.832212448120117, 72.84457397460938, 16.481260299682617, 11.821887016296387, 12.378497123718262, 23.720823287963867, 16.9003963470459, 194.0810546875, 341.4106750488281, 65.23160552978516, 132.6868896484375, 45.56570053100586, 39.07045364379883, 234.6809844970703, 594.6341552734375, 326.62530517578125, 271.8907165527344, 534.7435302734375, 237.4190673828125, 485.48052978515625, 187.020751953125, 141.17840576171875, 396.7945861816406, 244.94119262695312, 589.38134765625, 515.2763671875, 433.71075439453125, 659.3213500976562, 292.3608093261719, 163.0776824951172, 348.8558654785156, 386.73248291015625, 917.9908447265625, 271.97821044921875, 224.43115234375, 276.1924743652344, 623.8018798828125, 531.4814453125, 254.80056762695312, 340.95843505859375, 308.0098876953125, 300.96014404296875, 571.4540405273438, 16.90877342224121, 9.460659980773926, 9.458085060119629, 8.943961143493652, 8.942682266235352, 8.939251899719238, 8.940958023071289, 8.937043190002441, 8.93704605102539, 8.934942245483398, 8.93687629699707, 8.933589935302734, 8.935160636901855, 8.925965309143066, 8.932333946228027, 8.9296293258667, 8.928202629089355, 8.9281005859375, 8.92414379119873, 8.927546501159668, 8.925586700439453, 32.85154724121094, 8.92104434967041, 8.917465209960938, 8.926142692565918, 8.912222862243652, 8.9241943359375, 8.932442665100098, 8.904645919799805, 8.899834632873535, 24.618227005004883, 16.894851684570312, 16.88441276550293, 9.4533109664917, 50.796302795410156, 25.531774520874023, 17.02906608581543, 19.896860122680664, 24.39704132080078, 21.922527313232422, 22.446630477905273, 17.79828453063965, 473.43896484375, 24.284921646118164, 45.74388885498047, 9.968668937683105, 50.73166275024414, 53.56747817993164, 28.785722732543945, 88.72372436523438, 189.83432006835938, 26.9361629486084, 9.471014022827148, 85.883544921875, 49.54898452758789, 37.36735534667969, 16.39826011657715, 233.13511657714844, 260.1852722167969, 534.7435302734375, 238.35980224609375, 60.517425537109375, 225.92254638671875, 294.59869384765625, 348.8558654785156, 394.3563537597656, 536.2876586914062, 194.63754272460938, 433.71075439453125, 101.80498504638672, 470.7736511230469, 276.88128662109375, 238.49737548828125, 483.02569580078125, 280.9080810546875, 273.1820068359375, 430.0549621582031, 342.46209716796875, 589.38134765625, 515.2763671875, 248.2798614501953, 256.1003723144531, 340.95843505859375, 485.48052978515625, 386.73248291015625, 444.08538818359375, 571.4540405273438, 324.6531982421875, 659.3213500976562, 917.9908447265625, 623.8018798828125, 16.128376007080078, 16.14684295654297, 17.605318069458008, 16.678081512451172, 17.101280212402344, 9.062363624572754, 9.036248207092285, 8.551892280578613, 8.549074172973633, 8.542215347290039, 8.53961181640625, 8.545433044433594, 8.53364086151123, 8.538766860961914, 8.539510726928711, 9.051462173461914, 8.528322219848633, 8.532747268676758, 8.527649879455566, 8.51317310333252, 16.679847717285156, 9.035073280334473, 8.559770584106445, 17.678403854370117, 8.563467025756836, 9.064726829528809, 9.047006607055664, 9.570404052734375, 9.027579307556152, 35.96638870239258, 20.69458770751953, 25.88706398010254, 24.94733238220215, 19.218900680541992, 20.515979766845703, 18.226036071777344, 23.232662200927734, 26.783464431762695, 16.146053314208984, 22.17381477355957, 26.38617706298828, 21.306045532226562, 23.721065521240234, 17.691198348999023, 150.7145233154297, 66.00373840332031, 41.52106857299805, 589.38134765625, 26.900257110595703, 326.72491455078125, 22.613510131835938, 211.5167694091797, 69.77442932128906, 515.2763671875, 485.48052978515625, 594.6341552734375, 412.9190979003906, 659.3213500976562, 178.75955200195312, 254.80056762695312, 494.6116638183594, 531.4814453125, 396.7945861816406, 263.33160400390625, 107.82394409179688, 347.40936279296875, 433.71075439453125, 297.5282897949219, 342.46209716796875, 917.9908447265625, 103.34323120117188, 292.3608093261719, 182.5653839111328, 340.95843505859375, 444.08538818359375, 394.3563537597656, 348.8558654785156, 189.1199188232422, 470.7736511230469, 623.8018798828125, 536.2876586914062, 238.35980224609375, 326.62530517578125, 288.8298034667969, 388.5735778808594, 25.108230590820312, 17.04273223876953, 9.0109224319458, 9.009288787841797, 9.00624942779541, 9.005085945129395, 9.01099967956543, 9.002650260925293, 8.999027252197266, 9.00019359588623, 9.008031845092773, 9.00145435333252, 8.998066902160645, 8.993271827697754, 8.997925758361816, 9.002687454223633, 8.982799530029297, 8.989599227905273, 8.98701000213623, 8.972469329833984, 18.55158805847168, 8.99740982055664, 8.991888046264648, 8.978508949279785, 9.540301322937012, 9.01551628112793, 9.45623779296875, 9.477531433105469, 18.572734832763672, 9.551214218139648, 17.53351593017578, 19.08399200439453, 17.66501235961914, 37.499874114990234, 22.719627380371094, 29.477338790893555, 19.493553161621094, 37.956634521484375, 33.74774932861328, 120.89219665527344, 15.80299186706543, 33.86502456665039, 623.8018798828125, 483.02569580078125, 27.68784523010254, 108.66928100585938, 659.3213500976562, 430.0549621582031, 75.78207397460938, 17.73091697692871, 347.40936279296875, 20.673139572143555, 394.3563537597656, 48.52229690551758, 917.9908447265625, 17.466665267944336, 470.7736511230469, 405.429931640625, 166.03558349609375, 571.4540405273438, 515.2763671875, 119.87969970703125, 145.5572052001953, 300.96014404296875, 386.73248291015625, 594.6341552734375, 276.88128662109375, 248.2798614501953, 160.97853088378906, 252.9950714111328, 158.55604553222656, 339.5005798339844, 218.81381225585938, 589.38134765625, 271.97821044921875, 262.8690490722656, 324.6531982421875, 531.4814453125, 239.23043823242188, 485.48052978515625, 412.9190979003906, 494.6116638183594, 444.08538818359375, 297.5282897949219, 15.435832977294922, 15.401338577270508, 15.930758476257324, 8.196711540222168, 8.193973541259766, 8.186469078063965, 8.18380355834961, 8.185077667236328, 8.18386173248291, 8.181159973144531, 8.180426597595215, 8.180006980895996, 8.187372207641602, 8.176250457763672, 8.176305770874023, 8.183134078979492, 8.174017906188965, 8.186951637268066, 8.195317268371582, 8.190228462219238, 8.195226669311523, 8.179587364196777, 8.673466682434082, 8.668216705322266, 8.207432746887207, 8.219161033630371, 8.205936431884766, 8.221960067749023, 8.204405784606934, 8.715045928955078, 16.97247314453125, 15.266240119934082, 35.07548522949219, 9.665630340576172, 29.476110458374023, 75.49961853027344, 15.625519752502441, 18.588510513305664, 74.08684539794922, 162.17881774902344, 21.226778030395508, 29.824203491210938, 17.68863296508789, 17.771163940429688, 18.117055892944336, 24.07410430908203, 159.6045379638672, 22.68537712097168, 49.47159957885742, 16.268146514892578, 23.175201416015625, 48.22425842285156, 15.15987491607666, 306.8386535644531, 531.4814453125, 27.099857330322266, 29.243371963500977, 47.276737213134766, 126.37216186523438, 296.10394287109375, 49.71519470214844, 917.9908447265625, 126.44534301757812, 218.81381225585938, 405.429931640625, 90.68913269042969, 325.7221374511719, 473.43896484375, 388.5735778808594, 149.21644592285156, 251.63365173339844, 196.76126098632812, 308.0098876953125, 238.49737548828125, 140.71929931640625, 623.8018798828125, 494.6116638183594, 396.7945861816406, 483.02569580078125, 259.8499450683594, 386.73248291015625, 197.64317321777344, 594.6341552734375, 206.455078125, 534.7435302734375, 324.6531982421875, 659.3213500976562, 515.2763671875, 297.5282897949219, 589.38134765625, 326.62530517578125, 433.71075439453125, 14.294370651245117, 14.287744522094727, 14.27767562866211, 14.29481029510498, 8.945500373840332, 8.059518814086914, 8.041173934936523, 8.03490161895752, 15.730437278747559, 7.622420310974121, 7.61957311630249, 7.6245832443237305, 7.619624614715576, 7.619676113128662, 7.620359420776367, 7.621267318725586, 7.618844509124756, 7.616052150726318, 7.618803977966309, 7.618772983551025, 7.62428092956543, 7.613614082336426, 7.615279674530029, 7.612189292907715, 7.614206314086914, 7.616927623748779, 7.616974830627441, 7.616114616394043, 7.61228084564209, 7.614606857299805, 21.760913848876953, 15.749761581420898, 16.265907287597656, 14.458906173706055, 25.391136169433594, 16.26415252685547, 16.37671661376953, 16.865659713745117, 14.57693099975586, 8.06986141204834, 19.667423248291016, 17.826860427856445, 14.546268463134766, 27.378108978271484, 8.521818161010742, 22.707456588745117, 24.103412628173828, 22.252779006958008, 8.559929847717285, 917.9908447265625, 24.775774002075195, 296.10394287109375, 65.42330932617188, 37.2291259765625, 23.838844299316406, 173.97406005859375, 40.86540222167969, 470.7736511230469, 494.6116638183594, 243.98263549804688, 623.8018798828125, 340.95843505859375, 256.1003723144531, 127.85948181152344, 473.43896484375, 150.91140747070312, 536.2876586914062, 659.3213500976562, 77.52629089355469, 571.4540405273438, 388.5735778808594, 252.9950714111328, 255.00320434570312, 325.7221374511719, 273.1820068359375, 485.48052978515625, 256.93841552734375, 341.4106750488281, 78.661865234375, 113.87387084960938, 143.91685485839844, 594.6341552734375, 276.88128662109375, 294.59869384765625, 324.6531982421875, 531.4814453125, 430.0549621582031, 396.7945861816406, 348.8558654785156, 433.71075439453125], \"Category\": [\"Default\", \"Default\", \"Default\", \"Default\", \"Default\", \"Default\", \"Default\", \"Default\", \"Default\", \"Default\", \"Default\", \"Default\", \"Default\", \"Default\", \"Default\", \"Default\", \"Default\", \"Default\", \"Default\", \"Default\", \"Default\", \"Default\", \"Default\", \"Default\", \"Default\", \"Default\", \"Default\", \"Default\", \"Default\", \"Default\", \"Topic1\", \"Topic1\", \"Topic1\", \"Topic1\", \"Topic1\", \"Topic1\", \"Topic1\", \"Topic1\", \"Topic1\", \"Topic1\", \"Topic1\", \"Topic1\", \"Topic1\", \"Topic1\", \"Topic1\", \"Topic1\", \"Topic1\", \"Topic1\", \"Topic1\", \"Topic1\", \"Topic1\", \"Topic1\", \"Topic1\", \"Topic1\", \"Topic1\", \"Topic1\", \"Topic1\", \"Topic1\", \"Topic1\", \"Topic1\", \"Topic1\", \"Topic1\", \"Topic1\", \"Topic1\", \"Topic1\", \"Topic1\", \"Topic1\", \"Topic1\", \"Topic1\", \"Topic1\", \"Topic1\", \"Topic1\", \"Topic1\", \"Topic1\", \"Topic1\", \"Topic1\", \"Topic1\", \"Topic1\", \"Topic1\", \"Topic1\", \"Topic1\", \"Topic1\", \"Topic1\", \"Topic1\", \"Topic1\", \"Topic1\", \"Topic1\", \"Topic1\", \"Topic1\", \"Topic1\", \"Topic1\", \"Topic1\", \"Topic1\", \"Topic1\", \"Topic1\", \"Topic1\", \"Topic1\", \"Topic1\", \"Topic1\", \"Topic1\", \"Topic1\", \"Topic1\", \"Topic1\", \"Topic1\", \"Topic1\", \"Topic1\", \"Topic1\", \"Topic1\", \"Topic1\", \"Topic1\", \"Topic1\", \"Topic1\", \"Topic1\", \"Topic1\", \"Topic1\", \"Topic2\", \"Topic2\", \"Topic2\", \"Topic2\", \"Topic2\", \"Topic2\", \"Topic2\", \"Topic2\", \"Topic2\", \"Topic2\", \"Topic2\", \"Topic2\", \"Topic2\", \"Topic2\", \"Topic2\", \"Topic2\", \"Topic2\", \"Topic2\", \"Topic2\", \"Topic2\", \"Topic2\", \"Topic2\", \"Topic2\", \"Topic2\", \"Topic2\", \"Topic2\", \"Topic2\", \"Topic2\", \"Topic2\", \"Topic2\", \"Topic2\", \"Topic2\", \"Topic2\", \"Topic2\", \"Topic2\", \"Topic2\", \"Topic2\", \"Topic2\", \"Topic2\", \"Topic2\", \"Topic2\", \"Topic2\", \"Topic2\", \"Topic2\", \"Topic2\", \"Topic2\", \"Topic2\", \"Topic2\", \"Topic2\", \"Topic2\", \"Topic2\", \"Topic2\", \"Topic2\", \"Topic2\", \"Topic2\", \"Topic2\", \"Topic2\", \"Topic2\", \"Topic2\", \"Topic2\", \"Topic2\", \"Topic2\", \"Topic2\", \"Topic2\", \"Topic2\", \"Topic2\", \"Topic2\", \"Topic2\", \"Topic2\", \"Topic2\", \"Topic2\", \"Topic2\", \"Topic2\", \"Topic2\", \"Topic2\", \"Topic2\", \"Topic2\", \"Topic2\", \"Topic2\", \"Topic2\", \"Topic2\", \"Topic2\", \"Topic2\", \"Topic2\", \"Topic2\", \"Topic2\", \"Topic2\", \"Topic2\", \"Topic2\", \"Topic2\", \"Topic2\", \"Topic2\", \"Topic3\", \"Topic3\", \"Topic3\", \"Topic3\", \"Topic3\", \"Topic3\", \"Topic3\", \"Topic3\", \"Topic3\", \"Topic3\", \"Topic3\", \"Topic3\", \"Topic3\", \"Topic3\", \"Topic3\", \"Topic3\", \"Topic3\", \"Topic3\", \"Topic3\", \"Topic3\", \"Topic3\", \"Topic3\", \"Topic3\", \"Topic3\", \"Topic3\", \"Topic3\", \"Topic3\", \"Topic3\", \"Topic3\", \"Topic3\", \"Topic3\", \"Topic3\", \"Topic3\", \"Topic3\", \"Topic3\", \"Topic3\", \"Topic3\", \"Topic3\", \"Topic3\", \"Topic3\", \"Topic3\", \"Topic3\", \"Topic3\", \"Topic3\", \"Topic3\", \"Topic3\", \"Topic3\", \"Topic3\", \"Topic3\", \"Topic3\", \"Topic3\", \"Topic3\", \"Topic3\", \"Topic3\", \"Topic3\", \"Topic3\", \"Topic3\", \"Topic3\", \"Topic3\", \"Topic3\", \"Topic3\", \"Topic3\", \"Topic3\", \"Topic3\", \"Topic3\", \"Topic3\", \"Topic3\", \"Topic3\", \"Topic3\", \"Topic3\", \"Topic3\", \"Topic3\", \"Topic3\", \"Topic3\", \"Topic3\", \"Topic3\", \"Topic3\", \"Topic3\", \"Topic3\", \"Topic3\", \"Topic3\", \"Topic3\", \"Topic3\", \"Topic3\", \"Topic3\", \"Topic3\", \"Topic3\", \"Topic3\", \"Topic3\", \"Topic3\", \"Topic3\", \"Topic4\", \"Topic4\", \"Topic4\", \"Topic4\", \"Topic4\", \"Topic4\", \"Topic4\", \"Topic4\", \"Topic4\", \"Topic4\", \"Topic4\", \"Topic4\", \"Topic4\", \"Topic4\", \"Topic4\", \"Topic4\", \"Topic4\", \"Topic4\", \"Topic4\", \"Topic4\", \"Topic4\", \"Topic4\", \"Topic4\", \"Topic4\", \"Topic4\", \"Topic4\", \"Topic4\", \"Topic4\", \"Topic4\", \"Topic4\", \"Topic4\", \"Topic4\", \"Topic4\", \"Topic4\", \"Topic4\", \"Topic4\", \"Topic4\", \"Topic4\", \"Topic4\", \"Topic4\", \"Topic4\", \"Topic4\", \"Topic4\", \"Topic4\", \"Topic4\", \"Topic4\", \"Topic4\", \"Topic4\", \"Topic4\", \"Topic4\", \"Topic4\", \"Topic4\", \"Topic4\", \"Topic4\", \"Topic4\", \"Topic4\", \"Topic4\", \"Topic4\", \"Topic4\", \"Topic4\", \"Topic4\", \"Topic4\", \"Topic4\", \"Topic4\", \"Topic4\", \"Topic4\", \"Topic4\", \"Topic4\", \"Topic4\", \"Topic4\", \"Topic4\", \"Topic4\", \"Topic4\", \"Topic4\", \"Topic4\", \"Topic4\", \"Topic4\", \"Topic4\", \"Topic4\", \"Topic4\", \"Topic4\", \"Topic4\", \"Topic4\", \"Topic4\", \"Topic4\", \"Topic5\", \"Topic5\", \"Topic5\", \"Topic5\", \"Topic5\", \"Topic5\", \"Topic5\", \"Topic5\", \"Topic5\", \"Topic5\", \"Topic5\", \"Topic5\", \"Topic5\", \"Topic5\", \"Topic5\", \"Topic5\", \"Topic5\", \"Topic5\", \"Topic5\", \"Topic5\", \"Topic5\", \"Topic5\", \"Topic5\", \"Topic5\", \"Topic5\", \"Topic5\", \"Topic5\", \"Topic5\", \"Topic5\", \"Topic5\", \"Topic5\", \"Topic5\", \"Topic5\", \"Topic5\", \"Topic5\", \"Topic5\", \"Topic5\", \"Topic5\", \"Topic5\", \"Topic5\", \"Topic5\", \"Topic5\", \"Topic5\", \"Topic5\", \"Topic5\", \"Topic5\", \"Topic5\", \"Topic5\", \"Topic5\", \"Topic5\", \"Topic5\", \"Topic5\", \"Topic5\", \"Topic5\", \"Topic5\", \"Topic5\", \"Topic5\", \"Topic5\", \"Topic5\", \"Topic5\", \"Topic5\", \"Topic5\", \"Topic5\", \"Topic5\", \"Topic5\", \"Topic5\", \"Topic5\", \"Topic5\", \"Topic5\", \"Topic5\", \"Topic5\", \"Topic5\", \"Topic5\", \"Topic5\", \"Topic5\", \"Topic5\", \"Topic5\", \"Topic5\", \"Topic5\", \"Topic5\", \"Topic5\", \"Topic5\", \"Topic5\", \"Topic5\", \"Topic6\", \"Topic6\", \"Topic6\", \"Topic6\", \"Topic6\", \"Topic6\", \"Topic6\", \"Topic6\", \"Topic6\", \"Topic6\", \"Topic6\", \"Topic6\", \"Topic6\", \"Topic6\", \"Topic6\", \"Topic6\", \"Topic6\", \"Topic6\", \"Topic6\", \"Topic6\", \"Topic6\", \"Topic6\", \"Topic6\", \"Topic6\", \"Topic6\", \"Topic6\", \"Topic6\", \"Topic6\", \"Topic6\", \"Topic6\", \"Topic6\", \"Topic6\", \"Topic6\", \"Topic6\", \"Topic6\", \"Topic6\", \"Topic6\", \"Topic6\", \"Topic6\", \"Topic6\", \"Topic6\", \"Topic6\", \"Topic6\", \"Topic6\", \"Topic6\", \"Topic6\", \"Topic6\", \"Topic6\", \"Topic6\", \"Topic6\", \"Topic6\", \"Topic6\", \"Topic6\", \"Topic6\", \"Topic6\", \"Topic6\", \"Topic6\", \"Topic6\", \"Topic6\", \"Topic6\", \"Topic6\", \"Topic6\", \"Topic6\", \"Topic6\", \"Topic6\", \"Topic6\", \"Topic6\", \"Topic6\", \"Topic6\", \"Topic6\", \"Topic6\", \"Topic6\", \"Topic6\", \"Topic6\", \"Topic6\", \"Topic6\", \"Topic6\", \"Topic6\", \"Topic6\", \"Topic6\", \"Topic6\", \"Topic6\", \"Topic6\", \"Topic6\", \"Topic6\", \"Topic6\", \"Topic6\", \"Topic6\", \"Topic6\", \"Topic6\", \"Topic6\", \"Topic6\", \"Topic7\", \"Topic7\", \"Topic7\", \"Topic7\", \"Topic7\", \"Topic7\", \"Topic7\", \"Topic7\", \"Topic7\", \"Topic7\", \"Topic7\", \"Topic7\", \"Topic7\", \"Topic7\", \"Topic7\", \"Topic7\", \"Topic7\", \"Topic7\", \"Topic7\", \"Topic7\", \"Topic7\", \"Topic7\", \"Topic7\", \"Topic7\", \"Topic7\", \"Topic7\", \"Topic7\", \"Topic7\", \"Topic7\", \"Topic7\", \"Topic7\", \"Topic7\", \"Topic7\", \"Topic7\", \"Topic7\", \"Topic7\", \"Topic7\", \"Topic7\", \"Topic7\", \"Topic7\", \"Topic7\", \"Topic7\", \"Topic7\", \"Topic7\", \"Topic7\", \"Topic7\", \"Topic7\", \"Topic7\", \"Topic7\", \"Topic7\", \"Topic7\", \"Topic7\", \"Topic7\", \"Topic7\", \"Topic7\", \"Topic7\", \"Topic7\", \"Topic7\", \"Topic7\", \"Topic7\", \"Topic7\", \"Topic7\", \"Topic7\", \"Topic7\", \"Topic7\", \"Topic7\", \"Topic7\", \"Topic7\", \"Topic7\", \"Topic7\", \"Topic7\", \"Topic7\", \"Topic7\", \"Topic7\", \"Topic7\", \"Topic7\", \"Topic7\", \"Topic7\", \"Topic7\", \"Topic7\", \"Topic7\", \"Topic7\", \"Topic7\", \"Topic7\", \"Topic7\", \"Topic7\", \"Topic7\", \"Topic7\", \"Topic7\", \"Topic7\"], \"logprob\": [30.0, 29.0, 28.0, 27.0, 26.0, 25.0, 24.0, 23.0, 22.0, 21.0, 20.0, 19.0, 18.0, 17.0, 16.0, 15.0, 14.0, 13.0, 12.0, 11.0, 10.0, 9.0, 8.0, 7.0, 6.0, 5.0, 4.0, 3.0, 2.0, 1.0, -7.843999862670898, -7.888800144195557, -8.526900291442871, -8.527600288391113, -8.527999877929688, -8.527799606323242, -8.527899742126465, -8.528300285339355, -8.527999877929688, -8.528900146484375, -8.528900146484375, -8.528599739074707, -8.52810001373291, -8.52929973602295, -8.529199600219727, -8.529000282287598, -8.529500007629395, -8.52970027923584, -8.52929973602295, -8.529899597167969, -8.529800415039062, -8.530099868774414, -8.52970027923584, -8.531700134277344, -8.47350025177002, -8.534099578857422, -7.81220006942749, -8.478699684143066, -7.905600070953369, -8.39680004119873, -7.920499801635742, -7.726200103759766, -7.710700035095215, -7.838099956512451, -7.8155999183654785, -7.5721001625061035, -7.448599815368652, -7.6230998039245605, -8.033900260925293, -5.348899841308594, -7.783999919891357, -7.792699813842773, -6.869800090789795, -7.772200107574463, -7.68149995803833, -5.667900085449219, -6.905099868774414, -7.072800159454346, -8.414799690246582, -5.979100227355957, -7.658299922943115, -5.761899948120117, -7.618800163269043, -5.753499984741211, -7.621799945831299, -6.926700115203857, -5.9868998527526855, -6.3140997886657715, -5.895199775695801, -6.282599925994873, -5.807600021362305, -5.9156999588012695, -6.370699882507324, -5.6041998863220215, -6.469299793243408, -6.133999824523926, -5.967199802398682, -6.4567999839782715, -6.2017998695373535, -6.367599964141846, -5.9720001220703125, -6.830100059509277, -6.729599952697754, -6.553599834442139, -6.4770002365112305, -6.102700233459473, -6.326200008392334, -6.427599906921387, -6.298799991607666, -6.527100086212158, -6.535099983215332, -6.474400043487549, -6.63070011138916, -6.499100208282471, -6.504199981689453, -7.064499855041504, -7.773499965667725, -8.456000328063965, -8.456299781799316, -8.456500053405762, -8.456700325012207, -8.456700325012207, -8.457300186157227, -8.458000183105469, -8.457799911499023, -8.45680046081543, -8.458600044250488, -8.456700325012207, -8.45740032196045, -8.45740032196045, -8.457900047302246, -8.457599639892578, -8.45989990234375, -8.465399742126465, -8.464699745178223, -8.414899826049805, -8.475299835205078, -8.473799705505371, -8.475299835205078, -8.423399925231934, -7.367300033569336, -8.24590015411377, -8.241800308227539, -8.391799926757812, -8.450499534606934, -7.532299995422363, -7.734899997711182, -7.767000198364258, -7.254499912261963, -7.851399898529053, -7.835700035095215, -7.667399883270264, -7.936399936676025, -7.269700050354004, -7.725599765777588, -7.888700008392334, -7.258900165557861, -8.233099937438965, -7.054100036621094, -5.375400066375732, -6.333899974822998, -7.602200031280518, -7.9984002113342285, -8.240300178527832, -8.305500030517578, -6.932600021362305, -8.008000373840332, -8.244799613952637, -8.21310043334961, -7.753399848937988, -7.992199897766113, -6.311200141906738, -5.9359002113342285, -7.0954999923706055, -6.627299785614014, -7.346199989318848, -7.448999881744385, -6.331099987030029, -5.80709981918335, -6.17609977722168, -6.289700031280518, -5.910600185394287, -6.390100002288818, -5.984600067138672, -6.541800022125244, -6.712800025939941, -6.145400047302246, -6.43179988861084, -5.969900131225586, -6.045899868011475, -6.161099910736084, -5.957099914550781, -6.374300003051758, -6.664000034332275, -6.316100120544434, -6.293099880218506, -5.962500095367432, -6.461699962615967, -6.536900043487549, -6.465099811553955, -6.1641998291015625, -6.2494001388549805, -6.509799957275391, -6.429299831390381, -6.459000110626221, -6.510300159454346, -6.476799964904785, -7.7418999671936035, -8.363200187683105, -8.363499641418457, -8.424799919128418, -8.425000190734863, -8.425399780273438, -8.425200462341309, -8.425600051879883, -8.425700187683105, -8.42590045928955, -8.425700187683105, -8.42609977722168, -8.42590045928955, -8.427000045776367, -8.426300048828125, -8.426600456237793, -8.426799774169922, -8.426799774169922, -8.427300453186035, -8.426899909973145, -8.42710018157959, -7.124100208282471, -8.42770004272461, -8.428099632263184, -8.427200317382812, -8.428799629211426, -8.427499771118164, -8.426600456237793, -8.429699897766113, -8.430299758911133, -7.482600212097168, -7.832799911499023, -7.837600231170654, -8.374099731445312, -6.902400016784668, -7.516300201416016, -7.870800018310547, -7.742300033569336, -7.590000152587891, -7.684500217437744, -7.6803998947143555, -7.884099960327148, -5.3632001876831055, -7.651700019836426, -7.180600166320801, -8.34220027923584, -7.1774001121521, -7.142099857330322, -7.599699974060059, -6.819200038909912, -6.312699794769287, -7.6717000007629395, -8.385899543762207, -6.889500141143799, -7.280600070953369, -7.471700191497803, -8.019599914550781, -6.271699905395508, -6.217299938201904, -5.786099910736084, -6.307000160217285, -7.188499927520752, -6.363399982452393, -6.243299961090088, -6.158299922943115, -6.11329984664917, -5.948999881744385, -6.524400234222412, -6.149199962615967, -6.906000137329102, -6.118299961090088, -6.394499778747559, -6.492000102996826, -6.174600124359131, -6.446000099182129, -6.464099884033203, -6.271200180053711, -6.377299785614014, -6.171999931335449, -6.235799789428711, -6.548500061035156, -6.536499977111816, -6.438700199127197, -6.318399906158447, -6.398799896240234, -6.365300178527832, -6.355199813842773, -6.485899925231934, -6.341899871826172, -6.318900108337402, -6.417300224304199, -7.741099834442139, -7.745299816131592, -7.677499771118164, -7.740099906921387, -7.72130012512207, -8.359999656677246, -8.363200187683105, -8.424099922180176, -8.424400329589844, -8.425299644470215, -8.425600051879883, -8.425100326538086, -8.42650032043457, -8.42590045928955, -8.425800323486328, -8.36769962310791, -8.43340015411377, -8.434000015258789, -8.435199737548828, -8.43910026550293, -7.771299839019775, -8.395600318908691, -8.452899932861328, -7.7322001457214355, -8.459699630737305, -8.403200149536133, -8.407400131225586, -8.35830020904541, -8.41670036315918, -7.035399913787842, -7.6184000968933105, -7.410799980163574, -7.446499824523926, -7.697700023651123, -7.677599906921387, -7.785799980163574, -7.584400177001953, -7.474699974060059, -7.910200119018555, -7.6519999504089355, -7.534200191497803, -7.730800151824951, -7.660200119018555, -7.890999794006348, -6.374899864196777, -6.963399887084961, -7.349999904632568, -5.577300071716309, -7.645599842071533, -5.991000175476074, -7.763299942016602, -6.330900192260742, -7.041600227355957, -5.813700199127197, -5.863699913024902, -5.749100208282471, -5.972499847412109, -5.697400093078613, -6.491799831390381, -6.293000221252441, -5.936699867248535, -5.9197001457214355, -6.087800025939941, -6.322199821472168, -6.792900085449219, -6.190400123596191, -6.087900161743164, -6.300099849700928, -6.243100166320801, -5.7829999923706055, -6.8445000648498535, -6.352399826049805, -6.581399917602539, -6.291399955749512, -6.178699970245361, -6.267099857330322, -6.334000110626221, -6.591899871826172, -6.230800151824951, -6.205399990081787, -6.310800075531006, -6.532400131225586, -6.463600158691406, -6.5142998695373535, -6.506499767303467, -7.266300201416016, -7.710700035095215, -8.352499961853027, -8.352700233459473, -8.353099822998047, -8.35319995880127, -8.35260009765625, -8.353599548339844, -8.354000091552734, -8.353799819946289, -8.352999687194824, -8.353699684143066, -8.354100227355957, -8.354700088500977, -8.35420036315918, -8.353699684143066, -8.355999946594238, -8.355299949645996, -8.355600357055664, -8.357399940490723, -7.639699935913086, -8.3725004196167, -8.373299598693848, -8.381099700927734, -8.326899528503418, -8.383899688720703, -8.336999893188477, -8.339300155639648, -7.671500205993652, -8.337800025939941, -7.758399963378906, -7.689599990844727, -7.800300121307373, -7.226600170135498, -7.629700183868408, -7.44350004196167, -7.773499965667725, -7.2642998695373535, -7.375100135803223, -6.4593000411987305, -7.947500228881836, -7.430500030517578, -5.4695000648498535, -5.645999908447266, -7.597899913787842, -6.686800003051758, -5.556600093841553, -5.867199897766113, -6.978600025177002, -7.917699813842773, -6.014100074768066, -7.822299957275391, -6.020100116729736, -7.312699794769287, -5.524700164794922, -7.942999839782715, -5.935100078582764, -6.033999919891357, -6.60129976272583, -5.904099941253662, -5.975599765777588, -6.794300079345703, -6.692800045013428, -6.353099822998047, -6.236800193786621, -6.0279998779296875, -6.4274001121521, -6.529300212860107, -6.736999988555908, -6.557600021362305, -6.754899978637695, -6.447299957275391, -6.625199794769287, -6.276100158691406, -6.560400009155273, -6.578999996185303, -6.515399932861328, -6.387700080871582, -6.62529993057251, -6.473700046539307, -6.5117998123168945, -6.502299785614014, -6.5335001945495605, -6.611199855804443, -7.683700084686279, -7.686100006103516, -7.685200214385986, -8.367899894714355, -8.368300437927246, -8.36929988861084, -8.36970043182373, -8.369500160217285, -8.36970043182373, -8.370100021362305, -8.370200157165527, -8.370200157165527, -8.36929988861084, -8.370699882507324, -8.370699882507324, -8.36989974975586, -8.371100425720215, -8.369500160217285, -8.368499755859375, -8.369099617004395, -8.374799728393555, -8.377699851989746, -8.32859992980957, -8.33180046081543, -8.388799667358398, -8.393099784851074, -8.399399757385254, -8.403400421142578, -8.405799865722656, -8.348699569702148, -7.685500144958496, -7.814899921417236, -7.079699993133545, -8.253600120544434, -7.350800037384033, -6.607600212097168, -7.871500015258789, -7.7480998039245605, -6.704800128936768, -6.1296000480651855, -7.666299819946289, -7.426700115203857, -7.808199882507324, -7.815299987792969, -7.8024001121521, -7.610499858856201, -6.29640007019043, -7.669099807739258, -7.157899856567383, -7.907199859619141, -7.673799991607666, -7.2118000984191895, -7.964600086212158, -6.0183000564575195, -5.684100151062012, -7.595200061798096, -7.546899795532227, -7.243199825286865, -6.625699996948242, -6.154799938201904, -7.232699871063232, -5.514999866485596, -6.683599948883057, -6.401199817657471, -6.057600021362305, -6.9120001792907715, -6.265500068664551, -6.079599857330322, -6.182700157165527, -6.684500217437744, -6.427599906921387, -6.559000015258789, -6.340799808502197, -6.511099815368652, -6.753200054168701, -6.104899883270264, -6.2204999923706055, -6.326900005340576, -6.273499965667725, -6.535200119018555, -6.405900001525879, -6.647900104522705, -6.255899906158447, -6.632900238037109, -6.396500110626221, -6.521299839019775, -6.405799865722656, -6.455999851226807, -6.568299770355225, -6.5106000900268555, -6.567699909210205, -6.5609002113342285, -7.684500217437744, -7.684899806976318, -7.685699939727783, -7.69789981842041, -8.191900253295898, -8.30679988861084, -8.309399604797363, -8.310199737548828, -7.642199993133545, -8.369199752807617, -8.369600296020508, -8.368900299072266, -8.369600296020508, -8.369600296020508, -8.369500160217285, -8.369400024414062, -8.36970043182373, -8.370100021362305, -8.369799613952637, -8.369799613952637, -8.369099617004395, -8.370499610900879, -8.37030029296875, -8.370699882507324, -8.370400428771973, -8.370100021362305, -8.370100021362305, -8.370200157165527, -8.370699882507324, -8.370400428771973, -7.3302998542785645, -7.66379976272583, -7.639900207519531, -7.757999897003174, -7.233500003814697, -7.66540002822876, -7.685699939727783, -7.679900169372559, -7.805500030517578, -8.320799827575684, -7.577899932861328, -7.664299964904785, -7.846799850463867, -7.367400169372559, -8.283599853515625, -7.552599906921387, -7.51230001449585, -7.576000213623047, -8.28320026397705, -4.887400150299072, -7.52400016784668, -5.819499969482422, -6.868599891662598, -7.265500068664551, -7.579699993133545, -6.293399810791016, -7.24459981918335, -5.696400165557861, -5.718200206756592, -6.211699962615967, -5.686699867248535, -6.070700168609619, -6.249899864196777, -6.63640022277832, -5.98829984664917, -6.589700222015381, -5.964399814605713, -5.878699779510498, -6.930699825286865, -5.992400169372559, -6.18720006942749, -6.412799835205078, -6.415999889373779, -6.310400009155273, -6.388899803161621, -6.150199890136719, -6.44890022277832, -6.333399772644043, -6.95419979095459, -6.804800033569336, -6.711400032043457, -6.159900188446045, -6.475599765777588, -6.464900016784668, -6.439899921417236, -6.301499843597412, -6.377900123596191, -6.4583001136779785, -6.509900093078613, -6.4847002029418945], \"loglift\": [30.0, 29.0, 28.0, 27.0, 26.0, 25.0, 24.0, 23.0, 22.0, 21.0, 20.0, 19.0, 18.0, 17.0, 16.0, 15.0, 14.0, 13.0, 12.0, 11.0, 10.0, 9.0, 8.0, 7.0, 6.0, 5.0, 4.0, 3.0, 2.0, 1.0, 1.7049000263214111, 1.6624000072479248, 1.6613999605178833, 1.6612999439239502, 1.6612999439239502, 1.6612999439239502, 1.6612999439239502, 1.6612999439239502, 1.6612000465393066, 1.6612000465393066, 1.6612000465393066, 1.6612000465393066, 1.6612000465393066, 1.6612000465393066, 1.6612000465393066, 1.6611000299453735, 1.6611000299453735, 1.6611000299453735, 1.6611000299453735, 1.6611000299453735, 1.6611000299453735, 1.6611000299453735, 1.6610000133514404, 1.6608999967575073, 1.6597000360488892, 1.658400058746338, 1.656999945640564, 1.6548999547958374, 1.6466000080108643, 1.6335999965667725, 1.632200002670288, 1.565500020980835, 1.5601999759674072, 1.5583000183105469, 1.5542999505996704, 1.5029000043869019, 1.4717999696731567, 1.4503999948501587, 1.5224000215530396, 0.727400004863739, 1.4486000537872314, 1.44350004196167, 1.1658999919891357, 1.416100025177002, 1.3783999681472778, 0.6606000065803528, 1.0686999559402466, 1.107699990272522, 1.6165000200271606, 0.6177999973297119, 1.2990000247955322, 0.48249998688697815, 1.2618999481201172, 0.38920000195503235, 1.2441999912261963, 0.9004999995231628, 0.4327000081539154, 0.5824999809265137, 0.3255000114440918, 0.520799994468689, 0.2378000020980835, 0.23309999704360962, 0.5145999789237976, -0.0020000000949949026, 0.5482000112533569, 0.22660000622272491, 0.06930000334978104, 0.4268999993801117, 0.19939999282360077, 0.32670000195503235, -0.03869999945163727, 0.6938999891281128, 0.5814999938011169, 0.39340001344680786, 0.3095000088214874, -0.11400000005960464, 0.13580000400543213, 0.1606999933719635, -0.11900000274181366, 0.19040000438690186, 0.2037999927997589, -0.007699999958276749, 0.3296999931335449, -0.1469999998807907, -0.26489999890327454, 1.8212000131607056, 1.8101999759674072, 1.7925000190734863, 1.7925000190734863, 1.7925000190734863, 1.7924000024795532, 1.7924000024795532, 1.7922999858856201, 1.7922999858856201, 1.7922999858856201, 1.7922999858856201, 1.792199969291687, 1.792199969291687, 1.792199969291687, 1.792099952697754, 1.792099952697754, 1.7919000387191772, 1.7914999723434448, 1.7869999408721924, 1.7860000133514404, 1.7782000303268433, 1.7747999429702759, 1.774399995803833, 1.773900032043457, 1.7691999673843384, 1.7599999904632568, 1.7544000148773193, 1.7532999515533447, 1.7502000331878662, 1.747499942779541, 1.7063000202178955, 1.7102999687194824, 1.7027000188827515, 1.6445000171661377, 1.707900047302246, 1.7029999494552612, 1.6593999862670898, 1.680400013923645, 1.5341999530792236, 1.6233999729156494, 1.6553000211715698, 1.4557000398635864, 1.718999981880188, 1.3248000144958496, 0.7644000053405762, 1.0607000589370728, 1.482300043106079, 1.6283999681472778, 1.7144999504089355, 1.7365000247955322, 1.2035000324249268, 1.614300012588501, 1.7096999883651733, 1.6953999996185303, 1.504699945449829, 1.6049000024795532, 0.8450000286102295, 0.6554999947547913, 1.1511000394821167, 0.9092000126838684, 1.2590999603271484, 1.3100999593734741, 0.6351000070571899, 0.22939999401569366, 0.4596000015735626, 0.5293999910354614, 0.2320999950170517, 0.5644999742507935, 0.2547000050544739, 0.6514000296592712, 0.7616000175476074, 0.2957000136375427, 0.49160000681877136, 0.0754999965429306, 0.1339000016450882, 0.19099999964237213, -0.023800000548362732, 0.37220001220703125, 0.6661999821662903, 0.25369998812675476, 0.1736000031232834, -0.3601999878883362, 0.3571000099182129, 0.4740000069141388, 0.3382999897003174, -0.17560000717639923, -0.1005999967455864, 0.3741999864578247, 0.16339999437332153, 0.2353000044822693, 0.20720000565052032, -0.40049999952316284, 1.8547999858856201, 1.8141000270843506, 1.8141000270843506, 1.8086999654769897, 1.8086999654769897, 1.8086999654769897, 1.8085999488830566, 1.8085999488830566, 1.8085999488830566, 1.8085999488830566, 1.8085999488830566, 1.8085999488830566, 1.8085999488830566, 1.808500051498413, 1.808500051498413, 1.808500051498413, 1.808500051498413, 1.808500051498413, 1.80840003490448, 1.80840003490448, 1.80840003490448, 1.80840003490448, 1.8083000183105469, 1.8083000183105469, 1.8083000183105469, 1.8083000183105469, 1.8082000017166138, 1.8082000017166138, 1.8082000017166138, 1.8082000017166138, 1.7382999658584595, 1.7647000551223755, 1.7604999542236328, 1.8040000200271606, 1.5943000316619873, 1.6683000326156616, 1.7187999486923218, 1.69159996509552, 1.6399999856948853, 1.652500033378601, 1.6328999996185303, 1.6612999439239502, 0.901199996471405, 1.582900047302246, 1.420799970626831, 1.7827999591827393, 1.3205000162124634, 1.3014999628067017, 1.464900016784668, 1.1196999549865723, 0.8655999898910522, 1.4593000411987305, 1.7903000116348267, 1.0819000005722046, 1.2409000396728516, 1.3320000171661377, 1.6075999736785889, 0.7010999917984009, 0.645799994468689, 0.35659998655319214, 0.6437000036239624, 1.1331000328063965, 0.6409000158309937, 0.49559998512268066, 0.4115000069141388, 0.33390000462532043, 0.1907999962568283, 0.6288999915122986, 0.2029000073671341, 0.8953999876976013, 0.1518000066280365, 0.40639999508857727, 0.45809999108314514, 0.0697999969124794, 0.34049999713897705, 0.35019999742507935, 0.0892999991774559, 0.210999995470047, -0.1265999972820282, -0.0560000017285347, 0.3614000082015991, 0.3424000144004822, 0.15399999916553497, -0.07909999787807465, 0.06790000200271606, -0.03680000081658363, -0.27889999747276306, 0.1559000015258789, -0.40860000252723694, -0.71670001745224, -0.4287000000476837, 1.9027999639511108, 1.8974000215530396, 1.8787000179290771, 1.8702000379562378, 1.8639999628067017, 1.8602999448776245, 1.8600000143051147, 1.854200005531311, 1.854200005531311, 1.854099988937378, 1.854099988937378, 1.8539999723434448, 1.8539999723434448, 1.8539999723434448, 1.8538999557495117, 1.8538000583648682, 1.847599983215332, 1.84660005569458, 1.8459999561309814, 1.8437000513076782, 1.8389999866485596, 1.8277000188827515, 1.8244999647140503, 1.8199000358581543, 1.8172999620437622, 1.8169000148773193, 1.8145999908447266, 1.8075000047683716, 1.8073999881744385, 1.80649995803833, 1.7762000560760498, 1.7598999738693237, 1.761199951171875, 1.770900011062622, 1.725600004196167, 1.73580002784729, 1.6944999694824219, 1.6619999408721924, 1.7325999736785889, 1.6734999418258667, 1.617400050163269, 1.6346999406814575, 1.5979000329971313, 1.6604000329971313, 1.0341999530792236, 1.271399974822998, 1.3481999635696411, 0.46810001134872437, 1.4867000579833984, 0.6442999839782715, 1.5426000356674194, 0.7391999959945679, 1.1375999450683594, 0.3659999966621399, 0.3756999969482422, 0.2874000072479248, 0.4287000000476837, 0.23579999804496765, 0.7466999888420105, 0.5910000205039978, 0.2840000092983246, 0.22910000383853912, 0.353300005197525, 0.5288000106811523, 0.9510999917984009, 0.38359999656677246, 0.26420000195503235, 0.42890000343322754, 0.3452000021934509, -0.18070000410079956, 0.9419999718666077, 0.39410001039505005, 0.6359000205993652, 0.3012999892234802, 0.14970000088214874, 0.1800999939441681, 0.23579999804496765, 0.5902000069618225, 0.03929999843239784, -0.2167000025510788, -0.17100000381469727, 0.41830000281333923, 0.1720000058412552, 0.2443999946117401, -0.04450000077486038, 1.934999942779541, 1.878100037574768, 1.8734999895095825, 1.8734999895095825, 1.8734999895095825, 1.8734999895095825, 1.8733999729156494, 1.8733999729156494, 1.8733999729156494, 1.8733999729156494, 1.8733999729156494, 1.8733999729156494, 1.8732999563217163, 1.8732999563217163, 1.8732999563217163, 1.8732999563217163, 1.8732000589370728, 1.8731000423431396, 1.8731000423431396, 1.8729000091552734, 1.8641999959945679, 1.8550000190734863, 1.8547999858856201, 1.8486000299453735, 1.8420000076293945, 1.841599941253662, 1.8408000469207764, 1.8361999988555908, 1.8313000202178955, 1.8300000429153442, 1.801900029182434, 1.7860000133514404, 1.7525999546051025, 1.5735000371932983, 1.6715999841690063, 1.5973000526428223, 1.680899977684021, 1.5236999988555908, 1.530500054359436, 1.170300006866455, 1.7167999744415283, 1.47160005569458, 0.51910001039505, 0.5983999967575073, 1.5055999755859375, 1.049399971961975, 0.3767000138759613, 0.4934000074863434, 1.1181000471115112, 1.6313999891281128, 0.5598000288009644, 1.5733000040054321, 0.4271000027656555, 1.2297999858856201, 0.07750000059604645, 1.6211999654769897, 0.33500000834465027, 0.3855000138282776, 0.7110000252723694, 0.17219999432563782, 0.20419999957084656, 0.8436999917030334, 0.7511000037193298, 0.3643999993801117, 0.23000000417232513, 0.008500000461935997, 0.3734999895095825, 0.3806999921798706, 0.6061999797821045, 0.3334999978542328, 0.6035000085830688, 0.14970000088214874, 0.41110000014305115, -0.23070000112056732, 0.25839999318122864, 0.27379998564720154, 0.12639999389648438, -0.23890000581741333, 0.32170000672340393, -0.23440000414848328, -0.11060000211000443, -0.2815999984741211, -0.20509999990463257, 0.11779999732971191, 2.0041000843048096, 2.0039000511169434, 1.9709999561309814, 1.9528000354766846, 1.9528000354766846, 1.9526000022888184, 1.9526000022888184, 1.9526000022888184, 1.9526000022888184, 1.9526000022888184, 1.9526000022888184, 1.9524999856948853, 1.9524999856948853, 1.9524999856948853, 1.9524999856948853, 1.9524999856948853, 1.9524999856948853, 1.9523999691009521, 1.9523999691009521, 1.9523999691009521, 1.9460999965667725, 1.945199966430664, 1.9356000423431396, 1.9329999685287476, 1.9306000471115112, 1.9249000549316406, 1.920199990272522, 1.914199948310852, 1.9140000343322754, 1.9106999635696411, 1.9072999954223633, 1.8839000463485718, 1.7872999906539917, 1.9023000001907349, 1.690000057220459, 1.4926999807357788, 1.8041000366210938, 1.7539000511169434, 1.4143999814987183, 1.2060999870300293, 1.7029000520706177, 1.6024999618530273, 1.743299961090088, 1.731600046157837, 1.7252000570297241, 1.6327999830245972, 1.055400013923645, 1.6335999965667725, 1.3651000261306763, 1.7280999422073364, 1.6075999736785889, 1.3367999792099, 1.7412999868392944, 0.6797999739646912, 0.46470001339912415, 1.5298000574111938, 1.5018999576568604, 1.3252999782562256, 0.9595999717712402, 0.5788999795913696, 1.2855000495910645, 0.08730000257492065, 0.9010999798774719, 0.6351000070571899, 0.3619000017642975, 1.0051000118255615, 0.37290000915527344, 0.18479999899864197, 0.2791999876499176, 0.734499990940094, 0.46889999508857727, 0.5835000276565552, 0.35359999537467957, 0.4390000104904175, 0.7245000004768372, -0.11630000174045563, 0.00019999999494757503, 0.11420000344514847, -0.029100000858306885, 0.32919999957084656, 0.0608999989926815, 0.4900999963283539, -0.21930000185966492, 0.46149998903274536, -0.25380000472068787, 0.12039999663829803, -0.4724999964237213, -0.27619999647140503, 0.16060000658035278, -0.4652000069618225, 0.06800000369548798, -0.20880000293254852, 2.0801000595092773, 2.0801000595092773, 2.0799999237060547, 2.066699981689453, 2.0413999557495117, 2.0308001041412354, 2.0304999351501465, 2.030400037765503, 2.026700019836426, 2.024199962615967, 2.024199962615967, 2.024199962615967, 2.024199962615967, 2.024199962615967, 2.0241000652313232, 2.0241000652313232, 2.0241000652313232, 2.0241000652313232, 2.0241000652313232, 2.0241000652313232, 2.0241000652313232, 2.0239999294281006, 2.0239999294281006, 2.0239999294281006, 2.0239999294281006, 2.0239999294281006, 2.0239999294281006, 2.0239999294281006, 2.0239999294281006, 2.0239999294281006, 2.0139999389648438, 2.0039000511169434, 1.9954999685287476, 1.9952000379562378, 1.9565999507904053, 1.9701000452041626, 1.9429999589920044, 1.9191999435424805, 1.9394999742507935, 2.0155999660491943, 1.8675999641418457, 1.8795000314712524, 1.9003000259399414, 1.7473000288009644, 1.9982000589370728, 1.7490999698638916, 1.7299000024795532, 1.746000051498413, 1.9941999912261963, 0.714900016784668, 1.690600037574768, 0.9142000079154968, 1.374899983406067, 1.5419000387191772, 1.6734000444412231, 0.9721999764442444, 1.469599962234497, 0.5737000107765198, 0.5024999976158142, 0.7156999707221985, 0.3019999861717224, 0.5220000147819519, 0.6290000081062317, 0.9370999932289124, 0.2761000096797943, 0.8180999755859375, 0.1754000037908554, 0.05460000038146973, 1.1431000232696533, 0.08389999717473984, 0.27480000257492065, 0.478300005197525, 0.46720001101493835, 0.328000009059906, 0.4255000054836273, 0.08910000324249268, 0.426800012588501, 0.2578999996185303, 1.1051000356674194, 0.8845999836921692, 0.7437999844551086, -0.12330000102519989, 0.32519999146461487, 0.27399998903274536, 0.20190000534057617, -0.1527000069618225, -0.01730000041425228, -0.01730000041425228, 0.05990000069141388, -0.13259999454021454]}, \"token.table\": {\"Topic\": [4, 2, 1, 2, 3, 4, 5, 6, 7, 3, 1, 2, 5, 7, 4, 2, 1, 2, 3, 4, 5, 6, 7, 7, 1, 2, 3, 4, 5, 6, 7, 2, 7, 2, 1, 2, 3, 4, 5, 6, 7, 1, 2, 3, 4, 5, 6, 7, 2, 4, 6, 6, 2, 4, 6, 1, 2, 3, 4, 5, 6, 7, 1, 1, 2, 3, 4, 5, 6, 7, 2, 1, 2, 3, 4, 5, 6, 7, 1, 2, 3, 4, 5, 6, 7, 1, 2, 3, 4, 5, 6, 7, 1, 2, 3, 4, 5, 6, 7, 1, 2, 3, 4, 5, 6, 7, 3, 7, 6, 2, 3, 4, 6, 1, 2, 3, 4, 5, 6, 7, 5, 6, 1, 2, 3, 4, 5, 6, 7, 3, 2, 6, 5, 6, 7, 6, 7, 1, 2, 3, 4, 5, 6, 7, 3, 3, 1, 2, 3, 4, 5, 6, 7, 2, 6, 2, 7, 1, 2, 3, 4, 5, 6, 7, 1, 5, 2, 4, 1, 2, 3, 4, 5, 6, 7, 1, 2, 4, 6, 7, 5, 6, 6, 1, 2, 3, 4, 5, 6, 7, 2, 3, 4, 5, 7, 1, 3, 4, 6, 7, 2, 3, 4, 5, 7, 3, 1, 2, 3, 4, 5, 6, 7, 1, 2, 3, 4, 5, 6, 7, 4, 2, 4, 1, 2, 3, 4, 5, 6, 7, 1, 2, 3, 4, 5, 6, 7, 6, 5, 5, 7, 2, 4, 6, 6, 1, 2, 3, 4, 5, 6, 7, 5, 1, 2, 3, 4, 5, 7, 7, 1, 5, 6, 7, 2, 3, 4, 5, 1, 2, 3, 4, 5, 6, 7, 1, 2, 3, 4, 5, 6, 7, 1, 2, 3, 4, 5, 6, 7, 7, 1, 2, 4, 6, 7, 1, 6, 1, 3, 3, 6, 1, 2, 3, 4, 5, 6, 7, 2, 1, 1, 2, 3, 4, 5, 6, 7, 1, 2, 3, 4, 5, 6, 7, 3, 7, 1, 2, 3, 4, 5, 6, 7, 1, 2, 3, 4, 5, 6, 7, 3, 2, 7, 3, 2, 1, 2, 3, 4, 5, 6, 7, 1, 2, 3, 4, 5, 6, 7, 5, 1, 2, 3, 4, 5, 6, 7, 5, 1, 2, 3, 4, 6, 7, 3, 1, 2, 3, 4, 5, 6, 7, 1, 2, 3, 4, 5, 6, 7, 1, 2, 3, 4, 5, 6, 7, 1, 4, 5, 6, 2, 5, 2, 1, 2, 3, 4, 5, 6, 7, 2, 1, 2, 3, 4, 5, 6, 7, 2, 4, 5, 6, 7, 2, 1, 3, 4, 5, 6, 1, 2, 3, 4, 5, 6, 4, 1, 7, 7, 1, 2, 3, 4, 5, 6, 7, 1, 2, 4, 6, 7, 1, 1, 3, 5, 6, 7, 1, 2, 3, 4, 5, 6, 7, 2, 1, 2, 4, 5, 6, 7, 1, 2, 3, 4, 5, 6, 7, 1, 2, 3, 4, 5, 6, 7, 1, 2, 3, 4, 5, 6, 7, 1, 2, 3, 4, 5, 6, 7, 1, 2, 5, 6, 7, 1, 2, 3, 4, 5, 6, 7, 1, 2, 3, 4, 5, 6, 7, 1, 2, 3, 4, 5, 6, 7, 1, 2, 3, 4, 5, 6, 7, 1, 2, 3, 4, 5, 6, 7, 5, 5, 1, 2, 3, 4, 5, 6, 7, 7, 1, 2, 4, 5, 1, 2, 3, 4, 5, 6, 7, 1, 7, 3, 1, 2, 3, 4, 5, 6, 7, 7, 1, 2, 3, 4, 5, 6, 7, 1, 2, 3, 4, 5, 6, 7, 1, 2, 5, 6, 1, 2, 3, 4, 5, 6, 7, 1, 1, 2, 4, 6, 4, 7, 1, 2, 3, 4, 5, 6, 7, 1, 2, 3, 4, 5, 6, 7, 5, 2, 1, 2, 4, 6, 6, 6, 6, 1, 4, 5, 7, 1, 3, 4, 5, 7, 1, 2, 3, 5, 6, 1, 6, 5, 1, 2, 3, 4, 5, 6, 7, 1, 2, 3, 4, 5, 6, 7, 1, 2, 3, 4, 5, 6, 7, 5, 1, 2, 3, 4, 5, 6, 7, 1, 2, 3, 4, 5, 6, 7, 5, 3, 7, 3, 6, 2, 3, 5, 3, 4, 3, 1, 2, 3, 4, 5, 6, 7, 1, 2, 3, 4, 5, 6, 7, 2, 6, 1, 2, 3, 4, 5, 6, 7, 1, 2, 4, 5, 7, 3, 1, 2, 3, 4, 5, 6, 7, 2, 6, 1, 1, 2, 3, 4, 5, 1, 2, 3, 4, 5, 6, 7, 1, 1, 2, 3, 4, 5, 6, 7, 7, 1, 2, 3, 4, 5, 6, 7, 1, 3, 1, 2, 3, 4, 5, 7, 3, 4, 4, 2, 1, 2, 4, 5, 7, 4, 1, 2, 3, 5, 3, 1, 2, 3, 4, 5, 6, 7, 3, 3, 6, 1, 2, 3, 4, 5, 6, 7, 1, 2, 3, 4, 5, 6, 7, 1, 1, 2, 4, 7, 1, 2, 3, 4, 5, 6, 7, 5, 1, 2, 5, 6, 1, 2, 5, 3, 1, 4, 5, 6, 4, 4, 1, 2, 4, 5, 6, 7, 2, 3, 1, 2, 3, 4, 5, 6, 7, 5, 1, 2, 3, 4, 5, 6, 7, 1, 2, 3, 5, 6, 1, 5, 5, 6, 2, 1, 2, 3, 4, 5, 6, 7, 3, 4, 6, 7, 7, 1, 2, 3, 4, 5, 6, 7, 1, 2, 3, 4, 5, 6, 7, 1, 2, 3, 4, 5, 6, 7, 1, 2, 3, 4, 5, 6, 7, 3, 4, 5, 6, 4, 2, 5, 7, 1, 4, 7, 1, 2, 3, 4, 5, 6, 7, 1, 2, 3, 4, 5, 6, 7, 2, 1, 2, 3, 4, 5, 6, 7, 7, 1, 2, 3, 4, 5, 6, 1, 2, 3, 4, 5, 6, 7, 1, 2, 3, 4, 5, 6, 7, 7, 6, 4, 1, 3, 4, 5, 6, 6, 1, 2, 3, 5, 6, 1, 2, 3, 4, 5, 6, 7, 1, 2, 3, 4, 5, 6, 7, 1, 2, 3, 4, 7, 2, 3, 7, 5, 1, 1, 2, 3, 4, 5, 6, 7, 5, 1, 2, 3, 4, 5, 6, 7, 2, 3, 4, 1, 2, 3, 4, 5, 6, 7, 1, 1, 2, 3, 4, 5, 6, 7, 1, 2, 3, 4, 5, 6, 7, 1, 5, 4, 1, 2, 3, 4, 5, 6, 7, 1, 2, 3, 4, 5, 6, 7, 7, 4, 2, 6, 6, 4, 1, 2, 3, 4, 5, 6, 7, 1, 2, 3, 4, 5, 6, 7, 6, 6, 2, 3, 1, 4, 5, 6, 5, 6, 7, 1, 2, 3, 4, 5, 6, 7, 6, 1, 2, 3, 4, 5, 6, 7, 1, 2, 3, 4, 5, 6, 7, 5, 7, 1, 7, 1, 2, 3, 4, 5, 6, 7, 2, 3, 4, 6, 3, 1, 5, 2, 3, 6, 7, 1, 2, 3, 4, 5, 6, 7, 1, 2, 3, 4, 5, 6, 7, 5, 7, 2, 6, 3, 1, 2, 4, 5, 7, 3, 5, 2, 1, 3, 4, 3, 3, 6, 1, 2, 3, 4, 5, 6, 7, 1, 2, 3, 4, 5, 6, 7, 7, 1, 2, 3, 4, 5, 6, 7, 1, 2, 3, 4, 5, 6, 7, 1, 2, 3, 4, 5, 6, 7, 1, 2, 3, 4, 5, 6, 7, 1, 2, 3, 4, 5, 6, 7, 2, 2, 1, 4, 1, 2, 3, 4, 5, 6, 7, 7, 1, 2, 3, 4, 5, 6, 7, 1, 2, 3, 4, 5, 6, 7, 2, 4, 6, 1, 2, 3, 4, 5, 6, 7, 1, 2, 3, 4, 5, 6, 7, 1, 4, 5, 7, 1, 2, 3, 4, 5, 6, 7, 2, 3, 5, 6, 1, 1, 2, 3, 4, 5, 6, 7, 6, 1, 2, 3, 4, 5, 6, 7, 2, 6, 7, 6, 1, 2, 3, 4, 5, 6, 7, 5, 1, 2, 5, 6, 3, 6, 7, 2, 4, 5, 1, 2, 3, 4, 5, 6, 7, 1, 2, 3, 4, 5, 6, 7, 7, 1, 2, 3, 4, 5, 6, 7, 1, 2, 3, 4, 5, 6, 7, 1, 2, 4, 5, 6, 2, 1, 2, 3, 4, 5, 6, 7, 3, 1, 1, 2, 3, 4, 5, 6, 7, 1, 4, 2, 1, 2, 3, 4, 5, 6, 7, 4, 1, 1, 2, 3, 5, 6, 7, 1, 2, 3, 4, 5, 6, 7, 4, 7, 3, 1, 3, 1, 2, 4, 5, 6, 7, 1, 2, 3, 4, 5, 6, 1, 2, 3, 4, 5, 6, 7, 1, 2, 3, 4, 5, 6, 7, 2, 1, 2, 3, 4, 5, 6, 7, 1, 2, 3, 4, 5, 6, 7, 1, 2, 3, 4, 5, 6, 7, 1, 2, 3, 4, 5, 6, 7, 7, 3, 1, 2, 3, 4, 5, 6, 7, 6, 1, 2, 3, 4, 5, 6, 7, 4, 2, 3, 4, 1, 3, 5, 1, 2, 3, 4, 5, 6, 7, 6, 1, 2, 3, 4, 5, 6, 7, 4, 2, 4, 5, 6, 4, 3, 1, 2, 3, 4, 5, 6, 1, 2, 3, 4, 5, 6, 7, 2, 4, 6, 2, 4, 6, 7, 6, 7, 5, 3, 3, 1, 4, 5, 6, 7, 1, 2, 3, 4, 5, 6, 7, 2, 4, 5, 6, 7, 1, 3, 6, 7, 2, 6, 4, 3, 4, 1, 5, 6, 7, 1, 2, 3, 4, 5, 6, 7, 4, 2, 5, 5, 1, 2, 3, 4, 5, 6, 7, 1, 5, 1, 2, 3, 4, 5, 6, 7, 1, 3, 4, 5, 7, 3, 4, 6, 1, 2, 3, 4, 5, 6, 7, 1, 7, 1, 7, 1, 3, 5, 2, 1, 2, 3, 4, 5, 6, 7, 7, 2, 3, 5, 6, 1, 2, 3, 5, 6, 7, 6, 1, 2, 3, 4, 5, 6, 7, 1, 2, 3, 4, 5, 6, 7, 1, 2, 4, 1, 2, 3, 4, 5, 6, 7, 5, 2, 3, 4, 5, 6, 7, 1, 2, 3, 4, 5, 6, 7, 1, 2, 3, 4, 5, 6, 7, 2, 1, 4, 2, 3, 2, 3, 6, 7, 4, 1, 3, 1, 2, 3, 4, 5, 6, 7, 1, 3, 4, 6, 1, 2, 3, 4, 5, 6, 7, 1, 2, 3, 4, 5, 6, 7, 1, 2, 4, 6, 1, 2, 3, 4, 5, 6, 7, 1, 2, 3, 4, 5, 6, 7, 1, 2, 3, 4, 5, 6, 7, 1, 2, 3, 4, 5, 6, 7, 1, 2, 3, 4, 5, 6, 7, 1, 2, 4, 5, 7, 1, 2, 3, 4, 5, 6, 7, 2, 4, 6, 1, 2, 3, 4, 5, 6, 7, 7, 1, 6, 7, 1, 2, 4, 6, 1, 5, 2, 3, 7, 1, 2, 3, 4, 5, 6, 7, 6], \"Freq\": [0.8854383230209351, 0.9099618792533875, 0.6240856647491455, 0.09361284971237183, 0.031204283237457275, 0.06240856647491455, 0.06240856647491455, 0.031204283237457275, 0.06240856647491455, 0.9520474076271057, 0.7722681760787964, 0.035103101283311844, 0.14041240513324738, 0.035103101283311844, 0.882771909236908, 0.8590176701545715, 0.05353140830993652, 0.6959083080291748, 0.02676570415496826, 0.02676570415496826, 0.1338285207748413, 0.02676570415496826, 0.05353140830993652, 0.8674250841140747, 0.11983144283294678, 0.11983144283294678, 0.1576729565858841, 0.13875219225883484, 0.2585836350917816, 0.0946037694811821, 0.11983144283294678, 0.8855912685394287, 0.08855912834405899, 0.9079279899597168, 0.10046535730361938, 0.16920481622219086, 0.1216159537434578, 0.2538072168827057, 0.05816415324807167, 0.13747890293598175, 0.15862950682640076, 0.12642602622509003, 0.07901626825332642, 0.35293933749198914, 0.057945266366004944, 0.10535502433776855, 0.11589053273200989, 0.1633002907037735, 0.25889742374420166, 0.08629914373159409, 0.6472435593605042, 0.8554179668426514, 0.7887746095657349, 0.12134994566440582, 0.06067497283220291, 0.059715546667575836, 0.11943109333515167, 0.1260661482810974, 0.39810362458229065, 0.07298566401004791, 0.13270121812820435, 0.08625578880310059, 0.9639280438423157, 0.10074570029973984, 0.12089484184980392, 0.12089484184980392, 0.20724830031394958, 0.2446681261062622, 0.09498880803585052, 0.1093810498714447, 0.9340473413467407, 0.12320145964622498, 0.0955873355269432, 0.17418137192726135, 0.14656725525856018, 0.19542300701141357, 0.057352401316165924, 0.20816798508167267, 0.24147160351276398, 0.10167225450277328, 0.14827203750610352, 0.15674473345279694, 0.18639913201332092, 0.055072471499443054, 0.11014494299888611, 0.15549808740615845, 0.12664277851581573, 0.09778745472431183, 0.11381819099187851, 0.23404866456985474, 0.11381819099187851, 0.1587042361497879, 0.18405941128730774, 0.13562272489070892, 0.1017170399427414, 0.2034340798854828, 0.07749869674444199, 0.2034340798854828, 0.09687337279319763, 0.35873401165008545, 0.10149547457695007, 0.11199501156806946, 0.08574617654085159, 0.1662425845861435, 0.04724789410829544, 0.12774430215358734, 0.89644455909729, 0.9190000295639038, 0.8541557788848877, 0.04561517760157585, 0.775458037853241, 0.0912303552031517, 0.0912303552031517, 0.08346939831972122, 0.15766441822052002, 0.0741950199007988, 0.3709751069545746, 0.12984128296375275, 0.12056691199541092, 0.0741950199007988, 0.8882721066474915, 0.9739413261413574, 0.09746145457029343, 0.19492290914058685, 0.22358804941177368, 0.18059034645557404, 0.05733026564121246, 0.12039355933666229, 0.12612658739089966, 0.895150363445282, 0.792363166809082, 0.18285304307937622, 0.8880963325500488, 0.7255996465682983, 0.19789081811904907, 0.8516684174537659, 0.9105123281478882, 0.10542741417884827, 0.14056988060474396, 0.21085482835769653, 0.08980853855609894, 0.16399820148944855, 0.07028494030237198, 0.2186642736196518, 0.8967559933662415, 0.8956226110458374, 0.0419483408331871, 0.1677933633327484, 0.0419483408331871, 0.0419483408331871, 0.0419483408331871, 0.0419483408331871, 0.6292251348495483, 0.8546406030654907, 0.11395207792520523, 0.9106158018112183, 0.8899943232536316, 0.045451972633600235, 0.12120525538921356, 0.10605459660291672, 0.4999716877937317, 0.07575328648090363, 0.1363559067249298, 0.015150656923651695, 0.9629812836647034, 0.8878114223480225, 0.8808590769767761, 0.08808591216802597, 0.12691231071949005, 0.06345615535974503, 0.14806436002254486, 0.10576026141643524, 0.04230410233139992, 0.4864971935749054, 0.02115205116569996, 0.14080511033535004, 0.09387007355690002, 0.7040255069732666, 0.04693503677845001, 0.04693503677845001, 0.24587927758693695, 0.7376378178596497, 0.8528854250907898, 0.04215662181377411, 0.08431324362754822, 0.04215662181377411, 0.716662585735321, 0.04215662181377411, 0.04215662181377411, 0.04215662181377411, 0.05025918781757355, 0.8041470050811768, 0.05025918781757355, 0.05025918781757355, 0.05025918781757355, 0.05084550008177757, 0.05084550008177757, 0.10169100016355515, 0.05084550008177757, 0.7626824975013733, 0.04455011710524559, 0.7573519945144653, 0.08910023421049118, 0.04455011710524559, 0.04455011710524559, 0.946254312992096, 0.1187615916132927, 0.026391465216875076, 0.07917439937591553, 0.09237013012170792, 0.4222634434700012, 0.06597866117954254, 0.18474026024341583, 0.3498421311378479, 0.1339820921421051, 0.14886899292469025, 0.17119933664798737, 0.06699104607105255, 0.06699104607105255, 0.05954759567975998, 0.9374662041664124, 0.9085336327552795, 0.8174259066581726, 0.13678313791751862, 0.06839156895875931, 0.06839156895875931, 0.06839156895875931, 0.06839156895875931, 0.5813283324241638, 0.034195784479379654, 0.052318163216114044, 0.438164621591568, 0.1373351812362671, 0.09809655696153641, 0.19619311392307281, 0.026159081608057022, 0.058857932686805725, 0.8540010452270508, 0.887359082698822, 0.889144778251648, 0.8685382008552551, 0.8438599705696106, 0.08438599854707718, 0.08438599854707718, 0.9229118824005127, 0.1504349708557129, 0.13815456628799438, 0.14736486971378326, 0.08903294056653976, 0.12587416172027588, 0.18420608341693878, 0.1627153754234314, 0.8896908164024353, 0.04422135278582573, 0.08844270557165146, 0.04422135278582573, 0.6633203029632568, 0.08844270557165146, 0.08844270557165146, 0.9180829524993896, 0.9105913639068604, 0.06874614953994751, 0.06874614953994751, 0.7562077045440674, 0.05239993706345558, 0.05239993706345558, 0.05239993706345558, 0.8383989930152893, 0.036525532603263855, 0.036525532603263855, 0.036525532603263855, 0.07305106520652771, 0.07305106520652771, 0.036525532603263855, 0.657459557056427, 0.17044414579868317, 0.285493940114975, 0.06391655653715134, 0.18322744965553284, 0.1150498017668724, 0.11078869551420212, 0.07243876159191132, 0.1389947384595871, 0.26535359025001526, 0.10108707845211029, 0.13057081401348114, 0.09687511622905731, 0.17269042134284973, 0.09687511622905731, 0.9192858338356018, 0.03733646869659424, 0.11200940608978271, 0.7467293739318848, 0.07467293739318848, 0.03733646869659424, 0.9635907411575317, 0.8561381697654724, 0.9042581915855408, 0.0565161369740963, 0.8530265092849731, 0.12186092883348465, 0.10921168327331543, 0.1896834522485733, 0.10921168327331543, 0.08047176897525787, 0.08047176897525787, 0.11495966464281082, 0.3103910982608795, 0.9088948965072632, 0.9632546305656433, 0.021860843524336815, 0.021860843524336815, 0.6121036410331726, 0.021860843524336815, 0.2623301148414612, 0.021860843524336815, 0.021860843524336815, 0.149344339966774, 0.09334021806716919, 0.5413732528686523, 0.09334021806716919, 0.01866804249584675, 0.09334021806716919, 0.01866804249584675, 0.13720309734344482, 0.8232185244560242, 0.16261574625968933, 0.05420524626970291, 0.1325017213821411, 0.1023876890540123, 0.2830718457698822, 0.10841049253940582, 0.15057013928890228, 0.18666939437389374, 0.19003280997276306, 0.08744872361421585, 0.188351109623909, 0.14126332104206085, 0.10258408635854721, 0.10426578670740128, 0.8976436257362366, 0.8585999011993408, 0.9186866283416748, 0.8964394927024841, 0.9085134267807007, 0.2106950283050537, 0.13561978936195374, 0.12108909338712692, 0.21796037256717682, 0.12593266367912292, 0.0920277088880539, 0.0992930606007576, 0.11401639878749847, 0.25745639204978943, 0.14711792767047882, 0.12505024671554565, 0.11769434809684753, 0.11033844947814941, 0.13240614533424377, 0.889093816280365, 0.16906413435935974, 0.1127094253897667, 0.4508377015590668, 0.09016753733158112, 0.06762565672397614, 0.04508376866579056, 0.05635471269488335, 0.8879724144935608, 0.7423438429832458, 0.08248265087604523, 0.041241325438022614, 0.041241325438022614, 0.08248265087604523, 0.041241325438022614, 0.89711594581604, 0.05453939735889435, 0.1384461671113968, 0.28528299927711487, 0.21396225690841675, 0.1300554871559143, 0.06712540984153748, 0.11327413469552994, 0.17102155089378357, 0.21890759468078613, 0.17102155089378357, 0.20864629745483398, 0.1436581015586853, 0.03078388050198555, 0.05472689867019653, 0.12319497019052505, 0.1907535046339035, 0.13909108936786652, 0.13909108936786652, 0.13114303350448608, 0.20267559587955475, 0.07550659775733948, 0.1777896285057068, 0.029631605371832848, 0.6518953442573547, 0.1481580287218094, 0.8078525066375732, 0.08078525215387344, 0.8632771372795105, 0.06782885640859604, 0.3768269717693329, 0.03768269717693329, 0.09797501564025879, 0.19595003128051758, 0.12812116742134094, 0.10551155358552933, 0.9085306525230408, 0.07223386317491531, 0.07223386317491531, 0.07223386317491531, 0.07223386317491531, 0.6139878034591675, 0.03611693158745766, 0.03611693158745766, 0.04148790240287781, 0.16595160961151123, 0.08297580480575562, 0.04148790240287781, 0.6638064384460449, 0.9115858674049377, 0.08802961558103561, 0.04401480779051781, 0.04401480779051781, 0.748251736164093, 0.04401480779051781, 0.04215705394744873, 0.6745128631591797, 0.04215705394744873, 0.08431410789489746, 0.08431410789489746, 0.08431410789489746, 0.8359103798866272, 0.9626607894897461, 0.9187744855880737, 0.9195666909217834, 0.11137443780899048, 0.037124812602996826, 0.631121814250946, 0.037124812602996826, 0.037124812602996826, 0.11137443780899048, 0.037124812602996826, 0.028509940952062607, 0.08552981913089752, 0.08552981913089752, 0.7697684168815613, 0.028509940952062607, 0.9618064165115356, 0.039383821189403534, 0.039383821189403534, 0.039383821189403534, 0.039383821189403534, 0.8270602822303772, 0.5309747457504272, 0.07175333797931671, 0.1722080111503601, 0.11480534821748734, 0.07175333797931671, 0.028701337054371834, 0.028701337054371834, 0.9076791405677795, 0.0537966713309288, 0.0537966713309288, 0.0537966713309288, 0.1075933426618576, 0.753153383731842, 0.0537966713309288, 0.07739309966564178, 0.06449425220489502, 0.11608964949846268, 0.16768504679203033, 0.10319080203771591, 0.11608964949846268, 0.37406665086746216, 0.1027127355337143, 0.15216702222824097, 0.17499206960201263, 0.15977537631988525, 0.18260042369365692, 0.11792944371700287, 0.10651691257953644, 0.09716141223907471, 0.07815157622098923, 0.3675236105918884, 0.08871259540319443, 0.06125393509864807, 0.15419094264507294, 0.15419094264507294, 0.24661223590373993, 0.08734183758497238, 0.277438759803772, 0.1027550995349884, 0.1027550995349884, 0.09761734306812286, 0.0770663246512413, 0.09233778715133667, 0.7848712205886841, 0.046168893575668335, 0.046168893575668335, 0.046168893575668335, 0.07718675583600998, 0.07718675583600998, 0.08821343630552292, 0.07718675583600998, 0.24258695542812347, 0.3528537452220917, 0.08821343630552292, 0.20933003723621368, 0.18607114255428314, 0.11629446595907211, 0.13955336809158325, 0.20268464088439941, 0.05648588389158249, 0.09303557127714157, 0.2018204778432846, 0.0605461448431015, 0.5247332453727722, 0.0403640978038311, 0.0605461448431015, 0.0605461448431015, 0.0605461448431015, 0.20222207903862, 0.2169291377067566, 0.15442413091659546, 0.09191913157701492, 0.1801614910364151, 0.08456559479236603, 0.06985853612422943, 0.4233362674713135, 0.09071490913629532, 0.1713503897190094, 0.07055604457855225, 0.1411120891571045, 0.05039717257022858, 0.05039717257022858, 0.8895539045333862, 0.8916162848472595, 0.28167620301246643, 0.041220907121896744, 0.08244181424379349, 0.11679256707429886, 0.2954165041446686, 0.1305328756570816, 0.05496120825409889, 0.9187831282615662, 0.05703362822532654, 0.05703362822532654, 0.05703362822532654, 0.8555043935775757, 0.19816066324710846, 0.09264654666185379, 0.13382278382778168, 0.13639630377292633, 0.11580818146467209, 0.16985200345516205, 0.15441091358661652, 0.09190790355205536, 0.8731250762939453, 0.8958938717842102, 0.18472199141979218, 0.1731768697500229, 0.14238986372947693, 0.0808158740401268, 0.14238986372947693, 0.17702524363994598, 0.10390612483024597, 0.9195777773857117, 0.17393623292446136, 0.08696811646223068, 0.07454410195350647, 0.217420294880867, 0.25469234585762024, 0.03106004185974598, 0.16151222586631775, 0.07664996385574341, 0.47522976994514465, 0.19928990304470062, 0.030659984797239304, 0.12263993918895721, 0.030659984797239304, 0.06131996959447861, 0.04711030423641205, 0.0942206084728241, 0.14133091270923615, 0.7066546082496643, 0.2182578593492508, 0.13735193014144897, 0.05268292874097824, 0.17874565720558167, 0.1091289296746254, 0.20320558547973633, 0.10160279273986816, 0.9626578092575073, 0.03690056502819061, 0.18450281023979187, 0.18450281023979187, 0.5904090404510498, 0.9368107318878174, 0.9193341732025146, 0.1393541842699051, 0.11886091530323029, 0.20493261516094208, 0.08197304606437683, 0.13525553047657013, 0.08197304606437683, 0.24182048439979553, 0.08465848118066788, 0.2406083047389984, 0.16486124694347382, 0.2049626260995865, 0.08465848118066788, 0.11584844440221786, 0.0980256050825119, 0.8910165429115295, 0.9093448519706726, 0.9637431502342224, 0.8458886742591858, 0.08458886295557022, 0.8541463017463684, 0.971764862537384, 0.8557888865470886, 0.8563719987869263, 0.061478279531002045, 0.061478279531002045, 0.061478279531002045, 0.8606958985328674, 0.0632791593670845, 0.0632791593670845, 0.0632791593670845, 0.7593498826026917, 0.0632791593670845, 0.05208870768547058, 0.8334193229675293, 0.05208870768547058, 0.05208870768547058, 0.05208870768547058, 0.9643434882164001, 0.8557450175285339, 0.887803852558136, 0.14672908186912537, 0.15684832632541656, 0.09107322245836258, 0.17202718555927277, 0.11637133359909058, 0.20744454860687256, 0.11637133359909058, 0.16683821380138397, 0.14712098240852356, 0.09858622401952744, 0.17897190153598785, 0.2032392919063568, 0.07886897772550583, 0.12437030673027039, 0.0988161563873291, 0.0988161563873291, 0.16601113975048065, 0.07905292510986328, 0.19367966055870056, 0.1699637919664383, 0.1897270232439041, 0.838547945022583, 0.31002259254455566, 0.059619732201099396, 0.1868084967136383, 0.1271887570619583, 0.13513806462287903, 0.10334086418151855, 0.0794929787516594, 0.2663838863372803, 0.13565845787525177, 0.13565845787525177, 0.051796864718198776, 0.20472094416618347, 0.18252229690551758, 0.02219865657389164, 0.8905909657478333, 0.8960369825363159, 0.9187793731689453, 0.7787829637527466, 0.20494288206100464, 0.057251911610364914, 0.22900764644145966, 0.6870229840278625, 0.058475155383348465, 0.9356024861335754, 0.8962438106536865, 0.3005068600177765, 0.1390404850244522, 0.13455531001091003, 0.1569811999797821, 0.17043672502040863, 0.04036659374833107, 0.05830730125308037, 0.17320434749126434, 0.10566554218530655, 0.07298547774553299, 0.11764822900295258, 0.15141762793064117, 0.13943494856357574, 0.24074314534664154, 0.8461831212043762, 0.08461831510066986, 0.2402520328760147, 0.1915522962808609, 0.09739947319030762, 0.10389276593923569, 0.11363271623849869, 0.1818123459815979, 0.07467292994260788, 0.9585443139076233, 0.05929207801818848, 0.05929207801818848, 0.05929207801818848, 0.8300890922546387, 0.844682514667511, 0.5981509685516357, 0.08545014262199402, 0.1139335185289383, 0.05696675926446915, 0.05696675926446915, 0.028483379632234573, 0.05696675926446915, 0.7692127227783203, 0.17751063406467438, 0.964186429977417, 0.05486656725406647, 0.05486656725406647, 0.05486656725406647, 0.8229984641075134, 0.05486656725406647, 0.0622093565762043, 0.186628058552742, 0.0829458087682724, 0.1244187131524086, 0.0414729043841362, 0.476938396692276, 0.0207364521920681, 0.964086651802063, 0.13219332695007324, 0.08262082934379578, 0.46267664432525635, 0.049572497606277466, 0.06609666347503662, 0.08262082934379578, 0.13219332695007324, 0.8711991906166077, 0.10106808692216873, 0.1819225549697876, 0.04042723402380943, 0.10106808692216873, 0.020213617011904716, 0.5053404569625854, 0.020213617011904716, 0.9644024968147278, 0.8962616324424744, 0.7076343894004822, 0.07862604409456253, 0.07862604409456253, 0.07862604409456253, 0.039313022047281265, 0.039313022047281265, 0.05995258688926697, 0.8992887735366821, 0.9381248354911804, 0.8308551907539368, 0.07434873282909393, 0.18587182462215424, 0.6319642066955566, 0.03717436641454697, 0.07434873282909393, 0.8861733078956604, 0.7361221313476562, 0.03505343571305275, 0.140213742852211, 0.10516031086444855, 0.8951506614685059, 0.14986947178840637, 0.18214905261993408, 0.18214905261993408, 0.18445472419261932, 0.0945330485701561, 0.10375578701496124, 0.10375578701496124, 0.895496666431427, 0.11783786863088608, 0.8837839961051941, 0.05491143465042114, 0.5079307556152344, 0.1784621626138687, 0.13727858662605286, 0.05491143465042114, 0.05491143465042114, 0.02745571732521057, 0.23495230078697205, 0.08543720096349716, 0.210033118724823, 0.07475755363702774, 0.12103603035211563, 0.13883544504642487, 0.13527557253837585, 0.9628147482872009, 0.1177515760064125, 0.7948231101036072, 0.029437894001603127, 0.029437894001603127, 0.13107997179031372, 0.17813432216644287, 0.09746972471475601, 0.2184666246175766, 0.1579681783914566, 0.1512461155653, 0.06722050160169601, 0.9558618664741516, 0.05653348192572594, 0.1696004420518875, 0.05653348192572594, 0.7349352836608887, 0.053842365741729736, 0.053842365741729736, 0.8614778518676758, 0.9513078331947327, 0.1136958971619606, 0.7200739979743958, 0.037898629903793335, 0.1136958971619606, 0.9368218183517456, 0.9088162779808044, 0.8228989839553833, 0.04840582236647606, 0.04840582236647606, 0.04840582236647606, 0.04840582236647606, 0.04840582236647606, 0.9085438251495361, 0.8962996006011963, 0.1451473832130432, 0.1548238843679428, 0.10644141584634781, 0.3677067160606384, 0.1548238843679428, 0.048382461071014404, 0.029029477387666702, 0.8460023999214172, 0.056389372795820236, 0.11277874559164047, 0.16290263831615448, 0.10651326179504395, 0.10024777799844742, 0.3633981943130493, 0.10024777799844742, 0.7518852353096008, 0.1503770500421524, 0.03007540851831436, 0.03007540851831436, 0.03007540851831436, 0.2255946546792984, 0.7331826090812683, 0.9163635969161987, 0.053903739899396896, 0.9094552397727966, 0.21609944105148315, 0.07858161628246307, 0.36343997716903687, 0.08840431272983551, 0.12769512832164764, 0.09822701662778854, 0.029468104243278503, 0.7412006855010986, 0.041177812963724136, 0.16471125185489655, 0.041177812963724136, 0.9094209671020508, 0.6915150880813599, 0.034575752913951874, 0.034575752913951874, 0.10372726619243622, 0.034575752913951874, 0.06915150582790375, 0.034575752913951874, 0.22025461494922638, 0.1177222952246666, 0.14430475234985352, 0.2392420768737793, 0.1177222952246666, 0.09873482584953308, 0.06075989082455635, 0.015285071916878223, 0.07642535865306854, 0.13756564259529114, 0.030570143833756447, 0.2598462402820587, 0.015285071916878223, 0.45855215191841125, 0.026860689744353294, 0.08058206737041473, 0.026860689744353294, 0.21488551795482635, 0.05372137948870659, 0.05372137948870659, 0.5372138023376465, 0.048321813344955444, 0.8214707970619202, 0.048321813344955444, 0.048321813344955444, 0.8993840217590332, 0.8372064828872681, 0.05581376701593399, 0.11162753403186798, 0.12025333940982819, 0.8417733907699585, 0.04008444771170616, 0.5587307214736938, 0.08691366016864777, 0.07449742406606674, 0.03724871203303337, 0.13657861948013306, 0.07449742406606674, 0.03724871203303337, 0.16683392226696014, 0.20020070672035217, 0.041708480566740036, 0.05005017668008804, 0.325326144695282, 0.08341696113348007, 0.14180883765220642, 0.9089335799217224, 0.10424479842185974, 0.29433825612068176, 0.12877298891544342, 0.14716912806034088, 0.17169731855392456, 0.1226409375667572, 0.02452818676829338, 0.9183434844017029, 0.12365449219942093, 0.1854817420244217, 0.08243633061647415, 0.08243633061647415, 0.4740088880062103, 0.041218165308237076, 0.10396688431501389, 0.09382376819849014, 0.20793376863002777, 0.16989709436893463, 0.21300531923770905, 0.10650265961885452, 0.10396688431501389, 0.14096994698047638, 0.11277595907449722, 0.2134687900543213, 0.09666510671377182, 0.205413356423378, 0.13291452825069427, 0.09666510671377182, 0.9098706841468811, 0.8550695180892944, 0.8838350772857666, 0.2759617865085602, 0.5519235730171204, 0.09855777770280838, 0.03942311182618141, 0.019711555913090706, 0.8546770215034485, 0.13411925733089447, 0.10058943927288055, 0.06705962866544724, 0.06705962866544724, 0.6370664834976196, 0.08307681977748871, 0.08307681977748871, 0.041538409888744354, 0.041538409888744354, 0.041538409888744354, 0.6646145582199097, 0.041538409888744354, 0.21138782799243927, 0.1422063559293747, 0.2844127118587494, 0.10377220809459686, 0.08839854598045349, 0.053807809948921204, 0.11530245095491409, 0.043042849749326706, 0.08608569949865341, 0.043042849749326706, 0.7747713327407837, 0.043042849749326706, 0.060982078313827515, 0.7317849397659302, 0.18294623494148254, 0.8901737332344055, 0.9102378487586975, 0.12166377902030945, 0.21977972984313965, 0.1412869691848755, 0.2551014721393585, 0.08634203672409058, 0.12166377902030945, 0.05494493246078491, 0.8889849781990051, 0.16771672666072845, 0.10482295602560043, 0.23480342328548431, 0.05870085582137108, 0.11320879310369492, 0.19706715643405914, 0.1215946301817894, 0.05656619369983673, 0.05656619369983673, 0.8484929203987122, 0.1316780000925064, 0.5267120003700256, 0.0658390000462532, 0.0658390000462532, 0.04389266297221184, 0.04389266297221184, 0.1316780000925064, 0.9646065831184387, 0.15246903896331787, 0.1270575374364853, 0.1270575374364853, 0.13213983178138733, 0.1727982461452484, 0.2287035584449768, 0.06098761409521103, 0.10500068217515945, 0.5600036382675171, 0.05250034108757973, 0.03500022739171982, 0.14000090956687927, 0.07000045478343964, 0.01750011369585991, 0.9051455855369568, 0.0565715990960598, 0.9354654550552368, 0.04493820667266846, 0.04493820667266846, 0.04493820667266846, 0.04493820667266846, 0.04493820667266846, 0.08987641334533691, 0.6740731000900269, 0.2908041179180145, 0.16505099833011627, 0.20041906833648682, 0.09431485086679459, 0.12182335555553436, 0.08645528554916382, 0.03929785639047623, 0.9184824228286743, 0.9369034171104431, 0.1919936090707779, 0.7679744362831116, 0.8552148342132568, 0.9380508661270142, 0.32105982303619385, 0.16200266778469086, 0.08541958779096603, 0.06480106711387634, 0.16200266778469086, 0.108983613550663, 0.09425609558820724, 0.09314939379692078, 0.10479306429624557, 0.4424596130847931, 0.03493102267384529, 0.03493102267384529, 0.04657469689846039, 0.24451714754104614, 0.8561323881149292, 0.8513785004615784, 0.06087993457913399, 0.9131990075111389, 0.055607471615076065, 0.8619158267974854, 0.027803735807538033, 0.027803735807538033, 0.0634930282831192, 0.0634930282831192, 0.8889023661613464, 0.6070336699485779, 0.028906365856528282, 0.057812731713056564, 0.057812731713056564, 0.11562546342611313, 0.057812731713056564, 0.057812731713056564, 0.854975163936615, 0.07225247472524643, 0.16858911514282227, 0.04816831648349762, 0.5539356470108032, 0.07225247472524643, 0.04816831648349762, 0.04816831648349762, 0.26344937086105347, 0.13172468543052673, 0.03512658178806305, 0.026344938203692436, 0.07903481274843216, 0.17563290894031525, 0.2810126543045044, 0.8888697624206543, 0.9191038012504578, 0.8851051330566406, 0.052065007388591766, 0.2667900621891022, 0.11770149320363998, 0.1647820919752121, 0.0902378112077713, 0.0745442807674408, 0.15301194787025452, 0.1333950310945511, 0.8877217769622803, 0.036988407373428345, 0.036988407373428345, 0.036988407373428345, 0.8953611254692078, 0.9055533409118652, 0.05659708380699158, 0.05609512701630592, 0.05609512701630592, 0.05609512701630592, 0.7853317856788635, 0.21857671439647675, 0.09068608283996582, 0.16276989877223969, 0.09068608283996582, 0.22787785530090332, 0.09533665329217911, 0.116264209151268, 0.20440217852592468, 0.12556134164333344, 0.18396195769309998, 0.1985621154308319, 0.07300078123807907, 0.1109611839056015, 0.10220108926296234, 0.8887452483177185, 0.9186804294586182, 0.10345936566591263, 0.827674925327301, 0.9515668153762817, 0.8014650344848633, 0.04714500159025192, 0.04714500159025192, 0.04714500159025192, 0.04714500159025192, 0.8944582939147949, 0.8886235356330872, 0.90964275598526, 0.05203211307525635, 0.05203211307525635, 0.8325138092041016, 0.8988931179046631, 0.8956117033958435, 0.9179527163505554, 0.2815585136413574, 0.04554622992873192, 0.15941180288791656, 0.07038962841033936, 0.25464484095573425, 0.12421699613332748, 0.0662490651011467, 0.11716095358133316, 0.28997334837913513, 0.1347350925207138, 0.11716095358133316, 0.08494169265031815, 0.10251583158969879, 0.15230923891067505, 0.9185918569564819, 0.1694701761007309, 0.08473508805036545, 0.1499159187078476, 0.12058454751968384, 0.12710262835025787, 0.2509462237358093, 0.09777125716209412, 0.08950570970773697, 0.13985267281532288, 0.13985267281532288, 0.2964876592159271, 0.08391159772872925, 0.11747623980045319, 0.12866444885730743, 0.15331578254699707, 0.17272284626960754, 0.1416715532541275, 0.20377413928508759, 0.17078213393688202, 0.09703530371189117, 0.06016188859939575, 0.11812376230955124, 0.027793826535344124, 0.11812376230955124, 0.11812376230955124, 0.23624752461910248, 0.12507221102714539, 0.25014442205429077, 0.25916433334350586, 0.12540210783481598, 0.14630244672298431, 0.07524126023054123, 0.19228322803974152, 0.08778147399425507, 0.11286189407110214, 0.9083627462387085, 0.9082526564598083, 0.912572979927063, 0.9361725449562073, 0.03392577916383743, 0.03392577916383743, 0.03392577916383743, 0.03392577916383743, 0.03392577916383743, 0.6785155534744263, 0.13570311665534973, 0.9190056920051575, 0.22057026624679565, 0.16288265585899353, 0.13064546883106232, 0.22566035389900208, 0.11028513312339783, 0.07974463701248169, 0.06786777079105377, 0.13388796150684357, 0.19568240642547607, 0.13800759613513947, 0.20598147809505463, 0.11123000085353851, 0.08857204020023346, 0.1277085244655609, 0.12386927753686905, 0.8051503300666809, 0.061934638768434525, 0.158262699842453, 0.05539194494485855, 0.1266101598739624, 0.08704448491334915, 0.0633050799369812, 0.3323516845703125, 0.1740889698266983, 0.09271570295095444, 0.2119216024875641, 0.02649020031094551, 0.013245100155472755, 0.06622549891471863, 0.5695393085479736, 0.013245100155472755, 0.06106230244040489, 0.06106230244040489, 0.06106230244040489, 0.7938098907470703, 0.1541385054588318, 0.10052511096000671, 0.18764688074588776, 0.04691172018647194, 0.1541385054588318, 0.26806697249412537, 0.09382344037294388, 0.6732858419418335, 0.28348878026008606, 0.03543609753251076, 0.03543609753251076, 0.9623973965644836, 0.16862532496452332, 0.19215445220470428, 0.05490127205848694, 0.15686076879501343, 0.09803798049688339, 0.14117470383644104, 0.1882329285144806, 0.8556243777275085, 0.22143955528736115, 0.055359888821840286, 0.06326844543218613, 0.11862833052873611, 0.15817110240459442, 0.31634220480918884, 0.07117699831724167, 0.061484914273023605, 0.061484914273023605, 0.8607887625694275, 0.8532001376152039, 0.11580565571784973, 0.04135916382074356, 0.09926199167966843, 0.11580565571784973, 0.4466789662837982, 0.04963099583983421, 0.13234932720661163, 0.8899173140525818, 0.0551966056227684, 0.1103932112455368, 0.0551966056227684, 0.7175558805465698, 0.895167350769043, 0.8515521883964539, 0.13100802898406982, 0.929594099521637, 0.029049815610051155, 0.029049815610051155, 0.11465518176555634, 0.2006465643644333, 0.05732759088277817, 0.44428884983062744, 0.08599139004945755, 0.014331897720694542, 0.07165949046611786, 0.2138502299785614, 0.05770561844110489, 0.2444002628326416, 0.10183344781398773, 0.10183344781398773, 0.1222001314163208, 0.1561446189880371, 0.8177636861801147, 0.1690935343503952, 0.10968229174613953, 0.0685514286160469, 0.11425238847732544, 0.21022439002990723, 0.24221505224704742, 0.08683181554079056, 0.24020405113697052, 0.12010202556848526, 0.30025506019592285, 0.06005101278424263, 0.10294459760189056, 0.09865523874759674, 0.07720844447612762, 0.7396539449691772, 0.041091885417699814, 0.041091885417699814, 0.08218377083539963, 0.08218377083539963, 0.9089561104774475, 0.5018205046653748, 0.11670243740081787, 0.19839414954185486, 0.023340487852692604, 0.058351218700408936, 0.058351218700408936, 0.03501073271036148, 0.8984073996543884, 0.9133769273757935, 0.3128272294998169, 0.20454087853431702, 0.07820680737495422, 0.13836589455604553, 0.09625453501939774, 0.12031816691160202, 0.05414317548274994, 0.962770938873291, 0.9346044659614563, 0.9083560109138489, 0.14789222180843353, 0.230054572224617, 0.09311732649803162, 0.2683970034122467, 0.08763983100652695, 0.08763983100652695, 0.09311732649803162, 0.9365252256393433, 0.9634975790977478, 0.06784872710704803, 0.10177309811115265, 0.06784872710704803, 0.6784873008728027, 0.03392436355352402, 0.03392436355352402, 0.11196134239435196, 0.11196134239435196, 0.22392268478870392, 0.09751471877098083, 0.20225274562835693, 0.08667974919080734, 0.1625245213508606, 0.8842703700065613, 0.8943043351173401, 0.8953392505645752, 0.9635359048843384, 0.8949294686317444, 0.04515429586172104, 0.8127772808074951, 0.04515429586172104, 0.04515429586172104, 0.04515429586172104, 0.04515429586172104, 0.08816251903772354, 0.04408125951886177, 0.04408125951886177, 0.1322437822818756, 0.04408125951886177, 0.6612188816070557, 0.25619757175445557, 0.19074565172195435, 0.21318630874156952, 0.08602254837751389, 0.0804123803973198, 0.09911293536424637, 0.0748022124171257, 0.1472357213497162, 0.11962902545928955, 0.0828200951218605, 0.0828200951218605, 0.3956960141658783, 0.0828200951218605, 0.0828200951218605, 0.9182407855987549, 0.33552107214927673, 0.08782094717025757, 0.14411643147468567, 0.16438280045986176, 0.11484277993440628, 0.09908004105091095, 0.0562954805791378, 0.12513737380504608, 0.0703897774219513, 0.12513737380504608, 0.1564217209815979, 0.07821086049079895, 0.1407795548439026, 0.2972012758255005, 0.173246368765831, 0.18100367486476898, 0.1603175401687622, 0.07498723268508911, 0.175832137465477, 0.13445986807346344, 0.10343067348003387, 0.07084482908248901, 0.14785008132457733, 0.1755719631910324, 0.16017091274261475, 0.1570907086133957, 0.14476986229419708, 0.14476986229419708, 0.919204592704773, 0.8947587013244629, 0.10237915068864822, 0.5630853772163391, 0.05118957534432411, 0.12797394394874573, 0.05118957534432411, 0.05118957534432411, 0.05118957534432411, 0.8542863726615906, 0.03699620068073273, 0.16031686961650848, 0.06166033446788788, 0.12948669493198395, 0.0986565351486206, 0.42545631527900696, 0.08015843480825424, 0.885323166847229, 0.11588799953460693, 0.038629330694675446, 0.8112159967422485, 0.11744625121355057, 0.8221237659454346, 0.8883868455886841, 0.17145028710365295, 0.23880574107170105, 0.11021804064512253, 0.16838866472244263, 0.12246448546648026, 0.1377725452184677, 0.052047405391931534, 0.922353208065033, 0.11347746104001999, 0.10615633428096771, 0.21231266856193542, 0.15740421414375305, 0.1610647737979889, 0.07321126759052277, 0.17936760187149048, 0.9289741516113281, 0.8133025765419006, 0.05083141103386879, 0.05083141103386879, 0.05083141103386879, 0.939720094203949, 0.9028286337852478, 0.03473944216966629, 0.06947888433933258, 0.6600494384765625, 0.13895776867866516, 0.10421833395957947, 0.03473944216966629, 0.060343723744153976, 0.04022914916276932, 0.060343723744153976, 0.02011457458138466, 0.3017186224460602, 0.46263521909713745, 0.060343723744153976, 0.048742491751909256, 0.7798798680305481, 0.09748498350381851, 0.8268551230430603, 0.041342757642269135, 0.041342757642269135, 0.041342757642269135, 0.8530409932136536, 0.9194056987762451, 0.8890798687934875, 0.8945862054824829, 0.8960472345352173, 0.8112452030181885, 0.04269711673259735, 0.04269711673259735, 0.04269711673259735, 0.04269711673259735, 0.14923326671123505, 0.1563396006822586, 0.09948883950710297, 0.16344594955444336, 0.12080787867307663, 0.2629348039627075, 0.04974441975355148, 0.19576461613178253, 0.2202351987361908, 0.04894115403294563, 0.024470577016472816, 0.5138821601867676, 0.05627093464136124, 0.05627093464136124, 0.7315221428871155, 0.1688127964735031, 0.06277164816856384, 0.94157475233078, 0.9300378561019897, 0.7865926623344421, 0.11237037926912308, 0.7952741384506226, 0.17041589319705963, 0.8550190925598145, 0.9191113710403442, 0.24083003401756287, 0.32582888007164, 0.11333177983760834, 0.07791560143232346, 0.07791560143232346, 0.10624854266643524, 0.05666588991880417, 0.9375643730163574, 0.058676037937402725, 0.9388166069984436, 0.8886272311210632, 0.19249200820922852, 0.2887380123138428, 0.19249200820922852, 0.11763400584459305, 0.05347000062465668, 0.06416400521993637, 0.09624600410461426, 0.16982722282409668, 0.7925270199775696, 0.08000026643276215, 0.05333351343870163, 0.026666756719350815, 0.026666756719350815, 0.6666688919067383, 0.08000026643276215, 0.05333351343870163, 0.14511583745479584, 0.048371944576501846, 0.048371944576501846, 0.6772072315216064, 0.048371944576501846, 0.7833376526832581, 0.0391668826341629, 0.1566675305366516, 0.07289044559001923, 0.15240730345249176, 0.07289044559001923, 0.21204493939876556, 0.13252808153629303, 0.09276966005563736, 0.26505616307258606, 0.9637981653213501, 0.9181193709373474, 0.965908408164978, 0.8705196380615234, 0.20670293271541595, 0.1771739423274994, 0.6201087832450867, 0.9090312123298645, 0.24059279263019562, 0.07884974032640457, 0.06469722092151642, 0.1880262941122055, 0.10513298213481903, 0.1273726522922516, 0.19409166276454926, 0.9186742305755615, 0.05129900947213173, 0.10259801894426346, 0.7694851756095886, 0.05129900947213173, 0.08028397709131241, 0.02676132693886757, 0.5619878768920898, 0.02676132693886757, 0.02676132693886757, 0.2676132619380951, 0.8557010889053345, 0.07344424724578857, 0.6365167498588562, 0.07344424724578857, 0.048962827771902084, 0.07344424724578857, 0.048962827771902084, 0.048962827771902084, 0.08509963750839233, 0.20802132785320282, 0.17019927501678467, 0.29784873127937317, 0.018911030143499374, 0.16547150909900665, 0.06146084889769554, 0.11221995949745178, 0.7855396866798401, 0.05610997974872589, 0.13278886675834656, 0.20360960066318512, 0.28328293561935425, 0.07524702697992325, 0.13278886675834656, 0.07524702697992325, 0.09737850725650787, 0.8441016674041748, 0.045098237693309784, 0.045098237693309784, 0.7666700482368469, 0.045098237693309784, 0.045098237693309784, 0.045098237693309784, 0.2932737469673157, 0.2136191427707672, 0.15930919349193573, 0.06517194211483002, 0.1194818913936615, 0.08327525854110718, 0.06879260390996933, 0.11839576810598373, 0.24903936684131622, 0.13472621142864227, 0.1510566622018814, 0.16330450773239136, 0.07348702847957611, 0.11839576810598373, 0.9100568294525146, 0.8585006594657898, 0.9357738494873047, 0.11845244467258453, 0.8883933424949646, 0.11837925761938095, 0.887844443321228, 0.8553479909896851, 0.9094489216804504, 0.8825417757034302, 0.9640793800354004, 0.8961028456687927, 0.1595713049173355, 0.14011140167713165, 0.16735528409481049, 0.09729958325624466, 0.12454346567392349, 0.12843544781208038, 0.17903122305870056, 0.039372943341732025, 0.7283994555473328, 0.1378052979707718, 0.07874588668346405, 0.14847439527511597, 0.06748836487531662, 0.053990691900253296, 0.08098603785037994, 0.053990691900253296, 0.5264092683792114, 0.06748836487531662, 0.12548783421516418, 0.1652766466140747, 0.1652766466140747, 0.26933974027633667, 0.13773053884506226, 0.0550922155380249, 0.08263832330703735, 0.8283272385597229, 0.04359617084264755, 0.0871923416852951, 0.04359617084264755, 0.11850719153881073, 0.35036906599998474, 0.14942210912704468, 0.10304972529411316, 0.07213480770587921, 0.07213480770587921, 0.12881216406822205, 0.08204551786184311, 0.3244527280330658, 0.1808730810880661, 0.11933893710374832, 0.07831618189811707, 0.07458683848381042, 0.13985031843185425, 0.14365115761756897, 0.20413585007190704, 0.1159290000796318, 0.20161566138267517, 0.07812606543302536, 0.14365115761756897, 0.1159290000796318, 0.19734805822372437, 0.12117862701416016, 0.15580110251903534, 0.18003682792186737, 0.08309391885995865, 0.12464087456464767, 0.13502761721611023, 0.09385307878255844, 0.17890743911266327, 0.17304162681102753, 0.19063907861709595, 0.05279235914349556, 0.11145053803920746, 0.19943779706954956, 0.052691709250211716, 0.10538341850042343, 0.15807513892650604, 0.6323005557060242, 0.026345854625105858, 0.11144734919071198, 0.12157893180847168, 0.050657887011766434, 0.09118419885635376, 0.1046929657459259, 0.22627189755439758, 0.2938157320022583, 0.7844675183296204, 0.12068730592727661, 0.060343652963638306, 0.08898848295211792, 0.05085056275129318, 0.11441376060247421, 0.17797696590423584, 0.10170112550258636, 0.12712641060352325, 0.3559539318084717, 0.8214209675788879, 0.04036200791597366, 0.28253406286239624, 0.6457921266555786, 0.9625837802886963, 0.16957585513591766, 0.7348287105560303, 0.05652528256177902, 0.10469873249530792, 0.8375898599624634, 0.9094324111938477, 0.06916152685880661, 0.8990998268127441, 0.04403839632868767, 0.04403839632868767, 0.08807679265737534, 0.04403839632868767, 0.04403839632868767, 0.04403839632868767, 0.6605759859085083, 0.855341911315918], \"Term\": [\"1770\", \"1849\", \"60\", \"60\", \"60\", \"60\", \"60\", \"60\", \"60\", \"abruti\", \"ada\", \"ada\", \"ada\", \"ada\", \"adoptee\", \"adorer\", \"adversaire\", \"adversaire\", \"adversaire\", \"adversaire\", \"adversaire\", \"adversaire\", \"adversaire\", \"affective\", \"affronter\", \"affronter\", \"affronter\", \"affronter\", \"affronter\", \"affronter\", \"affronter\", \"affrontes\", \"affrontes\", \"affublee\", \"age\", \"age\", \"age\", \"age\", \"age\", \"age\", \"age\", \"aime\", \"aime\", \"aime\", \"aime\", \"aime\", \"aime\", \"aime\", \"akane\", \"akane\", \"akane\", \"alcott\", \"alep\", \"alep\", \"alep\", \"alex\", \"alex\", \"alex\", \"alex\", \"alex\", \"alex\", \"alex\", \"almodovar\", \"ami\", \"ami\", \"ami\", \"ami\", \"ami\", \"ami\", \"ami\", \"amine\", \"amis\", \"amis\", \"amis\", \"amis\", \"amis\", \"amis\", \"amis\", \"amitie\", \"amitie\", \"amitie\", \"amitie\", \"amitie\", \"amitie\", \"amitie\", \"amour\", \"amour\", \"amour\", \"amour\", \"amour\", \"amour\", \"amour\", \"amoureux\", \"amoureux\", \"amoureux\", \"amoureux\", \"amoureux\", \"amoureux\", \"amoureux\", \"annees\", \"annees\", \"annees\", \"annees\", \"annees\", \"annees\", \"annees\", \"arendelle\", \"artisanal\", \"ashleigh\", \"attaquent\", \"attaquent\", \"attaquent\", \"attaquent\", \"attend\", \"attend\", \"attend\", \"attend\", \"attend\", \"attend\", \"attend\", \"aures\", \"autumn\", \"aventure\", \"aventure\", \"aventure\", \"aventure\", \"aventure\", \"aventure\", \"aventure\", \"bacqueux\", \"batla\", \"batla\", \"batra\", \"bayala\", \"bayala\", \"beck\", \"bellabre\", \"belle\", \"belle\", \"belle\", \"belle\", \"belle\", \"belle\", \"belle\", \"bembelates\", \"bemby\", \"bernard\", \"bernard\", \"bernard\", \"bernard\", \"bernard\", \"bernard\", \"bernard\", \"bigfoot\", \"bigfoot\", \"blouson\", \"bonnie\", \"bouleversee\", \"bouleversee\", \"bouleversee\", \"bouleversee\", \"bouleversee\", \"bouleversee\", \"bouleversee\", \"boutchou\", \"breitner\", \"brixton\", \"brixton\", \"bruno\", \"bruno\", \"bruno\", \"bruno\", \"bruno\", \"bruno\", \"bruno\", \"buck\", \"buck\", \"buck\", \"buck\", \"buck\", \"bulletin\", \"bulletin\", \"calvez\", \"canada\", \"canada\", \"canada\", \"canada\", \"canada\", \"canada\", \"canada\", \"canard\", \"canard\", \"canard\", \"canard\", \"canard\", \"caravane\", \"caravane\", \"caravane\", \"caravane\", \"caravane\", \"cathy\", \"cathy\", \"cathy\", \"cathy\", \"cathy\", \"centerville\", \"chambre\", \"chambre\", \"chambre\", \"chambre\", \"chambre\", \"chambre\", \"chambre\", \"change\", \"change\", \"change\", \"change\", \"change\", \"change\", \"change\", \"chantez\", \"chaplapla\", \"chargeront\", \"cherchent\", \"cherchent\", \"cherchent\", \"cherchent\", \"cherchent\", \"cherchent\", \"cherchent\", \"chien\", \"chien\", \"chien\", \"chien\", \"chien\", \"chien\", \"chien\", \"chimeriques\", \"cicero\", \"collocation\", \"columbus\", \"combatif\", \"combatif\", \"combatif\", \"comete\", \"commence\", \"commence\", \"commence\", \"commence\", \"commence\", \"commence\", \"commence\", \"compatibles\", \"compliquee\", \"compliquee\", \"compliquee\", \"compliquee\", \"compliquee\", \"compliquee\", \"congedier\", \"conviee\", \"corentin\", \"corentin\", \"corentin\", \"couler\", \"couler\", \"couler\", \"couler\", \"coupables\", \"coupables\", \"coupables\", \"coupables\", \"coupables\", \"coupables\", \"coupables\", \"couple\", \"couple\", \"couple\", \"couple\", \"couple\", \"couple\", \"couple\", \"cours\", \"cours\", \"cours\", \"cours\", \"cours\", \"cours\", \"cours\", \"crawley\", \"croix\", \"croix\", \"croix\", \"croix\", \"croix\", \"croyions\", \"crypto\", \"csg\", \"csg\", \"cunningham\", \"cunningham\", \"c\\u0153ur\", \"c\\u0153ur\", \"c\\u0153ur\", \"c\\u0153ur\", \"c\\u0153ur\", \"c\\u0153ur\", \"c\\u0153ur\", \"daim\", \"dalle\", \"dan\", \"dan\", \"dan\", \"dan\", \"dan\", \"dan\", \"dan\", \"danseur\", \"danseur\", \"danseur\", \"danseur\", \"danseur\", \"danseur\", \"danseur\", \"daoud\", \"daoud\", \"debut\", \"debut\", \"debut\", \"debut\", \"debut\", \"debut\", \"debut\", \"decide\", \"decide\", \"decide\", \"decide\", \"decide\", \"decide\", \"decide\", \"declares\", \"declinante\", \"decoloration\", \"deconnecter\", \"decontractees\", \"decouvre\", \"decouvre\", \"decouvre\", \"decouvre\", \"decouvre\", \"decouvre\", \"decouvre\", \"decouvrir\", \"decouvrir\", \"decouvrir\", \"decouvrir\", \"decouvrir\", \"decouvrir\", \"decouvrir\", \"degager\", \"dela\", \"dela\", \"dela\", \"dela\", \"dela\", \"dela\", \"dela\", \"delignieres\", \"dent\", \"dent\", \"dent\", \"dent\", \"dent\", \"dent\", \"deploient\", \"destin\", \"destin\", \"destin\", \"destin\", \"destin\", \"destin\", \"destin\", \"devenir\", \"devenir\", \"devenir\", \"devenir\", \"devenir\", \"devenir\", \"devenir\", \"devient\", \"devient\", \"devient\", \"devient\", \"devient\", \"devient\", \"devient\", \"diana\", \"diana\", \"diana\", \"diana\", \"diplomatique\", \"diplomatique\", \"disait\", \"disparu\", \"disparu\", \"disparu\", \"disparu\", \"disparu\", \"disparu\", \"disparu\", \"doublure\", \"douce\", \"douce\", \"douce\", \"douce\", \"douce\", \"douce\", \"douce\", \"dreyfus\", \"dreyfus\", \"dreyfus\", \"dreyfus\", \"dreyfus\", \"dutch\", \"ebranle\", \"ebranle\", \"ebranle\", \"ebranle\", \"ebranle\", \"elena\", \"elena\", \"elena\", \"elena\", \"elena\", \"elena\", \"eleonore\", \"eliminee\", \"eliott\", \"eloignees\", \"elsa\", \"elsa\", \"elsa\", \"elsa\", \"elsa\", \"elsa\", \"elsa\", \"embuches\", \"embuches\", \"embuches\", \"embuches\", \"embuches\", \"emerveilles\", \"emile\", \"emile\", \"emile\", \"emile\", \"emile\", \"emma\", \"emma\", \"emma\", \"emma\", \"emma\", \"emma\", \"emma\", \"emmenageant\", \"enchainent\", \"enchainent\", \"enchainent\", \"enchainent\", \"enchainent\", \"enchainent\", \"end\", \"end\", \"end\", \"end\", \"end\", \"end\", \"end\", \"enfant\", \"enfant\", \"enfant\", \"enfant\", \"enfant\", \"enfant\", \"enfant\", \"enfants\", \"enfants\", \"enfants\", \"enfants\", \"enfants\", \"enfants\", \"enfants\", \"enquete\", \"enquete\", \"enquete\", \"enquete\", \"enquete\", \"enquete\", \"enquete\", \"enterre\", \"enterre\", \"enterre\", \"enterre\", \"enterre\", \"epoque\", \"epoque\", \"epoque\", \"epoque\", \"epoque\", \"epoque\", \"epoque\", \"equipe\", \"equipe\", \"equipe\", \"equipe\", \"equipe\", \"equipe\", \"equipe\", \"eric\", \"eric\", \"eric\", \"eric\", \"eric\", \"eric\", \"eric\", \"etait\", \"etait\", \"etait\", \"etait\", \"etait\", \"etait\", \"etait\", \"etat\", \"etat\", \"etat\", \"etat\", \"etat\", \"etat\", \"etat\", \"euridice\", \"evergarden\", \"ex\", \"ex\", \"ex\", \"ex\", \"ex\", \"ex\", \"ex\", \"experimentee\", \"fabre\", \"fabre\", \"fabre\", \"fabre\", \"face\", \"face\", \"face\", \"face\", \"face\", \"face\", \"face\", \"fahim\", \"fahim\", \"fary\", \"femmes\", \"femmes\", \"femmes\", \"femmes\", \"femmes\", \"femmes\", \"femmes\", \"fenice\", \"fete\", \"fete\", \"fete\", \"fete\", \"fete\", \"fete\", \"fete\", \"fidele\", \"fidele\", \"fidele\", \"fidele\", \"fidele\", \"fidele\", \"fidele\", \"fierte\", \"fierte\", \"fierte\", \"fierte\", \"fils\", \"fils\", \"fils\", \"fils\", \"fils\", \"fils\", \"fils\", \"fleck\", \"fleurs\", \"fleurs\", \"fleurs\", \"fleurs\", \"florian\", \"forky\", \"france\", \"france\", \"france\", \"france\", \"france\", \"france\", \"france\", \"frere\", \"frere\", \"frere\", \"frere\", \"frere\", \"frere\", \"frere\", \"fret\", \"fugaces\", \"funebre\", \"furious\", \"furious\", \"gagic\", \"garrity\", \"gatsby\", \"ghidorah\", \"gigolo\", \"gigolo\", \"gigolo\", \"gigolo\", \"gilbert\", \"gilbert\", \"gilbert\", \"gilbert\", \"gilbert\", \"gina\", \"gina\", \"gina\", \"gina\", \"gina\", \"glove\", \"godzilla\", \"goelands\", \"grace\", \"grace\", \"grace\", \"grace\", \"grace\", \"grace\", \"grace\", \"grand\", \"grand\", \"grand\", \"grand\", \"grand\", \"grand\", \"grand\", \"grande\", \"grande\", \"grande\", \"grande\", \"grande\", \"grande\", \"grande\", \"gravit\", \"groupe\", \"groupe\", \"groupe\", \"groupe\", \"groupe\", \"groupe\", \"groupe\", \"guerre\", \"guerre\", \"guerre\", \"guerre\", \"guerre\", \"guerre\", \"guerre\", \"guida\", \"gwada\", \"haitienne\", \"halvar\", \"halvar\", \"hardin\", \"hardin\", \"hardin\", \"heloise\", \"heloise\", \"henley\", \"heros\", \"heros\", \"heros\", \"heros\", \"heros\", \"heros\", \"heros\", \"histoire\", \"histoire\", \"histoire\", \"histoire\", \"histoire\", \"histoire\", \"histoire\", \"hobbs\", \"hobbs\", \"hommes\", \"hommes\", \"hommes\", \"hommes\", \"hommes\", \"hommes\", \"hommes\", \"honka\", \"honte\", \"honte\", \"honte\", \"honte\", \"horaires\", \"horreur\", \"horreur\", \"horreur\", \"horreur\", \"horreur\", \"horreur\", \"horreur\", \"house\", \"house\", \"ignorons\", \"iii\", \"iii\", \"iii\", \"iii\", \"iii\", \"imagination\", \"imagination\", \"imagination\", \"imagination\", \"imagination\", \"imagination\", \"imagination\", \"impawsible\", \"inattendue\", \"inattendue\", \"inattendue\", \"inattendue\", \"inattendue\", \"inattendue\", \"inattendue\", \"inconsideres\", \"inde\", \"inde\", \"inde\", \"inde\", \"inde\", \"inde\", \"inde\", \"infiltree\", \"inhabituels\", \"innocente\", \"innocente\", \"innocente\", \"innocente\", \"innocente\", \"innocente\", \"inondation\", \"inondation\", \"instigation\", \"intrepides\", \"intriguee\", \"intriguee\", \"intriguee\", \"intriguee\", \"intriguee\", \"introduite\", \"iran\", \"iran\", \"iran\", \"iran\", \"irreprochables\", \"jamais\", \"jamais\", \"jamais\", \"jamais\", \"jamais\", \"jamais\", \"jamais\", \"janot\", \"jared\", \"jared\", \"jeanne\", \"jeanne\", \"jeanne\", \"jeanne\", \"jeanne\", \"jeanne\", \"jeanne\", \"jeunes\", \"jeunes\", \"jeunes\", \"jeunes\", \"jeunes\", \"jeunes\", \"jeunes\", \"jewell\", \"jin\", \"jin\", \"jin\", \"jin\", \"jours\", \"jours\", \"jours\", \"jours\", \"jours\", \"jours\", \"jours\", \"kabir\", \"kaboul\", \"kaboul\", \"kaboul\", \"kaboul\", \"khalid\", \"khalid\", \"khalid\", \"kristoff\", \"kurt\", \"kurt\", \"kurt\", \"kurt\", \"lahire\", \"laine\", \"lara\", \"lara\", \"lara\", \"lara\", \"lara\", \"lara\", \"larvee\", \"late\", \"lendemain\", \"lendemain\", \"lendemain\", \"lendemain\", \"lendemain\", \"lendemain\", \"lendemain\", \"liberons\", \"liberte\", \"liberte\", \"liberte\", \"liberte\", \"liberte\", \"liberte\", \"liberte\", \"lila\", \"lila\", \"lila\", \"lila\", \"lila\", \"link\", \"link\", \"lise\", \"lise\", \"lisiere\", \"livre\", \"livre\", \"livre\", \"livre\", \"livre\", \"livre\", \"livre\", \"llorana\", \"llorana\", \"llorana\", \"llorana\", \"llorona\", \"lola\", \"lola\", \"lola\", \"lola\", \"lola\", \"lola\", \"lola\", \"lorsqu\", \"lorsqu\", \"lorsqu\", \"lorsqu\", \"lorsqu\", \"lorsqu\", \"lorsqu\", \"louise\", \"louise\", \"louise\", \"louise\", \"louise\", \"louise\", \"louise\", \"loups\", \"loups\", \"loups\", \"loups\", \"loups\", \"loups\", \"loups\", \"lu\", \"lu\", \"lu\", \"lu\", \"lucius\", \"luge\", \"luge\", \"luge\", \"lupin\", \"lupin\", \"lupin\", \"lutte\", \"lutte\", \"lutte\", \"lutte\", \"lutte\", \"lutte\", \"lutte\", \"lycee\", \"lycee\", \"lycee\", \"lycee\", \"lycee\", \"lycee\", \"lycee\", \"madrilenes\", \"main\", \"main\", \"main\", \"main\", \"main\", \"main\", \"main\", \"mainate\", \"maire\", \"maire\", \"maire\", \"maire\", \"maire\", \"maire\", \"maison\", \"maison\", \"maison\", \"maison\", \"maison\", \"maison\", \"maison\", \"mal\", \"mal\", \"mal\", \"mal\", \"mal\", \"mal\", \"mal\", \"maloye\", \"mangalyann\", \"manier\", \"margaux\", \"margaux\", \"margaux\", \"margaux\", \"margaux\", \"marginalise\", \"margot\", \"margot\", \"margot\", \"margot\", \"margot\", \"marguerite\", \"marguerite\", \"marguerite\", \"marguerite\", \"marguerite\", \"marguerite\", \"marguerite\", \"mari\", \"mari\", \"mari\", \"mari\", \"mari\", \"mari\", \"mari\", \"marianne\", \"marianne\", \"marianne\", \"marianne\", \"marianne\", \"marla\", \"marla\", \"marla\", \"martinet\", \"mathilda\", \"meilleur\", \"meilleur\", \"meilleur\", \"meilleur\", \"meilleur\", \"meilleur\", \"meilleur\", \"melodrame\", \"menace\", \"menace\", \"menace\", \"menace\", \"menace\", \"menace\", \"menace\", \"menti\", \"menti\", \"menti\", \"mentor\", \"mentor\", \"mentor\", \"mentor\", \"mentor\", \"mentor\", \"mentor\", \"meritent\", \"mettre\", \"mettre\", \"mettre\", \"mettre\", \"mettre\", \"mettre\", \"mettre\", \"michel\", \"michel\", \"michel\", \"michel\", \"michel\", \"michel\", \"michel\", \"michiko\", \"michiko\", \"mignonnes\", \"mine\", \"mine\", \"mine\", \"mine\", \"mine\", \"mine\", \"mine\", \"mission\", \"mission\", \"mission\", \"mission\", \"mission\", \"mission\", \"mission\", \"mitonnes\", \"modestement\", \"mohsen\", \"mohsen\", \"monarch\", \"mongole\", \"mort\", \"mort\", \"mort\", \"mort\", \"mort\", \"mort\", \"mort\", \"morts\", \"morts\", \"morts\", \"morts\", \"morts\", \"morts\", \"morts\", \"mothra\", \"moufter\", \"moxy\", \"moxy\", \"muriel\", \"muriel\", \"muriel\", \"muriel\", \"myriam\", \"myriam\", \"myriam\", \"nait\", \"nait\", \"nait\", \"nait\", \"nait\", \"nait\", \"nait\", \"narrant\", \"natale\", \"natale\", \"natale\", \"natale\", \"natale\", \"natale\", \"natale\", \"nature\", \"nature\", \"nature\", \"nature\", \"nature\", \"nature\", \"nature\", \"nemencha\", \"nessim\", \"nevada\", \"nevada\", \"new\", \"new\", \"new\", \"new\", \"new\", \"new\", \"new\", \"nico\", \"nico\", \"nico\", \"nico\", \"nokk\", \"noriko\", \"noriko\", \"nostalgie\", \"nostalgie\", \"nostalgie\", \"nostalgie\", \"nouvelle\", \"nouvelle\", \"nouvelle\", \"nouvelle\", \"nouvelle\", \"nouvelle\", \"nouvelle\", \"nuit\", \"nuit\", \"nuit\", \"nuit\", \"nuit\", \"nuit\", \"nuit\", \"nuria\", \"obtiendront\", \"oies\", \"oies\", \"olaf\", \"oliver\", \"oliver\", \"oliver\", \"oliver\", \"oliver\", \"osciller\", \"ouaf\", \"ouassima\", \"ouragan\", \"ouragan\", \"ouragan\", \"palmipede\", \"palpable\", \"paniquee\", \"parents\", \"parents\", \"parents\", \"parents\", \"parents\", \"parents\", \"parents\", \"paris\", \"paris\", \"paris\", \"paris\", \"paris\", \"paris\", \"paris\", \"parois\", \"part\", \"part\", \"part\", \"part\", \"part\", \"part\", \"part\", \"partir\", \"partir\", \"partir\", \"partir\", \"partir\", \"partir\", \"partir\", \"passe\", \"passe\", \"passe\", \"passe\", \"passe\", \"passe\", \"passe\", \"paul\", \"paul\", \"paul\", \"paul\", \"paul\", \"paul\", \"paul\", \"pays\", \"pays\", \"pays\", \"pays\", \"pays\", \"pays\", \"pays\", \"pecho\", \"pechotage\", \"pedro\", \"performantes\", \"perilleux\", \"perilleux\", \"perilleux\", \"perilleux\", \"perilleux\", \"perilleux\", \"perilleux\", \"peseront\", \"petit\", \"petit\", \"petit\", \"petit\", \"petit\", \"petit\", \"petit\", \"petite\", \"petite\", \"petite\", \"petite\", \"petite\", \"petite\", \"petite\", \"petrunya\", \"petrunya\", \"petrunya\", \"peur\", \"peur\", \"peur\", \"peur\", \"peur\", \"peur\", \"peur\", \"photographe\", \"photographe\", \"photographe\", \"photographe\", \"photographe\", \"photographe\", \"photographe\", \"picard\", \"picard\", \"picard\", \"picard\", \"pierre\", \"pierre\", \"pierre\", \"pierre\", \"pierre\", \"pierre\", \"pierre\", \"pingouins\", \"pingouins\", \"pingouins\", \"pingouins\", \"pitoyable\", \"place\", \"place\", \"place\", \"place\", \"place\", \"place\", \"place\", \"placera\", \"planete\", \"planete\", \"planete\", \"planete\", \"planete\", \"planete\", \"planete\", \"pleurer\", \"pleurer\", \"pleurer\", \"plouha\", \"politique\", \"politique\", \"politique\", \"politique\", \"politique\", \"politique\", \"politique\", \"postal\", \"pot\", \"pot\", \"pot\", \"pot\", \"poteriks\", \"potiphar\", \"potiphar\", \"pourri\", \"pourri\", \"pourri\", \"pousse\", \"pousse\", \"pousse\", \"pousse\", \"pousse\", \"pousse\", \"pousse\", \"pouvoir\", \"pouvoir\", \"pouvoir\", \"pouvoir\", \"pouvoir\", \"pouvoir\", \"pouvoir\", \"preavis\", \"prend\", \"prend\", \"prend\", \"prend\", \"prend\", \"prend\", \"prend\", \"prendre\", \"prendre\", \"prendre\", \"prendre\", \"prendre\", \"prendre\", \"prendre\", \"preparez\", \"preparez\", \"preparez\", \"preparez\", \"preparez\", \"prequelle\", \"president\", \"president\", \"president\", \"president\", \"president\", \"president\", \"president\", \"pretendait\", \"prevenu\", \"prison\", \"prison\", \"prison\", \"prison\", \"prison\", \"prison\", \"prison\", \"programmation\", \"progressant\", \"promare\", \"propre\", \"propre\", \"propre\", \"propre\", \"propre\", \"propre\", \"propre\", \"rappelles\", \"realiseront\", \"rebelles\", \"rebelles\", \"rebelles\", \"rebelles\", \"rebelles\", \"rebelles\", \"recherche\", \"recherche\", \"recherche\", \"recherche\", \"recherche\", \"recherche\", \"recherche\", \"recre\", \"reculees\", \"reecrivent\", \"referent\", \"reichenbach\", \"releve\", \"releve\", \"releve\", \"releve\", \"releve\", \"releve\", \"religieuse\", \"religieuse\", \"religieuse\", \"religieuse\", \"religieuse\", \"religieuse\", \"rencontre\", \"rencontre\", \"rencontre\", \"rencontre\", \"rencontre\", \"rencontre\", \"rencontre\", \"rencontrer\", \"rencontrer\", \"rencontrer\", \"rencontrer\", \"rencontrer\", \"rencontrer\", \"rencontrer\", \"retombe\", \"retrouve\", \"retrouve\", \"retrouve\", \"retrouve\", \"retrouve\", \"retrouve\", \"retrouve\", \"retrouvent\", \"retrouvent\", \"retrouvent\", \"retrouvent\", \"retrouvent\", \"retrouvent\", \"retrouvent\", \"retrouver\", \"retrouver\", \"retrouver\", \"retrouver\", \"retrouver\", \"retrouver\", \"retrouver\", \"reve\", \"reve\", \"reve\", \"reve\", \"reve\", \"reve\", \"reve\", \"revelateurs\", \"revitaliser\", \"revolte\", \"revolte\", \"revolte\", \"revolte\", \"revolte\", \"revolte\", \"revolte\", \"rodan\", \"roi\", \"roi\", \"roi\", \"roi\", \"roi\", \"roi\", \"roi\", \"rots\", \"samia\", \"samia\", \"samia\", \"samsam\", \"samsam\", \"sata\", \"sauver\", \"sauver\", \"sauver\", \"sauver\", \"sauver\", \"sauver\", \"sauver\", \"secouent\", \"secret\", \"secret\", \"secret\", \"secret\", \"secret\", \"secret\", \"secret\", \"securiser\", \"selma\", \"selma\", \"selma\", \"selma\", \"separeront\", \"sereine\", \"serenite\", \"serenite\", \"serenite\", \"serenite\", \"serenite\", \"serenite\", \"serge\", \"serge\", \"serge\", \"serge\", \"serge\", \"serge\", \"serge\", \"shaun\", \"shaun\", \"shaun\", \"shaw\", \"shaw\", \"shaw\", \"shaw\", \"shelburn\", \"sherpa\", \"shreya\", \"silinks\", \"sily\", \"smith\", \"smith\", \"smith\", \"smith\", \"smith\", \"societe\", \"societe\", \"societe\", \"societe\", \"societe\", \"societe\", \"societe\", \"sofia\", \"sofia\", \"sofia\", \"sofia\", \"sofia\", \"solaire\", \"solaire\", \"solaire\", \"solaire\", \"sonde\", \"sonde\", \"sophia\", \"soudee\", \"soudee\", \"souleiman\", \"souleiman\", \"souliers\", \"soutenus\", \"star\", \"star\", \"star\", \"star\", \"star\", \"star\", \"star\", \"steppe\", \"stubby\", \"stubby\", \"student\", \"suite\", \"suite\", \"suite\", \"suite\", \"suite\", \"suite\", \"suite\", \"sultan\", \"sultan\", \"superieur\", \"superieur\", \"superieur\", \"superieur\", \"superieur\", \"superieur\", \"superieur\", \"surprenante\", \"surprenante\", \"surprenante\", \"surprenante\", \"surprenante\", \"sven\", \"sven\", \"sven\", \"s\\u0153ur\", \"s\\u0153ur\", \"s\\u0153ur\", \"s\\u0153ur\", \"s\\u0153ur\", \"s\\u0153ur\", \"s\\u0153ur\", \"tablette\", \"taburin\", \"talion\", \"tallahassee\", \"tanguy\", \"tanguy\", \"tanguy\", \"teen\", \"temps\", \"temps\", \"temps\", \"temps\", \"temps\", \"temps\", \"temps\", \"tensing\", \"tessa\", \"tessa\", \"tessa\", \"tessa\", \"theo\", \"theo\", \"theo\", \"theo\", \"theo\", \"theo\", \"titanesques\", \"toit\", \"toit\", \"toit\", \"toit\", \"toit\", \"toit\", \"toit\", \"tombe\", \"tombe\", \"tombe\", \"tombe\", \"tombe\", \"tombe\", \"tombe\", \"tori\", \"tori\", \"tori\", \"travers\", \"travers\", \"travers\", \"travers\", \"travers\", \"travers\", \"travers\", \"tropical\", \"troupeau\", \"troupeau\", \"troupeau\", \"troupeau\", \"troupeau\", \"troupeau\", \"trouve\", \"trouve\", \"trouve\", \"trouve\", \"trouve\", \"trouve\", \"trouve\", \"trouver\", \"trouver\", \"trouver\", \"trouver\", \"trouver\", \"trouver\", \"trouver\", \"truffe\", \"trumbull\", \"twerk\", \"uglydolls\", \"uglydolls\", \"uglyville\", \"uglyville\", \"ulm\", \"vali\", \"vegetales\", \"veillee\", \"vermine\", \"veut\", \"veut\", \"veut\", \"veut\", \"veut\", \"veut\", \"veut\", \"vic\", \"vic\", \"vic\", \"vic\", \"victor\", \"victor\", \"victor\", \"victor\", \"victor\", \"victor\", \"victor\", \"vient\", \"vient\", \"vient\", \"vient\", \"vient\", \"vient\", \"vient\", \"viktor\", \"viktor\", \"viktor\", \"viktor\", \"village\", \"village\", \"village\", \"village\", \"village\", \"village\", \"village\", \"ville\", \"ville\", \"ville\", \"ville\", \"ville\", \"ville\", \"ville\", \"vit\", \"vit\", \"vit\", \"vit\", \"vit\", \"vit\", \"vit\", \"vite\", \"vite\", \"vite\", \"vite\", \"vite\", \"vite\", \"vite\", \"vivre\", \"vivre\", \"vivre\", \"vivre\", \"vivre\", \"vivre\", \"vivre\", \"voulait\", \"voulait\", \"voulait\", \"voulait\", \"voulait\", \"voyage\", \"voyage\", \"voyage\", \"voyage\", \"voyage\", \"voyage\", \"voyage\", \"waad\", \"waad\", \"waad\", \"week\", \"week\", \"week\", \"week\", \"week\", \"week\", \"week\", \"wichita\", \"woody\", \"woody\", \"woody\", \"yakov\", \"yanis\", \"yanis\", \"yanis\", \"year\", \"year\", \"yi\", \"yoladf\", \"yoladf\", \"zombies\", \"zombies\", \"zombies\", \"zombies\", \"zombies\", \"zombies\", \"zombies\", \"zoologique\"]}, \"R\": 30, \"lambda.step\": 0.01, \"plot.opts\": {\"xlab\": \"PC1\", \"ylab\": \"PC2\"}, \"topic.order\": [5, 6, 4, 3, 2, 1, 7]};\n",
       "\n",
       "function LDAvis_load_lib(url, callback){\n",
       "  var s = document.createElement('script');\n",
       "  s.src = url;\n",
       "  s.async = true;\n",
       "  s.onreadystatechange = s.onload = callback;\n",
       "  s.onerror = function(){console.warn(\"failed to load library \" + url);};\n",
       "  document.getElementsByTagName(\"head\")[0].appendChild(s);\n",
       "}\n",
       "\n",
       "if(typeof(LDAvis) !== \"undefined\"){\n",
       "   // already loaded: just create the visualization\n",
       "   !function(LDAvis){\n",
       "       new LDAvis(\"#\" + \"ldavis_el1169252491280164192587499\", ldavis_el1169252491280164192587499_data);\n",
       "   }(LDAvis);\n",
       "}else if(typeof define === \"function\" && define.amd){\n",
       "   // require.js is available: use it to load d3/LDAvis\n",
       "   require.config({paths: {d3: \"https://cdnjs.cloudflare.com/ajax/libs/d3/3.5.5/d3.min\"}});\n",
       "   require([\"d3\"], function(d3){\n",
       "      window.d3 = d3;\n",
       "      LDAvis_load_lib(\"https://cdn.rawgit.com/bmabey/pyLDAvis/files/ldavis.v1.0.0.js\", function(){\n",
       "        new LDAvis(\"#\" + \"ldavis_el1169252491280164192587499\", ldavis_el1169252491280164192587499_data);\n",
       "      });\n",
       "    });\n",
       "}else{\n",
       "    // require.js not available: dynamically load d3 & LDAvis\n",
       "    LDAvis_load_lib(\"https://cdnjs.cloudflare.com/ajax/libs/d3/3.5.5/d3.min.js\", function(){\n",
       "         LDAvis_load_lib(\"https://cdn.rawgit.com/bmabey/pyLDAvis/files/ldavis.v1.0.0.js\", function(){\n",
       "                 new LDAvis(\"#\" + \"ldavis_el1169252491280164192587499\", ldavis_el1169252491280164192587499_data);\n",
       "            })\n",
       "         });\n",
       "}\n",
       "</script>"
      ],
      "text/plain": [
       "PreparedData(topic_coordinates=              x         y  topics  cluster       Freq\n",
       "topic                                                \n",
       "4     -0.016789 -0.029930       1        1  17.350918\n",
       "5     -0.037514  0.036332       2        1  15.111910\n",
       "3     -0.009392 -0.036387       3        1  14.895454\n",
       "2     -0.012964  0.055400       4        1  14.153530\n",
       "1     -0.011368 -0.055616       5        1  13.973156\n",
       "0     -0.009102  0.021922       6        1  12.755716\n",
       "6      0.097130  0.008279       7        1  11.759320, topic_info=          Term        Freq       Total Category  logprob  loglift\n",
       "163   histoire  917.000000  917.000000  Default  30.0000  30.0000\n",
       "434    enfants  473.000000  473.000000  Default  29.0000  29.0000\n",
       "697     voyage  296.000000  296.000000  Default  28.0000  28.0000\n",
       "54       ville  536.000000  536.000000  Default  27.0000  27.0000\n",
       "248    parents  483.000000  483.000000  Default  26.0000  26.0000\n",
       "...        ...         ...         ...      ...      ...      ...\n",
       "502       fils   53.649075  531.481445   Topic7  -6.3015  -0.1527\n",
       "340   nouvelle   49.702213  430.054962   Topic7  -6.3779  -0.0173\n",
       "264        vit   45.861965  396.794586   Topic7  -6.4583  -0.0173\n",
       "1179  aventure   43.556427  348.855865   Topic7  -6.5099   0.0599\n",
       "503     jamais   44.668583  433.710754   Topic7  -6.4847  -0.1326\n",
       "\n",
       "[649 rows x 6 columns], token_table=       Topic      Freq        Term\n",
       "term                              \n",
       "26164      4  0.885438        1770\n",
       "32044      2  0.909962        1849\n",
       "9363       1  0.624086          60\n",
       "9363       2  0.093613          60\n",
       "9363       3  0.031204          60\n",
       "...      ...       ...         ...\n",
       "16112      4  0.044038     zombies\n",
       "16112      5  0.044038     zombies\n",
       "16112      6  0.044038     zombies\n",
       "16112      7  0.660576     zombies\n",
       "31933      6  0.855342  zoologique\n",
       "\n",
       "[1777 rows x 3 columns], R=30, lambda_step=0.01, plot_opts={'xlab': 'PC1', 'ylab': 'PC2'}, topic_order=[5, 6, 4, 3, 2, 1, 7])"
      ]
     },
     "execution_count": 147,
     "metadata": {},
     "output_type": "execute_result"
    }
   ],
   "source": [
    "# Visualize the topics\n",
    "# Hint: use pyLDAvis"
   ]
  },
  {
   "cell_type": "code",
   "execution_count": null,
   "metadata": {},
   "outputs": [],
   "source": [
    "# What are your conclusions regarding the topics? (coherence, stability, ...)"
   ]
  },
  {
   "cell_type": "markdown",
   "metadata": {},
   "source": [
    "## 3.2 To go further on topic modeling: Top2Vec"
   ]
  },
  {
   "cell_type": "code",
   "execution_count": 273,
   "metadata": {},
   "outputs": [],
   "source": [
    "# Create a new dataset for top2vec model, from the 'data' dataframe, do not take movies with empty text \n",
    "# into account\n",
    "data_top2vec = \n",
    "\n",
    "# Make a list from the 'text' column that will contain all texts associated to all movies"
   ]
  },
  {
   "cell_type": "code",
   "execution_count": null,
   "metadata": {},
   "outputs": [],
   "source": [
    "# Train a top2vec model\n",
    "# Hint: use the \"speed\" argument to make the training faster"
   ]
  },
  {
   "cell_type": "code",
   "execution_count": 149,
   "metadata": {},
   "outputs": [
    {
     "name": "stdout",
     "output_type": "stream",
     "text": [
      "Number of topics found: 4\n",
      "Topic sizes:\n",
      "Topic  0  - Size:  5596\n",
      " ----- \n",
      "Topic  1  - Size:  322\n",
      " ----- \n",
      "Topic  2  - Size:  245\n",
      " ----- \n",
      "Topic  3  - Size:  232\n",
      " ----- \n"
     ]
    }
   ],
   "source": [
    "# Explore the results part 1: \n",
    "# - number of topics found\n",
    "# - topics sizes\n",
    "# Hint: check the documentation about top2vec to see what are the attributes of the trained model"
   ]
  },
  {
   "cell_type": "code",
   "execution_count": null,
   "metadata": {},
   "outputs": [],
   "source": [
    "# What would be your interpretation for each cluster ?"
   ]
  },
  {
   "cell_type": "code",
   "execution_count": null,
   "metadata": {},
   "outputs": [],
   "source": [
    "# Topic 0: action\n",
    "# Topic 1: comédie romantique\n",
    "# Topic 2: drame\n",
    "# Topic 3: Court-metrage\n",
    "# Topic 4: histoire de jeunes, duos\n",
    "# Topic 5: histoire de famille\n",
    "# Topic 6: flic, los angeles\n",
    "# Topic 7: art, culture\n",
    "# Topic 8: noël\n",
    "# Topic 9: aventure\n",
    "# Topic 10: amour"
   ]
  },
  {
   "cell_type": "code",
   "execution_count": 155,
   "metadata": {},
   "outputs": [],
   "source": [
    "# Save your model for later if you want to explore it in more details\n",
    "# model.save('top2vec_imdb_bis.pickle')"
   ]
  }
 ],
 "metadata": {
  "kernelspec": {
   "display_name": "Python 3",
   "language": "python",
   "name": "python3"
  },
  "language_info": {
   "codemirror_mode": {
    "name": "ipython",
    "version": 3
   },
   "file_extension": ".py",
   "mimetype": "text/x-python",
   "name": "python",
   "nbconvert_exporter": "python",
   "pygments_lexer": "ipython3",
   "version": "3.7.7"
  }
 },
 "nbformat": 4,
 "nbformat_minor": 4
}
