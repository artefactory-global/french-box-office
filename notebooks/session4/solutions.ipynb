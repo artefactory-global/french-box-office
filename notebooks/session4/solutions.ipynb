{
 "cells": [
  {
   "cell_type": "markdown",
   "metadata": {},
   "source": [
    "<table><tr>\n",
    "<td> <img src=\"https://upload.wikimedia.org/wikipedia/fr/thumb/e/e5/Logo_%C3%A9cole_des_ponts_paristech.svg/676px-Logo_%C3%A9cole_des_ponts_paristech.svg.png\" width=\"200\"  height=\"200\" hspace=\"200\"/> </td>\n",
    "<td> <img src=\"https://pbs.twimg.com/profile_images/1156541928193896448/5ihYIbCQ_200x200.png\" width=\"200\" height=\"200\" /> </td>\n",
    "</tr></table>\n",
    "\n",
    "<br/>\n",
    "\n",
    "<h1><center>Session 4 - Data preparation</center></h1>\n",
    "\n",
    "\n",
    "\n",
    "<font size=\"3\">This session is divided into **3** parts:\n",
    "- **Data exploration**\n",
    "- **Data preparation**\n",
    "- **Feature engineering**\n",
    "\n",
    "In each of these parts, some **guidelines** and **hints** are given for each task. \n",
    "Do not hesitate to check the links to documentation to understand the functions you use. \n",
    "    \n",
    "The goal of this session is to **create the dataset** that you will use as an **input for modeling sessions** (supervised and\n",
    "unsupervised).\n",
    "</font>"
   ]
  },
  {
   "cell_type": "markdown",
   "metadata": {},
   "source": [
    "# 0 - Useful libraries and functions\n",
    "\n",
    "If you do not have the needed libraries already installed please run the following commands in a Terminal:\n",
    "- pip install pandas\n",
    "- pip install numpy\n",
    "- pip install matplotlib\n",
    "- pip install seaborn\n",
    "- pip install holidays\n",
    "- pip install vacances-scolaires-france"
   ]
  },
  {
   "cell_type": "code",
   "execution_count": 1,
   "metadata": {},
   "outputs": [],
   "source": [
    "#!pip install holidays\n",
    "#!pip install seaborn\n",
    "#!pip install vacances_scolaires_france\n",
    "import pandas as pd\n",
    "import numpy as np\n",
    "from matplotlib import pyplot as plt\n",
    "import seaborn as sns\n",
    "from sklearn.preprocessing import MultiLabelBinarizer\n",
    "import holidays\n",
    "from vacances_scolaires_france import SchoolHolidayDates"
   ]
  },
  {
   "cell_type": "code",
   "execution_count": 2,
   "metadata": {},
   "outputs": [],
   "source": [
    "# Here are some functions we wrote to help you, feel free to check them out to see what they do\n",
    "lang_to_keep = ['en', 'fr', 'es', 'it', 'ja', 'de']\n",
    "country_to_keep = ['FR', 'US', 'GB', 'DE', 'BE', 'CA']\n",
    "dict_genres = {\n",
    "    'Drame': 'Drame',\n",
    "    'Comédie': 'Comédie',\n",
    "    'Romance': 'Romance',\n",
    "    'Action': 'Action',\n",
    "    'Thriller': 'Action',\n",
    "    'Aventure': 'Action',\n",
    "    'Crime': 'Action',\n",
    "    'Guerre': 'Action',\n",
    "    'Western': 'Action',\n",
    "    'Familial': 'Familial',\n",
    "    'Animation': 'Familial',\n",
    "    'Fantastique': 'Fantastique',\n",
    "    'Science-Fiction': 'Fantastique',\n",
    "    'Horreur': 'Horreur',\n",
    "    'Mystère': 'Other',\n",
    "    'Musique': 'Other',\n",
    "    'Histoire': 'Other',\n",
    "    'Documentaire': 'Other',\n",
    "    'Téléfilm': 'Other'\n",
    "}\n",
    "\n",
    "\n",
    "def read_movies_entrees(path):\n",
    "    '''\n",
    "    Read the box office dataset \n",
    "    and casts it as an usable pandas DataFrame\n",
    "\n",
    "    Parameters\n",
    "    ----------\n",
    "    path: str\n",
    "        path to the dataset\n",
    "\n",
    "    Returns\n",
    "    -------\n",
    "    df: pd.DataFrame\n",
    "        Data as DataFrame\n",
    "    '''\n",
    "    bo = read_from_json(path)\n",
    "    bo = [\n",
    "        {\n",
    "            \"year\": item['year'], \n",
    "            \"title\": item['title'], \n",
    "            \"id\": int(item['id']), \n",
    "            \"sales\": item['first_week_sales'],\n",
    "            \"release_date\": item['release_date']\n",
    "        } for item in bo\n",
    "    ]\n",
    "    return pd.DataFrame(bo)\n",
    "\n",
    "\n",
    "def read_movies_features(path):\n",
    "    '''\n",
    "    Read the movie features dataset \n",
    "    and casts it as an usable pandas DataFrame\n",
    "    N.B: Fields that are not yet used are commented\n",
    "    Parameters\n",
    "    ----------\n",
    "    path: str\n",
    "        path to the dataset\n",
    "    Returns\n",
    "    -------\n",
    "    df: pd.DataFrame\n",
    "        Data as DataFrame\n",
    "    '''\n",
    "    features = read_from_json(path)\n",
    "    features = [\n",
    "        {\n",
    "            \"is_adult\": item['adult'],\n",
    "            \"is_part_of_collection\": not not item['belongs_to_collection'],\n",
    "            \"collection_name\": item['belongs_to_collection']['name'] if item['belongs_to_collection'] != {} else None, # Currently simple bool, may be interesting to use a more complex feature later\n",
    "            \"budget\": item['budget'],\n",
    "            \"genres\": [ genre['name'] for genre in item['genres'] ], \n",
    "            \"original_language\": item['original_language'],\n",
    "            \"overview\": item['overview'], # Not used yet. Blob of text\n",
    "            \"production_countries\": [ country['iso_code'] for country in item['production_countries'] ],\n",
    "            \"languages\": [ language['iso_code'] for language in item['languages'] ],\n",
    "            \"tagline\": item['tagline'], # Not used yet. Blob of text\n",
    "            \"runtime\": item['runtime'],\n",
    "            \"cast\": item['cast'], # Not used yet. List of dicts with actor gender, name, id...\n",
    "            \"id\": int(item['id'])\n",
    "        } for item in features\n",
    "    ]\n",
    "    return pd.DataFrame(features)\n",
    "\n",
    "\n",
    "def read_from_json(path):\n",
    "    '''\n",
    "    Read and cast a json into a python object\n",
    "    \n",
    "    Parameters\n",
    "    ----------\n",
    "    path: str\n",
    "        Path to json file\n",
    "\n",
    "    Returns\n",
    "    -------\n",
    "    data: Union[dict, list]\n",
    "        Json casted as python object\n",
    "    '''\n",
    "    with open(path, 'r') as infile:\n",
    "        data = json.load(infile)\n",
    "    return data\n",
    "\n",
    "\n",
    "def reduce_lang_categories(lang_list, lang_to_keep=lang_to_keep):\n",
    "    return list(set([el if el in lang_to_keep else 'other' for el in lang_list]))\n",
    "\n",
    "\n",
    "def reduce_country_categories(country_list, country_to_keep=country_to_keep):\n",
    "    return list(set([el if el in country_to_keep else 'OTHER' for el in country_list]))\n",
    "\n",
    "\n",
    "def reduce_genre_categories(genre_list, dict_genres=dict_genres):\n",
    "    return list(set([dict_genres[el] for el in genre_list]))"
   ]
  },
  {
   "cell_type": "markdown",
   "metadata": {},
   "source": [
    "# 1 - Data exploration"
   ]
  },
  {
   "cell_type": "markdown",
   "metadata": {},
   "source": [
    "## 1.1 Load data"
   ]
  },
  {
   "cell_type": "code",
   "execution_count": 3,
   "metadata": {},
   "outputs": [],
   "source": [
    "# We first read the french movies \"entrées\"\n",
    "# Hint: you can use the function read_movies_entrees(), you just have to give the path to data as argument\n",
    "df_boxoffice = read_movies_entrees('data/french-box-office-29nov2020.json')"
   ]
  },
  {
   "cell_type": "code",
   "execution_count": 4,
   "metadata": {},
   "outputs": [],
   "source": [
    "# Then fetch their main features.\n",
    "# Hint: you can use the function read_movies_features(), you just have to give the path to data as argument\n",
    "df_features = read_movies_features('data/movie-features-29nov2020.json')"
   ]
  },
  {
   "cell_type": "code",
   "execution_count": 5,
   "metadata": {},
   "outputs": [],
   "source": [
    "# Let's merge both dataframes and store them in a new dataframe named \"data\"\n",
    "# Hint: you can use the function pd.merge(), you just have to find the right column to merge on (using the \"on\"\n",
    "# argument) \n",
    "data = pd.merge(df_boxoffice, df_features, on='id')"
   ]
  },
  {
   "cell_type": "code",
   "execution_count": 6,
   "metadata": {},
   "outputs": [
    {
     "data": {
      "text/html": [
       "<div>\n",
       "<style scoped>\n",
       "    .dataframe tbody tr th:only-of-type {\n",
       "        vertical-align: middle;\n",
       "    }\n",
       "\n",
       "    .dataframe tbody tr th {\n",
       "        vertical-align: top;\n",
       "    }\n",
       "\n",
       "    .dataframe thead th {\n",
       "        text-align: right;\n",
       "    }\n",
       "</style>\n",
       "<table border=\"1\" class=\"dataframe\">\n",
       "  <thead>\n",
       "    <tr style=\"text-align: right;\">\n",
       "      <th></th>\n",
       "      <th>year</th>\n",
       "      <th>title</th>\n",
       "      <th>id</th>\n",
       "      <th>sales</th>\n",
       "      <th>release_date</th>\n",
       "      <th>is_adult</th>\n",
       "      <th>is_part_of_collection</th>\n",
       "      <th>collection_name</th>\n",
       "      <th>budget</th>\n",
       "      <th>genres</th>\n",
       "      <th>original_language</th>\n",
       "      <th>overview</th>\n",
       "      <th>production_countries</th>\n",
       "      <th>languages</th>\n",
       "      <th>tagline</th>\n",
       "      <th>runtime</th>\n",
       "      <th>cast</th>\n",
       "    </tr>\n",
       "  </thead>\n",
       "  <tbody>\n",
       "    <tr>\n",
       "      <th>0</th>\n",
       "      <td>2019</td>\n",
       "      <td>Maléfique : Le Pouvoir du Mal</td>\n",
       "      <td>19073</td>\n",
       "      <td>786485</td>\n",
       "      <td>2019-10-16</td>\n",
       "      <td>False</td>\n",
       "      <td>True</td>\n",
       "      <td>Maléfique - Saga</td>\n",
       "      <td>185000000</td>\n",
       "      <td>[Fantastique, Familial, Aventure]</td>\n",
       "      <td>en</td>\n",
       "      <td>Cinq années après la conjuration de la malédic...</td>\n",
       "      <td>[US]</td>\n",
       "      <td>[en]</td>\n",
       "      <td>Aller au-delà du conte de fée.</td>\n",
       "      <td>110.0</td>\n",
       "      <td>[{'adult': False, 'gender': 1, 'tmdb_id': 1170...</td>\n",
       "    </tr>\n",
       "    <tr>\n",
       "      <th>1</th>\n",
       "      <td>2019</td>\n",
       "      <td>Nous finirons ensemble</td>\n",
       "      <td>18875</td>\n",
       "      <td>1261701</td>\n",
       "      <td>2019-05-01</td>\n",
       "      <td>False</td>\n",
       "      <td>True</td>\n",
       "      <td>Les Petits Mouchoirs - Saga</td>\n",
       "      <td>0</td>\n",
       "      <td>[Comédie, Drame]</td>\n",
       "      <td>fr</td>\n",
       "      <td>Préoccupé, Max est parti dans sa maison au bor...</td>\n",
       "      <td>[BE, FR]</td>\n",
       "      <td>[fr]</td>\n",
       "      <td></td>\n",
       "      <td>135.0</td>\n",
       "      <td>[{'adult': False, 'gender': 2, 'tmdb_id': 3316...</td>\n",
       "    </tr>\n",
       "    <tr>\n",
       "      <th>2</th>\n",
       "      <td>2019</td>\n",
       "      <td>Spider-Man: Far from Home</td>\n",
       "      <td>18243</td>\n",
       "      <td>1370178</td>\n",
       "      <td>2019-07-03</td>\n",
       "      <td>False</td>\n",
       "      <td>True</td>\n",
       "      <td>Spider-Man (Avengers) - Saga</td>\n",
       "      <td>160000000</td>\n",
       "      <td>[Action, Aventure, Science-Fiction]</td>\n",
       "      <td>en</td>\n",
       "      <td>Peter et ses amis passent leurs vacances d’été...</td>\n",
       "      <td>[US]</td>\n",
       "      <td>[cs, nl, en, de, it]</td>\n",
       "      <td>Il est temps de passer à l'action.</td>\n",
       "      <td>129.0</td>\n",
       "      <td>[{'adult': False, 'gender': 2, 'tmdb_id': 1136...</td>\n",
       "    </tr>\n",
       "    <tr>\n",
       "      <th>3</th>\n",
       "      <td>2019</td>\n",
       "      <td>Jumanji: next level</td>\n",
       "      <td>18258</td>\n",
       "      <td>785636</td>\n",
       "      <td>2019-12-04</td>\n",
       "      <td>False</td>\n",
       "      <td>True</td>\n",
       "      <td>Jumanji  - Saga</td>\n",
       "      <td>125000000</td>\n",
       "      <td>[Aventure, Comédie, Fantastique]</td>\n",
       "      <td>en</td>\n",
       "      <td>L’équipe est de retour, mais le jeu a changé. ...</td>\n",
       "      <td>[US]</td>\n",
       "      <td>[en]</td>\n",
       "      <td>Bienvenue à Jumanji !</td>\n",
       "      <td>123.0</td>\n",
       "      <td>[{'adult': False, 'gender': 2, 'tmdb_id': 1891...</td>\n",
       "    </tr>\n",
       "    <tr>\n",
       "      <th>4</th>\n",
       "      <td>2019</td>\n",
       "      <td>Dragons 3 : Le monde caché</td>\n",
       "      <td>18167</td>\n",
       "      <td>1224811</td>\n",
       "      <td>2019-02-06</td>\n",
       "      <td>False</td>\n",
       "      <td>True</td>\n",
       "      <td>Dragons - Saga</td>\n",
       "      <td>129000000</td>\n",
       "      <td>[Animation, Familial, Aventure]</td>\n",
       "      <td>en</td>\n",
       "      <td>Ce qui avait commencé comme une amitié improba...</td>\n",
       "      <td>[JP, US]</td>\n",
       "      <td>[en]</td>\n",
       "      <td>Une amitié légendaire</td>\n",
       "      <td>104.0</td>\n",
       "      <td>[{'adult': False, 'gender': 2, 'tmdb_id': 449,...</td>\n",
       "    </tr>\n",
       "    <tr>\n",
       "      <th>5</th>\n",
       "      <td>2019</td>\n",
       "      <td>Captain Marvel</td>\n",
       "      <td>18563</td>\n",
       "      <td>1254628</td>\n",
       "      <td>2019-03-06</td>\n",
       "      <td>False</td>\n",
       "      <td>True</td>\n",
       "      <td>Captain Marvel - Saga</td>\n",
       "      <td>152000000</td>\n",
       "      <td>[Action, Aventure, Science-Fiction]</td>\n",
       "      <td>en</td>\n",
       "      <td>Captain Marvel raconte l’histoire de Carol Dan...</td>\n",
       "      <td>[US]</td>\n",
       "      <td>[en]</td>\n",
       "      <td>Notre monde aura besoin d'elle</td>\n",
       "      <td>123.0</td>\n",
       "      <td>[{'adult': False, 'gender': 1, 'tmdb_id': 6007...</td>\n",
       "    </tr>\n",
       "    <tr>\n",
       "      <th>6</th>\n",
       "      <td>2019</td>\n",
       "      <td>Toy Story 4</td>\n",
       "      <td>15289</td>\n",
       "      <td>1505679</td>\n",
       "      <td>2019-06-26</td>\n",
       "      <td>False</td>\n",
       "      <td>True</td>\n",
       "      <td>Toy Story - Saga</td>\n",
       "      <td>175000000</td>\n",
       "      <td>[Aventure, Animation, Comédie, Familial, Fanta...</td>\n",
       "      <td>en</td>\n",
       "      <td>Woody a toujours privilégié la joie et le bien...</td>\n",
       "      <td>[US]</td>\n",
       "      <td>[en]</td>\n",
       "      <td>Que la fête commence !</td>\n",
       "      <td>100.0</td>\n",
       "      <td>[{'adult': False, 'gender': 2, 'tmdb_id': 31, ...</td>\n",
       "    </tr>\n",
       "    <tr>\n",
       "      <th>7</th>\n",
       "      <td>2019</td>\n",
       "      <td>Joker</td>\n",
       "      <td>18661</td>\n",
       "      <td>1606425</td>\n",
       "      <td>2019-10-09</td>\n",
       "      <td>False</td>\n",
       "      <td>False</td>\n",
       "      <td>None</td>\n",
       "      <td>55000000</td>\n",
       "      <td>[Crime, Thriller, Drame]</td>\n",
       "      <td>en</td>\n",
       "      <td>Dans les années 1980, à Gotham City, Arthur Fl...</td>\n",
       "      <td>[CA, US]</td>\n",
       "      <td>[en]</td>\n",
       "      <td>Préparez votre plus beau sourire.</td>\n",
       "      <td>122.0</td>\n",
       "      <td>[{'adult': False, 'gender': 2, 'tmdb_id': 7342...</td>\n",
       "    </tr>\n",
       "    <tr>\n",
       "      <th>8</th>\n",
       "      <td>2019</td>\n",
       "      <td>Star Wars: L'Ascension de Skywalker</td>\n",
       "      <td>17224</td>\n",
       "      <td>2420710</td>\n",
       "      <td>2019-12-18</td>\n",
       "      <td>False</td>\n",
       "      <td>True</td>\n",
       "      <td>Star Wars - Saga</td>\n",
       "      <td>250000000</td>\n",
       "      <td>[Action, Aventure, Science-Fiction]</td>\n",
       "      <td>en</td>\n",
       "      <td>Lucasfilm et le réalisateur J.J. Abrams unisse...</td>\n",
       "      <td>[US]</td>\n",
       "      <td>[en]</td>\n",
       "      <td>Toute saga a une fin.</td>\n",
       "      <td>141.0</td>\n",
       "      <td>[{'adult': False, 'gender': 1, 'tmdb_id': 4, '...</td>\n",
       "    </tr>\n",
       "    <tr>\n",
       "      <th>9</th>\n",
       "      <td>2019</td>\n",
       "      <td>Qu'est-ce qu'on a encore fait au Bon Dieu ?</td>\n",
       "      <td>18084</td>\n",
       "      <td>2153093</td>\n",
       "      <td>2019-01-30</td>\n",
       "      <td>False</td>\n",
       "      <td>True</td>\n",
       "      <td>Qu'est-ce qu'on a fait au Bon Dieu ? - Saga</td>\n",
       "      <td>0</td>\n",
       "      <td>[Comédie]</td>\n",
       "      <td>fr</td>\n",
       "      <td>Le retour des familles Verneuil et Koffi au gr...</td>\n",
       "      <td>[FR]</td>\n",
       "      <td>[fr]</td>\n",
       "      <td></td>\n",
       "      <td>99.0</td>\n",
       "      <td>[{'adult': False, 'gender': 2, 'tmdb_id': 2878...</td>\n",
       "    </tr>\n",
       "  </tbody>\n",
       "</table>\n",
       "</div>"
      ],
      "text/plain": [
       "   year                                        title     id    sales  \\\n",
       "0  2019                Maléfique : Le Pouvoir du Mal  19073   786485   \n",
       "1  2019                       Nous finirons ensemble  18875  1261701   \n",
       "2  2019                    Spider-Man: Far from Home  18243  1370178   \n",
       "3  2019                          Jumanji: next level  18258   785636   \n",
       "4  2019                   Dragons 3 : Le monde caché  18167  1224811   \n",
       "5  2019                               Captain Marvel  18563  1254628   \n",
       "6  2019                                  Toy Story 4  15289  1505679   \n",
       "7  2019                                        Joker  18661  1606425   \n",
       "8  2019          Star Wars: L'Ascension de Skywalker  17224  2420710   \n",
       "9  2019  Qu'est-ce qu'on a encore fait au Bon Dieu ?  18084  2153093   \n",
       "\n",
       "  release_date  is_adult  is_part_of_collection  \\\n",
       "0   2019-10-16     False                   True   \n",
       "1   2019-05-01     False                   True   \n",
       "2   2019-07-03     False                   True   \n",
       "3   2019-12-04     False                   True   \n",
       "4   2019-02-06     False                   True   \n",
       "5   2019-03-06     False                   True   \n",
       "6   2019-06-26     False                   True   \n",
       "7   2019-10-09     False                  False   \n",
       "8   2019-12-18     False                   True   \n",
       "9   2019-01-30     False                   True   \n",
       "\n",
       "                               collection_name     budget  \\\n",
       "0                             Maléfique - Saga  185000000   \n",
       "1                  Les Petits Mouchoirs - Saga          0   \n",
       "2                 Spider-Man (Avengers) - Saga  160000000   \n",
       "3                              Jumanji  - Saga  125000000   \n",
       "4                               Dragons - Saga  129000000   \n",
       "5                        Captain Marvel - Saga  152000000   \n",
       "6                             Toy Story - Saga  175000000   \n",
       "7                                         None   55000000   \n",
       "8                             Star Wars - Saga  250000000   \n",
       "9  Qu'est-ce qu'on a fait au Bon Dieu ? - Saga          0   \n",
       "\n",
       "                                              genres original_language  \\\n",
       "0                  [Fantastique, Familial, Aventure]                en   \n",
       "1                                   [Comédie, Drame]                fr   \n",
       "2                [Action, Aventure, Science-Fiction]                en   \n",
       "3                   [Aventure, Comédie, Fantastique]                en   \n",
       "4                    [Animation, Familial, Aventure]                en   \n",
       "5                [Action, Aventure, Science-Fiction]                en   \n",
       "6  [Aventure, Animation, Comédie, Familial, Fanta...                en   \n",
       "7                           [Crime, Thriller, Drame]                en   \n",
       "8                [Action, Aventure, Science-Fiction]                en   \n",
       "9                                          [Comédie]                fr   \n",
       "\n",
       "                                            overview production_countries  \\\n",
       "0  Cinq années après la conjuration de la malédic...                 [US]   \n",
       "1  Préoccupé, Max est parti dans sa maison au bor...             [BE, FR]   \n",
       "2  Peter et ses amis passent leurs vacances d’été...                 [US]   \n",
       "3  L’équipe est de retour, mais le jeu a changé. ...                 [US]   \n",
       "4  Ce qui avait commencé comme une amitié improba...             [JP, US]   \n",
       "5  Captain Marvel raconte l’histoire de Carol Dan...                 [US]   \n",
       "6  Woody a toujours privilégié la joie et le bien...                 [US]   \n",
       "7  Dans les années 1980, à Gotham City, Arthur Fl...             [CA, US]   \n",
       "8  Lucasfilm et le réalisateur J.J. Abrams unisse...                 [US]   \n",
       "9  Le retour des familles Verneuil et Koffi au gr...                 [FR]   \n",
       "\n",
       "              languages                             tagline  runtime  \\\n",
       "0                  [en]      Aller au-delà du conte de fée.    110.0   \n",
       "1                  [fr]                                        135.0   \n",
       "2  [cs, nl, en, de, it]  Il est temps de passer à l'action.    129.0   \n",
       "3                  [en]               Bienvenue à Jumanji !    123.0   \n",
       "4                  [en]               Une amitié légendaire    104.0   \n",
       "5                  [en]      Notre monde aura besoin d'elle    123.0   \n",
       "6                  [en]              Que la fête commence !    100.0   \n",
       "7                  [en]   Préparez votre plus beau sourire.    122.0   \n",
       "8                  [en]               Toute saga a une fin.    141.0   \n",
       "9                  [fr]                                         99.0   \n",
       "\n",
       "                                                cast  \n",
       "0  [{'adult': False, 'gender': 1, 'tmdb_id': 1170...  \n",
       "1  [{'adult': False, 'gender': 2, 'tmdb_id': 3316...  \n",
       "2  [{'adult': False, 'gender': 2, 'tmdb_id': 1136...  \n",
       "3  [{'adult': False, 'gender': 2, 'tmdb_id': 1891...  \n",
       "4  [{'adult': False, 'gender': 2, 'tmdb_id': 449,...  \n",
       "5  [{'adult': False, 'gender': 1, 'tmdb_id': 6007...  \n",
       "6  [{'adult': False, 'gender': 2, 'tmdb_id': 31, ...  \n",
       "7  [{'adult': False, 'gender': 2, 'tmdb_id': 7342...  \n",
       "8  [{'adult': False, 'gender': 1, 'tmdb_id': 4, '...  \n",
       "9  [{'adult': False, 'gender': 2, 'tmdb_id': 2878...  "
      ]
     },
     "execution_count": 6,
     "metadata": {},
     "output_type": "execute_result"
    }
   ],
   "source": [
    "# Explore the first lines of your dataset. Feel free to do that every time you implement a new feature\n",
    "data.head(10)"
   ]
  },
  {
   "cell_type": "markdown",
   "metadata": {},
   "source": [
    "## 1.2 EDA on sales"
   ]
  },
  {
   "cell_type": "code",
   "execution_count": 7,
   "metadata": {},
   "outputs": [
    {
     "data": {
      "text/plain": [
       "count    7.053000e+03\n",
       "mean     1.853960e+05\n",
       "std      3.390870e+05\n",
       "min      0.000000e+00\n",
       "25%      2.077800e+04\n",
       "50%      6.846100e+04\n",
       "75%      1.972830e+05\n",
       "max      4.378720e+06\n",
       "Name: sales, dtype: float64"
      ]
     },
     "execution_count": 7,
     "metadata": {},
     "output_type": "execute_result"
    }
   ],
   "source": [
    "# Check the characteristics of the feature \"sales\" of the dataset using statistics\n",
    "# Hint: you can use the method .describe() on your dataframe on the right column\n",
    "data['sales'].describe()"
   ]
  },
  {
   "cell_type": "code",
   "execution_count": 16,
   "metadata": {},
   "outputs": [
    {
     "data": {
      "text/plain": [
       "<seaborn.axisgrid.FacetGrid at 0x122bf81d0>"
      ]
     },
     "execution_count": 16,
     "metadata": {},
     "output_type": "execute_result"
    },
    {
     "data": {
      "image/png": "[encoded data removed]",
      "text/plain": [
       "<Figure size 495x360 with 1 Axes>"
      ]
     },
     "metadata": {},
     "output_type": "display_data"
    }
   ],
   "source": [
    "# Check the characteristics of the feature \"sales\" of the dataset using graph\n",
    "# Hint: we advise you to use seaborn. Take a look at the example gallery and choose a graph that you think is \n",
    "# relevant to answer the question (https://seaborn.pydata.org/examples/index.html)\n",
    "# NB: if you want to scale your graph in order to make it readable add the following arguments in your function:\n",
    "# height=5, aspect=11/8 (ex: sns.lineplot(x=x, data=data, height=5, aspect=11/8))\n",
    "sns.displot(data, x=\"sales\", height=5, aspect=11/8)"
   ]
  },
  {
   "cell_type": "code",
   "execution_count": 13,
   "metadata": {},
   "outputs": [
    {
     "name": "stdout",
     "output_type": "stream",
     "text": [
      "Percentage of movies with no sales: 2.68 %\n"
     ]
    }
   ],
   "source": [
    "# Is there any outlier in the dataset ? (e.g.: a movie with no sales)\n",
    "# Explain how you would like to handle this issue?\n",
    "print('Percentage of movies with no sales:', np.round(len(data[data[\"sales\"] == 0])/len(data)*100, 2), '%')"
   ]
  },
  {
   "cell_type": "markdown",
   "metadata": {},
   "source": [
    "## 1.3 EDA on other features"
   ]
  },
  {
   "cell_type": "code",
   "execution_count": 14,
   "metadata": {},
   "outputs": [
    {
     "name": "stdout",
     "output_type": "stream",
     "text": [
      "<class 'pandas.core.frame.DataFrame'>\n",
      "Int64Index: 7053 entries, 0 to 7052\n",
      "Data columns (total 17 columns):\n",
      " #   Column                 Non-Null Count  Dtype  \n",
      "---  ------                 --------------  -----  \n",
      " 0   year                   7053 non-null   int64  \n",
      " 1   title                  7053 non-null   object \n",
      " 2   id                     7053 non-null   int64  \n",
      " 3   sales                  7053 non-null   int64  \n",
      " 4   release_date           7053 non-null   object \n",
      " 5   is_adult               7053 non-null   bool   \n",
      " 6   is_part_of_collection  7053 non-null   bool   \n",
      " 7   collection_name        947 non-null    object \n",
      " 8   budget                 7053 non-null   int64  \n",
      " 9   genres                 7053 non-null   object \n",
      " 10  original_language      7053 non-null   object \n",
      " 11  overview               7053 non-null   object \n",
      " 12  production_countries   7053 non-null   object \n",
      " 13  languages              7053 non-null   object \n",
      " 14  tagline                7053 non-null   object \n",
      " 15  runtime                7006 non-null   float64\n",
      " 16  cast                   7053 non-null   object \n",
      "dtypes: bool(2), float64(1), int64(4), object(10)\n",
      "memory usage: 895.4+ KB\n"
     ]
    }
   ],
   "source": [
    "# Explore other features of the dataset and keep note of your findings, it can help for the next parts\n",
    "# Hint: you can use .info() on your dataframe to gather information on variables types\n",
    "data.info()"
   ]
  },
  {
   "cell_type": "code",
   "execution_count": 15,
   "metadata": {},
   "outputs": [
    {
     "data": {
      "image/png": "[encoded data removed]",
      "text/plain": [
       "<Figure size 360x360 with 1 Axes>"
      ]
     },
     "metadata": {},
     "output_type": "display_data"
    }
   ],
   "source": [
    "# Plot the distribution of movies across years. Fill the arguments: x, data, kind below\n",
    "# Hint: we advise you to use seaborn. Take a look at the example gallery and choose a graph that you think is \n",
    "# relevant to answer the question (https://seaborn.pydata.org/examples/index.html)\n",
    "# NB: if you want to scale your graph in order to make it readable add the following arguments in your function:\n",
    "# height=5, aspect=11/8 (ex: sns.lineplot(x=x, data=data, height=5, aspect=11/8))\n",
    "sns.set()\n",
    "plot = sns.catplot(x=\"year\", data=data, kind=\"count\")\n",
    "for axes in plot.axes.flat:\n",
    "    axes.set_xticklabels(axes.get_xticklabels(), rotation=90)"
   ]
  },
  {
   "cell_type": "code",
   "execution_count": 17,
   "metadata": {},
   "outputs": [
    {
     "data": {
      "text/plain": [
       "<seaborn.axisgrid.FacetGrid at 0x13a225ad0>"
      ]
     },
     "execution_count": 17,
     "metadata": {},
     "output_type": "execute_result"
    },
    {
     "data": {
      "image/png": "[encoded data removed]",
      "text/plain": [
       "<Figure size 495x360 with 1 Axes>"
      ]
     },
     "metadata": {},
     "output_type": "display_data"
    }
   ],
   "source": [
    "# Plot the distribution of the \"budget\" feature\n",
    "# Hint: you can use sns.displot() for continuous variables or sns.catplot() for categorical variables. Choose well !\n",
    "sns.displot(data, x=\"budget\", height=5, aspect=11/8)"
   ]
  },
  {
   "cell_type": "code",
   "execution_count": 18,
   "metadata": {},
   "outputs": [
    {
     "data": {
      "text/plain": [
       "<seaborn.axisgrid.FacetGrid at 0x13ab3a910>"
      ]
     },
     "execution_count": 18,
     "metadata": {},
     "output_type": "execute_result"
    },
    {
     "data": {
      "image/png": "[encoded data removed]",
      "text/plain": [
       "<Figure size 360x360 with 1 Axes>"
      ]
     },
     "metadata": {},
     "output_type": "display_data"
    }
   ],
   "source": [
    "# Plot the distribution of the \"is_part_of_collection\" feature\n",
    "# Hint: you can use sns.displot() for continuous variables or sns.catplot() for categorical variables. Choose well !\n",
    "sns.catplot(x=\"is_part_of_collection\", data=data, kind=\"count\")"
   ]
  },
  {
   "cell_type": "code",
   "execution_count": 19,
   "metadata": {},
   "outputs": [
    {
     "data": {
      "text/plain": [
       "<seaborn.axisgrid.FacetGrid at 0x1232c7e10>"
      ]
     },
     "execution_count": 19,
     "metadata": {},
     "output_type": "execute_result"
    },
    {
     "data": {
      "image/png": "[encoded data removed]",
      "text/plain": [
       "<Figure size 495x360 with 1 Axes>"
      ]
     },
     "metadata": {},
     "output_type": "display_data"
    }
   ],
   "source": [
    "# Plot the distribution of the \"runtime\" feature\n",
    "# Hint: you can use sns.displot() for continuous variables or sns.catplot() for categorical variables. Choose well !\n",
    "sns.displot(data, x=\"runtime\", height=5, aspect=11/8)"
   ]
  },
  {
   "cell_type": "code",
   "execution_count": 20,
   "metadata": {},
   "outputs": [
    {
     "data": {
      "image/png": "[encoded data removed]",
      "text/plain": [
       "<Figure size 360x360 with 1 Axes>"
      ]
     },
     "metadata": {},
     "output_type": "display_data"
    }
   ],
   "source": [
    "# For genres, languages, production countries, data comes in list for each movie, \n",
    "# we should preprocess these columns before plotting them. Here we flatten the lists into a bigger Series\n",
    "\n",
    "def flatten_list_series(column):\n",
    "    flattened_series = column.apply(pd.Series).stack().reset_index(drop=True)\n",
    "    flattened_series.name = column.name\n",
    "    return pd.DataFrame(flattened_series)\n",
    "\n",
    "# Try to plot a histogram for these categorical features using sns.catplot() with the following argument:\n",
    "# data=flatten_list_series(data['your_column'])\n",
    "plot = sns.catplot(x='genres', data=flatten_list_series(data['genres']), kind=\"count\")\n",
    "for axes in plot.axes.flat:\n",
    "    axes.set_xticklabels(axes.get_xticklabels(), rotation=90)"
   ]
  },
  {
   "cell_type": "markdown",
   "metadata": {},
   "source": [
    "> **To go further:**\n",
    "Explore the **\"cast\"** feature: \n",
    " - What insights can you find? \n",
    " - What kind of difficulties can you anticipate? \n",
    " - How do you think we can use this feature for our model later?\n"
   ]
  },
  {
   "cell_type": "markdown",
   "metadata": {},
   "source": [
    "# 2 - Data preparation"
   ]
  },
  {
   "cell_type": "markdown",
   "metadata": {},
   "source": [
    "## 2.1 Missing values"
   ]
  },
  {
   "cell_type": "code",
   "execution_count": 22,
   "metadata": {},
   "outputs": [
    {
     "name": "stdout",
     "output_type": "stream",
     "text": [
      "Number of movies with no sales: 189\n"
     ]
    }
   ],
   "source": [
    "# Missing/Zero values for sales\n",
    "# Hint: check the number of missing values to see which approach is the best suited\n",
    "print('Number of movies with no sales:', len(data.loc[(data['sales'] == 0) | (data['sales'].isnull() == True)]))\n",
    "# We keep only movies with sales considering that missing values represent only 2.7% of the dataset\n",
    "data = data.loc[data['sales'] != 0]"
   ]
  },
  {
   "cell_type": "code",
   "execution_count": 23,
   "metadata": {
    "collapsed": true
   },
   "outputs": [
    {
     "name": "stderr",
     "output_type": "stream",
     "text": [
      "/Library/Frameworks/Python.framework/Versions/3.7/lib/python3.7/site-packages/pandas/core/indexing.py:966: SettingWithCopyWarning: \n",
      "A value is trying to be set on a copy of a slice from a DataFrame.\n",
      "Try using .loc[row_indexer,col_indexer] = value instead\n",
      "\n",
      "See the caveats in the documentation: https://pandas.pydata.org/pandas-docs/stable/user_guide/indexing.html#returning-a-view-versus-a-copy\n",
      "  self.obj[item] = s\n"
     ]
    }
   ],
   "source": [
    "# Missing/zero values for budget\n",
    "# Hint: check the number of missing values to see which approach is the best suited\n",
    "data.loc[data['budget'] == 0, 'budget'] = np.median(data.loc[data['budget'] != 0]['budget'])"
   ]
  },
  {
   "cell_type": "code",
   "execution_count": 24,
   "metadata": {},
   "outputs": [],
   "source": [
    "# Missing/zero values for runtime\n",
    "# Hint: check the number of missing values to see which approach is the best suited\n",
    "runtime_mean = np.mean(data.loc[(data['runtime'] != 0) & (data['runtime'].isnull() == False)]['runtime'])\n",
    "data.loc[(data['runtime'].isnull() == True) | (data['runtime'] == 0), 'runtime'] = runtime_mean"
   ]
  },
  {
   "cell_type": "code",
   "execution_count": 25,
   "metadata": {},
   "outputs": [],
   "source": [
    "# To go further:\n",
    "# Missing values for production countries\n",
    "# Hint: you can use the column \"original_language\" (e.g.: if original_language is \"FR\", the production country\n",
    "# is likely to be France)\n",
    "data.loc[(data.astype(str)['production_countries'] == '[]') & (\n",
    "    data['original_language'] == 'fr'), 'production_countries'] = ['FR']\n",
    "data.loc[(data.astype(str)['production_countries'] == '[]') & (\n",
    "    data['original_language'] == 'en'), 'production_countries'] = ['US']\n",
    "data.loc[(data.astype(str)['production_countries'] == '[]'), 'production_countries'] = ['OTHER']"
   ]
  },
  {
   "cell_type": "markdown",
   "metadata": {},
   "source": [
    "## 2.2 Reduce cardinality for categorical features"
   ]
  },
  {
   "cell_type": "code",
   "execution_count": 26,
   "metadata": {
    "collapsed": true
   },
   "outputs": [
    {
     "name": "stderr",
     "output_type": "stream",
     "text": [
      "/Library/Frameworks/Python.framework/Versions/3.7/lib/python3.7/site-packages/ipykernel_launcher.py:4: SettingWithCopyWarning: \n",
      "A value is trying to be set on a copy of a slice from a DataFrame.\n",
      "Try using .loc[row_indexer,col_indexer] = value instead\n",
      "\n",
      "See the caveats in the documentation: https://pandas.pydata.org/pandas-docs/stable/user_guide/indexing.html#returning-a-view-versus-a-copy\n",
      "  after removing the cwd from sys.path.\n"
     ]
    }
   ],
   "source": [
    "# Reduce number of categories for: Original language\n",
    "# Hint: you can use the lang_to_keep variable from part 0, already imported. If the original language is in\n",
    "# lang_to_keep then we keep it, otherwise we set the value to 'other'\n",
    "data['original_language'] = data['original_language'].map(lambda x: x if x in lang_to_keep else 'other')"
   ]
  },
  {
   "cell_type": "code",
   "execution_count": 27,
   "metadata": {
    "collapsed": true
   },
   "outputs": [
    {
     "name": "stderr",
     "output_type": "stream",
     "text": [
      "/Library/Frameworks/Python.framework/Versions/3.7/lib/python3.7/site-packages/ipykernel_launcher.py:3: SettingWithCopyWarning: \n",
      "A value is trying to be set on a copy of a slice from a DataFrame.\n",
      "Try using .loc[row_indexer,col_indexer] = value instead\n",
      "\n",
      "See the caveats in the documentation: https://pandas.pydata.org/pandas-docs/stable/user_guide/indexing.html#returning-a-view-versus-a-copy\n",
      "  This is separate from the ipykernel package so we can avoid doing imports until\n",
      "/Library/Frameworks/Python.framework/Versions/3.7/lib/python3.7/site-packages/ipykernel_launcher.py:7: SettingWithCopyWarning: \n",
      "A value is trying to be set on a copy of a slice from a DataFrame.\n",
      "Try using .loc[row_indexer,col_indexer] = value instead\n",
      "\n",
      "See the caveats in the documentation: https://pandas.pydata.org/pandas-docs/stable/user_guide/indexing.html#returning-a-view-versus-a-copy\n",
      "  import sys\n",
      "/Library/Frameworks/Python.framework/Versions/3.7/lib/python3.7/site-packages/ipykernel_launcher.py:11: SettingWithCopyWarning: \n",
      "A value is trying to be set on a copy of a slice from a DataFrame.\n",
      "Try using .loc[row_indexer,col_indexer] = value instead\n",
      "\n",
      "See the caveats in the documentation: https://pandas.pydata.org/pandas-docs/stable/user_guide/indexing.html#returning-a-view-versus-a-copy\n",
      "  # This is added back by InteractiveShellApp.init_path()\n"
     ]
    }
   ],
   "source": [
    "# Reduce number of categories for: languages, production_countries and genres\n",
    "# For example for languages:\n",
    "data['languages'] = data['languages'].map(lambda x: reduce_lang_categories(x))\n",
    "\n",
    "# Hint: for production_countries, you can use the reduce_country_categories() function from part 0,\n",
    "# already imported\n",
    "data['production_countries'] = data['production_countries'].map(lambda x: reduce_country_categories(x))\n",
    "\n",
    "# Hint: for production_countries, you can use the reduce_genre_categories() function from part 0,\n",
    "# already imported\n",
    "data['genres'] = data['genres'].map(lambda x: reduce_genre_categories(x))"
   ]
  },
  {
   "cell_type": "markdown",
   "metadata": {},
   "source": [
    "## 2.3 Encoding"
   ]
  },
  {
   "cell_type": "code",
   "execution_count": 28,
   "metadata": {
    "collapsed": true
   },
   "outputs": [
    {
     "name": "stderr",
     "output_type": "stream",
     "text": [
      "/Library/Frameworks/Python.framework/Versions/3.7/lib/python3.7/site-packages/ipykernel_launcher.py:8: SettingWithCopyWarning: \n",
      "A value is trying to be set on a copy of a slice from a DataFrame.\n",
      "Try using .loc[row_indexer,col_indexer] = value instead\n",
      "\n",
      "See the caveats in the documentation: https://pandas.pydata.org/pandas-docs/stable/user_guide/indexing.html#returning-a-view-versus-a-copy\n",
      "  \n"
     ]
    }
   ],
   "source": [
    "# Encode is_part_of_collection into numerical\n",
    "# Hint: you can use a dictionary to map numerical values for each value of is_part_of_collection (True or False)\n",
    "dict_collection = {\n",
    "    True: 1,\n",
    "    False: 0\n",
    "}\n",
    "\n",
    "data['is_part_of_collection'] = data['is_part_of_collection'].map(dict_collection)"
   ]
  },
  {
   "cell_type": "code",
   "execution_count": 29,
   "metadata": {},
   "outputs": [],
   "source": [
    "# Encode original_language\n",
    "# Hint: you can perform one-hot encoding with pd.get_dummies(), check documentation to see how to use it (\n",
    "# https://pandas.pydata.org/pandas-docs/stable/reference/api/pandas.get_dummies.html)\n",
    "data_final = pd.get_dummies(data, prefix='original_lang', columns=['original_language'], drop_first=True)\n",
    "data_final = data_final.set_index('id')"
   ]
  },
  {
   "cell_type": "code",
   "execution_count": 30,
   "metadata": {},
   "outputs": [],
   "source": [
    "# Encode categorical features with multiple categories\n",
    "# Hint: you can use MultiLabelBinarizer()\n",
    "\n",
    "# Languages\n",
    "mlb = MultiLabelBinarizer()\n",
    "df_lang = pd.DataFrame(mlb.fit_transform(data_final['languages']), columns=mlb.classes_, index=data_final.index)\n",
    "df_lang.columns = ['available_lang_' + col for col in df_lang.columns]\n",
    "\n",
    "# Genres\n",
    "mlb = MultiLabelBinarizer()\n",
    "df_genre = pd.DataFrame(mlb.fit_transform(data_final['genres']), columns=mlb.classes_, index=data_final.index)\n",
    "\n",
    "# Production countries\n",
    "mlb = MultiLabelBinarizer()\n",
    "df_country = pd.DataFrame(mlb.fit_transform(data_final['production_countries']), columns=mlb.classes_,\n",
    "                          index=data_final.index)\n",
    "df_country.columns = ['prod_' + col for col in df_country.columns]"
   ]
  },
  {
   "cell_type": "code",
   "execution_count": 31,
   "metadata": {},
   "outputs": [],
   "source": [
    "# Merge encoded dataframes and store it into a new dataframe named data_final\n",
    "# Hint: you can use the merge function from pandas, pd.merge(), check documentation to see how to use it\n",
    "data_final = pd.merge(data_final, df_lang, left_index=True, right_index=True) \\\n",
    "               .merge(df_genre, left_index=True, right_index=True) \\\n",
    "               .merge(df_country, left_index=True, right_index=True)"
   ]
  },
  {
   "cell_type": "markdown",
   "metadata": {},
   "source": [
    "# 3 - Feature engineering"
   ]
  },
  {
   "cell_type": "markdown",
   "metadata": {},
   "source": [
    "## 3.1 Holidays"
   ]
  },
  {
   "cell_type": "code",
   "execution_count": 32,
   "metadata": {},
   "outputs": [],
   "source": [
    "# Load school holidays for France\n",
    "fr_holidays = SchoolHolidayDates()\n",
    "df_vacances = pd.DataFrame()\n",
    "for year in list(set(data_final['year'])):\n",
    "    df_vacances = pd.concat([df_vacances, pd.DataFrame.from_dict(fr_holidays.holidays_for_year(year)).T])\n",
    "\n",
    "# Load bank holidays for France\n",
    "df_jf = pd.DataFrame()\n",
    "for year in list(set(data_final['year'])):\n",
    "    df_jf = pd.concat([df_jf, pd.DataFrame([\n",
    "        {'date': el[0], 'jour_ferie': el[1]} for el in sorted(holidays.FRA(years=year).items())])])\n",
    "    \n",
    "# Merge school and bank holidays\n",
    "df_holidays = pd.merge(df_vacances, df_jf, how='outer', on='date')"
   ]
  },
  {
   "cell_type": "code",
   "execution_count": 35,
   "metadata": {},
   "outputs": [],
   "source": [
    "# Create features from df_holidays dataframes (school holidays and bank holidays):\n",
    "# - 3 binary features for school holidays, taking 1 if the given zone is on holiday, else 0 (vacances_zone_a, \n",
    "# vacances_zone_b, vacances_zone_c)\n",
    "dict_map_vac = {\n",
    "    True: 1,\n",
    "    False: 0\n",
    "}\n",
    "df_holidays['vacances_zone_a'] = df_holidays['vacances_zone_a'].map(dict_map_vac)\n",
    "df_holidays['vacances_zone_b'] = df_holidays['vacances_zone_b'].map(dict_map_vac)\n",
    "df_holidays['vacances_zone_c'] = df_holidays['vacances_zone_c'].map(dict_map_vac)\n",
    "\n",
    "# - 1 binary feature for bank holiday, taking 1 if it is a bank holiday, else 0\n",
    "df_holidays['jour_ferie'] = df_holidays['jour_ferie'].map(lambda x: 1 if str(x) != 'nan' else 0)\n",
    "\n",
    "# - To go further: Try to create a combined feature with school and bank holidays\n",
    "df_holidays['holiday'] = df_holidays['vacances_zone_a'] + df_holidays['vacances_zone_b'] + df_holidays[\n",
    "    'vacances_zone_c'] + df_holidays['jour_ferie']"
   ]
  },
  {
   "cell_type": "code",
   "execution_count": 36,
   "metadata": {},
   "outputs": [],
   "source": [
    "# Merge df_holidays that contains newly created features with the main dataframe and store it into data_final\n",
    "df_holidays['date'] = df_holidays['date'].map(lambda x: str(x))\n",
    "data_final_cal = pd.merge(data_final, df_holidays, how='left', left_on='release_date', right_on='date').fillna(0)"
   ]
  },
  {
   "cell_type": "markdown",
   "metadata": {},
   "source": [
    "## 3.2 Calendar"
   ]
  },
  {
   "cell_type": "code",
   "execution_count": 37,
   "metadata": {},
   "outputs": [],
   "source": [
    "# Create calendar features for month: \n",
    "# - the number of the month (named \"month\")\n",
    "data_final_cal['month'] = data_final_cal['release_date'].map(lambda x: int(x[5:7]))\n",
    "\n",
    "# To go further: try to transform the \"month\" variable using a mathematical function to capture cyclicity\n",
    "# (January (1) comes right after December (12))\n",
    "\n",
    "def apply_cos(df: pd.DataFrame,\n",
    "              x: str, col_name: str, period: int) -> pd.DataFrame:\n",
    "    \"\"\" Cos function on a column, for a specified period\n",
    "    \"\"\"\n",
    "    df[col_name] = 2 * np.cos(2 * np.pi * df[x] / period)\n",
    "    return df\n",
    "\n",
    "data_final_cal = apply_cos(data_final_cal, 'month', 'cos_month', 12)"
   ]
  },
  {
   "cell_type": "markdown",
   "metadata": {},
   "source": [
    "## 3.3 Collection"
   ]
  },
  {
   "cell_type": "code",
   "execution_count": 38,
   "metadata": {},
   "outputs": [],
   "source": [
    "# Collection with an high number of movies are often sagas that have worked well (ex: Star Wars, Fast and\n",
    "# Furious, ...)\n",
    "# We can therefore use the variable \"is_part_of_collection\" to compute the number of movies per collection\n",
    "# Hint: to create this kind of feature, you can use the .value_counts() method\n",
    "\n",
    "# Exclude collections with only one movie\n",
    "df_count_col = data_final_cal.groupby(['collection_name']).count().reset_index()\n",
    "not_collection = list(set(df_count_col.loc[df_count_col['year'] < 2]['collection_name']))\n",
    "data_final_cal.loc[data_final_cal['collection_name'].isin(not_collection), 'is_part_of_collection'] = 0\n",
    "data_final_cal.loc[data_final_cal['collection_name'].isin(not_collection), 'collection_name'] = None\n",
    "\n",
    "# Create the feature: number of movies per collection\n",
    "map_col_count = dict(data_final_cal['collection_name'].value_counts())\n",
    "del map_col_count[0]\n",
    "data_final_cal['nb_movie_collection'] = data_final_cal['collection_name'].map(map_col_count)"
   ]
  },
  {
   "cell_type": "code",
   "execution_count": 39,
   "metadata": {
    "collapsed": true
   },
   "outputs": [
    {
     "name": "stderr",
     "output_type": "stream",
     "text": [
      "/Library/Frameworks/Python.framework/Versions/3.7/lib/python3.7/site-packages/ipykernel_launcher.py:10: SettingWithCopyWarning: \n",
      "A value is trying to be set on a copy of a slice from a DataFrame.\n",
      "Try using .loc[row_indexer,col_indexer] = value instead\n",
      "\n",
      "See the caveats in the documentation: https://pandas.pydata.org/pandas-docs/stable/user_guide/indexing.html#returning-a-view-versus-a-copy\n",
      "  # Remove the CWD from sys.path while we load stuff.\n"
     ]
    }
   ],
   "source": [
    "# To go (much) further:\n",
    "# Movies from a same collection will tend to have a similar number of sales\n",
    "# We can therefore use the variable \"is_part_of_collection\" to calculate an average of the sales of previous films\n",
    "# from the same collection\n",
    "# Hint: to create this kind of feature, you can use the .groupby(), .transform(), .rolling(), .mean() and .shift()\n",
    "# methods\n",
    "df_collection = data_final_cal.loc[data_final_cal['is_part_of_collection'] == 1]\n",
    "df_collection['rolling_sales_collection'] = df_collection.sort_values(by=['collection_name', 'release_date']) \\\n",
    "             .groupby('collection_name')['sales'] \\\n",
    "             .transform(lambda x: x.rolling(10, 1).mean().shift())\n",
    "\n",
    "\n",
    "# Merge with main dataframe\n",
    "cols = ['year', 'title', 'release_date', 'collection_name', 'sales', 'rolling_sales_collection']\n",
    "df_all = pd.merge(data_final_cal, df_collection[cols], how = 'left', \n",
    "                  on = ['year', 'title', 'release_date', 'collection_name', 'sales']).fillna(0)"
   ]
  },
  {
   "cell_type": "markdown",
   "metadata": {},
   "source": [
    "## 3.4 [OPTIONAL] Casting"
   ]
  },
  {
   "cell_type": "code",
   "execution_count": null,
   "metadata": {},
   "outputs": [],
   "source": [
    "# Explore the \"cast\" feature to understand its structure and try to identify its limits if not done in Part 1."
   ]
  },
  {
   "cell_type": "code",
   "execution_count": 40,
   "metadata": {
    "collapsed": true
   },
   "outputs": [
    {
     "name": "stderr",
     "output_type": "stream",
     "text": [
      "/Library/Frameworks/Python.framework/Versions/3.7/lib/python3.7/site-packages/numpy/core/fromnumeric.py:3335: RuntimeWarning: Mean of empty slice.\n",
      "  out=out, **kwargs)\n",
      "/Library/Frameworks/Python.framework/Versions/3.7/lib/python3.7/site-packages/numpy/core/_methods.py:161: RuntimeWarning: invalid value encountered in double_scalars\n",
      "  ret = ret.dtype.type(ret / rcount)\n"
     ]
    }
   ],
   "source": [
    "# A movie with bankable actors is more likely to have an important number of entrees than a movie with unknown \n",
    "# actors\n",
    "# We can leverage the \"cast\" feature that contains information about actors and their popularity for each movie\n",
    "# to create several features, for example:\n",
    "# - for one movie, compute the mean popularity of its 3 main actors\n",
    "# - for one movie, compute the mean popularity of its 5 main actors\n",
    "\n",
    "df_all['mean_3_popularity'] = df_all['cast'].map(\n",
    "    lambda x: np.mean([np.log(el['tmdb_popularity']) if np.log(el['tmdb_popularity']) > 0 else 0 for el in x[:3]])) \\\n",
    "    .fillna(0)\n",
    "\n",
    "df_all['mean_5_popularity'] = df_all['cast'].map(\n",
    "    lambda x: np.mean([np.log(el['tmdb_popularity']) if np.log(el['tmdb_popularity']) > 0 else 0 for el in x[:5]])) \\\n",
    "    .fillna(0)"
   ]
  },
  {
   "cell_type": "code",
   "execution_count": 41,
   "metadata": {
    "collapsed": true
   },
   "outputs": [
    {
     "name": "stderr",
     "output_type": "stream",
     "text": [
      "/Library/Frameworks/Python.framework/Versions/3.7/lib/python3.7/site-packages/ipykernel_launcher.py:19: SettingWithCopyWarning: \n",
      "A value is trying to be set on a copy of a slice from a DataFrame.\n",
      "Try using .loc[row_indexer,col_indexer] = value instead\n",
      "\n",
      "See the caveats in the documentation: https://pandas.pydata.org/pandas-docs/stable/user_guide/indexing.html#returning-a-view-versus-a-copy\n",
      "/Library/Frameworks/Python.framework/Versions/3.7/lib/python3.7/site-packages/ipykernel_launcher.py:21: SettingWithCopyWarning: \n",
      "A value is trying to be set on a copy of a slice from a DataFrame.\n",
      "Try using .loc[row_indexer,col_indexer] = value instead\n",
      "\n",
      "See the caveats in the documentation: https://pandas.pydata.org/pandas-docs/stable/user_guide/indexing.html#returning-a-view-versus-a-copy\n"
     ]
    }
   ],
   "source": [
    "# To go (much much) further:\n",
    "# In the same vein, we could create features taking into account sales of previous movies per actor and create \n",
    "# features that represent:\n",
    "# - for one movie, the mean of sales of previous movies of the #1 actor\n",
    "# - for one movie, the mean of sales of previous movies of the #2 actor\n",
    "# - for one movie, the mean of sales of previous movies of the #3 actor\n",
    "# - for one movie, the mean or the maximum of the three features above\n",
    "# This would also give an idea of an actor's \"popularity\"\n",
    "\n",
    "df_all['actor_1'] = df_all['cast'].map(lambda x: x[0]['name'] if len(x) > 0 else None)\n",
    "df_all['actor_2'] = df_all['cast'].map(lambda x: x[1]['name'] if len(x) > 1 else None)\n",
    "df_all['actor_3'] = df_all['cast'].map(lambda x: x[2]['name'] if len(x) > 2 else None)\n",
    "actors_list = set(list(set(df_all['actor_1'])) + list(set(df_all['actor_2'])) + list(set(df_all['actor_3'])))\n",
    "\n",
    "k = 5\n",
    "df_all = df_all.sort_values('release_date')\n",
    "for actor in list(actors_list):\n",
    "    data_actor = df_all.loc[(df_all['actor_1'] == actor) | (df_all['actor_2'] == actor) | (df_all['actor_3'] == actor)]\n",
    "    data_actor['actor'] = actor\n",
    "    data_actor['mean_sales'] = data_actor.groupby('actor')['sales'] \\\n",
    "        .transform(lambda x: x.rolling(k, 1).mean().shift()).fillna(0)\n",
    "    df_all.loc[df_all['actor_1'] == actor, 'actor_1'] = data_actor.loc[data_actor['actor_1'] == actor, 'mean_sales']\n",
    "    df_all.loc[df_all['actor_2'] == actor, 'actor_2'] = data_actor.loc[data_actor['actor_2'] == actor, 'mean_sales']\n",
    "    df_all.loc[df_all['actor_3'] == actor, 'actor_3'] = data_actor.loc[data_actor['actor_3'] == actor, 'mean_sales']\n",
    "\n",
    "df_all = df_all.rename({\n",
    "    'actor_1': 'actor_1_sales',\n",
    "    'actor_2': 'actor_2_sales',\n",
    "    'actor_3': 'actor_3_sales'\n",
    "}, axis=1)\n",
    "\n",
    "df_all['mean_sales_actor'] = (df_all['actor_1_sales'] + df_all['actor_2_sales'] + df_all['actor_3_sales']) / 3\n",
    "df_all['max_sales_actor'] = df_all[[\"actor_1_sales\", \"actor_2_sales\", \"actor_3_sales\"]].max(axis=1)"
   ]
  },
  {
   "cell_type": "markdown",
   "metadata": {},
   "source": [
    "# 4 - Save file for next session"
   ]
  },
  {
   "cell_type": "code",
   "execution_count": 42,
   "metadata": {},
   "outputs": [],
   "source": [
    "# Drop useless columns for modeling (not numerical columns, raw columns that have been transformed, ...)\n",
    "# Hint: you can use the .drop() method\n",
    "to_drop = ['nom_vacances', 'date', 'genres', 'production_countries', 'languages', 'is_adult', 'collection_name',\n",
    "           'overview', 'tagline', 'cast']\n",
    "df_all = df_all.drop(to_drop, axis=1).reset_index()"
   ]
  },
  {
   "cell_type": "code",
   "execution_count": 43,
   "metadata": {},
   "outputs": [],
   "source": [
    "# Fill missing values due to feature engineering if any\n",
    "# Hint: you can use the .fillna() method\n",
    "df_all = df_all.fillna(0)"
   ]
  },
  {
   "cell_type": "code",
   "execution_count": 46,
   "metadata": {},
   "outputs": [
    {
     "data": {
      "text/html": [
       "<div>\n",
       "<style scoped>\n",
       "    .dataframe tbody tr th:only-of-type {\n",
       "        vertical-align: middle;\n",
       "    }\n",
       "\n",
       "    .dataframe tbody tr th {\n",
       "        vertical-align: top;\n",
       "    }\n",
       "\n",
       "    .dataframe thead th {\n",
       "        text-align: right;\n",
       "    }\n",
       "</style>\n",
       "<table border=\"1\" class=\"dataframe\">\n",
       "  <thead>\n",
       "    <tr style=\"text-align: right;\">\n",
       "      <th></th>\n",
       "      <th>index</th>\n",
       "      <th>year</th>\n",
       "      <th>title</th>\n",
       "      <th>sales</th>\n",
       "      <th>release_date</th>\n",
       "      <th>is_part_of_collection</th>\n",
       "      <th>budget</th>\n",
       "      <th>runtime</th>\n",
       "      <th>original_lang_en</th>\n",
       "      <th>original_lang_es</th>\n",
       "      <th>...</th>\n",
       "      <th>cos_month</th>\n",
       "      <th>nb_movie_collection</th>\n",
       "      <th>rolling_sales_collection</th>\n",
       "      <th>mean_3_popularity</th>\n",
       "      <th>mean_5_popularity</th>\n",
       "      <th>actor_1_sales</th>\n",
       "      <th>actor_2_sales</th>\n",
       "      <th>actor_3_sales</th>\n",
       "      <th>mean_sales_actor</th>\n",
       "      <th>max_sales_actor</th>\n",
       "    </tr>\n",
       "  </thead>\n",
       "  <tbody>\n",
       "    <tr>\n",
       "      <th>0</th>\n",
       "      <td>4652</td>\n",
       "      <td>2000</td>\n",
       "      <td>Une pour toutes</td>\n",
       "      <td>139087</td>\n",
       "      <td>2000-01-01</td>\n",
       "      <td>0</td>\n",
       "      <td>25000000.0</td>\n",
       "      <td>120.0</td>\n",
       "      <td>0</td>\n",
       "      <td>0</td>\n",
       "      <td>...</td>\n",
       "      <td>1.732051</td>\n",
       "      <td>0.0</td>\n",
       "      <td>0.0</td>\n",
       "      <td>0.489158</td>\n",
       "      <td>0.373572</td>\n",
       "      <td>0.0</td>\n",
       "      <td>0.0</td>\n",
       "      <td>0.0</td>\n",
       "      <td>0.0</td>\n",
       "      <td>0.0</td>\n",
       "    </tr>\n",
       "    <tr>\n",
       "      <th>1</th>\n",
       "      <td>6090</td>\n",
       "      <td>2000</td>\n",
       "      <td>Sixième sens</td>\n",
       "      <td>1463152</td>\n",
       "      <td>2000-01-05</td>\n",
       "      <td>0</td>\n",
       "      <td>25000000.0</td>\n",
       "      <td>77.0</td>\n",
       "      <td>0</td>\n",
       "      <td>1</td>\n",
       "      <td>...</td>\n",
       "      <td>1.732051</td>\n",
       "      <td>0.0</td>\n",
       "      <td>0.0</td>\n",
       "      <td>0.000000</td>\n",
       "      <td>0.000000</td>\n",
       "      <td>0.0</td>\n",
       "      <td>0.0</td>\n",
       "      <td>0.0</td>\n",
       "      <td>0.0</td>\n",
       "      <td>0.0</td>\n",
       "    </tr>\n",
       "    <tr>\n",
       "      <th>2</th>\n",
       "      <td>2995</td>\n",
       "      <td>2000</td>\n",
       "      <td>Le Voyage de Felicia</td>\n",
       "      <td>32954</td>\n",
       "      <td>2000-01-05</td>\n",
       "      <td>0</td>\n",
       "      <td>25000000.0</td>\n",
       "      <td>116.0</td>\n",
       "      <td>1</td>\n",
       "      <td>0</td>\n",
       "      <td>...</td>\n",
       "      <td>1.732051</td>\n",
       "      <td>0.0</td>\n",
       "      <td>0.0</td>\n",
       "      <td>0.465217</td>\n",
       "      <td>0.346425</td>\n",
       "      <td>0.0</td>\n",
       "      <td>0.0</td>\n",
       "      <td>0.0</td>\n",
       "      <td>0.0</td>\n",
       "      <td>0.0</td>\n",
       "    </tr>\n",
       "    <tr>\n",
       "      <th>3</th>\n",
       "      <td>3000</td>\n",
       "      <td>2000</td>\n",
       "      <td>Summer of Sam</td>\n",
       "      <td>66228</td>\n",
       "      <td>2000-01-05</td>\n",
       "      <td>0</td>\n",
       "      <td>22000000.0</td>\n",
       "      <td>142.0</td>\n",
       "      <td>1</td>\n",
       "      <td>0</td>\n",
       "      <td>...</td>\n",
       "      <td>1.732051</td>\n",
       "      <td>0.0</td>\n",
       "      <td>0.0</td>\n",
       "      <td>1.404085</td>\n",
       "      <td>1.229533</td>\n",
       "      <td>0.0</td>\n",
       "      <td>0.0</td>\n",
       "      <td>0.0</td>\n",
       "      <td>0.0</td>\n",
       "      <td>0.0</td>\n",
       "    </tr>\n",
       "    <tr>\n",
       "      <th>4</th>\n",
       "      <td>2176</td>\n",
       "      <td>2000</td>\n",
       "      <td>La Légende du pianiste sur l'océan</td>\n",
       "      <td>25224</td>\n",
       "      <td>2000-01-12</td>\n",
       "      <td>0</td>\n",
       "      <td>9000000.0</td>\n",
       "      <td>165.0</td>\n",
       "      <td>0</td>\n",
       "      <td>0</td>\n",
       "      <td>...</td>\n",
       "      <td>1.732051</td>\n",
       "      <td>0.0</td>\n",
       "      <td>0.0</td>\n",
       "      <td>1.238290</td>\n",
       "      <td>0.907984</td>\n",
       "      <td>0.0</td>\n",
       "      <td>0.0</td>\n",
       "      <td>0.0</td>\n",
       "      <td>0.0</td>\n",
       "      <td>0.0</td>\n",
       "    </tr>\n",
       "  </tbody>\n",
       "</table>\n",
       "<p>5 rows × 52 columns</p>\n",
       "</div>"
      ],
      "text/plain": [
       "   index  year                               title    sales release_date  \\\n",
       "0   4652  2000                     Une pour toutes   139087   2000-01-01   \n",
       "1   6090  2000                        Sixième sens  1463152   2000-01-05   \n",
       "2   2995  2000                Le Voyage de Felicia    32954   2000-01-05   \n",
       "3   3000  2000                       Summer of Sam    66228   2000-01-05   \n",
       "4   2176  2000  La Légende du pianiste sur l'océan    25224   2000-01-12   \n",
       "\n",
       "   is_part_of_collection      budget  runtime  original_lang_en  \\\n",
       "0                      0  25000000.0    120.0                 0   \n",
       "1                      0  25000000.0     77.0                 0   \n",
       "2                      0  25000000.0    116.0                 1   \n",
       "3                      0  22000000.0    142.0                 1   \n",
       "4                      0   9000000.0    165.0                 0   \n",
       "\n",
       "   original_lang_es  ...  cos_month  nb_movie_collection  \\\n",
       "0                 0  ...   1.732051                  0.0   \n",
       "1                 1  ...   1.732051                  0.0   \n",
       "2                 0  ...   1.732051                  0.0   \n",
       "3                 0  ...   1.732051                  0.0   \n",
       "4                 0  ...   1.732051                  0.0   \n",
       "\n",
       "   rolling_sales_collection  mean_3_popularity  mean_5_popularity  \\\n",
       "0                       0.0           0.489158           0.373572   \n",
       "1                       0.0           0.000000           0.000000   \n",
       "2                       0.0           0.465217           0.346425   \n",
       "3                       0.0           1.404085           1.229533   \n",
       "4                       0.0           1.238290           0.907984   \n",
       "\n",
       "   actor_1_sales  actor_2_sales  actor_3_sales  mean_sales_actor  \\\n",
       "0            0.0            0.0            0.0               0.0   \n",
       "1            0.0            0.0            0.0               0.0   \n",
       "2            0.0            0.0            0.0               0.0   \n",
       "3            0.0            0.0            0.0               0.0   \n",
       "4            0.0            0.0            0.0               0.0   \n",
       "\n",
       "   max_sales_actor  \n",
       "0              0.0  \n",
       "1              0.0  \n",
       "2              0.0  \n",
       "3              0.0  \n",
       "4              0.0  \n",
       "\n",
       "[5 rows x 52 columns]"
      ]
     },
     "execution_count": 46,
     "metadata": {},
     "output_type": "execute_result"
    }
   ],
   "source": [
    "df_all.head()"
   ]
  },
  {
   "cell_type": "code",
   "execution_count": null,
   "metadata": {},
   "outputs": [],
   "source": [
    "# Save file\n",
    "# Hint: you can use the .to_csv() method\n",
    "df_all.to_csv('data_prepared_session4.csv', index=None)"
   ]
  }
 ],
 "metadata": {
  "kernelspec": {
   "display_name": "Python 3",
   "language": "python",
   "name": "python3"
  },
  "language_info": {
   "codemirror_mode": {
    "name": "ipython",
    "version": 3
   },
   "file_extension": ".py",
   "mimetype": "text/x-python",
   "name": "python",
   "nbconvert_exporter": "python",
   "pygments_lexer": "ipython3",
   "version": "3.7.7"
  }
 },
 "nbformat": 4,
 "nbformat_minor": 4
}
